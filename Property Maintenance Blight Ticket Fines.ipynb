{
 "cells": [
  {
   "cell_type": "markdown",
   "metadata": {},
   "source": [
    "# Understanding and Predicting Property Maintenance Fines\n",
    "\n",
    "This project is based on a data challenge from the Michigan Data Science Team ([MDST](http://midas.umich.edu/mdst/)). \n",
    "\n",
    "The Michigan Data Science Team ([MDST](http://midas.umich.edu/mdst/)) and the Michigan Student Symposium for Interdisciplinary Statistical Sciences ([MSSISS](https://sites.lsa.umich.edu/mssiss/)) have partnered with the City of Detroit to help solve one of the most pressing problems facing Detroit - blight. [Blight violations](http://www.detroitmi.gov/How-Do-I/Report/Blight-Complaint-FAQs) are issued by the city to individuals who allow their properties to remain in a deteriorated condition. Every year, the city of Detroit issues millions of dollars in fines to residents and every year, many of these fines remain unpaid. Enforcing unpaid blight fines is a costly and tedious process, so the city wants to know: how can we increase blight ticket compliance?\n",
    "\n",
    "The first step in answering this question is understanding when and why a resident might fail to comply with a blight ticket. This is where predictive modeling comes in. For this assignment, your task is to predict whether a given blight ticket will be paid on time.\n",
    "\n",
    "All data for this assignment has been provided to us through the [Detroit Open Data Portal](https://data.detroitmi.gov/). Nonetheless, we encourage you to look into data from other Detroit datasets to help inform feature creation and model selection. We recommend taking a look at the following related datasets:\n",
    "\n",
    "* [Building Permits](https://data.detroitmi.gov/Property-Parcels/Building-Permits/xw2a-a7tf)\n",
    "* [Trades Permits](https://data.detroitmi.gov/Property-Parcels/Trades-Permits/635b-dsgv)\n",
    "* [Improve Detroit: Submitted Issues](https://data.detroitmi.gov/Government/Improve-Detroit-Submitted-Issues/fwz3-w3yn)\n",
    "* [DPD: Citizen Complaints](https://data.detroitmi.gov/Public-Safety/DPD-Citizen-Complaints-2016/kahe-efs3)\n",
    "* [Parcel Map](https://data.detroitmi.gov/Property-Parcels/Parcel-Map/fxkw-udwf)\n",
    "\n",
    "___\n",
    "\n",
    "We provide you with two data files for use in training and validating your models: train.csv and test.csv. Each row in these two files corresponds to a single blight ticket, and includes information about when, why, and to whom each ticket was issued. The target variable is compliance, which is True if the ticket was paid early, on time, or within one month of the hearing data, False if the ticket was paid after the hearing date or not at all, and Null if the violator was found not responsible. Compliance, as well as a handful of other variables that will not be available at test-time, are only included in train.csv.\n",
    "\n",
    "Note: All tickets where the violators were found not responsible are not considered during evaluation. They are included in the training set as an additional source of data for visualization, and to enable unsupervised and semi-supervised approaches. However, they are not included in the test set.\n",
    "\n",
    "<br>\n",
    "\n",
    "**File descriptions** (Use only this data for training your model!)\n",
    "\n",
    "    readonly/train.csv - the training set (all tickets issued 2004-2011)\n",
    "    readonly/test.csv - the test set (all tickets issued 2012-2016)\n",
    "    readonly/addresses.csv & readonly/latlons.csv - mapping from ticket id to addresses, and from addresses to lat/lon coordinates. \n",
    "     Note: misspelled addresses may be incorrectly geolocated.\n",
    "\n",
    "<br>\n",
    "\n",
    "**Data fields**\n",
    "\n",
    "train.csv & test.csv\n",
    "\n",
    "    ticket_id - unique identifier for tickets\n",
    "    agency_name - Agency that issued the ticket\n",
    "    inspector_name - Name of inspector that issued the ticket\n",
    "    violator_name - Name of the person/organization that the ticket was issued to\n",
    "    violation_street_number, violation_street_name, violation_zip_code - Address where the violation occurred\n",
    "    mailing_address_str_number, mailing_address_str_name, city, state, zip_code, non_us_str_code, country - Mailing address of the violator\n",
    "    ticket_issued_date - Date and time the ticket was issued\n",
    "    hearing_date - Date and time the violator's hearing was scheduled\n",
    "    violation_code, violation_description - Type of violation\n",
    "    disposition - Judgment and judgement type\n",
    "    fine_amount - Violation fine amount, excluding fees\n",
    "    admin_fee - $20 fee assigned to responsible judgments\n",
    "state_fee - $10 fee assigned to responsible judgments\n",
    "    late_fee - 10% fee assigned to responsible judgments\n",
    "    discount_amount - discount applied, if any\n",
    "    clean_up_cost - DPW clean-up or graffiti removal cost\n",
    "    judgment_amount - Sum of all fines and fees\n",
    "    grafitti_status - Flag for graffiti violations\n",
    "    \n",
    "train.csv only\n",
    "\n",
    "    payment_amount - Amount paid, if any\n",
    "    payment_date - Date payment was made, if it was received\n",
    "    payment_status - Current payment status as of Feb 1 2017\n",
    "    balance_due - Fines and fees still owed\n",
    "    collection_status - Flag for payments in collections\n",
    "    compliance [target variable for prediction] \n",
    "     Null = Not responsible\n",
    "     0 = Responsible, non-compliant\n",
    "     1 = Responsible, compliant\n",
    "    compliance_detail - More information on why each ticket was marked compliant or non-compliant\n",
    "\n",
    "\n",
    "___\n",
    "\n",
    "## Evaluation\n",
    "\n",
    "Your predictions will be given as the probability that the corresponding blight ticket will be paid on time.\n",
    "\n",
    "The evaluation metric for this assignment is the Area Under the ROC Curve (AUC). \n",
    "___\n",
    "\n",
    "Create a function that trains a model to predict blight ticket compliance in Detroit using `train.csv`. Using this model, return a series of length 61001 with the data being the probability that each corresponding ticket from `test.csv` will be paid, and the index being the ticket_id.\n",
    "\n",
    "Example:\n",
    "\n",
    "    ticket_id\n",
    "       284932    0.531842\n",
    "       285362    0.401958\n",
    "       285361    0.105928\n",
    "       285338    0.018572\n",
    "                 ...\n",
    "       376499    0.208567\n",
    "       376500    0.818759\n",
    "       369851    0.018528\n",
    "       Name: compliance, dtype: float32"
   ]
  },
  {
   "cell_type": "markdown",
   "metadata": {},
   "source": [
    "# Import the python libraries"
   ]
  },
  {
   "cell_type": "code",
   "execution_count": 750,
   "metadata": {},
   "outputs": [],
   "source": [
    "import numpy as np\n",
    "import pandas as pd\n",
    "import seaborn as sn\n",
    "import matplotlib.pyplot as plt\n",
    "import matplotlib.cm as cm\n",
    "import matplotlib.patches as mpatches\n",
    "import graphviz\n",
    "from matplotlib.colors import ListedColormap, BoundaryNorm\n",
    "from sklearn import neighbors\n",
    "from sklearn.model_selection import train_test_split, cross_val_score\n",
    "from sklearn.metrics import roc_curve, auc, roc_auc_score, accuracy_score, precision_score, recall_score, f1_score\n",
    "from sklearn.preprocessing import LabelEncoder\n",
    "from sklearn.tree import export_graphviz"
   ]
  },
  {
   "cell_type": "markdown",
   "metadata": {},
   "source": [
    "# Helper Functions"
   ]
  },
  {
   "cell_type": "markdown",
   "metadata": {},
   "source": [
    "## Datasets"
   ]
  },
  {
   "cell_type": "code",
   "execution_count": 400,
   "metadata": {},
   "outputs": [],
   "source": [
    "def prepare_train_dataset(file, columns):\n",
    "    df_train = pd.read_csv(file, encoding='ISO-8859-1', low_memory=False)\n",
    "    df_train = df_train[(df['city'].str.lower() == 'detroit') & (~df_train['compliance_detail'].str.contains('not responsible')) & (~df['compliance_detail'].str.contains('compliant by no fine'))].set_index('ticket_id')\n",
    "    X = df_train[columns]\n",
    "    y = df_train['compliance']\n",
    "\n",
    "    return X,y"
   ]
  },
  {
   "cell_type": "code",
   "execution_count": 401,
   "metadata": {},
   "outputs": [],
   "source": [
    "def prepare_test_dataset(file, columns):\n",
    "    df_test = pd.read_csv(file, encoding='ISO-8859-1', low_memory=False)\n",
    "    df_test = df_test.fillna(0).set_index('ticket_id')\n",
    "    X_pred = df_test[columns]\n",
    "\n",
    "    return X_pred"
   ]
  },
  {
   "cell_type": "code",
   "execution_count": 402,
   "metadata": {},
   "outputs": [],
   "source": [
    "def transform(le, data_list):\n",
    "    \"\"\"\n",
    "    This will transform the data_list to id list where the new values get assigned to Unknown class\n",
    "    :param data_list:\n",
    "    :return:\n",
    "    \"\"\"\n",
    "    new_data_list = list(data_list)\n",
    "    for unique_item in np.unique(data_list):\n",
    "        if unique_item not in le.classes_:\n",
    "            new_data_list = ['Unknown' if x==unique_item else x for x in new_data_list]\n",
    "\n",
    "    return le.transform(new_data_list)"
   ]
  },
  {
   "cell_type": "markdown",
   "metadata": {},
   "source": [
    "## Plots"
   ]
  },
  {
   "cell_type": "code",
   "execution_count": 663,
   "metadata": {},
   "outputs": [],
   "source": [
    "def define_percentage_compliance(df, field):\n",
    "    compliance={}\n",
    "    compliance_values = [0,1]\n",
    "    for value in compliance_values:\n",
    "        compliance[value] = []\n",
    "    total_people = df[field].count()\n",
    "\n",
    "    compliance[1] = df[df['compliance'] == 1][field].value_counts()\n",
    "    compliance[0] = df[df['compliance'] == 0][field].value_counts()\n",
    "    \n",
    "    return compliance"
   ]
  },
  {
   "cell_type": "code",
   "execution_count": 640,
   "metadata": {},
   "outputs": [],
   "source": [
    "def define_percentage_compliance_folds(df, field, compliance_field='compliance', compliance_values=[0,1], folds=[50, 100, 150, 200, 250, 300, 350, 'rest']):\n",
    "    compliance={}\n",
    "    for value in compliance_values:\n",
    "        compliance[value] = []\n",
    "        \n",
    "    total_people = df[field].count()\n",
    "    \n",
    "    for i in range(len(folds)):\n",
    "        if folds[i] == 'rest':\n",
    "            for value in compliance_values:\n",
    "                compliance[value].append(df[(df[field] > folds[i-1]) & (df[compliance_field] == value)][field].count())\n",
    "        elif i == 0:\n",
    "            for value in compliance_values:\n",
    "                compliance[value].append(df[(df[field] <= folds[i]) & (df[compliance_field] == value)][field].count())\n",
    "        else:\n",
    "            for value in compliance_values:\n",
    "                compliance[value].append(df[(df[field] > folds[i-1]) & (df[field] <= folds[i]) & (df[compliance_field] == value)][field].count())\n",
    "\n",
    "    for key, values in compliance.items():\n",
    "        compliance[key] = [element/total_people for element in values]\n",
    "    \n",
    "    return compliance"
   ]
  },
  {
   "cell_type": "code",
   "execution_count": 770,
   "metadata": {},
   "outputs": [],
   "source": [
    "def plot_percent_compliance_bar_folds_chart(y, w=10, folds=[50, 100, 150, 200, 250, 300, 350, 400], folds_ticks=['0~50', '50~100', '100~150', '150~200', '200~250', '250~300', '300~350', '>350'], legend=['Compliant', 'Not Compliant']):\n",
    "    plt.figure(figsize=(12,6))\n",
    "    ax = plt.subplot(111)\n",
    "    ax.bar([element - w/2 for element in folds], y[1], width=w) \n",
    "    ax.bar([element + w/2 for element in folds], y[0], width=w) \n",
    "    \n",
    "    ax.yaxis.set_major_formatter(mtick.PercentFormatter(1.0))\n",
    "    plt.xticks(folds, folds_ticks)\n",
    "    plt.legend(legend, loc='best', framealpha=0.0)\n",
    "    plt.show()"
   ]
  },
  {
   "cell_type": "code",
   "execution_count": 783,
   "metadata": {},
   "outputs": [],
   "source": [
    "def plot_percent_compliance_bar_chart(field, xlim=(), ylim=(), legend=['Compliant', 'Not Compliant']):\n",
    "    compliance = define_percentage_compliance(df, field)\n",
    "    plt.figure(figsize=(12,6))\n",
    "    ax = plt.subplot()\n",
    "    w = 1\n",
    "    ax.bar([element - w/2 for element in list(compliance[1].index)], compliance[1].apply(lambda x: x/total_people), width=w) \n",
    "    ax.bar([element + w/2 for element in list(compliance[0].index)], compliance[0].apply(lambda x: x/total_people), width=w)\n",
    "\n",
    "    \n",
    "    if len(xlim) > 0:\n",
    "        plt.xlim(xlim[0], xlim[1])\n",
    "    \n",
    "    if len(ylim) > 0:\n",
    "        plt.ylim(ylim[0], ylim[1])\n",
    "    \n",
    "    ax.yaxis.set_major_formatter(mtick.PercentFormatter(1.0))\n",
    "    plt.legend(legend, loc='best', framealpha=0.0)\n",
    "    plt.show()"
   ]
  },
  {
   "cell_type": "code",
   "execution_count": 680,
   "metadata": {},
   "outputs": [],
   "source": [
    "def plot_percent_compliance_scatter_chart(field, xlim=(), ylim=(), legend=['Compliant', 'Not Compliant']):\n",
    "    compliance = define_percentage_compliance(df, field)\n",
    "    plt.figure(figsize=(12,6))\n",
    "    ax = plt.subplot(111)\n",
    "    ax.scatter(compliance[1].index, compliance[1].apply(lambda x: x/total_people), marker='o') \n",
    "    ax.scatter(compliance[0].index, compliance[0].apply(lambda x: x/total_people), marker='o')\n",
    "    \n",
    "    if len(xlim) > 0:\n",
    "        plt.xlim(xlim[0], xlim[1])\n",
    "    \n",
    "    if len(ylim) > 0:\n",
    "        plt.ylim(ylim[0], ylim[1])\n",
    "    \n",
    "    ax.yaxis.set_major_formatter(mtick.PercentFormatter(1.0))\n",
    "    plt.legend(legend, loc='best', framealpha=0.0)\n",
    "    plt.show()"
   ]
  },
  {
   "cell_type": "code",
   "execution_count": 720,
   "metadata": {},
   "outputs": [],
   "source": [
    "def plot_compliance_scatter_features_chart(df, x, y, colors = ['#FF7F0E', '#1F77B4'], xticks=[], yticks=[], xlim=(), ylim=(), legend=['Not Compliant', 'Compliant']):\n",
    "    plt.figure(figsize=(12,6))\n",
    "    ax = plt.subplot(111)\n",
    "    ax.scatter(df[x], df[y], c=df['compliance'], cmap=ListedColormap(colors), marker='o') \n",
    "    \n",
    "    if len(xticks) > 0:\n",
    "        x_interval=[]\n",
    "        for i in range(len(xticks)):\n",
    "            x_interval.append(i)\n",
    "        plt.xticks(x_interval, xticks)\n",
    "    \n",
    "    if len(yticks) > 0:\n",
    "        y_interval=[]\n",
    "        for i in range(len(yticks)):\n",
    "            y_interval.append(i)\n",
    "        plt.yticks(y_interval, yticks)\n",
    "        \n",
    "    if len(xlim) > 0:\n",
    "        plt.xlim(xlim[0], xlim[1])\n",
    "    \n",
    "    if len(ylim) > 0:\n",
    "        plt.ylim(ylim[0], ylim[1])\n",
    "    \n",
    "    legend_handles = []\n",
    "    for i in range(0, len(legend)):\n",
    "        patch = mpatches.Patch(color=colors[i], label=legend[i])\n",
    "        legend_handles.append(patch)\n",
    "    ax.legend(loc=0, handles=legend_handles, framealpha=0.0)\n",
    "    \n",
    "    plt.show()"
   ]
  },
  {
   "cell_type": "markdown",
   "metadata": {},
   "source": [
    "# Features information"
   ]
  },
  {
   "cell_type": "code",
   "execution_count": 467,
   "metadata": {},
   "outputs": [
    {
     "data": {
      "text/plain": [
       "array(['CHICAGO', 'Detroit', 'DETROIT', ..., 'highland', 'harbor',\n",
       "       'DERABORN'], dtype=object)"
      ]
     },
     "execution_count": 467,
     "metadata": {},
     "output_type": "execute_result"
    }
   ],
   "source": [
    "df = pd.read_csv('csv/train.csv', encoding='ISO-8859-1', low_memory=False)\n",
    "df['city'].unique()"
   ]
  },
  {
   "cell_type": "markdown",
   "metadata": {},
   "source": [
    "For executing the describe() command, first I removed all entries that are not from Detroit and the person was not fined (considered not responsible or compliant by no fine)"
   ]
  },
  {
   "cell_type": "code",
   "execution_count": 468,
   "metadata": {},
   "outputs": [
    {
     "data": {
      "text/html": [
       "<div>\n",
       "<style scoped>\n",
       "    .dataframe tbody tr th:only-of-type {\n",
       "        vertical-align: middle;\n",
       "    }\n",
       "\n",
       "    .dataframe tbody tr th {\n",
       "        vertical-align: top;\n",
       "    }\n",
       "\n",
       "    .dataframe thead th {\n",
       "        text-align: right;\n",
       "    }\n",
       "</style>\n",
       "<table border=\"1\" class=\"dataframe\">\n",
       "  <thead>\n",
       "    <tr style=\"text-align: right;\">\n",
       "      <th></th>\n",
       "      <th>violation_street_number</th>\n",
       "      <th>violation_zip_code</th>\n",
       "      <th>mailing_address_str_number</th>\n",
       "      <th>fine_amount</th>\n",
       "      <th>admin_fee</th>\n",
       "      <th>state_fee</th>\n",
       "      <th>late_fee</th>\n",
       "      <th>discount_amount</th>\n",
       "      <th>clean_up_cost</th>\n",
       "      <th>judgment_amount</th>\n",
       "      <th>payment_amount</th>\n",
       "      <th>balance_due</th>\n",
       "      <th>compliance</th>\n",
       "    </tr>\n",
       "  </thead>\n",
       "  <tbody>\n",
       "    <tr>\n",
       "      <th>count</th>\n",
       "      <td>9.586500e+04</td>\n",
       "      <td>0.0</td>\n",
       "      <td>9.516800e+04</td>\n",
       "      <td>95865.000000</td>\n",
       "      <td>95865.0</td>\n",
       "      <td>95865.0</td>\n",
       "      <td>95865.000000</td>\n",
       "      <td>95865.000000</td>\n",
       "      <td>95865.0</td>\n",
       "      <td>95865.000000</td>\n",
       "      <td>95865.000000</td>\n",
       "      <td>95865.000000</td>\n",
       "      <td>95865.000000</td>\n",
       "    </tr>\n",
       "    <tr>\n",
       "      <th>mean</th>\n",
       "      <td>1.029785e+04</td>\n",
       "      <td>NaN</td>\n",
       "      <td>7.873750e+03</td>\n",
       "      <td>324.560789</td>\n",
       "      <td>20.0</td>\n",
       "      <td>10.0</td>\n",
       "      <td>30.632728</td>\n",
       "      <td>0.158170</td>\n",
       "      <td>0.0</td>\n",
       "      <td>385.193517</td>\n",
       "      <td>57.551083</td>\n",
       "      <td>327.484348</td>\n",
       "      <td>0.069953</td>\n",
       "    </tr>\n",
       "    <tr>\n",
       "      <th>std</th>\n",
       "      <td>4.647504e+04</td>\n",
       "      <td>NaN</td>\n",
       "      <td>2.305454e+04</td>\n",
       "      <td>599.643509</td>\n",
       "      <td>0.0</td>\n",
       "      <td>0.0</td>\n",
       "      <td>60.198046</td>\n",
       "      <td>2.905758</td>\n",
       "      <td>0.0</td>\n",
       "      <td>659.207965</td>\n",
       "      <td>166.379413</td>\n",
       "      <td>664.317336</td>\n",
       "      <td>0.255068</td>\n",
       "    </tr>\n",
       "    <tr>\n",
       "      <th>min</th>\n",
       "      <td>0.000000e+00</td>\n",
       "      <td>NaN</td>\n",
       "      <td>1.000000e+00</td>\n",
       "      <td>25.000000</td>\n",
       "      <td>20.0</td>\n",
       "      <td>10.0</td>\n",
       "      <td>0.000000</td>\n",
       "      <td>0.000000</td>\n",
       "      <td>0.0</td>\n",
       "      <td>55.000000</td>\n",
       "      <td>0.000000</td>\n",
       "      <td>-3280.000000</td>\n",
       "      <td>0.000000</td>\n",
       "    </tr>\n",
       "    <tr>\n",
       "      <th>25%</th>\n",
       "      <td>4.309000e+03</td>\n",
       "      <td>NaN</td>\n",
       "      <td>8.310000e+02</td>\n",
       "      <td>200.000000</td>\n",
       "      <td>20.0</td>\n",
       "      <td>10.0</td>\n",
       "      <td>10.000000</td>\n",
       "      <td>0.000000</td>\n",
       "      <td>0.0</td>\n",
       "      <td>250.000000</td>\n",
       "      <td>0.000000</td>\n",
       "      <td>85.000000</td>\n",
       "      <td>0.000000</td>\n",
       "    </tr>\n",
       "    <tr>\n",
       "      <th>50%</th>\n",
       "      <td>9.501000e+03</td>\n",
       "      <td>NaN</td>\n",
       "      <td>2.661000e+03</td>\n",
       "      <td>250.000000</td>\n",
       "      <td>20.0</td>\n",
       "      <td>10.0</td>\n",
       "      <td>25.000000</td>\n",
       "      <td>0.000000</td>\n",
       "      <td>0.0</td>\n",
       "      <td>305.000000</td>\n",
       "      <td>0.000000</td>\n",
       "      <td>305.000000</td>\n",
       "      <td>0.000000</td>\n",
       "    </tr>\n",
       "    <tr>\n",
       "      <th>75%</th>\n",
       "      <td>1.539700e+04</td>\n",
       "      <td>NaN</td>\n",
       "      <td>1.354100e+04</td>\n",
       "      <td>250.000000</td>\n",
       "      <td>20.0</td>\n",
       "      <td>10.0</td>\n",
       "      <td>25.000000</td>\n",
       "      <td>0.000000</td>\n",
       "      <td>0.0</td>\n",
       "      <td>305.000000</td>\n",
       "      <td>0.000000</td>\n",
       "      <td>305.000000</td>\n",
       "      <td>0.000000</td>\n",
       "    </tr>\n",
       "    <tr>\n",
       "      <th>max</th>\n",
       "      <td>1.415411e+07</td>\n",
       "      <td>NaN</td>\n",
       "      <td>3.511219e+06</td>\n",
       "      <td>10000.000000</td>\n",
       "      <td>20.0</td>\n",
       "      <td>10.0</td>\n",
       "      <td>1000.000000</td>\n",
       "      <td>350.000000</td>\n",
       "      <td>0.0</td>\n",
       "      <td>11030.000000</td>\n",
       "      <td>11030.000000</td>\n",
       "      <td>11030.000000</td>\n",
       "      <td>1.000000</td>\n",
       "    </tr>\n",
       "  </tbody>\n",
       "</table>\n",
       "</div>"
      ],
      "text/plain": [
       "       violation_street_number  violation_zip_code  \\\n",
       "count             9.586500e+04                 0.0   \n",
       "mean              1.029785e+04                 NaN   \n",
       "std               4.647504e+04                 NaN   \n",
       "min               0.000000e+00                 NaN   \n",
       "25%               4.309000e+03                 NaN   \n",
       "50%               9.501000e+03                 NaN   \n",
       "75%               1.539700e+04                 NaN   \n",
       "max               1.415411e+07                 NaN   \n",
       "\n",
       "       mailing_address_str_number   fine_amount  admin_fee  state_fee  \\\n",
       "count                9.516800e+04  95865.000000    95865.0    95865.0   \n",
       "mean                 7.873750e+03    324.560789       20.0       10.0   \n",
       "std                  2.305454e+04    599.643509        0.0        0.0   \n",
       "min                  1.000000e+00     25.000000       20.0       10.0   \n",
       "25%                  8.310000e+02    200.000000       20.0       10.0   \n",
       "50%                  2.661000e+03    250.000000       20.0       10.0   \n",
       "75%                  1.354100e+04    250.000000       20.0       10.0   \n",
       "max                  3.511219e+06  10000.000000       20.0       10.0   \n",
       "\n",
       "           late_fee  discount_amount  clean_up_cost  judgment_amount  \\\n",
       "count  95865.000000     95865.000000        95865.0     95865.000000   \n",
       "mean      30.632728         0.158170            0.0       385.193517   \n",
       "std       60.198046         2.905758            0.0       659.207965   \n",
       "min        0.000000         0.000000            0.0        55.000000   \n",
       "25%       10.000000         0.000000            0.0       250.000000   \n",
       "50%       25.000000         0.000000            0.0       305.000000   \n",
       "75%       25.000000         0.000000            0.0       305.000000   \n",
       "max     1000.000000       350.000000            0.0     11030.000000   \n",
       "\n",
       "       payment_amount   balance_due    compliance  \n",
       "count    95865.000000  95865.000000  95865.000000  \n",
       "mean        57.551083    327.484348      0.069953  \n",
       "std        166.379413    664.317336      0.255068  \n",
       "min          0.000000  -3280.000000      0.000000  \n",
       "25%          0.000000     85.000000      0.000000  \n",
       "50%          0.000000    305.000000      0.000000  \n",
       "75%          0.000000    305.000000      0.000000  \n",
       "max      11030.000000  11030.000000      1.000000  "
      ]
     },
     "execution_count": 468,
     "metadata": {},
     "output_type": "execute_result"
    }
   ],
   "source": [
    "df = df[(df['city'].str.lower() == 'detroit') & (~df['compliance_detail'].str.contains('not responsible')) & (~df['compliance_detail'].str.contains('compliant by no fine'))].set_index('ticket_id')\n",
    "df.describe()"
   ]
  },
  {
   "cell_type": "markdown",
   "metadata": {},
   "source": [
    "Analysing the report above and the variable descriptions given, I decided to use the judgement_amount value to train the model.\n",
    "Since the mean value of the judgement_amount column is 385.2, 75% of the values are lower than 305 and the standard deviation is 659.2, we can infer that there are a lot of outliers in this column.\n",
    "First, I plotted the chart below to have an overview of the distribution of the column values."
   ]
  },
  {
   "cell_type": "markdown",
   "metadata": {},
   "source": [
    "## judgment_amount"
   ]
  },
  {
   "cell_type": "markdown",
   "metadata": {},
   "source": [
    "Bar plot with interval percentages"
   ]
  },
  {
   "cell_type": "code",
   "execution_count": 771,
   "metadata": {},
   "outputs": [
    {
     "data": {
      "image/png": "[encoded data removed]",
      "text/plain": [
       "<Figure size 864x432 with 1 Axes>"
      ]
     },
     "metadata": {
      "needs_background": "light"
     },
     "output_type": "display_data"
    }
   ],
   "source": [
    "compliance_sizes = define_percentage_compliance_folds(df, 'judgment_amount')\n",
    "plot_percent_compliance_bar_folds_chart(compliance_sizes)"
   ]
  },
  {
   "cell_type": "markdown",
   "metadata": {},
   "source": [
    "Scatter plot with percentage value of each exact amount"
   ]
  },
  {
   "cell_type": "code",
   "execution_count": 772,
   "metadata": {},
   "outputs": [
    {
     "data": {
      "image/png": "[encoded data removed]",
      "text/plain": [
       "<Figure size 864x432 with 1 Axes>"
      ]
     },
     "metadata": {
      "needs_background": "light"
     },
     "output_type": "display_data"
    }
   ],
   "source": [
    "plot_percent_compliance_scatter_chart('judgment_amount')"
   ]
  },
  {
   "cell_type": "code",
   "execution_count": 773,
   "metadata": {},
   "outputs": [
    {
     "data": {
      "image/png": "[encoded data removed]",
      "text/plain": [
       "<Figure size 864x432 with 1 Axes>"
      ]
     },
     "metadata": {
      "needs_background": "light"
     },
     "output_type": "display_data"
    }
   ],
   "source": [
    "plot_percent_compliance_scatter_chart('judgment_amount', xlim=(0,400))"
   ]
  },
  {
   "cell_type": "code",
   "execution_count": 784,
   "metadata": {},
   "outputs": [
    {
     "data": {
      "image/png": "[encoded data removed]",
      "text/plain": [
       "<Figure size 864x432 with 1 Axes>"
      ]
     },
     "metadata": {
      "needs_background": "light"
     },
     "output_type": "display_data"
    }
   ],
   "source": [
    "plot_percent_compliance_bar_chart('judgment_amount', xlim=(0,400))"
   ]
  },
  {
   "cell_type": "markdown",
   "metadata": {},
   "source": [
    "## disposition"
   ]
  },
  {
   "cell_type": "markdown",
   "metadata": {},
   "source": [
    "Plot the scatter chart to visualize the distribution of compliant and not compliant entries by disposition"
   ]
  },
  {
   "cell_type": "code",
   "execution_count": 775,
   "metadata": {},
   "outputs": [
    {
     "data": {
      "text/plain": [
       "array(['Responsible by Determination', 'Responsible by Default',\n",
       "       'Responsible by Admission'], dtype=object)"
      ]
     },
     "execution_count": 775,
     "metadata": {},
     "output_type": "execute_result"
    }
   ],
   "source": [
    "df['disposition'].unique()"
   ]
  },
  {
   "cell_type": "code",
   "execution_count": 776,
   "metadata": {},
   "outputs": [
    {
     "data": {
      "image/png": "[encoded data removed]",
      "text/plain": [
       "<Figure size 864x432 with 1 Axes>"
      ]
     },
     "metadata": {
      "needs_background": "light"
     },
     "output_type": "display_data"
    }
   ],
   "source": [
    "total_people = df['disposition'].count()\n",
    "compliance_sizes={}\n",
    "compliance_sizes[1] = df[df['compliance'] == 1]['disposition'].value_counts().apply(lambda x: x/total_people)\n",
    "compliance_sizes[0] = df[df['compliance'] == 0]['disposition'].value_counts().apply(lambda x: x/total_people)\n",
    "plot_percent_compliance_bar_folds_chart(compliance_sizes, folds=[50, 100, 150], folds_ticks=compliance_sizes[0].index)"
   ]
  },
  {
   "cell_type": "markdown",
   "metadata": {},
   "source": [
    "Distribution of compliant and not compliant entries using both features"
   ]
  },
  {
   "cell_type": "code",
   "execution_count": 777,
   "metadata": {},
   "outputs": [
    {
     "data": {
      "text/plain": [
       "array(['Responsible by Determination', 'Responsible by Default',\n",
       "       'Responsible by Admission'], dtype=object)"
      ]
     },
     "execution_count": 777,
     "metadata": {},
     "output_type": "execute_result"
    }
   ],
   "source": [
    "df['disposition'].unique()"
   ]
  },
  {
   "cell_type": "code",
   "execution_count": 778,
   "metadata": {},
   "outputs": [
    {
     "data": {
      "image/png": "[encoded data removed]",
      "text/plain": [
       "<Figure size 864x432 with 1 Axes>"
      ]
     },
     "metadata": {
      "needs_background": "light"
     },
     "output_type": "display_data"
    }
   ],
   "source": [
    "plot_compliance_scatter_features_chart(df, 'judgment_amount', 'disposition_category', yticks=df['disposition'].unique())"
   ]
  },
  {
   "cell_type": "code",
   "execution_count": 779,
   "metadata": {},
   "outputs": [
    {
     "data": {
      "image/png": "[encoded data removed]",
      "text/plain": [
       "<Figure size 864x432 with 1 Axes>"
      ]
     },
     "metadata": {
      "needs_background": "light"
     },
     "output_type": "display_data"
    }
   ],
   "source": [
    "plot_compliance_scatter_features_chart(df, 'judgment_amount', 'disposition_category', yticks=df['disposition'].unique(), xlim=(0,400), ylim=(-0.3,2.5))"
   ]
  },
  {
   "cell_type": "markdown",
   "metadata": {},
   "source": [
    "## violations"
   ]
  },
  {
   "cell_type": "code",
   "execution_count": 780,
   "metadata": {},
   "outputs": [
    {
     "name": "stdout",
     "output_type": "stream",
     "text": [
      "89399.0\n"
     ]
    },
    {
     "data": {
      "text/plain": [
       "9-1-36(a)    3022.0\n",
       "Name: violation_code, dtype: float64"
      ]
     },
     "execution_count": 780,
     "metadata": {},
     "output_type": "execute_result"
    }
   ],
   "source": [
    "total_people = df['violation_code'].value_counts().where(lambda x: x > 1000).dropna().sum()\n",
    "\n",
    "total_compliant_people = df[df['compliance'] == 1]['violation_code'].value_counts().where(lambda x: x > 1000).dropna()\n",
    "total_non_compliant_people = df[df['compliance'] == 0]['violation_code'].value_counts().where(lambda x: x > 1000).dropna()\n",
    "print(total_people)\n",
    "total_compliant_people"
   ]
  },
  {
   "cell_type": "markdown",
   "metadata": {},
   "source": [
    "## Dummy Classifier"
   ]
  },
  {
   "cell_type": "code",
   "execution_count": 781,
   "metadata": {},
   "outputs": [],
   "source": [
    "def blight_dummy_model():\n",
    "    from sklearn.dummy import DummyClassifier\n",
    "\n",
    "    # Prepare the datasets\n",
    "    columns = ['judgment_amount']\n",
    "    X, y = prepare_train_dataset('csv/train.csv', columns)\n",
    "    X_train, X_test, y_train, y_test = train_test_split(X, y)\n",
    "\n",
    "    clf = DummyClassifier(strategy = 'most_frequent').fit(X_train, y_train)\n",
    "    y_score = clf.predict_proba(X_test)[:,1]\n",
    "\n",
    "    # Calculate the probability of test.csv rows\n",
    "    print('Cross-validation accuracy: ', np.mean(cross_val_score(DummyClassifier(strategy = 'most_frequent'), X, y)))\n",
    "    print('Cross-validation precision: ', np.mean(cross_val_score(DummyClassifier(strategy = 'most_frequent'), X, y, scoring='precision')))\n",
    "    print('Cross-validation recall: ', np.mean(cross_val_score(DummyClassifier(strategy = 'most_frequent'), X, y, scoring='recall')))\n",
    "    print('Cross-validation f1: ', np.mean(cross_val_score(DummyClassifier(strategy = 'most_frequent'), X, y, scoring='f1')))\n",
    "    print('Cross-validation AUC: ', np.mean(cross_val_score(DummyClassifier(strategy = 'most_frequent'), X, y, scoring='roc_auc')))"
   ]
  },
  {
   "cell_type": "code",
   "execution_count": 752,
   "metadata": {},
   "outputs": [
    {
     "name": "stdout",
     "output_type": "stream",
     "text": [
      "Cross-validation accuracy:  0.9302223038765387\n",
      "Cross-validation precision:  0.0\n",
      "Cross-validation recall:  0.0\n",
      "Cross-validation f1:  0.0\n",
      "Cross-validation AUC:  0.5\n"
     ]
    },
    {
     "name": "stderr",
     "output_type": "stream",
     "text": [
      "<ipython-input-400-370c4fd3a513>:3: UserWarning: Boolean Series key will be reindexed to match DataFrame index.\n",
      "  df_train = df_train[(df['city'].str.lower() == 'detroit') & (~df_train['compliance_detail'].str.contains('not responsible')) & (~df['compliance_detail'].str.contains('compliant by no fine'))].set_index('ticket_id')\n",
      "C:\\Users\\Issamu Umeda\\Anaconda3\\lib\\site-packages\\sklearn\\metrics\\_classification.py:1221: UndefinedMetricWarning: Precision is ill-defined and being set to 0.0 due to no predicted samples. Use `zero_division` parameter to control this behavior.\n",
      "  _warn_prf(average, modifier, msg_start, len(result))\n"
     ]
    }
   ],
   "source": [
    "blight_dummy_model()"
   ]
  },
  {
   "cell_type": "markdown",
   "metadata": {},
   "source": [
    "## Logistic Regression"
   ]
  },
  {
   "cell_type": "code",
   "execution_count": 753,
   "metadata": {},
   "outputs": [],
   "source": [
    "def blight_logistic_model():\n",
    "    from sklearn.linear_model import LogisticRegression\n",
    "\n",
    "    # Prepare the datasets\n",
    "    columns = ['judgment_amount']\n",
    "    X, y = prepare_train_dataset('csv/train.csv', columns)\n",
    "    X_train, X_test, y_train, y_test = train_test_split(X, y)\n",
    "\n",
    "    clf = LogisticRegression().fit(X_train, y_train)\n",
    "    y_score = clf.predict_proba(X_test)[:,1]\n",
    "\n",
    "    # Calculate the probability of test.csv rows\n",
    "    print('Cross-validation accuracy: ', np.mean(cross_val_score(LogisticRegression(), X, y)))\n",
    "    print('Cross-validation precision: ', np.mean(cross_val_score(LogisticRegression(), X, y, scoring='precision')))\n",
    "    print('Cross-validation recall: ', np.mean(cross_val_score(LogisticRegression(), X, y, scoring='recall')))\n",
    "    print('Cross-validation f1: ', np.mean(cross_val_score(LogisticRegression(), X, y, scoring='f1')))\n",
    "    print('Cross-validation AUC: ', np.mean(cross_val_score(LogisticRegression(), X, y, scoring='roc_auc')))\n",
    "    return np.mean(cross_val_score(LogisticRegression(), X, y))\n",
    "    return roc_auc_score(y_test, y_score)"
   ]
  },
  {
   "cell_type": "code",
   "execution_count": 754,
   "metadata": {},
   "outputs": [
    {
     "name": "stderr",
     "output_type": "stream",
     "text": [
      "<ipython-input-400-370c4fd3a513>:3: UserWarning: Boolean Series key will be reindexed to match DataFrame index.\n",
      "  df_train = df_train[(df['city'].str.lower() == 'detroit') & (~df_train['compliance_detail'].str.contains('not responsible')) & (~df['compliance_detail'].str.contains('compliant by no fine'))].set_index('ticket_id')\n"
     ]
    },
    {
     "name": "stdout",
     "output_type": "stream",
     "text": [
      "Cross-validation accuracy:  0.9302223038765387\n"
     ]
    },
    {
     "name": "stderr",
     "output_type": "stream",
     "text": [
      "C:\\Users\\Issamu Umeda\\Anaconda3\\lib\\site-packages\\sklearn\\metrics\\_classification.py:1221: UndefinedMetricWarning: Precision is ill-defined and being set to 0.0 due to no predicted samples. Use `zero_division` parameter to control this behavior.\n",
      "  _warn_prf(average, modifier, msg_start, len(result))\n",
      "C:\\Users\\Issamu Umeda\\Anaconda3\\lib\\site-packages\\sklearn\\metrics\\_classification.py:1221: UndefinedMetricWarning: Precision is ill-defined and being set to 0.0 due to no predicted samples. Use `zero_division` parameter to control this behavior.\n",
      "  _warn_prf(average, modifier, msg_start, len(result))\n",
      "C:\\Users\\Issamu Umeda\\Anaconda3\\lib\\site-packages\\sklearn\\metrics\\_classification.py:1221: UndefinedMetricWarning: Precision is ill-defined and being set to 0.0 due to no predicted samples. Use `zero_division` parameter to control this behavior.\n",
      "  _warn_prf(average, modifier, msg_start, len(result))\n",
      "C:\\Users\\Issamu Umeda\\Anaconda3\\lib\\site-packages\\sklearn\\metrics\\_classification.py:1221: UndefinedMetricWarning: Precision is ill-defined and being set to 0.0 due to no predicted samples. Use `zero_division` parameter to control this behavior.\n",
      "  _warn_prf(average, modifier, msg_start, len(result))\n",
      "C:\\Users\\Issamu Umeda\\Anaconda3\\lib\\site-packages\\sklearn\\metrics\\_classification.py:1221: UndefinedMetricWarning: Precision is ill-defined and being set to 0.0 due to no predicted samples. Use `zero_division` parameter to control this behavior.\n",
      "  _warn_prf(average, modifier, msg_start, len(result))\n"
     ]
    },
    {
     "name": "stdout",
     "output_type": "stream",
     "text": [
      "Cross-validation precision:  0.0\n",
      "Cross-validation recall:  0.0\n",
      "Cross-validation f1:  0.0\n",
      "Cross-validation AUC:  0.6579507893284435\n"
     ]
    },
    {
     "data": {
      "text/plain": [
       "0.9302223038765387"
      ]
     },
     "execution_count": 754,
     "metadata": {},
     "output_type": "execute_result"
    }
   ],
   "source": [
    "blight_logistic_model()"
   ]
  },
  {
   "cell_type": "markdown",
   "metadata": {},
   "source": [
    "### Added the LabelEncoder to 'disposition' column"
   ]
  },
  {
   "cell_type": "code",
   "execution_count": 755,
   "metadata": {},
   "outputs": [],
   "source": [
    "def blight_logistic_model():\n",
    "    from sklearn.linear_model import LogisticRegression\n",
    "\n",
    "    # Prepare the datasets\n",
    "    columns = ['disposition', 'judgment_amount']\n",
    "    X, y = prepare_train_dataset('csv/train.csv', columns)\n",
    "    X_train, X_test, y_train, y_test = train_test_split(X, y)\n",
    "\n",
    "    # Prepare the disposition LabelEncoder\n",
    "    le_disposition = LabelEncoder().fit(list(X_train['disposition']) + ['Unknown'])\n",
    "    X_train['disposition'] = transform(le_disposition, X_train['disposition'])\n",
    "    X_test['disposition'] = transform(le_disposition, X_test['disposition'])\n",
    "    \n",
    "    # Prepare the disposition LabelEncoder\n",
    "    le_disposition = LabelEncoder().fit(list(X['disposition']) + ['Unknown'])\n",
    "    X['disposition'] = transform(le_disposition, X['disposition'])\n",
    "\n",
    "    clf = LogisticRegression().fit(X_train, y_train)\n",
    "    y_score = clf.predict_proba(X_test)[:,1]\n",
    "\n",
    "    # Calculate the probability of test.csv rows\n",
    "    print('Cross-validation accuracy: ', np.mean(cross_val_score(LogisticRegression(), X, y)))\n",
    "    print('Cross-validation precision: ', np.mean(cross_val_score(LogisticRegression(), X, y, scoring='precision')))\n",
    "    print('Cross-validation recall: ', np.mean(cross_val_score(LogisticRegression(), X, y, scoring='recall')))\n",
    "    print('Cross-validation f1: ', np.mean(cross_val_score(LogisticRegression(), X, y, scoring='f1')))\n",
    "    print('Cross-validation AUC: ', np.mean(cross_val_score(LogisticRegression(), X, y, scoring='roc_auc')))\n",
    "    return np.mean(cross_val_score(LogisticRegression(), X, y))\n",
    "    return roc_auc_score(y_test, y_score)"
   ]
  },
  {
   "cell_type": "code",
   "execution_count": 756,
   "metadata": {},
   "outputs": [
    {
     "name": "stderr",
     "output_type": "stream",
     "text": [
      "<ipython-input-400-370c4fd3a513>:3: UserWarning: Boolean Series key will be reindexed to match DataFrame index.\n",
      "  df_train = df_train[(df['city'].str.lower() == 'detroit') & (~df_train['compliance_detail'].str.contains('not responsible')) & (~df['compliance_detail'].str.contains('compliant by no fine'))].set_index('ticket_id')\n",
      "<ipython-input-755-7071465da77d>:11: SettingWithCopyWarning: \n",
      "A value is trying to be set on a copy of a slice from a DataFrame.\n",
      "Try using .loc[row_indexer,col_indexer] = value instead\n",
      "\n",
      "See the caveats in the documentation: https://pandas.pydata.org/pandas-docs/stable/user_guide/indexing.html#returning-a-view-versus-a-copy\n",
      "  X_train['disposition'] = transform(le_disposition, X_train['disposition'])\n",
      "<ipython-input-755-7071465da77d>:12: SettingWithCopyWarning: \n",
      "A value is trying to be set on a copy of a slice from a DataFrame.\n",
      "Try using .loc[row_indexer,col_indexer] = value instead\n",
      "\n",
      "See the caveats in the documentation: https://pandas.pydata.org/pandas-docs/stable/user_guide/indexing.html#returning-a-view-versus-a-copy\n",
      "  X_test['disposition'] = transform(le_disposition, X_test['disposition'])\n"
     ]
    },
    {
     "name": "stdout",
     "output_type": "stream",
     "text": [
      "Cross-validation accuracy:  0.9302223038765387\n"
     ]
    },
    {
     "name": "stderr",
     "output_type": "stream",
     "text": [
      "C:\\Users\\Issamu Umeda\\Anaconda3\\lib\\site-packages\\sklearn\\metrics\\_classification.py:1221: UndefinedMetricWarning: Precision is ill-defined and being set to 0.0 due to no predicted samples. Use `zero_division` parameter to control this behavior.\n",
      "  _warn_prf(average, modifier, msg_start, len(result))\n",
      "C:\\Users\\Issamu Umeda\\Anaconda3\\lib\\site-packages\\sklearn\\metrics\\_classification.py:1221: UndefinedMetricWarning: Precision is ill-defined and being set to 0.0 due to no predicted samples. Use `zero_division` parameter to control this behavior.\n",
      "  _warn_prf(average, modifier, msg_start, len(result))\n",
      "C:\\Users\\Issamu Umeda\\Anaconda3\\lib\\site-packages\\sklearn\\metrics\\_classification.py:1221: UndefinedMetricWarning: Precision is ill-defined and being set to 0.0 due to no predicted samples. Use `zero_division` parameter to control this behavior.\n",
      "  _warn_prf(average, modifier, msg_start, len(result))\n",
      "C:\\Users\\Issamu Umeda\\Anaconda3\\lib\\site-packages\\sklearn\\metrics\\_classification.py:1221: UndefinedMetricWarning: Precision is ill-defined and being set to 0.0 due to no predicted samples. Use `zero_division` parameter to control this behavior.\n",
      "  _warn_prf(average, modifier, msg_start, len(result))\n",
      "C:\\Users\\Issamu Umeda\\Anaconda3\\lib\\site-packages\\sklearn\\metrics\\_classification.py:1221: UndefinedMetricWarning: Precision is ill-defined and being set to 0.0 due to no predicted samples. Use `zero_division` parameter to control this behavior.\n",
      "  _warn_prf(average, modifier, msg_start, len(result))\n"
     ]
    },
    {
     "name": "stdout",
     "output_type": "stream",
     "text": [
      "Cross-validation precision:  0.0\n",
      "Cross-validation recall:  0.0\n",
      "Cross-validation f1:  0.0\n",
      "Cross-validation AUC:  0.6061983683716384\n"
     ]
    },
    {
     "data": {
      "text/plain": [
       "0.9302223038765387"
      ]
     },
     "execution_count": 756,
     "metadata": {},
     "output_type": "execute_result"
    }
   ],
   "source": [
    "blight_logistic_model()"
   ]
  },
  {
   "cell_type": "markdown",
   "metadata": {},
   "source": [
    "### Added the LabelEncoder to 'violation_code' column"
   ]
  },
  {
   "cell_type": "code",
   "execution_count": null,
   "metadata": {},
   "outputs": [],
   "source": []
  },
  {
   "cell_type": "code",
   "execution_count": null,
   "metadata": {},
   "outputs": [],
   "source": []
  },
  {
   "cell_type": "markdown",
   "metadata": {},
   "source": [
    "## SVM"
   ]
  },
  {
   "cell_type": "code",
   "execution_count": 739,
   "metadata": {},
   "outputs": [],
   "source": [
    "def blight_svm_model():\n",
    "    from sklearn.svm import SVC\n",
    "\n",
    "    # Prepare the datasets\n",
    "    columns = ['judgment_amount']\n",
    "    X, y = prepare_train_dataset('csv/train.csv', columns)\n",
    "    X_train, X_test, y_train, y_test = train_test_split(X, y)\n",
    "\n",
    "    clf = SVC(probability=True).fit(X_train, y_train)\n",
    "    y_score = clf.decision_function(X_test)\n",
    "    fpr_svm, tpr_svm, _ = roc_curve(y_test, y_score)\n",
    "    roc_auc_score = auc(fpr_svm, tpr_svm)\n",
    "\n",
    "    # Calculate the probability of test.csv rows\n",
    "    return np.mean(cross_val_score(SVC(), X, y))\n",
    "    return roc_auc_score"
   ]
  },
  {
   "cell_type": "code",
   "execution_count": 740,
   "metadata": {},
   "outputs": [
    {
     "name": "stderr",
     "output_type": "stream",
     "text": [
      "<ipython-input-400-370c4fd3a513>:3: UserWarning: Boolean Series key will be reindexed to match DataFrame index.\n",
      "  df_train = df_train[(df['city'].str.lower() == 'detroit') & (~df_train['compliance_detail'].str.contains('not responsible')) & (~df['compliance_detail'].str.contains('compliant by no fine'))].set_index('ticket_id')\n"
     ]
    },
    {
     "data": {
      "text/plain": [
       "0.9302223038765387"
      ]
     },
     "execution_count": 740,
     "metadata": {},
     "output_type": "execute_result"
    }
   ],
   "source": [
    "blight_svm_model()"
   ]
  },
  {
   "cell_type": "markdown",
   "metadata": {},
   "source": [
    "## Random Forest"
   ]
  },
  {
   "cell_type": "code",
   "execution_count": 759,
   "metadata": {},
   "outputs": [],
   "source": [
    "from sklearn.metrics import accuracy_score, precision_score, recall_score, f1_score"
   ]
  },
  {
   "cell_type": "code",
   "execution_count": 764,
   "metadata": {},
   "outputs": [],
   "source": [
    "def blight_random_forest_model():\n",
    "    from sklearn.ensemble import RandomForestClassifier\n",
    "\n",
    "    # Prepare the datasets\n",
    "    columns = ['judgment_amount']\n",
    "    X, y = prepare_train_dataset('csv/train.csv', columns)\n",
    "    X_train, X_test, y_train, y_test = train_test_split(X, y)\n",
    "\n",
    "    clf = RandomForestClassifier().fit(X_train, y_train)\n",
    "    y_predict = clf.predict(X_test)\n",
    "    y_score = clf.predict_proba(X_test)[:,1]\n",
    "\n",
    "    # Calculate the probability of test.csv rows\n",
    "    print('Cross-validation accuracy: ', np.mean(cross_val_score(RandomForestClassifier(), X, y)))\n",
    "    print('Cross-validation precision: ', np.mean(cross_val_score(RandomForestClassifier(), X, y, scoring='precision')))\n",
    "    print('Cross-validation recall: ', np.mean(cross_val_score(RandomForestClassifier(), X, y, scoring='recall')))\n",
    "    print('Cross-validation f1: ', np.mean(cross_val_score(RandomForestClassifier(), X, y, scoring='f1')))\n",
    "    print('Cross-validation AUC: ', np.mean(cross_val_score(RandomForestClassifier(), X, y, scoring='roc_auc')))\n",
    "    print('Accuracy: ', accuracy_score(y_test, y_predict))\n",
    "    print('Precision: ', precision_score(y_test, y_predict))\n",
    "    print('Recall: ', recall_score(y_test, y_predict))\n",
    "    print('F1: ', f1_score(y_test, y_predict))\n",
    "    return np.mean(cross_val_score(RandomForestClassifier(), X, y))\n",
    "    return roc_auc_score(y_test, y_score)"
   ]
  },
  {
   "cell_type": "code",
   "execution_count": 765,
   "metadata": {},
   "outputs": [
    {
     "name": "stderr",
     "output_type": "stream",
     "text": [
      "<ipython-input-400-370c4fd3a513>:3: UserWarning: Boolean Series key will be reindexed to match DataFrame index.\n",
      "  df_train = df_train[(df['city'].str.lower() == 'detroit') & (~df_train['compliance_detail'].str.contains('not responsible')) & (~df['compliance_detail'].str.contains('compliant by no fine'))].set_index('ticket_id')\n"
     ]
    },
    {
     "name": "stdout",
     "output_type": "stream",
     "text": [
      "Cross-validation accuracy:  0.9297813705677015\n",
      "Cross-validation precision:  0.27140522875816997\n",
      "Cross-validation recall:  0.005268011927050829\n",
      "Cross-validation f1:  0.01588569200050024\n",
      "Cross-validation AUC:  0.7509453838490402\n",
      "Accuracy:  0.9343033509700176\n",
      "Precision:  1.0\n",
      "Recall:  0.017582417582417582\n",
      "F1:  0.03455723542116631\n"
     ]
    },
    {
     "data": {
      "text/plain": [
       "0.9297629983465001"
      ]
     },
     "execution_count": 765,
     "metadata": {},
     "output_type": "execute_result"
    }
   ],
   "source": [
    "blight_random_forest_model()"
   ]
  },
  {
   "cell_type": "markdown",
   "metadata": {},
   "source": [
    "### Added the LabelEncoder to 'disposition' column"
   ]
  },
  {
   "cell_type": "code",
   "execution_count": 383,
   "metadata": {},
   "outputs": [],
   "source": [
    "def blight_random_forest_model():\n",
    "    from sklearn.ensemble import RandomForestClassifier\n",
    "\n",
    "    # Prepare the datasets\n",
    "    columns = ['disposition', 'judgment_amount']\n",
    "    X, y = prepare_train_dataset('csv/train.csv', columns)\n",
    "    X_train, X_test, y_train, y_test = train_test_split(X, y)\n",
    "\n",
    "    # Prepare the disposition LabelEncoder\n",
    "    le_disposition = LabelEncoder().fit(list(X_train['disposition']) + ['Unknown'])\n",
    "    X_train['disposition'] = transform(le_disposition, X_train['disposition'])\n",
    "    X_test['disposition'] = transform(le_disposition, X_test['disposition'])\n",
    "    \n",
    "    # Prepare the disposition LabelEncoder\n",
    "    le_disposition = LabelEncoder().fit(list(X['disposition']) + ['Unknown'])\n",
    "    X['disposition'] = transform(le_disposition, X['disposition'])\n",
    "\n",
    "    clf = RandomForestClassifier().fit(X_train, y_train)\n",
    "    y_score = clf.predict_proba(X_test)[:,1]\n",
    "\n",
    "    # Calculate the probability of test.csv rows\n",
    "    return np.mean(cross_val_score(RandomForestClassifier(), X, y))\n",
    "    return roc_auc_score(y_test, y_score)"
   ]
  },
  {
   "cell_type": "code",
   "execution_count": 384,
   "metadata": {},
   "outputs": [
    {
     "name": "stderr",
     "output_type": "stream",
     "text": [
      "C:\\Users\\Issamu Umeda\\Anaconda3\\lib\\site-packages\\IPython\\core\\interactiveshell.py:3418: DtypeWarning: Columns (11,12,31) have mixed types.Specify dtype option on import or set low_memory=False.\n",
      "  exec(code_obj, self.user_global_ns, self.user_ns)\n",
      "<ipython-input-340-4a54c95e996d>:3: UserWarning: Boolean Series key will be reindexed to match DataFrame index.\n",
      "  df_train = df_train[(df['city'].str.lower() == 'detroit') & (~df_train['compliance_detail'].str.contains('not responsible')) & (~df['compliance_detail'].str.contains('compliant by no fine'))].set_index('ticket_id')\n",
      "<ipython-input-383-e333e49cbd54>:11: SettingWithCopyWarning: \n",
      "A value is trying to be set on a copy of a slice from a DataFrame.\n",
      "Try using .loc[row_indexer,col_indexer] = value instead\n",
      "\n",
      "See the caveats in the documentation: https://pandas.pydata.org/pandas-docs/stable/user_guide/indexing.html#returning-a-view-versus-a-copy\n",
      "  X_train['disposition'] = transform(le_disposition, X_train['disposition'])\n",
      "<ipython-input-383-e333e49cbd54>:12: SettingWithCopyWarning: \n",
      "A value is trying to be set on a copy of a slice from a DataFrame.\n",
      "Try using .loc[row_indexer,col_indexer] = value instead\n",
      "\n",
      "See the caveats in the documentation: https://pandas.pydata.org/pandas-docs/stable/user_guide/indexing.html#returning-a-view-versus-a-copy\n",
      "  X_test['disposition'] = transform(le_disposition, X_test['disposition'])\n"
     ]
    },
    {
     "data": {
      "text/plain": [
       "0.9394451589197134"
      ]
     },
     "execution_count": 384,
     "metadata": {},
     "output_type": "execute_result"
    }
   ],
   "source": [
    "blight_random_forest_model()"
   ]
  },
  {
   "cell_type": "markdown",
   "metadata": {},
   "source": [
    "### Added the LabelEncoder to 'violation_code' column"
   ]
  },
  {
   "cell_type": "code",
   "execution_count": 385,
   "metadata": {},
   "outputs": [],
   "source": [
    "def blight_random_forest_model():\n",
    "    from sklearn.ensemble import RandomForestClassifier\n",
    "\n",
    "    # Prepare the datasets\n",
    "    columns = ['violation_code', 'judgment_amount']\n",
    "    X, y = prepare_train_dataset('csv/train.csv', columns)\n",
    "    X_train, X_test, y_train, y_test = train_test_split(X, y)\n",
    "\n",
    "    # Prepare the violation LabelEncoder\n",
    "    le_violation = LabelEncoder().fit(list(X_train['violation_code']) + ['Unknown'])\n",
    "    X_train['violation_code'] = transform(le_violation, X_train['violation_code'])\n",
    "    X_test['violation_code'] = transform(le_violation, X_test['violation_code'])\n",
    "\n",
    "    # Prepare the violation LabelEncoder\n",
    "    le_violation = LabelEncoder().fit(list(X['violation_code']) + ['Unknown'])\n",
    "    X['violation_code'] = transform(le_violation, X['violation_code'])\n",
    "    \n",
    "    clf = RandomForestClassifier().fit(X_train, y_train)\n",
    "    y_score = clf.predict_proba(X_test)[:,1]\n",
    "\n",
    "    # Calculate the probability of test.csv rows\n",
    "    return np.mean(cross_val_score(RandomForestClassifier(), X, y))\n",
    "    return roc_auc_score(y_test, y_score)"
   ]
  },
  {
   "cell_type": "code",
   "execution_count": 386,
   "metadata": {},
   "outputs": [
    {
     "name": "stderr",
     "output_type": "stream",
     "text": [
      "C:\\Users\\Issamu Umeda\\Anaconda3\\lib\\site-packages\\IPython\\core\\interactiveshell.py:3418: DtypeWarning: Columns (11,12,31) have mixed types.Specify dtype option on import or set low_memory=False.\n",
      "  exec(code_obj, self.user_global_ns, self.user_ns)\n",
      "<ipython-input-340-4a54c95e996d>:3: UserWarning: Boolean Series key will be reindexed to match DataFrame index.\n",
      "  df_train = df_train[(df['city'].str.lower() == 'detroit') & (~df_train['compliance_detail'].str.contains('not responsible')) & (~df['compliance_detail'].str.contains('compliant by no fine'))].set_index('ticket_id')\n",
      "<ipython-input-385-e4386fdfe53b>:11: SettingWithCopyWarning: \n",
      "A value is trying to be set on a copy of a slice from a DataFrame.\n",
      "Try using .loc[row_indexer,col_indexer] = value instead\n",
      "\n",
      "See the caveats in the documentation: https://pandas.pydata.org/pandas-docs/stable/user_guide/indexing.html#returning-a-view-versus-a-copy\n",
      "  X_train['violation_code'] = transform(le_violation, X_train['violation_code'])\n",
      "<ipython-input-385-e4386fdfe53b>:12: SettingWithCopyWarning: \n",
      "A value is trying to be set on a copy of a slice from a DataFrame.\n",
      "Try using .loc[row_indexer,col_indexer] = value instead\n",
      "\n",
      "See the caveats in the documentation: https://pandas.pydata.org/pandas-docs/stable/user_guide/indexing.html#returning-a-view-versus-a-copy\n",
      "  X_test['violation_code'] = transform(le_violation, X_test['violation_code'])\n"
     ]
    },
    {
     "data": {
      "text/plain": [
       "0.9294690428072755"
      ]
     },
     "execution_count": 386,
     "metadata": {},
     "output_type": "execute_result"
    }
   ],
   "source": [
    "blight_random_forest_model()"
   ]
  },
  {
   "cell_type": "markdown",
   "metadata": {},
   "source": [
    "### Added the LabelEncoder to 'disposition' and 'violation_code' columns"
   ]
  },
  {
   "cell_type": "code",
   "execution_count": 768,
   "metadata": {},
   "outputs": [],
   "source": [
    "def blight_random_forest_model():\n",
    "    from sklearn.ensemble import RandomForestClassifier\n",
    "\n",
    "    # Prepare the datasets\n",
    "    columns = ['disposition', 'violation_code', 'judgment_amount']\n",
    "    X, y = prepare_train_dataset('csv/train.csv', columns)\n",
    "    X_train, X_test, y_train, y_test = train_test_split(X, y)\n",
    "\n",
    "    # Prepare the disposition LabelEncoder\n",
    "    le_disposition = LabelEncoder().fit(list(X_train['disposition']) + ['Unknown'])\n",
    "    X_train['disposition'] = transform(le_disposition, X_train['disposition'])\n",
    "    X_test['disposition'] = transform(le_disposition, X_test['disposition'])\n",
    "    \n",
    "    # Prepare the violation LabelEncoder\n",
    "    le_violation = LabelEncoder().fit(list(X_train['violation_code']) + ['Unknown'])\n",
    "    X_train['violation_code'] = transform(le_violation, X_train['violation_code'])\n",
    "    X_test['violation_code'] = transform(le_violation, X_test['violation_code'])\n",
    "    \n",
    "    \n",
    "        # Prepare the disposition LabelEncoder\n",
    "    le_disposition = LabelEncoder().fit(list(X['disposition']) + ['Unknown'])\n",
    "    X['disposition'] = transform(le_disposition, X['disposition'])\n",
    "    \n",
    "        # Prepare the violation LabelEncoder\n",
    "    le_violation = LabelEncoder().fit(list(X['violation_code']) + ['Unknown'])\n",
    "    X['violation_code'] = transform(le_violation, X['violation_code'])\n",
    "\n",
    "    clf = RandomForestClassifier().fit(X_train, y_train)\n",
    "    y_score = clf.predict_proba(X_test)[:,1]\n",
    "    y_predict = clf.predict(X_test)\n",
    "\n",
    "    # Calculate the probability of test.csv rows\n",
    "    print('Cross-validation accuracy: ', np.mean(cross_val_score(RandomForestClassifier(), X, y)))\n",
    "    print('Cross-validation precision: ', np.mean(cross_val_score(RandomForestClassifier(), X, y, scoring='precision')))\n",
    "    print('Cross-validation recall: ', np.mean(cross_val_score(RandomForestClassifier(), X, y, scoring='recall')))\n",
    "    print('Cross-validation f1: ', np.mean(cross_val_score(RandomForestClassifier(), X, y, scoring='f1')))\n",
    "    print('Cross-validation AUC: ', np.mean(cross_val_score(RandomForestClassifier(), X, y, scoring='roc_auc')))\n",
    "    print('Accuracy: ', accuracy_score(y_test, y_predict))\n",
    "    print('Precision: ', precision_score(y_test, y_predict))\n",
    "    print('Recall: ', recall_score(y_test, y_predict))\n",
    "    print('F1: ', f1_score(y_test, y_predict))\n",
    "    return np.mean(cross_val_score(RandomForestClassifier(), X, y))\n",
    "    return roc_auc_score(y_test, y_score)"
   ]
  },
  {
   "cell_type": "code",
   "execution_count": 769,
   "metadata": {},
   "outputs": [
    {
     "name": "stderr",
     "output_type": "stream",
     "text": [
      "<ipython-input-400-370c4fd3a513>:3: UserWarning: Boolean Series key will be reindexed to match DataFrame index.\n",
      "  df_train = df_train[(df['city'].str.lower() == 'detroit') & (~df_train['compliance_detail'].str.contains('not responsible')) & (~df['compliance_detail'].str.contains('compliant by no fine'))].set_index('ticket_id')\n",
      "<ipython-input-768-91ecabc93ec9>:11: SettingWithCopyWarning: \n",
      "A value is trying to be set on a copy of a slice from a DataFrame.\n",
      "Try using .loc[row_indexer,col_indexer] = value instead\n",
      "\n",
      "See the caveats in the documentation: https://pandas.pydata.org/pandas-docs/stable/user_guide/indexing.html#returning-a-view-versus-a-copy\n",
      "  X_train['disposition'] = transform(le_disposition, X_train['disposition'])\n",
      "<ipython-input-768-91ecabc93ec9>:12: SettingWithCopyWarning: \n",
      "A value is trying to be set on a copy of a slice from a DataFrame.\n",
      "Try using .loc[row_indexer,col_indexer] = value instead\n",
      "\n",
      "See the caveats in the documentation: https://pandas.pydata.org/pandas-docs/stable/user_guide/indexing.html#returning-a-view-versus-a-copy\n",
      "  X_test['disposition'] = transform(le_disposition, X_test['disposition'])\n",
      "<ipython-input-768-91ecabc93ec9>:16: SettingWithCopyWarning: \n",
      "A value is trying to be set on a copy of a slice from a DataFrame.\n",
      "Try using .loc[row_indexer,col_indexer] = value instead\n",
      "\n",
      "See the caveats in the documentation: https://pandas.pydata.org/pandas-docs/stable/user_guide/indexing.html#returning-a-view-versus-a-copy\n",
      "  X_train['violation_code'] = transform(le_violation, X_train['violation_code'])\n",
      "<ipython-input-768-91ecabc93ec9>:17: SettingWithCopyWarning: \n",
      "A value is trying to be set on a copy of a slice from a DataFrame.\n",
      "Try using .loc[row_indexer,col_indexer] = value instead\n",
      "\n",
      "See the caveats in the documentation: https://pandas.pydata.org/pandas-docs/stable/user_guide/indexing.html#returning-a-view-versus-a-copy\n",
      "  X_test['violation_code'] = transform(le_violation, X_test['violation_code'])\n"
     ]
    },
    {
     "name": "stdout",
     "output_type": "stream",
     "text": [
      "Cross-validation accuracy:  0.9383428256476207\n",
      "Cross-validation precision:  0.7458625329349013\n",
      "Cross-validation recall:  0.16162748769156093\n",
      "Cross-validation f1:  0.277596153915863\n",
      "Cross-validation AUC:  0.7933453550870432\n",
      "Accuracy:  0.9393004115226338\n",
      "Precision:  0.8229665071770335\n",
      "Recall:  0.17898022892819979\n",
      "F1:  0.294017094017094\n"
     ]
    },
    {
     "data": {
      "text/plain": [
       "0.9374425868087451"
      ]
     },
     "execution_count": 769,
     "metadata": {},
     "output_type": "execute_result"
    }
   ],
   "source": [
    "blight_random_forest_model()"
   ]
  },
  {
   "cell_type": "code",
   "execution_count": null,
   "metadata": {},
   "outputs": [],
   "source": []
  },
  {
   "cell_type": "code",
   "execution_count": null,
   "metadata": {},
   "outputs": [],
   "source": []
  },
  {
   "cell_type": "code",
   "execution_count": null,
   "metadata": {},
   "outputs": [],
   "source": []
  },
  {
   "cell_type": "code",
   "execution_count": null,
   "metadata": {},
   "outputs": [],
   "source": []
  },
  {
   "cell_type": "code",
   "execution_count": null,
   "metadata": {},
   "outputs": [],
   "source": []
  },
  {
   "cell_type": "code",
   "execution_count": 142,
   "metadata": {},
   "outputs": [
    {
     "name": "stderr",
     "output_type": "stream",
     "text": [
      "C:\\Users\\Issamu Umeda\\Anaconda3\\lib\\site-packages\\IPython\\core\\interactiveshell.py:3146: DtypeWarning: Columns (11,12,31) have mixed types.Specify dtype option on import or set low_memory=False.\n",
      "  has_raised = await self.run_ast_nodes(code_ast.body, cell_name,\n"
     ]
    },
    {
     "data": {
      "text/html": [
       "<div>\n",
       "<style scoped>\n",
       "    .dataframe tbody tr th:only-of-type {\n",
       "        vertical-align: middle;\n",
       "    }\n",
       "\n",
       "    .dataframe tbody tr th {\n",
       "        vertical-align: top;\n",
       "    }\n",
       "\n",
       "    .dataframe thead th {\n",
       "        text-align: right;\n",
       "    }\n",
       "</style>\n",
       "<table border=\"1\" class=\"dataframe\">\n",
       "  <thead>\n",
       "    <tr style=\"text-align: right;\">\n",
       "      <th></th>\n",
       "      <th>ticket_id</th>\n",
       "      <th>agency_name</th>\n",
       "      <th>inspector_name</th>\n",
       "      <th>violator_name</th>\n",
       "      <th>violation_street_number</th>\n",
       "      <th>violation_street_name</th>\n",
       "      <th>violation_zip_code</th>\n",
       "      <th>mailing_address_str_number</th>\n",
       "      <th>mailing_address_str_name</th>\n",
       "      <th>city</th>\n",
       "      <th>...</th>\n",
       "      <th>violation_description</th>\n",
       "      <th>disposition</th>\n",
       "      <th>fine_amount</th>\n",
       "      <th>admin_fee</th>\n",
       "      <th>state_fee</th>\n",
       "      <th>late_fee</th>\n",
       "      <th>discount_amount</th>\n",
       "      <th>clean_up_cost</th>\n",
       "      <th>judgment_amount</th>\n",
       "      <th>grafitti_status</th>\n",
       "    </tr>\n",
       "  </thead>\n",
       "  <tbody>\n",
       "    <tr>\n",
       "      <th>0</th>\n",
       "      <td>22056</td>\n",
       "      <td>Buildings, Safety Engineering &amp; Env Department</td>\n",
       "      <td>Sims, Martinzie</td>\n",
       "      <td>INVESTMENT INC., MIDWEST MORTGAGE</td>\n",
       "      <td>2900.0</td>\n",
       "      <td>TYLER</td>\n",
       "      <td>NaN</td>\n",
       "      <td>3.0</td>\n",
       "      <td>S. WICKER</td>\n",
       "      <td>CHICAGO</td>\n",
       "      <td>...</td>\n",
       "      <td>Failure of owner to obtain certificate of comp...</td>\n",
       "      <td>Responsible by Default</td>\n",
       "      <td>250.0</td>\n",
       "      <td>20.0</td>\n",
       "      <td>10.0</td>\n",
       "      <td>25.0</td>\n",
       "      <td>0.0</td>\n",
       "      <td>0.0</td>\n",
       "      <td>305.0</td>\n",
       "      <td>NaN</td>\n",
       "    </tr>\n",
       "    <tr>\n",
       "      <th>1</th>\n",
       "      <td>27586</td>\n",
       "      <td>Buildings, Safety Engineering &amp; Env Department</td>\n",
       "      <td>Williams, Darrin</td>\n",
       "      <td>Michigan, Covenant House</td>\n",
       "      <td>4311.0</td>\n",
       "      <td>CENTRAL</td>\n",
       "      <td>NaN</td>\n",
       "      <td>2959.0</td>\n",
       "      <td>Martin Luther King</td>\n",
       "      <td>Detroit</td>\n",
       "      <td>...</td>\n",
       "      <td>Failed To Secure Permit For Lawful Use Of Buil...</td>\n",
       "      <td>Responsible by Determination</td>\n",
       "      <td>750.0</td>\n",
       "      <td>20.0</td>\n",
       "      <td>10.0</td>\n",
       "      <td>75.0</td>\n",
       "      <td>0.0</td>\n",
       "      <td>0.0</td>\n",
       "      <td>855.0</td>\n",
       "      <td>NaN</td>\n",
       "    </tr>\n",
       "    <tr>\n",
       "      <th>2</th>\n",
       "      <td>22062</td>\n",
       "      <td>Buildings, Safety Engineering &amp; Env Department</td>\n",
       "      <td>Sims, Martinzie</td>\n",
       "      <td>SANDERS, DERRON</td>\n",
       "      <td>1449.0</td>\n",
       "      <td>LONGFELLOW</td>\n",
       "      <td>NaN</td>\n",
       "      <td>23658.0</td>\n",
       "      <td>P.O. BOX</td>\n",
       "      <td>DETROIT</td>\n",
       "      <td>...</td>\n",
       "      <td>Failure of owner to obtain certificate of comp...</td>\n",
       "      <td>Not responsible by Dismissal</td>\n",
       "      <td>250.0</td>\n",
       "      <td>0.0</td>\n",
       "      <td>0.0</td>\n",
       "      <td>0.0</td>\n",
       "      <td>0.0</td>\n",
       "      <td>0.0</td>\n",
       "      <td>0.0</td>\n",
       "      <td>NaN</td>\n",
       "    </tr>\n",
       "    <tr>\n",
       "      <th>3</th>\n",
       "      <td>22084</td>\n",
       "      <td>Buildings, Safety Engineering &amp; Env Department</td>\n",
       "      <td>Sims, Martinzie</td>\n",
       "      <td>MOROSI, MIKE</td>\n",
       "      <td>1441.0</td>\n",
       "      <td>LONGFELLOW</td>\n",
       "      <td>NaN</td>\n",
       "      <td>5.0</td>\n",
       "      <td>ST. CLAIR</td>\n",
       "      <td>DETROIT</td>\n",
       "      <td>...</td>\n",
       "      <td>Failure of owner to obtain certificate of comp...</td>\n",
       "      <td>Not responsible by City Dismissal</td>\n",
       "      <td>250.0</td>\n",
       "      <td>0.0</td>\n",
       "      <td>0.0</td>\n",
       "      <td>0.0</td>\n",
       "      <td>0.0</td>\n",
       "      <td>0.0</td>\n",
       "      <td>0.0</td>\n",
       "      <td>NaN</td>\n",
       "    </tr>\n",
       "    <tr>\n",
       "      <th>4</th>\n",
       "      <td>22093</td>\n",
       "      <td>Buildings, Safety Engineering &amp; Env Department</td>\n",
       "      <td>Sims, Martinzie</td>\n",
       "      <td>NATHANIEL, NEAL</td>\n",
       "      <td>2449.0</td>\n",
       "      <td>CHURCHILL</td>\n",
       "      <td>NaN</td>\n",
       "      <td>7449.0</td>\n",
       "      <td>CHURCHILL</td>\n",
       "      <td>DETROIT</td>\n",
       "      <td>...</td>\n",
       "      <td>Failure of owner to obtain certificate of comp...</td>\n",
       "      <td>Not responsible by Dismissal</td>\n",
       "      <td>250.0</td>\n",
       "      <td>0.0</td>\n",
       "      <td>0.0</td>\n",
       "      <td>0.0</td>\n",
       "      <td>0.0</td>\n",
       "      <td>0.0</td>\n",
       "      <td>0.0</td>\n",
       "      <td>NaN</td>\n",
       "    </tr>\n",
       "    <tr>\n",
       "      <th>...</th>\n",
       "      <td>...</td>\n",
       "      <td>...</td>\n",
       "      <td>...</td>\n",
       "      <td>...</td>\n",
       "      <td>...</td>\n",
       "      <td>...</td>\n",
       "      <td>...</td>\n",
       "      <td>...</td>\n",
       "      <td>...</td>\n",
       "      <td>...</td>\n",
       "      <td>...</td>\n",
       "      <td>...</td>\n",
       "      <td>...</td>\n",
       "      <td>...</td>\n",
       "      <td>...</td>\n",
       "      <td>...</td>\n",
       "      <td>...</td>\n",
       "      <td>...</td>\n",
       "      <td>...</td>\n",
       "      <td>...</td>\n",
       "      <td>...</td>\n",
       "    </tr>\n",
       "    <tr>\n",
       "      <th>250301</th>\n",
       "      <td>325555</td>\n",
       "      <td>Buildings, Safety Engineering &amp; Env Department</td>\n",
       "      <td>Bush, Wesley</td>\n",
       "      <td>WESTGATE TERRACE APARTMENTS LLC</td>\n",
       "      <td>10701.0</td>\n",
       "      <td>SANTA MARIA</td>\n",
       "      <td>NaN</td>\n",
       "      <td>1715.0</td>\n",
       "      <td>MEYERS</td>\n",
       "      <td>DETROIT</td>\n",
       "      <td>...</td>\n",
       "      <td>Fail to comply with an Emergency or imminent d...</td>\n",
       "      <td>Not responsible by City Dismissal</td>\n",
       "      <td>1000.0</td>\n",
       "      <td>0.0</td>\n",
       "      <td>0.0</td>\n",
       "      <td>0.0</td>\n",
       "      <td>0.0</td>\n",
       "      <td>0.0</td>\n",
       "      <td>0.0</td>\n",
       "      <td>NaN</td>\n",
       "    </tr>\n",
       "    <tr>\n",
       "      <th>250302</th>\n",
       "      <td>325557</td>\n",
       "      <td>Buildings, Safety Engineering &amp; Env Department</td>\n",
       "      <td>Bush, Wesley</td>\n",
       "      <td>WESTGATE TERRACE APARTMENTS LLC</td>\n",
       "      <td>10701.0</td>\n",
       "      <td>MEYERS RD</td>\n",
       "      <td>NaN</td>\n",
       "      <td>1715.0</td>\n",
       "      <td>MEYERS</td>\n",
       "      <td>DETROIT</td>\n",
       "      <td>...</td>\n",
       "      <td>Fail to comply with an Emergency or imminent d...</td>\n",
       "      <td>Not responsible by City Dismissal</td>\n",
       "      <td>1000.0</td>\n",
       "      <td>0.0</td>\n",
       "      <td>0.0</td>\n",
       "      <td>0.0</td>\n",
       "      <td>0.0</td>\n",
       "      <td>0.0</td>\n",
       "      <td>0.0</td>\n",
       "      <td>NaN</td>\n",
       "    </tr>\n",
       "    <tr>\n",
       "      <th>250303</th>\n",
       "      <td>325562</td>\n",
       "      <td>Buildings, Safety Engineering &amp; Env Department</td>\n",
       "      <td>Bush, Wesley</td>\n",
       "      <td>WESTGATE TERRACE APARTMENTS LLC</td>\n",
       "      <td>10701.0</td>\n",
       "      <td>MEYERS RD</td>\n",
       "      <td>NaN</td>\n",
       "      <td>1715.0</td>\n",
       "      <td>MEYERS</td>\n",
       "      <td>DETROIT</td>\n",
       "      <td>...</td>\n",
       "      <td>Fail to comply with an Emergency or imminent d...</td>\n",
       "      <td>Not responsible by City Dismissal</td>\n",
       "      <td>1000.0</td>\n",
       "      <td>0.0</td>\n",
       "      <td>0.0</td>\n",
       "      <td>0.0</td>\n",
       "      <td>0.0</td>\n",
       "      <td>0.0</td>\n",
       "      <td>0.0</td>\n",
       "      <td>NaN</td>\n",
       "    </tr>\n",
       "    <tr>\n",
       "      <th>250304</th>\n",
       "      <td>325559</td>\n",
       "      <td>Buildings, Safety Engineering &amp; Env Department</td>\n",
       "      <td>Bush, Wesley</td>\n",
       "      <td>WESTGATE TERRACE APARTMENTS LLC</td>\n",
       "      <td>10701.0</td>\n",
       "      <td>MEYERS RD</td>\n",
       "      <td>NaN</td>\n",
       "      <td>1715.0</td>\n",
       "      <td>MEYERS</td>\n",
       "      <td>DETROIT</td>\n",
       "      <td>...</td>\n",
       "      <td>Fail to comply with an Emergency or imminent d...</td>\n",
       "      <td>Not responsible by City Dismissal</td>\n",
       "      <td>1000.0</td>\n",
       "      <td>0.0</td>\n",
       "      <td>0.0</td>\n",
       "      <td>0.0</td>\n",
       "      <td>0.0</td>\n",
       "      <td>0.0</td>\n",
       "      <td>0.0</td>\n",
       "      <td>NaN</td>\n",
       "    </tr>\n",
       "    <tr>\n",
       "      <th>250305</th>\n",
       "      <td>325561</td>\n",
       "      <td>Buildings, Safety Engineering &amp; Env Department</td>\n",
       "      <td>Bush, Wesley</td>\n",
       "      <td>WESTGATE TERRACE APARTMENTS LLC</td>\n",
       "      <td>10701.0</td>\n",
       "      <td>MEYERS RD</td>\n",
       "      <td>NaN</td>\n",
       "      <td>1715.0</td>\n",
       "      <td>MEYERS</td>\n",
       "      <td>DETROIT</td>\n",
       "      <td>...</td>\n",
       "      <td>Fail to comply with an Emergency or imminent d...</td>\n",
       "      <td>Not responsible by City Dismissal</td>\n",
       "      <td>1000.0</td>\n",
       "      <td>0.0</td>\n",
       "      <td>0.0</td>\n",
       "      <td>0.0</td>\n",
       "      <td>0.0</td>\n",
       "      <td>0.0</td>\n",
       "      <td>0.0</td>\n",
       "      <td>NaN</td>\n",
       "    </tr>\n",
       "  </tbody>\n",
       "</table>\n",
       "<p>250306 rows × 27 columns</p>\n",
       "</div>"
      ],
      "text/plain": [
       "        ticket_id                                     agency_name  \\\n",
       "0           22056  Buildings, Safety Engineering & Env Department   \n",
       "1           27586  Buildings, Safety Engineering & Env Department   \n",
       "2           22062  Buildings, Safety Engineering & Env Department   \n",
       "3           22084  Buildings, Safety Engineering & Env Department   \n",
       "4           22093  Buildings, Safety Engineering & Env Department   \n",
       "...           ...                                             ...   \n",
       "250301     325555  Buildings, Safety Engineering & Env Department   \n",
       "250302     325557  Buildings, Safety Engineering & Env Department   \n",
       "250303     325562  Buildings, Safety Engineering & Env Department   \n",
       "250304     325559  Buildings, Safety Engineering & Env Department   \n",
       "250305     325561  Buildings, Safety Engineering & Env Department   \n",
       "\n",
       "          inspector_name                      violator_name  \\\n",
       "0        Sims, Martinzie  INVESTMENT INC., MIDWEST MORTGAGE   \n",
       "1       Williams, Darrin           Michigan, Covenant House   \n",
       "2        Sims, Martinzie                    SANDERS, DERRON   \n",
       "3        Sims, Martinzie                       MOROSI, MIKE   \n",
       "4        Sims, Martinzie                    NATHANIEL, NEAL   \n",
       "...                  ...                                ...   \n",
       "250301      Bush, Wesley    WESTGATE TERRACE APARTMENTS LLC   \n",
       "250302      Bush, Wesley    WESTGATE TERRACE APARTMENTS LLC   \n",
       "250303      Bush, Wesley    WESTGATE TERRACE APARTMENTS LLC   \n",
       "250304      Bush, Wesley    WESTGATE TERRACE APARTMENTS LLC   \n",
       "250305      Bush, Wesley    WESTGATE TERRACE APARTMENTS LLC   \n",
       "\n",
       "        violation_street_number violation_street_name  violation_zip_code  \\\n",
       "0                        2900.0                 TYLER                 NaN   \n",
       "1                        4311.0               CENTRAL                 NaN   \n",
       "2                        1449.0            LONGFELLOW                 NaN   \n",
       "3                        1441.0            LONGFELLOW                 NaN   \n",
       "4                        2449.0             CHURCHILL                 NaN   \n",
       "...                         ...                   ...                 ...   \n",
       "250301                  10701.0           SANTA MARIA                 NaN   \n",
       "250302                  10701.0             MEYERS RD                 NaN   \n",
       "250303                  10701.0             MEYERS RD                 NaN   \n",
       "250304                  10701.0             MEYERS RD                 NaN   \n",
       "250305                  10701.0             MEYERS RD                 NaN   \n",
       "\n",
       "        mailing_address_str_number mailing_address_str_name     city  ...  \\\n",
       "0                              3.0                S. WICKER  CHICAGO  ...   \n",
       "1                           2959.0       Martin Luther King  Detroit  ...   \n",
       "2                          23658.0                 P.O. BOX  DETROIT  ...   \n",
       "3                              5.0                ST. CLAIR  DETROIT  ...   \n",
       "4                           7449.0                CHURCHILL  DETROIT  ...   \n",
       "...                            ...                      ...      ...  ...   \n",
       "250301                      1715.0                   MEYERS  DETROIT  ...   \n",
       "250302                      1715.0                   MEYERS  DETROIT  ...   \n",
       "250303                      1715.0                   MEYERS  DETROIT  ...   \n",
       "250304                      1715.0                   MEYERS  DETROIT  ...   \n",
       "250305                      1715.0                   MEYERS  DETROIT  ...   \n",
       "\n",
       "                                    violation_description  \\\n",
       "0       Failure of owner to obtain certificate of comp...   \n",
       "1       Failed To Secure Permit For Lawful Use Of Buil...   \n",
       "2       Failure of owner to obtain certificate of comp...   \n",
       "3       Failure of owner to obtain certificate of comp...   \n",
       "4       Failure of owner to obtain certificate of comp...   \n",
       "...                                                   ...   \n",
       "250301  Fail to comply with an Emergency or imminent d...   \n",
       "250302  Fail to comply with an Emergency or imminent d...   \n",
       "250303  Fail to comply with an Emergency or imminent d...   \n",
       "250304  Fail to comply with an Emergency or imminent d...   \n",
       "250305  Fail to comply with an Emergency or imminent d...   \n",
       "\n",
       "                              disposition fine_amount admin_fee state_fee  \\\n",
       "0                  Responsible by Default       250.0      20.0      10.0   \n",
       "1            Responsible by Determination       750.0      20.0      10.0   \n",
       "2            Not responsible by Dismissal       250.0       0.0       0.0   \n",
       "3       Not responsible by City Dismissal       250.0       0.0       0.0   \n",
       "4            Not responsible by Dismissal       250.0       0.0       0.0   \n",
       "...                                   ...         ...       ...       ...   \n",
       "250301  Not responsible by City Dismissal      1000.0       0.0       0.0   \n",
       "250302  Not responsible by City Dismissal      1000.0       0.0       0.0   \n",
       "250303  Not responsible by City Dismissal      1000.0       0.0       0.0   \n",
       "250304  Not responsible by City Dismissal      1000.0       0.0       0.0   \n",
       "250305  Not responsible by City Dismissal      1000.0       0.0       0.0   \n",
       "\n",
       "       late_fee discount_amount clean_up_cost judgment_amount  grafitti_status  \n",
       "0          25.0             0.0           0.0           305.0              NaN  \n",
       "1          75.0             0.0           0.0           855.0              NaN  \n",
       "2           0.0             0.0           0.0             0.0              NaN  \n",
       "3           0.0             0.0           0.0             0.0              NaN  \n",
       "4           0.0             0.0           0.0             0.0              NaN  \n",
       "...         ...             ...           ...             ...              ...  \n",
       "250301      0.0             0.0           0.0             0.0              NaN  \n",
       "250302      0.0             0.0           0.0             0.0              NaN  \n",
       "250303      0.0             0.0           0.0             0.0              NaN  \n",
       "250304      0.0             0.0           0.0             0.0              NaN  \n",
       "250305      0.0             0.0           0.0             0.0              NaN  \n",
       "\n",
       "[250306 rows x 27 columns]"
      ]
     },
     "execution_count": 142,
     "metadata": {},
     "output_type": "execute_result"
    }
   ],
   "source": [
    "df_train = pd.read_csv('csv/train.csv', encoding='ISO-8859-1')\n",
    "columns_drop = ['payment_amount', 'payment_date', 'payment_status', 'balance_due', 'collection_status', 'compliance', 'compliance_detail']\n",
    "X = df_train.drop(columns_drop, axis=1)\n",
    "X"
   ]
  },
  {
   "cell_type": "code",
   "execution_count": 396,
   "metadata": {},
   "outputs": [
    {
     "name": "stderr",
     "output_type": "stream",
     "text": [
      "<ipython-input-390-370c4fd3a513>:3: UserWarning: Boolean Series key will be reindexed to match DataFrame index.\n",
      "  df_train = df_train[(df['city'].str.lower() == 'detroit') & (~df_train['compliance_detail'].str.contains('not responsible')) & (~df['compliance_detail'].str.contains('compliant by no fine'))].set_index('ticket_id')\n",
      "<ipython-input-396-b9444dc98358>:14: SettingWithCopyWarning: \n",
      "A value is trying to be set on a copy of a slice from a DataFrame.\n",
      "Try using .loc[row_indexer,col_indexer] = value instead\n",
      "\n",
      "See the caveats in the documentation: https://pandas.pydata.org/pandas-docs/stable/user_guide/indexing.html#returning-a-view-versus-a-copy\n",
      "  X_train['disposition'] = transform(le_disposition, X_train['disposition'])\n",
      "<ipython-input-396-b9444dc98358>:15: SettingWithCopyWarning: \n",
      "A value is trying to be set on a copy of a slice from a DataFrame.\n",
      "Try using .loc[row_indexer,col_indexer] = value instead\n",
      "\n",
      "See the caveats in the documentation: https://pandas.pydata.org/pandas-docs/stable/user_guide/indexing.html#returning-a-view-versus-a-copy\n",
      "  X_test['disposition'] = transform(le_disposition, X_test['disposition'])\n"
     ]
    },
    {
     "data": {
      "text/plain": [
       "0.7896370869721979"
      ]
     },
     "execution_count": 396,
     "metadata": {},
     "output_type": "execute_result"
    }
   ],
   "source": [
    "from sklearn.ensemble import RandomForestClassifier\n",
    "\n",
    "# Prepare the datasets\n",
    "columns = ['disposition', 'fine_amount', 'admin_fee', 'state_fee', 'late_fee', 'discount_amount', \n",
    "               'clean_up_cost', 'judgment_amount']\n",
    "columns = ['disposition', 'judgment_amount']\n",
    "df_train = pd.read_csv('csv/train.csv', encoding='ISO-8859-1')\n",
    "columns_drop = ['payment_amount', 'payment_date', 'payment_status', 'balance_due', 'collection_status', 'compliance', 'compliance_detail']\n",
    "X, y = prepare_train_dataset('csv/train.csv', columns)\n",
    "X_train, X_test, y_train, y_test = train_test_split(X, y)\n",
    "\n",
    "# Prepare the LabelEncoder\n",
    "le_disposition = LabelEncoder().fit(list(X_train['disposition']) + ['Unknown'])\n",
    "X_train['disposition'] = transform(le_disposition, X_train['disposition'])\n",
    "X_test['disposition'] = transform(le_disposition, X_test['disposition'])\n",
    "\n",
    "clf = RandomForestClassifier().fit(X_train, y_train)\n",
    "y_pred = clf.predict_proba(X_test)[:,1]\n",
    "\n",
    "roc_auc_score(y_test, y_pred)"
   ]
  },
  {
   "cell_type": "code",
   "execution_count": null,
   "metadata": {},
   "outputs": [],
   "source": []
  }
 ],
 "metadata": {
  "coursera": {
   "course_slug": "python-machine-learning",
   "graded_item_id": "nNS8l",
   "launcher_item_id": "yWWk7",
   "part_id": "w8BSS"
  },
  "kernelspec": {
   "display_name": "Python 3",
   "language": "python",
   "name": "python3"
  },
  "language_info": {
   "codemirror_mode": {
    "name": "ipython",
    "version": 3
   },
   "file_extension": ".py",
   "mimetype": "text/x-python",
   "name": "python",
   "nbconvert_exporter": "python",
   "pygments_lexer": "ipython3",
   "version": "3.8.5"
  }
 },
 "nbformat": 4,
 "nbformat_minor": 2
}
