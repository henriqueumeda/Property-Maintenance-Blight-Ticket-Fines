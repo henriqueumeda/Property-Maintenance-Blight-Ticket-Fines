{
 "cells": [
  {
   "cell_type": "markdown",
   "metadata": {},
   "source": [
    "# Understanding and Predicting Property Maintenance Fines\n",
    "\n",
    "This project is based on a data challenge from the Michigan Data Science Team ([MDST](http://midas.umich.edu/mdst/)). \n",
    "\n",
    "The Michigan Data Science Team ([MDST](http://midas.umich.edu/mdst/)) and the Michigan Student Symposium for Interdisciplinary Statistical Sciences ([MSSISS](https://sites.lsa.umich.edu/mssiss/)) have partnered with the City of Detroit to help solve one of the most pressing problems facing Detroit - blight. [Blight violations](http://www.detroitmi.gov/How-Do-I/Report/Blight-Complaint-FAQs) are issued by the city to individuals who allow their properties to remain in a deteriorated condition. Every year, the city of Detroit issues millions of dollars in fines to residents and every year, many of these fines remain unpaid. Enforcing unpaid blight fines is a costly and tedious process, so the city wants to know: how can we increase blight ticket compliance?\n",
    "\n",
    "The first step in answering this question is understanding when and why a resident might fail to comply with a blight ticket. This is where predictive modeling comes in. For this assignment, your task is to predict whether a given blight ticket will be paid on time.\n",
    "\n",
    "All data for this assignment has been provided to us through the [Detroit Open Data Portal](https://data.detroitmi.gov/). Nonetheless, we encourage you to look into data from other Detroit datasets to help inform feature creation and model selection. We recommend taking a look at the following related datasets:\n",
    "\n",
    "* [Building Permits](https://data.detroitmi.gov/Property-Parcels/Building-Permits/xw2a-a7tf)\n",
    "* [Trades Permits](https://data.detroitmi.gov/Property-Parcels/Trades-Permits/635b-dsgv)\n",
    "* [Improve Detroit: Submitted Issues](https://data.detroitmi.gov/Government/Improve-Detroit-Submitted-Issues/fwz3-w3yn)\n",
    "* [DPD: Citizen Complaints](https://data.detroitmi.gov/Public-Safety/DPD-Citizen-Complaints-2016/kahe-efs3)\n",
    "* [Parcel Map](https://data.detroitmi.gov/Property-Parcels/Parcel-Map/fxkw-udwf)\n",
    "\n",
    "___\n",
    "\n",
    "We provide you with two data files for use in training and validating your models: train.csv and test.csv. Each row in these two files corresponds to a single blight ticket, and includes information about when, why, and to whom each ticket was issued. The target variable is compliance, which is True if the ticket was paid early, on time, or within one month of the hearing data, False if the ticket was paid after the hearing date or not at all, and Null if the violator was found not responsible. Compliance, as well as a handful of other variables that will not be available at test-time, are only included in train.csv.\n",
    "\n",
    "Note: All tickets where the violators were found not responsible are not considered during evaluation. They are included in the training set as an additional source of data for visualization, and to enable unsupervised and semi-supervised approaches. However, they are not included in the test set.\n",
    "\n",
    "<br>\n",
    "\n",
    "**File descriptions** (Use only this data for training your model!)\n",
    "\n",
    "    readonly/train.csv - the training set (all tickets issued 2004-2011)\n",
    "    readonly/test.csv - the test set (all tickets issued 2012-2016)\n",
    "    readonly/addresses.csv & readonly/latlons.csv - mapping from ticket id to addresses, and from addresses to lat/lon coordinates. \n",
    "     Note: misspelled addresses may be incorrectly geolocated.\n",
    "\n",
    "<br>\n",
    "\n",
    "**Data fields**\n",
    "\n",
    "train.csv & test.csv\n",
    "\n",
    "    ticket_id - unique identifier for tickets\n",
    "    agency_name - Agency that issued the ticket\n",
    "    inspector_name - Name of inspector that issued the ticket\n",
    "    violator_name - Name of the person/organization that the ticket was issued to\n",
    "    violation_street_number, violation_street_name, violation_zip_code - Address where the violation occurred\n",
    "    mailing_address_str_number, mailing_address_str_name, city, state, zip_code, non_us_str_code, country - Mailing address of the violator\n",
    "    ticket_issued_date - Date and time the ticket was issued\n",
    "    hearing_date - Date and time the violator's hearing was scheduled\n",
    "    violation_code, violation_description - Type of violation\n",
    "    disposition - Judgment and judgement type\n",
    "    fine_amount - Violation fine amount, excluding fees\n",
    "    admin_fee - $20 fee assigned to responsible judgments\n",
    "state_fee - $10 fee assigned to responsible judgments\n",
    "    late_fee - 10% fee assigned to responsible judgments\n",
    "    discount_amount - discount applied, if any\n",
    "    clean_up_cost - DPW clean-up or graffiti removal cost\n",
    "    judgment_amount - Sum of all fines and fees\n",
    "    grafitti_status - Flag for graffiti violations\n",
    "    \n",
    "train.csv only\n",
    "\n",
    "    payment_amount - Amount paid, if any\n",
    "    payment_date - Date payment was made, if it was received\n",
    "    payment_status - Current payment status as of Feb 1 2017\n",
    "    balance_due - Fines and fees still owed\n",
    "    collection_status - Flag for payments in collections\n",
    "    compliance [target variable for prediction] \n",
    "     Null = Not responsible\n",
    "     0 = Responsible, non-compliant\n",
    "     1 = Responsible, compliant\n",
    "    compliance_detail - More information on why each ticket was marked compliant or non-compliant\n",
    "\n",
    "\n",
    "___\n",
    "\n",
    "## Evaluation\n",
    "\n",
    "Your predictions will be given as the probability that the corresponding blight ticket will be paid on time.\n",
    "\n",
    "The evaluation metric for this assignment is the Area Under the ROC Curve (AUC). \n",
    "___\n",
    "\n",
    "Create a function that trains a model to predict blight ticket compliance in Detroit using `train.csv`. Using this model, return a series of length 61001 with the data being the probability that each corresponding ticket from `test.csv` will be paid, and the index being the ticket_id.\n",
    "\n",
    "Example:\n",
    "\n",
    "    ticket_id\n",
    "       284932    0.531842\n",
    "       285362    0.401958\n",
    "       285361    0.105928\n",
    "       285338    0.018572\n",
    "                 ...\n",
    "       376499    0.208567\n",
    "       376500    0.818759\n",
    "       369851    0.018528\n",
    "       Name: compliance, dtype: float32"
   ]
  },
  {
   "cell_type": "markdown",
   "metadata": {},
   "source": [
    "# Import the python libraries"
   ]
  },
  {
   "cell_type": "code",
   "execution_count": 75,
   "metadata": {},
   "outputs": [],
   "source": [
    "import numpy as np\n",
    "import pandas as pd\n",
    "import seaborn as sn\n",
    "import matplotlib.pyplot as plt\n",
    "import matplotlib.cm as cm\n",
    "import matplotlib.patches as mpatches\n",
    "import matplotlib.ticker as mtick\n",
    "import graphviz\n",
    "from matplotlib.colors import ListedColormap, BoundaryNorm\n",
    "from sklearn import neighbors\n",
    "from sklearn.model_selection import train_test_split, cross_val_score\n",
    "from sklearn.metrics import roc_curve, auc, roc_auc_score, accuracy_score, precision_score, recall_score, f1_score\n",
    "from sklearn.preprocessing import LabelEncoder\n",
    "from sklearn.tree import export_graphviz"
   ]
  },
  {
   "cell_type": "markdown",
   "metadata": {},
   "source": [
    "# Helper Functions"
   ]
  },
  {
   "cell_type": "markdown",
   "metadata": {},
   "source": [
    "## Datasets"
   ]
  },
  {
   "cell_type": "code",
   "execution_count": 76,
   "metadata": {},
   "outputs": [],
   "source": [
    "def prepare_train_dataset(file, columns):\n",
    "    df_train = pd.read_csv(file, encoding='ISO-8859-1', low_memory=False)\n",
    "    df_train = df_train[(df['city'].str.lower() == 'detroit') & (~df_train['compliance_detail'].str.contains('not responsible')) & (~df['compliance_detail'].str.contains('compliant by no fine'))].set_index('ticket_id')\n",
    "    X = df_train[columns]\n",
    "    y = df_train['compliance']\n",
    "\n",
    "    return X,y"
   ]
  },
  {
   "cell_type": "code",
   "execution_count": 77,
   "metadata": {},
   "outputs": [],
   "source": [
    "def prepare_test_dataset(file, columns):\n",
    "    df_test = pd.read_csv(file, encoding='ISO-8859-1', low_memory=False)\n",
    "    df_test = df_test.fillna(0).set_index('ticket_id')\n",
    "    X_pred = df_test[columns]\n",
    "\n",
    "    return X_pred"
   ]
  },
  {
   "cell_type": "code",
   "execution_count": 78,
   "metadata": {},
   "outputs": [],
   "source": [
    "def transform(le, data_list):\n",
    "    \"\"\"\n",
    "    This will transform the data_list to id list where the new values get assigned to Unknown class\n",
    "    :param data_list:\n",
    "    :return:\n",
    "    \"\"\"\n",
    "    new_data_list = list(data_list)\n",
    "    for unique_item in np.unique(data_list):\n",
    "        if unique_item not in le.classes_:\n",
    "            new_data_list = ['Unknown' if x==unique_item else x for x in new_data_list]\n",
    "\n",
    "    return le.transform(new_data_list)"
   ]
  },
  {
   "cell_type": "markdown",
   "metadata": {},
   "source": [
    "## Plots"
   ]
  },
  {
   "cell_type": "code",
   "execution_count": 79,
   "metadata": {},
   "outputs": [],
   "source": [
    "def define_percentage_compliance(df, field):\n",
    "    compliance={}\n",
    "    compliance_values = [0,1]\n",
    "    for value in compliance_values:\n",
    "        compliance[value] = []\n",
    "    total_people = df[field].count()\n",
    "\n",
    "    compliance[1] = df[df['compliance'] == 1][field].value_counts()\n",
    "    compliance[0] = df[df['compliance'] == 0][field].value_counts()\n",
    "    \n",
    "    return compliance"
   ]
  },
  {
   "cell_type": "code",
   "execution_count": 80,
   "metadata": {},
   "outputs": [],
   "source": [
    "def define_percentage_compliance_folds(df, field, compliance_field='compliance', compliance_values=[0,1], folds=[50, 100, 150, 200, 250, 300, 350, 'rest']):\n",
    "    compliance={}\n",
    "    for value in compliance_values:\n",
    "        compliance[value] = []\n",
    "        \n",
    "    total_people = df[field].count()\n",
    "    \n",
    "    for i in range(len(folds)):\n",
    "        if folds[i] == 'rest':\n",
    "            for value in compliance_values:\n",
    "                compliance[value].append(df[(df[field] > folds[i-1]) & (df[compliance_field] == value)][field].count())\n",
    "        elif i == 0:\n",
    "            for value in compliance_values:\n",
    "                compliance[value].append(df[(df[field] <= folds[i]) & (df[compliance_field] == value)][field].count())\n",
    "        else:\n",
    "            for value in compliance_values:\n",
    "                compliance[value].append(df[(df[field] > folds[i-1]) & (df[field] <= folds[i]) & (df[compliance_field] == value)][field].count())\n",
    "\n",
    "    for key, values in compliance.items():\n",
    "        compliance[key] = [element/total_people for element in values]\n",
    "    \n",
    "    return compliance"
   ]
  },
  {
   "cell_type": "code",
   "execution_count": 81,
   "metadata": {},
   "outputs": [],
   "source": [
    "def plot_percent_compliance_bar_folds_chart(y, w=10, folds=[50, 100, 150, 200, 250, 300, 350, 400], folds_ticks=['0~50', '50~100', '100~150', '150~200', '200~250', '250~300', '300~350', '>350'], legend=['Compliant', 'Not Compliant']):\n",
    "    plt.figure(figsize=(12,6))\n",
    "    ax = plt.subplot(111)\n",
    "    ax.bar([element - w/2 for element in folds], y[1], width=w) \n",
    "    ax.bar([element + w/2 for element in folds], y[0], width=w) \n",
    "    \n",
    "    ax.yaxis.set_major_formatter(mtick.PercentFormatter(1.0))\n",
    "    plt.xticks(folds, folds_ticks)\n",
    "    plt.legend(legend, loc='best', framealpha=0.0)\n",
    "    plt.show()"
   ]
  },
  {
   "cell_type": "code",
   "execution_count": 82,
   "metadata": {},
   "outputs": [],
   "source": [
    "def plot_percent_compliance_bar_chart(field, xlim=(), ylim=(), legend=['Compliant', 'Not Compliant']):\n",
    "    compliance = define_percentage_compliance(df, field)\n",
    "    plt.figure(figsize=(12,6))\n",
    "    ax = plt.subplot()\n",
    "    w = 1\n",
    "    ax.bar([element - w/2 for element in list(compliance[1].index)], compliance[1].apply(lambda x: x/total_people), width=w) \n",
    "    ax.bar([element + w/2 for element in list(compliance[0].index)], compliance[0].apply(lambda x: x/total_people), width=w)\n",
    "\n",
    "    \n",
    "    if len(xlim) > 0:\n",
    "        plt.xlim(xlim[0], xlim[1])\n",
    "    \n",
    "    if len(ylim) > 0:\n",
    "        plt.ylim(ylim[0], ylim[1])\n",
    "    \n",
    "    ax.yaxis.set_major_formatter(mtick.PercentFormatter(1.0))\n",
    "    plt.legend(legend, loc='best', framealpha=0.0)\n",
    "    plt.show()"
   ]
  },
  {
   "cell_type": "code",
   "execution_count": 83,
   "metadata": {},
   "outputs": [],
   "source": [
    "def plot_percent_compliance_scatter_chart(field, xlim=(), ylim=(), legend=['Compliant', 'Not Compliant']):\n",
    "    compliance = define_percentage_compliance(df, field)\n",
    "    plt.figure(figsize=(12,6))\n",
    "    ax = plt.subplot(111)\n",
    "    ax.scatter(compliance[1].index, compliance[1].apply(lambda x: x/total_people), marker='o') \n",
    "    ax.scatter(compliance[0].index, compliance[0].apply(lambda x: x/total_people), marker='o')\n",
    "    \n",
    "    if len(xlim) > 0:\n",
    "        plt.xlim(xlim[0], xlim[1])\n",
    "    \n",
    "    if len(ylim) > 0:\n",
    "        plt.ylim(ylim[0], ylim[1])\n",
    "    \n",
    "    ax.yaxis.set_major_formatter(mtick.PercentFormatter(1.0))\n",
    "    plt.legend(legend, loc='best', framealpha=0.0)\n",
    "    plt.show()"
   ]
  },
  {
   "cell_type": "code",
   "execution_count": 84,
   "metadata": {},
   "outputs": [],
   "source": [
    "def plot_compliance_scatter_features_chart(df, x, y, colors = ['#FF7F0E', '#1F77B4'], xticks=[], yticks=[], xlim=(), ylim=(), legend=['Not Compliant', 'Compliant']):\n",
    "    plt.figure(figsize=(12,6))\n",
    "    ax = plt.subplot(111)\n",
    "    ax.scatter(df[x], df[y], c=df['compliance'], cmap=ListedColormap(colors), marker='o') \n",
    "    \n",
    "    if len(xticks) > 0:\n",
    "        x_interval=[]\n",
    "        for i in range(len(xticks)):\n",
    "            x_interval.append(i)\n",
    "        plt.xticks(x_interval, xticks)\n",
    "    \n",
    "    if len(yticks) > 0:\n",
    "        y_interval=[]\n",
    "        for i in range(len(yticks)):\n",
    "            y_interval.append(i)\n",
    "        plt.yticks(y_interval, yticks)\n",
    "        \n",
    "    if len(xlim) > 0:\n",
    "        plt.xlim(xlim[0], xlim[1])\n",
    "    \n",
    "    if len(ylim) > 0:\n",
    "        plt.ylim(ylim[0], ylim[1])\n",
    "    \n",
    "    legend_handles = []\n",
    "    for i in range(0, len(legend)):\n",
    "        patch = mpatches.Patch(color=colors[i], label=legend[i])\n",
    "        legend_handles.append(patch)\n",
    "    ax.legend(loc=0, handles=legend_handles, framealpha=0.0)\n",
    "    \n",
    "    plt.show()"
   ]
  },
  {
   "cell_type": "markdown",
   "metadata": {},
   "source": [
    "# Features information"
   ]
  },
  {
   "cell_type": "code",
   "execution_count": 85,
   "metadata": {},
   "outputs": [
    {
     "data": {
      "text/plain": [
       "array(['CHICAGO', 'Detroit', 'DETROIT', ..., 'highland', 'harbor',\n",
       "       'DERABORN'], dtype=object)"
      ]
     },
     "execution_count": 85,
     "metadata": {},
     "output_type": "execute_result"
    }
   ],
   "source": [
    "df = pd.read_csv('csv/train.csv', encoding='ISO-8859-1', low_memory=False)\n",
    "df['city'].unique()"
   ]
  },
  {
   "cell_type": "markdown",
   "metadata": {},
   "source": [
    "For executing the describe() command, first I removed all entries that are not from Detroit and the person was not fined (considered not responsible or compliant by no fine)"
   ]
  },
  {
   "cell_type": "code",
   "execution_count": 86,
   "metadata": {},
   "outputs": [
    {
     "data": {
      "text/html": [
       "<div>\n",
       "<style scoped>\n",
       "    .dataframe tbody tr th:only-of-type {\n",
       "        vertical-align: middle;\n",
       "    }\n",
       "\n",
       "    .dataframe tbody tr th {\n",
       "        vertical-align: top;\n",
       "    }\n",
       "\n",
       "    .dataframe thead th {\n",
       "        text-align: right;\n",
       "    }\n",
       "</style>\n",
       "<table border=\"1\" class=\"dataframe\">\n",
       "  <thead>\n",
       "    <tr style=\"text-align: right;\">\n",
       "      <th></th>\n",
       "      <th>violation_street_number</th>\n",
       "      <th>violation_zip_code</th>\n",
       "      <th>mailing_address_str_number</th>\n",
       "      <th>fine_amount</th>\n",
       "      <th>admin_fee</th>\n",
       "      <th>state_fee</th>\n",
       "      <th>late_fee</th>\n",
       "      <th>discount_amount</th>\n",
       "      <th>clean_up_cost</th>\n",
       "      <th>judgment_amount</th>\n",
       "      <th>payment_amount</th>\n",
       "      <th>balance_due</th>\n",
       "      <th>compliance</th>\n",
       "    </tr>\n",
       "  </thead>\n",
       "  <tbody>\n",
       "    <tr>\n",
       "      <th>count</th>\n",
       "      <td>9.586500e+04</td>\n",
       "      <td>0.0</td>\n",
       "      <td>9.516800e+04</td>\n",
       "      <td>95865.000000</td>\n",
       "      <td>95865.0</td>\n",
       "      <td>95865.0</td>\n",
       "      <td>95865.000000</td>\n",
       "      <td>95865.000000</td>\n",
       "      <td>95865.0</td>\n",
       "      <td>95865.000000</td>\n",
       "      <td>95865.000000</td>\n",
       "      <td>95865.000000</td>\n",
       "      <td>95865.000000</td>\n",
       "    </tr>\n",
       "    <tr>\n",
       "      <th>mean</th>\n",
       "      <td>1.029785e+04</td>\n",
       "      <td>NaN</td>\n",
       "      <td>7.873750e+03</td>\n",
       "      <td>324.560789</td>\n",
       "      <td>20.0</td>\n",
       "      <td>10.0</td>\n",
       "      <td>30.632728</td>\n",
       "      <td>0.158170</td>\n",
       "      <td>0.0</td>\n",
       "      <td>385.193517</td>\n",
       "      <td>57.551083</td>\n",
       "      <td>327.484348</td>\n",
       "      <td>0.069953</td>\n",
       "    </tr>\n",
       "    <tr>\n",
       "      <th>std</th>\n",
       "      <td>4.647504e+04</td>\n",
       "      <td>NaN</td>\n",
       "      <td>2.305454e+04</td>\n",
       "      <td>599.643509</td>\n",
       "      <td>0.0</td>\n",
       "      <td>0.0</td>\n",
       "      <td>60.198046</td>\n",
       "      <td>2.905758</td>\n",
       "      <td>0.0</td>\n",
       "      <td>659.207965</td>\n",
       "      <td>166.379413</td>\n",
       "      <td>664.317336</td>\n",
       "      <td>0.255068</td>\n",
       "    </tr>\n",
       "    <tr>\n",
       "      <th>min</th>\n",
       "      <td>0.000000e+00</td>\n",
       "      <td>NaN</td>\n",
       "      <td>1.000000e+00</td>\n",
       "      <td>25.000000</td>\n",
       "      <td>20.0</td>\n",
       "      <td>10.0</td>\n",
       "      <td>0.000000</td>\n",
       "      <td>0.000000</td>\n",
       "      <td>0.0</td>\n",
       "      <td>55.000000</td>\n",
       "      <td>0.000000</td>\n",
       "      <td>-3280.000000</td>\n",
       "      <td>0.000000</td>\n",
       "    </tr>\n",
       "    <tr>\n",
       "      <th>25%</th>\n",
       "      <td>4.309000e+03</td>\n",
       "      <td>NaN</td>\n",
       "      <td>8.310000e+02</td>\n",
       "      <td>200.000000</td>\n",
       "      <td>20.0</td>\n",
       "      <td>10.0</td>\n",
       "      <td>10.000000</td>\n",
       "      <td>0.000000</td>\n",
       "      <td>0.0</td>\n",
       "      <td>250.000000</td>\n",
       "      <td>0.000000</td>\n",
       "      <td>85.000000</td>\n",
       "      <td>0.000000</td>\n",
       "    </tr>\n",
       "    <tr>\n",
       "      <th>50%</th>\n",
       "      <td>9.501000e+03</td>\n",
       "      <td>NaN</td>\n",
       "      <td>2.661000e+03</td>\n",
       "      <td>250.000000</td>\n",
       "      <td>20.0</td>\n",
       "      <td>10.0</td>\n",
       "      <td>25.000000</td>\n",
       "      <td>0.000000</td>\n",
       "      <td>0.0</td>\n",
       "      <td>305.000000</td>\n",
       "      <td>0.000000</td>\n",
       "      <td>305.000000</td>\n",
       "      <td>0.000000</td>\n",
       "    </tr>\n",
       "    <tr>\n",
       "      <th>75%</th>\n",
       "      <td>1.539700e+04</td>\n",
       "      <td>NaN</td>\n",
       "      <td>1.354100e+04</td>\n",
       "      <td>250.000000</td>\n",
       "      <td>20.0</td>\n",
       "      <td>10.0</td>\n",
       "      <td>25.000000</td>\n",
       "      <td>0.000000</td>\n",
       "      <td>0.0</td>\n",
       "      <td>305.000000</td>\n",
       "      <td>0.000000</td>\n",
       "      <td>305.000000</td>\n",
       "      <td>0.000000</td>\n",
       "    </tr>\n",
       "    <tr>\n",
       "      <th>max</th>\n",
       "      <td>1.415411e+07</td>\n",
       "      <td>NaN</td>\n",
       "      <td>3.511219e+06</td>\n",
       "      <td>10000.000000</td>\n",
       "      <td>20.0</td>\n",
       "      <td>10.0</td>\n",
       "      <td>1000.000000</td>\n",
       "      <td>350.000000</td>\n",
       "      <td>0.0</td>\n",
       "      <td>11030.000000</td>\n",
       "      <td>11030.000000</td>\n",
       "      <td>11030.000000</td>\n",
       "      <td>1.000000</td>\n",
       "    </tr>\n",
       "  </tbody>\n",
       "</table>\n",
       "</div>"
      ],
      "text/plain": [
       "       violation_street_number  violation_zip_code  \\\n",
       "count             9.586500e+04                 0.0   \n",
       "mean              1.029785e+04                 NaN   \n",
       "std               4.647504e+04                 NaN   \n",
       "min               0.000000e+00                 NaN   \n",
       "25%               4.309000e+03                 NaN   \n",
       "50%               9.501000e+03                 NaN   \n",
       "75%               1.539700e+04                 NaN   \n",
       "max               1.415411e+07                 NaN   \n",
       "\n",
       "       mailing_address_str_number   fine_amount  admin_fee  state_fee  \\\n",
       "count                9.516800e+04  95865.000000    95865.0    95865.0   \n",
       "mean                 7.873750e+03    324.560789       20.0       10.0   \n",
       "std                  2.305454e+04    599.643509        0.0        0.0   \n",
       "min                  1.000000e+00     25.000000       20.0       10.0   \n",
       "25%                  8.310000e+02    200.000000       20.0       10.0   \n",
       "50%                  2.661000e+03    250.000000       20.0       10.0   \n",
       "75%                  1.354100e+04    250.000000       20.0       10.0   \n",
       "max                  3.511219e+06  10000.000000       20.0       10.0   \n",
       "\n",
       "           late_fee  discount_amount  clean_up_cost  judgment_amount  \\\n",
       "count  95865.000000     95865.000000        95865.0     95865.000000   \n",
       "mean      30.632728         0.158170            0.0       385.193517   \n",
       "std       60.198046         2.905758            0.0       659.207965   \n",
       "min        0.000000         0.000000            0.0        55.000000   \n",
       "25%       10.000000         0.000000            0.0       250.000000   \n",
       "50%       25.000000         0.000000            0.0       305.000000   \n",
       "75%       25.000000         0.000000            0.0       305.000000   \n",
       "max     1000.000000       350.000000            0.0     11030.000000   \n",
       "\n",
       "       payment_amount   balance_due    compliance  \n",
       "count    95865.000000  95865.000000  95865.000000  \n",
       "mean        57.551083    327.484348      0.069953  \n",
       "std        166.379413    664.317336      0.255068  \n",
       "min          0.000000  -3280.000000      0.000000  \n",
       "25%          0.000000     85.000000      0.000000  \n",
       "50%          0.000000    305.000000      0.000000  \n",
       "75%          0.000000    305.000000      0.000000  \n",
       "max      11030.000000  11030.000000      1.000000  "
      ]
     },
     "execution_count": 86,
     "metadata": {},
     "output_type": "execute_result"
    }
   ],
   "source": [
    "df = df[(df['city'].str.lower() == 'detroit') & (~df['compliance_detail'].str.contains('not responsible')) & (~df['compliance_detail'].str.contains('compliant by no fine'))].set_index('ticket_id')\n",
    "df.describe()"
   ]
  },
  {
   "cell_type": "markdown",
   "metadata": {},
   "source": [
    "Analysing the report above and the variable descriptions given, I decided to use the judgement_amount value to train the model.\n",
    "Since the mean value of the judgement_amount column is 385.2, 75% of the values are lower than 305 and the standard deviation is 659.2, we can infer that there are a lot of outliers in this column.\n",
    "First, I plotted the chart below to have an overview of the distribution of the column values."
   ]
  },
  {
   "cell_type": "markdown",
   "metadata": {},
   "source": [
    "## judgment_amount"
   ]
  },
  {
   "cell_type": "markdown",
   "metadata": {},
   "source": [
    "Bar plot with interval percentages"
   ]
  },
  {
   "cell_type": "code",
   "execution_count": 87,
   "metadata": {},
   "outputs": [
    {
     "data": {
      "image/png": "[encoded data removed]",
      "text/plain": [
       "<Figure size 864x432 with 1 Axes>"
      ]
     },
     "metadata": {
      "needs_background": "light"
     },
     "output_type": "display_data"
    }
   ],
   "source": [
    "compliance_sizes = define_percentage_compliance_folds(df, 'judgment_amount')\n",
    "plot_percent_compliance_bar_folds_chart(compliance_sizes)"
   ]
  },
  {
   "cell_type": "markdown",
   "metadata": {},
   "source": [
    "Scatter plot with percentage value of each exact amount"
   ]
  },
  {
   "cell_type": "code",
   "execution_count": 88,
   "metadata": {},
   "outputs": [
    {
     "data": {
      "image/png": "[encoded data removed]",
      "text/plain": [
       "<Figure size 864x432 with 1 Axes>"
      ]
     },
     "metadata": {
      "needs_background": "light"
     },
     "output_type": "display_data"
    }
   ],
   "source": [
    "plot_percent_compliance_scatter_chart('judgment_amount')"
   ]
  },
  {
   "cell_type": "code",
   "execution_count": 89,
   "metadata": {},
   "outputs": [
    {
     "data": {
      "image/png": "[encoded data removed]",
      "text/plain": [
       "<Figure size 864x432 with 1 Axes>"
      ]
     },
     "metadata": {
      "needs_background": "light"
     },
     "output_type": "display_data"
    }
   ],
   "source": [
    "plot_percent_compliance_scatter_chart('judgment_amount', xlim=(0,400))"
   ]
  },
  {
   "cell_type": "code",
   "execution_count": 90,
   "metadata": {},
   "outputs": [
    {
     "data": {
      "image/png": "[encoded data removed]",
      "text/plain": [
       "<Figure size 864x432 with 1 Axes>"
      ]
     },
     "metadata": {
      "needs_background": "light"
     },
     "output_type": "display_data"
    }
   ],
   "source": [
    "plot_percent_compliance_bar_chart('judgment_amount', xlim=(0,400))"
   ]
  },
  {
   "cell_type": "markdown",
   "metadata": {},
   "source": [
    "## disposition"
   ]
  },
  {
   "cell_type": "markdown",
   "metadata": {},
   "source": [
    "Plot the scatter chart to visualize the distribution of compliant and not compliant entries by disposition"
   ]
  },
  {
   "cell_type": "code",
   "execution_count": 91,
   "metadata": {},
   "outputs": [
    {
     "data": {
      "text/plain": [
       "array(['Responsible by Determination', 'Responsible by Default',\n",
       "       'Responsible by Admission'], dtype=object)"
      ]
     },
     "execution_count": 91,
     "metadata": {},
     "output_type": "execute_result"
    }
   ],
   "source": [
    "df['disposition'].unique()"
   ]
  },
  {
   "cell_type": "code",
   "execution_count": 92,
   "metadata": {},
   "outputs": [
    {
     "data": {
      "image/png": "[encoded data removed]",
      "text/plain": [
       "<Figure size 864x432 with 1 Axes>"
      ]
     },
     "metadata": {
      "needs_background": "light"
     },
     "output_type": "display_data"
    }
   ],
   "source": [
    "total_people = df['disposition'].count()\n",
    "compliance_sizes={}\n",
    "compliance_sizes[1] = df[df['compliance'] == 1]['disposition'].value_counts().apply(lambda x: x/total_people)\n",
    "compliance_sizes[0] = df[df['compliance'] == 0]['disposition'].value_counts().apply(lambda x: x/total_people)\n",
    "plot_percent_compliance_bar_folds_chart(compliance_sizes, folds=[50, 100, 150], folds_ticks=compliance_sizes[0].index)"
   ]
  },
  {
   "cell_type": "markdown",
   "metadata": {},
   "source": [
    "Distribution of compliant and not compliant entries using both features"
   ]
  },
  {
   "cell_type": "code",
   "execution_count": 93,
   "metadata": {},
   "outputs": [
    {
     "data": {
      "text/plain": [
       "array(['Responsible by Determination', 'Responsible by Default',\n",
       "       'Responsible by Admission'], dtype=object)"
      ]
     },
     "execution_count": 93,
     "metadata": {},
     "output_type": "execute_result"
    }
   ],
   "source": [
    "df['disposition'].unique()"
   ]
  },
  {
   "cell_type": "code",
   "execution_count": 94,
   "metadata": {},
   "outputs": [
    {
     "data": {
      "image/png": "[encoded data removed]",
      "text/plain": [
       "<Figure size 864x432 with 1 Axes>"
      ]
     },
     "metadata": {
      "needs_background": "light"
     },
     "output_type": "display_data"
    }
   ],
   "source": [
    "df['disposition_category'] = 2\n",
    "df.loc[df.disposition == 'Responsible by Determination', 'disposition_category'] = 0\n",
    "df.loc[df.disposition == 'Responsible by Default', 'disposition_category'] = 1\n",
    "\n",
    "plot_compliance_scatter_features_chart(df, 'judgment_amount', 'disposition_category', yticks=df['disposition'].unique())"
   ]
  },
  {
   "cell_type": "code",
   "execution_count": 95,
   "metadata": {},
   "outputs": [
    {
     "data": {
      "image/png": "[encoded data removed]",
      "text/plain": [
       "<Figure size 864x432 with 1 Axes>"
      ]
     },
     "metadata": {
      "needs_background": "light"
     },
     "output_type": "display_data"
    }
   ],
   "source": [
    "plot_compliance_scatter_features_chart(df, 'judgment_amount', 'disposition_category', yticks=df['disposition'].unique(), xlim=(0,400), ylim=(-0.3,2.5))"
   ]
  },
  {
   "cell_type": "markdown",
   "metadata": {},
   "source": [
    "## violations"
   ]
  },
  {
   "cell_type": "code",
   "execution_count": 96,
   "metadata": {},
   "outputs": [
    {
     "name": "stdout",
     "output_type": "stream",
     "text": [
      "89399.0\n"
     ]
    },
    {
     "data": {
      "text/plain": [
       "9-1-36(a)    3022.0\n",
       "Name: violation_code, dtype: float64"
      ]
     },
     "execution_count": 96,
     "metadata": {},
     "output_type": "execute_result"
    }
   ],
   "source": [
    "total_people = df['violation_code'].value_counts().where(lambda x: x > 1000).dropna().sum()\n",
    "\n",
    "total_compliant_people = df[df['compliance'] == 1]['violation_code'].value_counts().where(lambda x: x > 1000).dropna()\n",
    "total_non_compliant_people = df[df['compliance'] == 0]['violation_code'].value_counts().where(lambda x: x > 1000).dropna()\n",
    "print(total_people)\n",
    "total_compliant_people"
   ]
  },
  {
   "cell_type": "markdown",
   "metadata": {},
   "source": [
    "## Dummy Classifier"
   ]
  },
  {
   "cell_type": "code",
   "execution_count": 284,
   "metadata": {},
   "outputs": [],
   "source": [
    "def blight_dummy_model():\n",
    "    from sklearn.dummy import DummyClassifier\n",
    "\n",
    "    # Prepare the datasets\n",
    "    columns = ['judgment_amount']\n",
    "    X, y = prepare_train_dataset('csv/train.csv', columns)\n",
    "\n",
    "    # Calculate the probability of test.csv rows\n",
    "    print('Cross-validation AUC: ', np.mean(cross_val_score(DummyClassifier(strategy = 'most_frequent'), X, y, scoring='roc_auc', cv=10)))"
   ]
  },
  {
   "cell_type": "code",
   "execution_count": 285,
   "metadata": {},
   "outputs": [
    {
     "name": "stdout",
     "output_type": "stream",
     "text": [
      "Cross-validation AUC:  0.5\n"
     ]
    },
    {
     "name": "stderr",
     "output_type": "stream",
     "text": [
      "<ipython-input-76-370c4fd3a513>:3: UserWarning: Boolean Series key will be reindexed to match DataFrame index.\n",
      "  df_train = df_train[(df['city'].str.lower() == 'detroit') & (~df_train['compliance_detail'].str.contains('not responsible')) & (~df['compliance_detail'].str.contains('compliant by no fine'))].set_index('ticket_id')\n"
     ]
    }
   ],
   "source": [
    "blight_dummy_model()"
   ]
  },
  {
   "cell_type": "markdown",
   "metadata": {},
   "source": [
    "## Logistic Regression"
   ]
  },
  {
   "cell_type": "code",
   "execution_count": 286,
   "metadata": {},
   "outputs": [],
   "source": [
    "def blight_logistic_model():\n",
    "    from sklearn.linear_model import LogisticRegression\n",
    "\n",
    "    # Prepare the datasets\n",
    "    columns = ['judgment_amount']\n",
    "    X, y = prepare_train_dataset('csv/train.csv', columns)\n",
    "\n",
    "    # Calculate the probability of test.csv rows\n",
    "    print('Cross-validation AUC: ', np.mean(cross_val_score(LogisticRegression(), X, y, scoring='roc_auc', cv=10)))"
   ]
  },
  {
   "cell_type": "code",
   "execution_count": 287,
   "metadata": {},
   "outputs": [
    {
     "name": "stderr",
     "output_type": "stream",
     "text": [
      "<ipython-input-76-370c4fd3a513>:3: UserWarning: Boolean Series key will be reindexed to match DataFrame index.\n",
      "  df_train = df_train[(df['city'].str.lower() == 'detroit') & (~df_train['compliance_detail'].str.contains('not responsible')) & (~df['compliance_detail'].str.contains('compliant by no fine'))].set_index('ticket_id')\n"
     ]
    },
    {
     "name": "stdout",
     "output_type": "stream",
     "text": [
      "Cross-validation AUC:  0.6582447415322663\n"
     ]
    }
   ],
   "source": [
    "blight_logistic_model()"
   ]
  },
  {
   "cell_type": "markdown",
   "metadata": {},
   "source": [
    "## SVM"
   ]
  },
  {
   "cell_type": "code",
   "execution_count": 288,
   "metadata": {},
   "outputs": [],
   "source": [
    "def blight_svm_model():\n",
    "    from sklearn.svm import SVC\n",
    "\n",
    "    # Prepare the datasets\n",
    "    columns = ['judgment_amount']\n",
    "    X, y = prepare_train_dataset('csv/train.csv', columns)\n",
    "\n",
    "    # Calculate the probability of test.csv rows\n",
    "    print('Cross-validation AUC: ', np.mean(cross_val_score(SVC(), X, y, scoring='roc_auc', cv=10)))"
   ]
  },
  {
   "cell_type": "code",
   "execution_count": 289,
   "metadata": {},
   "outputs": [
    {
     "name": "stderr",
     "output_type": "stream",
     "text": [
      "<ipython-input-76-370c4fd3a513>:3: UserWarning: Boolean Series key will be reindexed to match DataFrame index.\n",
      "  df_train = df_train[(df['city'].str.lower() == 'detroit') & (~df_train['compliance_detail'].str.contains('not responsible')) & (~df['compliance_detail'].str.contains('compliant by no fine'))].set_index('ticket_id')\n"
     ]
    },
    {
     "name": "stdout",
     "output_type": "stream",
     "text": [
      "Cross-validation AUC:  0.4019015833455161\n"
     ]
    }
   ],
   "source": [
    "blight_svm_model()"
   ]
  },
  {
   "cell_type": "markdown",
   "metadata": {},
   "source": [
    "## Random Forest"
   ]
  },
  {
   "cell_type": "code",
   "execution_count": 290,
   "metadata": {},
   "outputs": [],
   "source": [
    "def blight_random_forest_model():\n",
    "    from sklearn.ensemble import RandomForestClassifier\n",
    "\n",
    "    # Prepare the datasets\n",
    "    columns = ['judgment_amount']\n",
    "    X, y = prepare_train_dataset('csv/train.csv', columns)\n",
    "\n",
    "    # Calculate the probability of test.csv rows\n",
    "    print('Cross-validation AUC: ', np.mean(cross_val_score(RandomForestClassifier(), X, y, scoring='roc_auc', cv=10)))"
   ]
  },
  {
   "cell_type": "code",
   "execution_count": 291,
   "metadata": {},
   "outputs": [
    {
     "name": "stderr",
     "output_type": "stream",
     "text": [
      "<ipython-input-76-370c4fd3a513>:3: UserWarning: Boolean Series key will be reindexed to match DataFrame index.\n",
      "  df_train = df_train[(df['city'].str.lower() == 'detroit') & (~df_train['compliance_detail'].str.contains('not responsible')) & (~df['compliance_detail'].str.contains('compliant by no fine'))].set_index('ticket_id')\n"
     ]
    },
    {
     "name": "stdout",
     "output_type": "stream",
     "text": [
      "Cross-validation AUC:  0.7512559302043056\n"
     ]
    }
   ],
   "source": [
    "blight_random_forest_model()"
   ]
  },
  {
   "cell_type": "markdown",
   "metadata": {},
   "source": [
    "### Added the LabelEncoder to 'disposition' column"
   ]
  },
  {
   "cell_type": "code",
   "execution_count": 292,
   "metadata": {},
   "outputs": [],
   "source": [
    "def blight_random_forest_model():\n",
    "    from sklearn.ensemble import RandomForestClassifier\n",
    "\n",
    "    # Prepare the datasets\n",
    "    columns = ['disposition', 'judgment_amount']\n",
    "    X, y = prepare_train_dataset('csv/train.csv', columns)\n",
    "    \n",
    "    # Prepare the disposition LabelEncoder\n",
    "    le_disposition = LabelEncoder().fit(list(X['disposition']) + ['Unknown'])\n",
    "    X['disposition'] = transform(le_disposition, X['disposition'])\n",
    "\n",
    "    # Calculate the probability of test.csv rows\n",
    "    print('Cross-validation AUC: ', np.mean(cross_val_score(RandomForestClassifier(), X, y, scoring='roc_auc', cv=10)))"
   ]
  },
  {
   "cell_type": "code",
   "execution_count": 293,
   "metadata": {},
   "outputs": [
    {
     "name": "stderr",
     "output_type": "stream",
     "text": [
      "<ipython-input-76-370c4fd3a513>:3: UserWarning: Boolean Series key will be reindexed to match DataFrame index.\n",
      "  df_train = df_train[(df['city'].str.lower() == 'detroit') & (~df_train['compliance_detail'].str.contains('not responsible')) & (~df['compliance_detail'].str.contains('compliant by no fine'))].set_index('ticket_id')\n"
     ]
    },
    {
     "name": "stdout",
     "output_type": "stream",
     "text": [
      "Cross-validation AUC:  0.7883025258646319\n"
     ]
    }
   ],
   "source": [
    "blight_random_forest_model()"
   ]
  },
  {
   "cell_type": "markdown",
   "metadata": {},
   "source": [
    "### Added the LabelEncoder to 'violation_code' column"
   ]
  },
  {
   "cell_type": "code",
   "execution_count": 294,
   "metadata": {},
   "outputs": [],
   "source": [
    "def blight_random_forest_model():\n",
    "    from sklearn.ensemble import RandomForestClassifier\n",
    "\n",
    "    # Prepare the datasets\n",
    "    columns = ['violation_code', 'judgment_amount']\n",
    "    X, y = prepare_train_dataset('csv/train.csv', columns)\n",
    "\n",
    "    # Prepare the violation LabelEncoder\n",
    "    le_violation = LabelEncoder().fit(list(X['violation_code']) + ['Unknown'])\n",
    "    X['violation_code'] = transform(le_violation, X['violation_code'])\n",
    "\n",
    "    # Calculate the probability of test.csv rows\n",
    "    print('Cross-validation AUC: ', np.mean(cross_val_score(RandomForestClassifier(), X, y, scoring='roc_auc', cv=10)))"
   ]
  },
  {
   "cell_type": "code",
   "execution_count": 295,
   "metadata": {},
   "outputs": [
    {
     "name": "stderr",
     "output_type": "stream",
     "text": [
      "<ipython-input-76-370c4fd3a513>:3: UserWarning: Boolean Series key will be reindexed to match DataFrame index.\n",
      "  df_train = df_train[(df['city'].str.lower() == 'detroit') & (~df_train['compliance_detail'].str.contains('not responsible')) & (~df['compliance_detail'].str.contains('compliant by no fine'))].set_index('ticket_id')\n"
     ]
    },
    {
     "name": "stdout",
     "output_type": "stream",
     "text": [
      "Cross-validation AUC:  0.7663525094322952\n"
     ]
    }
   ],
   "source": [
    "blight_random_forest_model()"
   ]
  },
  {
   "cell_type": "markdown",
   "metadata": {},
   "source": [
    "### Added the LabelEncoder to 'disposition' and 'violation_code' columns"
   ]
  },
  {
   "cell_type": "code",
   "execution_count": 296,
   "metadata": {},
   "outputs": [],
   "source": [
    "def blight_random_forest_model():\n",
    "    from sklearn.ensemble import RandomForestClassifier\n",
    "\n",
    "    # Prepare the datasets\n",
    "    columns = ['disposition', 'violation_code', 'judgment_amount']\n",
    "    X, y = prepare_train_dataset('csv/train.csv', columns)   \n",
    "    \n",
    "    # Prepare the disposition LabelEncodera\n",
    "    le_disposition = LabelEncoder().fit(list(X['disposition']) + ['Unknown'])\n",
    "    X['disposition'] = transform(le_disposition, X['disposition'])\n",
    "    \n",
    "    # Prepare the violation LabelEncoder\n",
    "    le_violation = LabelEncoder().fit(list(X['violation_code']) + ['Unknown'])\n",
    "    X['violation_code'] = transform(le_violation, X['violation_code'])\n",
    "\n",
    "    # Calculate the probability of test.csv rows\n",
    "    print('Cross-validation AUC: ', np.mean(cross_val_score(RandomForestClassifier(), X, y, scoring='roc_auc', cv=10)))"
   ]
  },
  {
   "cell_type": "code",
   "execution_count": 297,
   "metadata": {},
   "outputs": [
    {
     "name": "stderr",
     "output_type": "stream",
     "text": [
      "<ipython-input-76-370c4fd3a513>:3: UserWarning: Boolean Series key will be reindexed to match DataFrame index.\n",
      "  df_train = df_train[(df['city'].str.lower() == 'detroit') & (~df_train['compliance_detail'].str.contains('not responsible')) & (~df['compliance_detail'].str.contains('compliant by no fine'))].set_index('ticket_id')\n"
     ]
    },
    {
     "name": "stdout",
     "output_type": "stream",
     "text": [
      "Cross-validation AUC:  0.793824356290195\n"
     ]
    }
   ],
   "source": [
    "blight_random_forest_model()"
   ]
  },
  {
   "cell_type": "markdown",
   "metadata": {},
   "source": [
    "### Hyperparameter Tuning"
   ]
  },
  {
   "cell_type": "markdown",
   "metadata": {},
   "source": [
    "#### Randomized Search CV"
   ]
  },
  {
   "cell_type": "code",
   "execution_count": 204,
   "metadata": {},
   "outputs": [
    {
     "name": "stdout",
     "output_type": "stream",
     "text": [
      "{'bootstrap': [True, False],\n",
      " 'max_depth': [10, 20, 30, 40, 50, 60, 70, 80, 90, 100, 110, None],\n",
      " 'max_features': ['auto', 'sqrt'],\n",
      " 'min_samples_leaf': [1, 2, 4],\n",
      " 'min_samples_split': [2, 5, 10],\n",
      " 'n_estimators': [200, 400, 600, 800, 1000, 1200, 1400, 1600, 1800, 2000]}\n"
     ]
    },
    {
     "name": "stderr",
     "output_type": "stream",
     "text": [
      "<ipython-input-76-370c4fd3a513>:3: UserWarning: Boolean Series key will be reindexed to match DataFrame index.\n",
      "  df_train = df_train[(df['city'].str.lower() == 'detroit') & (~df_train['compliance_detail'].str.contains('not responsible')) & (~df['compliance_detail'].str.contains('compliant by no fine'))].set_index('ticket_id')\n",
      "<ipython-input-204-510b58d78188>:41: SettingWithCopyWarning: \n",
      "A value is trying to be set on a copy of a slice from a DataFrame.\n",
      "Try using .loc[row_indexer,col_indexer] = value instead\n",
      "\n",
      "See the caveats in the documentation: https://pandas.pydata.org/pandas-docs/stable/user_guide/indexing.html#returning-a-view-versus-a-copy\n",
      "  X_train['disposition'] = transform(le_disposition, X_train['disposition'])\n",
      "<ipython-input-204-510b58d78188>:42: SettingWithCopyWarning: \n",
      "A value is trying to be set on a copy of a slice from a DataFrame.\n",
      "Try using .loc[row_indexer,col_indexer] = value instead\n",
      "\n",
      "See the caveats in the documentation: https://pandas.pydata.org/pandas-docs/stable/user_guide/indexing.html#returning-a-view-versus-a-copy\n",
      "  X_test['disposition'] = transform(le_disposition, X_test['disposition'])\n",
      "<ipython-input-204-510b58d78188>:46: SettingWithCopyWarning: \n",
      "A value is trying to be set on a copy of a slice from a DataFrame.\n",
      "Try using .loc[row_indexer,col_indexer] = value instead\n",
      "\n",
      "See the caveats in the documentation: https://pandas.pydata.org/pandas-docs/stable/user_guide/indexing.html#returning-a-view-versus-a-copy\n",
      "  X_train['violation_code'] = transform(le_violation, X_train['violation_code'])\n",
      "<ipython-input-204-510b58d78188>:47: SettingWithCopyWarning: \n",
      "A value is trying to be set on a copy of a slice from a DataFrame.\n",
      "Try using .loc[row_indexer,col_indexer] = value instead\n",
      "\n",
      "See the caveats in the documentation: https://pandas.pydata.org/pandas-docs/stable/user_guide/indexing.html#returning-a-view-versus-a-copy\n",
      "  X_test['violation_code'] = transform(le_violation, X_test['violation_code'])\n",
      "[Parallel(n_jobs=-1)]: Using backend LokyBackend with 8 concurrent workers.\n"
     ]
    },
    {
     "name": "stdout",
     "output_type": "stream",
     "text": [
      "Fitting 3 folds for each of 100 candidates, totalling 300 fits\n"
     ]
    },
    {
     "name": "stderr",
     "output_type": "stream",
     "text": [
      "[Parallel(n_jobs=-1)]: Done  25 tasks      | elapsed:   53.5s\n",
      "[Parallel(n_jobs=-1)]: Done 146 tasks      | elapsed:  5.1min\n",
      "[Parallel(n_jobs=-1)]: Done 300 out of 300 | elapsed: 11.0min finished\n"
     ]
    },
    {
     "data": {
      "text/plain": [
       "{'n_estimators': 2000,\n",
       " 'min_samples_split': 5,\n",
       " 'min_samples_leaf': 1,\n",
       " 'max_features': 'sqrt',\n",
       " 'max_depth': 10,\n",
       " 'bootstrap': True}"
      ]
     },
     "execution_count": 204,
     "metadata": {},
     "output_type": "execute_result"
    }
   ],
   "source": [
    "from sklearn.model_selection import RandomizedSearchCV\n",
    "from sklearn.ensemble import RandomForestClassifier\n",
    "from pprint import pprint\n",
    "\n",
    "# Number of trees in random forest\n",
    "n_estimators = [int(x) for x in np.linspace(start = 200, stop = 2000, num = 10)]\n",
    "# Number of features to consider at every split\n",
    "max_features = ['auto', 'sqrt']\n",
    "# Maximum number of levels in tree\n",
    "max_depth = [int(x) for x in np.linspace(10, 110, num = 11)]\n",
    "max_depth.append(None)\n",
    "# Minimum number of samples required to split a node\n",
    "min_samples_split = [2, 5, 10]\n",
    "# Minimum number of samples required at each leaf node\n",
    "min_samples_leaf = [1, 2, 4]\n",
    "# Method of selecting samples for training each tree\n",
    "bootstrap = [True, False]\n",
    "\n",
    "# Create the random grid\n",
    "random_grid = {'n_estimators': n_estimators,\n",
    "               'max_features': max_features,\n",
    "               'max_depth': max_depth,\n",
    "               'min_samples_split': min_samples_split,\n",
    "               'min_samples_leaf': min_samples_leaf,\n",
    "               'bootstrap': bootstrap}\n",
    "pprint(random_grid)\n",
    "\n",
    "# Prepare the datasets\n",
    "columns = ['disposition', 'violation_code', 'discount_amount', 'judgment_amount']\n",
    "X, y = prepare_train_dataset('csv/train.csv', columns)\n",
    "X_train, X_test, y_train, y_test = train_test_split(X, y)\n",
    "\n",
    "# Prepare the disposition LabelEncoder\n",
    "le_disposition = LabelEncoder().fit(list(X_train['disposition']) + ['Unknown'])\n",
    "X_train['disposition'] = transform(le_disposition, X_train['disposition'])\n",
    "\n",
    "# Prepare the violation LabelEncoder\n",
    "le_violation = LabelEncoder().fit(list(X_train['violation_code']) + ['Unknown'])\n",
    "X_train['violation_code'] = transform(le_violation, X_train['violation_code'])\n",
    "    \n",
    "# Use the random grid to search for best hyperparameters\n",
    "# First create the base model to tune\n",
    "rf = RandomForestClassifier()\n",
    "# Random search of parameters, using 3 fold cross validation, \n",
    "# search across 100 different combinations, and use all available cores\n",
    "rf_random = RandomizedSearchCV(estimator = rf, param_distributions = random_grid, scoring='roc_auc', n_iter = 100, cv = 3, verbose=2, random_state=42, n_jobs = -1)\n",
    "# Fit the random search model\n",
    "rf_random.fit(X_train, y_train)\n",
    "\n",
    "rf_random.best_params_"
   ]
  },
  {
   "cell_type": "code",
   "execution_count": 255,
   "metadata": {},
   "outputs": [
    {
     "data": {
      "text/plain": [
       "0.7977039209688336"
      ]
     },
     "execution_count": 255,
     "metadata": {},
     "output_type": "execute_result"
    }
   ],
   "source": [
    "rf_random.best_score_"
   ]
  },
  {
   "cell_type": "markdown",
   "metadata": {},
   "source": [
    "#### Grid Search CV"
   ]
  },
  {
   "cell_type": "code",
   "execution_count": 206,
   "metadata": {},
   "outputs": [
    {
     "name": "stdout",
     "output_type": "stream",
     "text": [
      "Fitting 3 folds for each of 81 candidates, totalling 243 fits\n"
     ]
    },
    {
     "name": "stderr",
     "output_type": "stream",
     "text": [
      "[Parallel(n_jobs=-1)]: Using backend LokyBackend with 8 concurrent workers.\n",
      "[Parallel(n_jobs=-1)]: Done  25 tasks      | elapsed:   50.0s\n",
      "[Parallel(n_jobs=-1)]: Done 146 tasks      | elapsed:  5.4min\n",
      "[Parallel(n_jobs=-1)]: Done 243 out of 243 | elapsed:  9.5min finished\n"
     ]
    },
    {
     "data": {
      "text/plain": [
       "{'bootstrap': True,\n",
       " 'max_depth': 10,\n",
       " 'max_features': 'sqrt',\n",
       " 'min_samples_leaf': 1,\n",
       " 'min_samples_split': 5,\n",
       " 'n_estimators': 1500}"
      ]
     },
     "execution_count": 206,
     "metadata": {},
     "output_type": "execute_result"
    }
   ],
   "source": [
    "from sklearn.model_selection import GridSearchCV\n",
    "# Create the parameter grid based on the results of random search \n",
    "param_grid = {\n",
    "    'bootstrap': [True],\n",
    "    'max_depth': [5, 10, 15],\n",
    "    'max_features': ['sqrt'],\n",
    "    'min_samples_leaf': [1, 3, 5],\n",
    "    'min_samples_split': [3, 5, 10],\n",
    "    'n_estimators': [1000, 1500, 2000]\n",
    "}\n",
    "# Create a based model\n",
    "rf = RandomForestClassifier()\n",
    "# Instantiate the grid search model\n",
    "grid_search = GridSearchCV(estimator = rf, param_grid = param_grid, scoring='roc_auc', \n",
    "                          cv = 3, n_jobs = -1, verbose = 2)\n",
    "\n",
    "grid_search.fit(X_train, y_train)\n",
    "grid_search.best_params_"
   ]
  },
  {
   "cell_type": "code",
   "execution_count": 221,
   "metadata": {},
   "outputs": [
    {
     "data": {
      "text/plain": [
       "0.7978650715952759"
      ]
     },
     "execution_count": 221,
     "metadata": {},
     "output_type": "execute_result"
    }
   ],
   "source": [
    "grid_search.best_score_"
   ]
  },
  {
   "cell_type": "code",
   "execution_count": 239,
   "metadata": {},
   "outputs": [],
   "source": [
    "def blight_random_forest_model():\n",
    "    from sklearn.ensemble import RandomForestClassifier\n",
    "\n",
    "    # Prepare the datasets\n",
    "    columns = ['disposition', 'violation_code', 'judgment_amount']\n",
    "    X, y = prepare_train_dataset('csv/train.csv', columns)   \n",
    "    \n",
    "    # Prepare the disposition LabelEncoder\n",
    "    le_disposition = LabelEncoder().fit(list(X['disposition']) + ['Unknown'])\n",
    "    X['disposition'] = transform(le_disposition, X['disposition'])\n",
    "    \n",
    "    # Prepare the violation LabelEncoder\n",
    "    le_violation = LabelEncoder().fit(list(X['violation_code']) + ['Unknown'])\n",
    "    X['violation_code'] = transform(le_violation, X['violation_code'])\n",
    "\n",
    "    # Calculate the probability of test.csv rows\n",
    "    print('Cross-validation AUC: ', np.mean(cross_val_score(RandomForestClassifier(bootstrap= True, max_depth=10,\n",
    " max_features='sqrt', min_samples_leaf=1, min_samples_split=5, n_estimators=1500), X, y, scoring='roc_auc', cv=10)))"
   ]
  },
  {
   "cell_type": "code",
   "execution_count": 240,
   "metadata": {},
   "outputs": [
    {
     "name": "stderr",
     "output_type": "stream",
     "text": [
      "<ipython-input-76-370c4fd3a513>:3: UserWarning: Boolean Series key will be reindexed to match DataFrame index.\n",
      "  df_train = df_train[(df['city'].str.lower() == 'detroit') & (~df_train['compliance_detail'].str.contains('not responsible')) & (~df['compliance_detail'].str.contains('compliant by no fine'))].set_index('ticket_id')\n"
     ]
    },
    {
     "name": "stdout",
     "output_type": "stream",
     "text": [
      "Cross-validation AUC:  0.7985447746075549\n"
     ]
    }
   ],
   "source": [
    "blight_random_forest_model()"
   ]
  },
  {
   "cell_type": "markdown",
   "metadata": {},
   "source": [
    "The auc score got better, but the time of execution increased a lot, so I changed the n_estimators to 10."
   ]
  },
  {
   "cell_type": "code",
   "execution_count": 237,
   "metadata": {},
   "outputs": [],
   "source": [
    "def blight_random_forest_model():\n",
    "    from sklearn.ensemble import RandomForestClassifier\n",
    "\n",
    "    # Prepare the datasets\n",
    "    columns = ['disposition', 'violation_code', 'judgment_amount']\n",
    "    X, y = prepare_train_dataset('csv/train.csv', columns)   \n",
    "    \n",
    "    # Prepare the disposition LabelEncoder\n",
    "    le_disposition = LabelEncoder().fit(list(X['disposition']) + ['Unknown'])\n",
    "    X['disposition'] = transform(le_disposition, X['disposition'])\n",
    "    \n",
    "    # Prepare the violation LabelEncoder\n",
    "    le_violation = LabelEncoder().fit(list(X['violation_code']) + ['Unknown'])\n",
    "    X['violation_code'] = transform(le_violation, X['violation_code'])\n",
    "\n",
    "    # Calculate the probability of test.csv rows\n",
    "    print('Cross-validation AUC: ', np.mean(cross_val_score(RandomForestClassifier(bootstrap= True, max_depth=10,\n",
    " max_features='sqrt', min_samples_leaf=1, min_samples_split=5, n_estimators=10), X, y, scoring='roc_auc', cv=10)))"
   ]
  },
  {
   "cell_type": "code",
   "execution_count": 238,
   "metadata": {},
   "outputs": [
    {
     "name": "stderr",
     "output_type": "stream",
     "text": [
      "<ipython-input-76-370c4fd3a513>:3: UserWarning: Boolean Series key will be reindexed to match DataFrame index.\n",
      "  df_train = df_train[(df['city'].str.lower() == 'detroit') & (~df_train['compliance_detail'].str.contains('not responsible')) & (~df['compliance_detail'].str.contains('compliant by no fine'))].set_index('ticket_id')\n"
     ]
    },
    {
     "name": "stdout",
     "output_type": "stream",
     "text": [
      "Cross-validation AUC:  0.7966959203454371\n"
     ]
    }
   ],
   "source": [
    "blight_random_forest_model()"
   ]
  }
 ],
 "metadata": {
  "coursera": {
   "course_slug": "python-machine-learning",
   "graded_item_id": "nNS8l",
   "launcher_item_id": "yWWk7",
   "part_id": "w8BSS"
  },
  "kernelspec": {
   "display_name": "Python 3",
   "language": "python",
   "name": "python3"
  },
  "language_info": {
   "codemirror_mode": {
    "name": "ipython",
    "version": 3
   },
   "file_extension": ".py",
   "mimetype": "text/x-python",
   "name": "python",
   "nbconvert_exporter": "python",
   "pygments_lexer": "ipython3",
   "version": "3.8.5"
  }
 },
 "nbformat": 4,
 "nbformat_minor": 2
}
