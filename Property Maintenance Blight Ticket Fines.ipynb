{
 "cells": [
  {
   "cell_type": "markdown",
   "metadata": {},
   "source": [
    "# Understanding and Predicting Property Maintenance Fines\n",
    "\n",
    "This project is based on a data challenge from the Michigan Data Science Team ([MDST](http://midas.umich.edu/mdst/)). \n",
    "\n",
    "The Michigan Data Science Team ([MDST](http://midas.umich.edu/mdst/)) and the Michigan Student Symposium for Interdisciplinary Statistical Sciences ([MSSISS](https://sites.lsa.umich.edu/mssiss/)) have partnered with the City of Detroit to help solve one of the most pressing problems facing Detroit - blight. [Blight violations](http://www.detroitmi.gov/How-Do-I/Report/Blight-Complaint-FAQs) are issued by the city to individuals who allow their properties to remain in a deteriorated condition. Every year, the city of Detroit issues millions of dollars in fines to residents and every year, many of these fines remain unpaid. Enforcing unpaid blight fines is a costly and tedious process, so the city wants to know: how can we increase blight ticket compliance?\n",
    "\n",
    "The first step in answering this question is understanding when and why a resident might fail to comply with a blight ticket. This is where predictive modeling comes in. For this assignment, your task is to predict whether a given blight ticket will be paid on time.\n",
    "\n",
    "All data for this assignment has been provided to us through the [Detroit Open Data Portal](https://data.detroitmi.gov/). Nonetheless, we encourage you to look into data from other Detroit datasets to help inform feature creation and model selection. We recommend taking a look at the following related datasets:\n",
    "\n",
    "* [Building Permits](https://data.detroitmi.gov/Property-Parcels/Building-Permits/xw2a-a7tf)\n",
    "* [Trades Permits](https://data.detroitmi.gov/Property-Parcels/Trades-Permits/635b-dsgv)\n",
    "* [Improve Detroit: Submitted Issues](https://data.detroitmi.gov/Government/Improve-Detroit-Submitted-Issues/fwz3-w3yn)\n",
    "* [DPD: Citizen Complaints](https://data.detroitmi.gov/Public-Safety/DPD-Citizen-Complaints-2016/kahe-efs3)\n",
    "* [Parcel Map](https://data.detroitmi.gov/Property-Parcels/Parcel-Map/fxkw-udwf)\n",
    "\n",
    "___\n",
    "\n",
    "We provide you with two data files for use in training and validating your models: train.csv and test.csv. Each row in these two files corresponds to a single blight ticket, and includes information about when, why, and to whom each ticket was issued. The target variable is compliance, which is True if the ticket was paid early, on time, or within one month of the hearing data, False if the ticket was paid after the hearing date or not at all, and Null if the violator was found not responsible. Compliance, as well as a handful of other variables that will not be available at test-time, are only included in train.csv.\n",
    "\n",
    "Note: All tickets where the violators were found not responsible are not considered during evaluation. They are included in the training set as an additional source of data for visualization, and to enable unsupervised and semi-supervised approaches. However, they are not included in the test set.\n",
    "\n",
    "<br>\n",
    "\n",
    "**File descriptions** (Use only this data for training your model!)\n",
    "\n",
    "    readonly/train.csv - the training set (all tickets issued 2004-2011)\n",
    "    readonly/test.csv - the test set (all tickets issued 2012-2016)\n",
    "    readonly/addresses.csv & readonly/latlons.csv - mapping from ticket id to addresses, and from addresses to lat/lon coordinates. \n",
    "     Note: misspelled addresses may be incorrectly geolocated.\n",
    "\n",
    "<br>\n",
    "\n",
    "**Data fields**\n",
    "\n",
    "train.csv & test.csv\n",
    "\n",
    "    ticket_id - unique identifier for tickets\n",
    "    agency_name - Agency that issued the ticket\n",
    "    inspector_name - Name of inspector that issued the ticket\n",
    "    violator_name - Name of the person/organization that the ticket was issued to\n",
    "    violation_street_number, violation_street_name, violation_zip_code - Address where the violation occurred\n",
    "    mailing_address_str_number, mailing_address_str_name, city, state, zip_code, non_us_str_code, country - Mailing address of the violator\n",
    "    ticket_issued_date - Date and time the ticket was issued\n",
    "    hearing_date - Date and time the violator's hearing was scheduled\n",
    "    violation_code, violation_description - Type of violation\n",
    "    disposition - Judgment and judgement type\n",
    "    fine_amount - Violation fine amount, excluding fees\n",
    "    admin_fee - $20 fee assigned to responsible judgments\n",
    "state_fee - $10 fee assigned to responsible judgments\n",
    "    late_fee - 10% fee assigned to responsible judgments\n",
    "    discount_amount - discount applied, if any\n",
    "    clean_up_cost - DPW clean-up or graffiti removal cost\n",
    "    judgment_amount - Sum of all fines and fees\n",
    "    grafitti_status - Flag for graffiti violations\n",
    "    \n",
    "train.csv only\n",
    "\n",
    "    payment_amount - Amount paid, if any\n",
    "    payment_date - Date payment was made, if it was received\n",
    "    payment_status - Current payment status as of Feb 1 2017\n",
    "    balance_due - Fines and fees still owed\n",
    "    collection_status - Flag for payments in collections\n",
    "    compliance [target variable for prediction] \n",
    "     Null = Not responsible\n",
    "     0 = Responsible, non-compliant\n",
    "     1 = Responsible, compliant\n",
    "    compliance_detail - More information on why each ticket was marked compliant or non-compliant\n",
    "\n",
    "\n",
    "___\n",
    "\n",
    "## Evaluation\n",
    "\n",
    "Your predictions will be given as the probability that the corresponding blight ticket will be paid on time.\n",
    "\n",
    "The evaluation metric for this assignment is the Area Under the ROC Curve (AUC). \n",
    "___\n",
    "\n",
    "Create a function that trains a model to predict blight ticket compliance in Detroit using `train.csv`. Using this model, return a series of length 61001 with the data being the probability that each corresponding ticket from `test.csv` will be paid, and the index being the ticket_id.\n",
    "\n",
    "Example:\n",
    "\n",
    "    ticket_id\n",
    "       284932    0.531842\n",
    "       285362    0.401958\n",
    "       285361    0.105928\n",
    "       285338    0.018572\n",
    "                 ...\n",
    "       376499    0.208567\n",
    "       376500    0.818759\n",
    "       369851    0.018528\n",
    "       Name: compliance, dtype: float32"
   ]
  },
  {
   "cell_type": "markdown",
   "metadata": {},
   "source": [
    "# Import the python libraries"
   ]
  },
  {
   "cell_type": "code",
   "execution_count": 27,
   "metadata": {},
   "outputs": [],
   "source": [
    "import numpy as np\n",
    "import pandas as pd\n",
    "import matplotlib.pyplot as plt\n",
    "import matplotlib.ticker as mtick\n",
    "import matplotlib.patches as mpatches\n",
    "from matplotlib.colors import ListedColormap\n",
    "from sklearn.model_selection import train_test_split, cross_val_score\n",
    "from sklearn.preprocessing import LabelEncoder"
   ]
  },
  {
   "cell_type": "markdown",
   "metadata": {},
   "source": [
    "# Helper Functions"
   ]
  },
  {
   "cell_type": "markdown",
   "metadata": {},
   "source": [
    "## Datasets"
   ]
  },
  {
   "cell_type": "code",
   "execution_count": 186,
   "metadata": {},
   "outputs": [],
   "source": [
    "def prepare_train_dataset(file, columns):\n",
    "    df_train = pd.read_csv(file, encoding='ISO-8859-1', low_memory=False)\n",
    "    df_train = df_train[(df_train['city'].str.lower() == 'detroit') & (~df_train['compliance_detail'].str.contains('not responsible')) & (~df_train['compliance_detail'].str.contains('compliant by no fine'))].set_index('ticket_id')\n",
    "    df_train['owed_amount'] = df_train['judgment_amount'] - df_train['discount_amount']\n",
    "    X = df_train[columns]\n",
    "    y = df_train['compliance']\n",
    "\n",
    "    return X,y"
   ]
  },
  {
   "cell_type": "code",
   "execution_count": 3,
   "metadata": {},
   "outputs": [],
   "source": [
    "def transform(le, data_list):\n",
    "    \"\"\"\n",
    "    This will transform the data_list to id list where the new values get assigned to Unknown class\n",
    "    :param data_list:\n",
    "    :return:\n",
    "    \"\"\"\n",
    "    new_data_list = list(data_list)\n",
    "    for unique_item in np.unique(data_list):\n",
    "        if unique_item not in le.classes_:\n",
    "            new_data_list = ['Unknown' if x==unique_item else x for x in new_data_list]\n",
    "\n",
    "    return le.transform(new_data_list)"
   ]
  },
  {
   "cell_type": "markdown",
   "metadata": {},
   "source": [
    "## Plots"
   ]
  },
  {
   "cell_type": "code",
   "execution_count": 15,
   "metadata": {},
   "outputs": [],
   "source": [
    "def define_percentage_compliance(df, field):\n",
    "    compliance={}\n",
    "    compliance_values = [0,1]\n",
    "    for value in compliance_values:\n",
    "        compliance[value] = []\n",
    "    total_people = df[field].count()\n",
    "\n",
    "    compliance[1] = df[df['compliance'] == 1][field].value_counts()\n",
    "    compliance[0] = df[df['compliance'] == 0][field].value_counts()\n",
    "    compliance['total'] = total_people\n",
    "    \n",
    "    return compliance"
   ]
  },
  {
   "cell_type": "code",
   "execution_count": 5,
   "metadata": {},
   "outputs": [],
   "source": [
    "def define_percentage_compliance_folds(df, field, compliance_field='compliance', compliance_values=[0,1], folds=[50, 100, 150, 200, 250, 300, 350, 'rest']):\n",
    "    compliance={}\n",
    "    for value in compliance_values:\n",
    "        compliance[value] = []\n",
    "        \n",
    "    total_people = df[field].count()\n",
    "    \n",
    "    for i in range(len(folds)):\n",
    "        if folds[i] == 'rest':\n",
    "            for value in compliance_values:\n",
    "                compliance[value].append(df[(df[field] > folds[i-1]) & (df[compliance_field] == value)][field].count())\n",
    "        elif i == 0:\n",
    "            for value in compliance_values:\n",
    "                compliance[value].append(df[(df[field] <= folds[i]) & (df[compliance_field] == value)][field].count())\n",
    "        else:\n",
    "            for value in compliance_values:\n",
    "                compliance[value].append(df[(df[field] > folds[i-1]) & (df[field] <= folds[i]) & (df[compliance_field] == value)][field].count())\n",
    "\n",
    "    for key, values in compliance.items():\n",
    "        compliance[key] = [element/total_people for element in values]\n",
    "    \n",
    "    return compliance"
   ]
  },
  {
   "cell_type": "code",
   "execution_count": 6,
   "metadata": {},
   "outputs": [],
   "source": [
    "def plot_percent_compliance_bar_folds_chart(y, w=10, folds=[50, 100, 150, 200, 250, 300, 350, 400], folds_ticks=['0~50', '50~100', '100~150', '150~200', '200~250', '250~300', '300~350', '>350'], legend=['Compliant', 'Not Compliant']):\n",
    "    plt.figure(figsize=(12,6))\n",
    "    ax = plt.subplot(111)\n",
    "    ax.bar([element - w/2 for element in folds], y[1], width=w) \n",
    "    ax.bar([element + w/2 for element in folds], y[0], width=w) \n",
    "    \n",
    "    ax.yaxis.set_major_formatter(mtick.PercentFormatter(1.0))\n",
    "    plt.xticks(folds, folds_ticks)\n",
    "    plt.legend(legend, loc='best', framealpha=0.0)\n",
    "    plt.show()"
   ]
  },
  {
   "cell_type": "code",
   "execution_count": 16,
   "metadata": {},
   "outputs": [],
   "source": [
    "def plot_percent_compliance_bar_chart(field, xlim=(), ylim=(), legend=['Compliant', 'Not Compliant']):\n",
    "    compliance = define_percentage_compliance(df, field)\n",
    "    plt.figure(figsize=(12,6))\n",
    "    ax = plt.subplot()\n",
    "    w = 1\n",
    "    ax.bar([element - w/2 for element in list(compliance[1].index)], compliance[1].apply(lambda x: x/compliance['total']), width=w) \n",
    "    ax.bar([element + w/2 for element in list(compliance[0].index)], compliance[0].apply(lambda x: x/compliance['total']), width=w)\n",
    "\n",
    "    \n",
    "    if len(xlim) > 0:\n",
    "        plt.xlim(xlim[0], xlim[1])\n",
    "    \n",
    "    if len(ylim) > 0:\n",
    "        plt.ylim(ylim[0], ylim[1])\n",
    "    \n",
    "    ax.yaxis.set_major_formatter(mtick.PercentFormatter(1.0))\n",
    "    plt.legend(legend, loc='best', framealpha=0.0)\n",
    "    plt.show()"
   ]
  },
  {
   "cell_type": "code",
   "execution_count": 19,
   "metadata": {},
   "outputs": [],
   "source": [
    "def plot_percent_compliance_scatter_chart(field, xlim=(), ylim=(), legend=['Compliant', 'Not Compliant']):\n",
    "    compliance = define_percentage_compliance(df, field)\n",
    "    plt.figure(figsize=(12,6))\n",
    "    ax = plt.subplot(111)\n",
    "    ax.scatter(compliance[1].index, compliance[1].apply(lambda x: x/compliance['total']), marker='o') \n",
    "    ax.scatter(compliance[0].index, compliance[0].apply(lambda x: x/compliance['total']), marker='o')\n",
    "    \n",
    "    if len(xlim) > 0:\n",
    "        plt.xlim(xlim[0], xlim[1])\n",
    "    \n",
    "    if len(ylim) > 0:\n",
    "        plt.ylim(ylim[0], ylim[1])\n",
    "    \n",
    "    ax.yaxis.set_major_formatter(mtick.PercentFormatter(1.0))\n",
    "    plt.legend(legend, loc='best', framealpha=0.0)\n",
    "    plt.show()"
   ]
  },
  {
   "cell_type": "code",
   "execution_count": 9,
   "metadata": {},
   "outputs": [],
   "source": [
    "def plot_compliance_scatter_features_chart(df, x, y, colors = ['#FF7F0E', '#1F77B4'], xticks=[], yticks=[], xlim=(), ylim=(), legend=['Not Compliant', 'Compliant']):\n",
    "    plt.figure(figsize=(12,6))\n",
    "    ax = plt.subplot(111)\n",
    "    ax.scatter(df[x], df[y], c=df['compliance'], cmap=ListedColormap(colors), marker='o') \n",
    "    \n",
    "    if len(xticks) > 0:\n",
    "        x_interval=[]\n",
    "        for i in range(len(xticks)):\n",
    "            x_interval.append(i)\n",
    "        plt.xticks(x_interval, xticks)\n",
    "    \n",
    "    if len(yticks) > 0:\n",
    "        y_interval=[]\n",
    "        for i in range(len(yticks)):\n",
    "            y_interval.append(i)\n",
    "        plt.yticks(y_interval, yticks)\n",
    "        \n",
    "    if len(xlim) > 0:\n",
    "        plt.xlim(xlim[0], xlim[1])\n",
    "    \n",
    "    if len(ylim) > 0:\n",
    "        plt.ylim(ylim[0], ylim[1])\n",
    "    \n",
    "    legend_handles = []\n",
    "    for i in range(0, len(legend)):\n",
    "        patch = mpatches.Patch(color=colors[i], label=legend[i])\n",
    "        legend_handles.append(patch)\n",
    "    ax.legend(loc=0, handles=legend_handles, framealpha=0.0)\n",
    "    \n",
    "    plt.show()"
   ]
  },
  {
   "cell_type": "markdown",
   "metadata": {},
   "source": [
    "# Features information"
   ]
  },
  {
   "cell_type": "code",
   "execution_count": 90,
   "metadata": {},
   "outputs": [
    {
     "name": "stdout",
     "output_type": "stream",
     "text": [
      "Percentage of compliant people: 7.00%\n",
      "Percentage of non-compliant people: 93.00%\n"
     ]
    }
   ],
   "source": [
    "total_compliant_people = df[df['compliance'] == 1]['compliance'].value_counts().sum()\n",
    "total_non_compliant_people = df[df['compliance'] == 0]['compliance'].value_counts().sum()\n",
    "total_people = total_compliant_people + total_non_compliant_people\n",
    "print('Percentage of compliant people: {:.2f}%'.format(total_compliant_people/total_people*100))\n",
    "print('Percentage of non-compliant people: {:.2f}%'.format(total_non_compliant_people/total_people*100))"
   ]
  },
  {
   "cell_type": "markdown",
   "metadata": {},
   "source": [
    "For executing the `describe()` command, first I removed all entries that are not from Detroit and the person was not fined (considered not responsible or compliant by no fine)"
   ]
  },
  {
   "cell_type": "code",
   "execution_count": 11,
   "metadata": {},
   "outputs": [
    {
     "data": {
      "text/html": [
       "<div>\n",
       "<style scoped>\n",
       "    .dataframe tbody tr th:only-of-type {\n",
       "        vertical-align: middle;\n",
       "    }\n",
       "\n",
       "    .dataframe tbody tr th {\n",
       "        vertical-align: top;\n",
       "    }\n",
       "\n",
       "    .dataframe thead th {\n",
       "        text-align: right;\n",
       "    }\n",
       "</style>\n",
       "<table border=\"1\" class=\"dataframe\">\n",
       "  <thead>\n",
       "    <tr style=\"text-align: right;\">\n",
       "      <th></th>\n",
       "      <th>violation_street_number</th>\n",
       "      <th>violation_zip_code</th>\n",
       "      <th>mailing_address_str_number</th>\n",
       "      <th>fine_amount</th>\n",
       "      <th>admin_fee</th>\n",
       "      <th>state_fee</th>\n",
       "      <th>late_fee</th>\n",
       "      <th>discount_amount</th>\n",
       "      <th>clean_up_cost</th>\n",
       "      <th>judgment_amount</th>\n",
       "      <th>payment_amount</th>\n",
       "      <th>balance_due</th>\n",
       "      <th>compliance</th>\n",
       "    </tr>\n",
       "  </thead>\n",
       "  <tbody>\n",
       "    <tr>\n",
       "      <th>count</th>\n",
       "      <td>9.586500e+04</td>\n",
       "      <td>0.0</td>\n",
       "      <td>9.516800e+04</td>\n",
       "      <td>95865.000000</td>\n",
       "      <td>95865.0</td>\n",
       "      <td>95865.0</td>\n",
       "      <td>95865.000000</td>\n",
       "      <td>95865.000000</td>\n",
       "      <td>95865.0</td>\n",
       "      <td>95865.000000</td>\n",
       "      <td>95865.000000</td>\n",
       "      <td>95865.000000</td>\n",
       "      <td>95865.000000</td>\n",
       "    </tr>\n",
       "    <tr>\n",
       "      <th>mean</th>\n",
       "      <td>1.029785e+04</td>\n",
       "      <td>NaN</td>\n",
       "      <td>7.873750e+03</td>\n",
       "      <td>324.560789</td>\n",
       "      <td>20.0</td>\n",
       "      <td>10.0</td>\n",
       "      <td>30.632728</td>\n",
       "      <td>0.158170</td>\n",
       "      <td>0.0</td>\n",
       "      <td>385.193517</td>\n",
       "      <td>57.551083</td>\n",
       "      <td>327.484348</td>\n",
       "      <td>0.069953</td>\n",
       "    </tr>\n",
       "    <tr>\n",
       "      <th>std</th>\n",
       "      <td>4.647504e+04</td>\n",
       "      <td>NaN</td>\n",
       "      <td>2.305454e+04</td>\n",
       "      <td>599.643509</td>\n",
       "      <td>0.0</td>\n",
       "      <td>0.0</td>\n",
       "      <td>60.198046</td>\n",
       "      <td>2.905758</td>\n",
       "      <td>0.0</td>\n",
       "      <td>659.207965</td>\n",
       "      <td>166.379413</td>\n",
       "      <td>664.317336</td>\n",
       "      <td>0.255068</td>\n",
       "    </tr>\n",
       "    <tr>\n",
       "      <th>min</th>\n",
       "      <td>0.000000e+00</td>\n",
       "      <td>NaN</td>\n",
       "      <td>1.000000e+00</td>\n",
       "      <td>25.000000</td>\n",
       "      <td>20.0</td>\n",
       "      <td>10.0</td>\n",
       "      <td>0.000000</td>\n",
       "      <td>0.000000</td>\n",
       "      <td>0.0</td>\n",
       "      <td>55.000000</td>\n",
       "      <td>0.000000</td>\n",
       "      <td>-3280.000000</td>\n",
       "      <td>0.000000</td>\n",
       "    </tr>\n",
       "    <tr>\n",
       "      <th>25%</th>\n",
       "      <td>4.309000e+03</td>\n",
       "      <td>NaN</td>\n",
       "      <td>8.310000e+02</td>\n",
       "      <td>200.000000</td>\n",
       "      <td>20.0</td>\n",
       "      <td>10.0</td>\n",
       "      <td>10.000000</td>\n",
       "      <td>0.000000</td>\n",
       "      <td>0.0</td>\n",
       "      <td>250.000000</td>\n",
       "      <td>0.000000</td>\n",
       "      <td>85.000000</td>\n",
       "      <td>0.000000</td>\n",
       "    </tr>\n",
       "    <tr>\n",
       "      <th>50%</th>\n",
       "      <td>9.501000e+03</td>\n",
       "      <td>NaN</td>\n",
       "      <td>2.661000e+03</td>\n",
       "      <td>250.000000</td>\n",
       "      <td>20.0</td>\n",
       "      <td>10.0</td>\n",
       "      <td>25.000000</td>\n",
       "      <td>0.000000</td>\n",
       "      <td>0.0</td>\n",
       "      <td>305.000000</td>\n",
       "      <td>0.000000</td>\n",
       "      <td>305.000000</td>\n",
       "      <td>0.000000</td>\n",
       "    </tr>\n",
       "    <tr>\n",
       "      <th>75%</th>\n",
       "      <td>1.539700e+04</td>\n",
       "      <td>NaN</td>\n",
       "      <td>1.354100e+04</td>\n",
       "      <td>250.000000</td>\n",
       "      <td>20.0</td>\n",
       "      <td>10.0</td>\n",
       "      <td>25.000000</td>\n",
       "      <td>0.000000</td>\n",
       "      <td>0.0</td>\n",
       "      <td>305.000000</td>\n",
       "      <td>0.000000</td>\n",
       "      <td>305.000000</td>\n",
       "      <td>0.000000</td>\n",
       "    </tr>\n",
       "    <tr>\n",
       "      <th>max</th>\n",
       "      <td>1.415411e+07</td>\n",
       "      <td>NaN</td>\n",
       "      <td>3.511219e+06</td>\n",
       "      <td>10000.000000</td>\n",
       "      <td>20.0</td>\n",
       "      <td>10.0</td>\n",
       "      <td>1000.000000</td>\n",
       "      <td>350.000000</td>\n",
       "      <td>0.0</td>\n",
       "      <td>11030.000000</td>\n",
       "      <td>11030.000000</td>\n",
       "      <td>11030.000000</td>\n",
       "      <td>1.000000</td>\n",
       "    </tr>\n",
       "  </tbody>\n",
       "</table>\n",
       "</div>"
      ],
      "text/plain": [
       "       violation_street_number  violation_zip_code  \\\n",
       "count             9.586500e+04                 0.0   \n",
       "mean              1.029785e+04                 NaN   \n",
       "std               4.647504e+04                 NaN   \n",
       "min               0.000000e+00                 NaN   \n",
       "25%               4.309000e+03                 NaN   \n",
       "50%               9.501000e+03                 NaN   \n",
       "75%               1.539700e+04                 NaN   \n",
       "max               1.415411e+07                 NaN   \n",
       "\n",
       "       mailing_address_str_number   fine_amount  admin_fee  state_fee  \\\n",
       "count                9.516800e+04  95865.000000    95865.0    95865.0   \n",
       "mean                 7.873750e+03    324.560789       20.0       10.0   \n",
       "std                  2.305454e+04    599.643509        0.0        0.0   \n",
       "min                  1.000000e+00     25.000000       20.0       10.0   \n",
       "25%                  8.310000e+02    200.000000       20.0       10.0   \n",
       "50%                  2.661000e+03    250.000000       20.0       10.0   \n",
       "75%                  1.354100e+04    250.000000       20.0       10.0   \n",
       "max                  3.511219e+06  10000.000000       20.0       10.0   \n",
       "\n",
       "           late_fee  discount_amount  clean_up_cost  judgment_amount  \\\n",
       "count  95865.000000     95865.000000        95865.0     95865.000000   \n",
       "mean      30.632728         0.158170            0.0       385.193517   \n",
       "std       60.198046         2.905758            0.0       659.207965   \n",
       "min        0.000000         0.000000            0.0        55.000000   \n",
       "25%       10.000000         0.000000            0.0       250.000000   \n",
       "50%       25.000000         0.000000            0.0       305.000000   \n",
       "75%       25.000000         0.000000            0.0       305.000000   \n",
       "max     1000.000000       350.000000            0.0     11030.000000   \n",
       "\n",
       "       payment_amount   balance_due    compliance  \n",
       "count    95865.000000  95865.000000  95865.000000  \n",
       "mean        57.551083    327.484348      0.069953  \n",
       "std        166.379413    664.317336      0.255068  \n",
       "min          0.000000  -3280.000000      0.000000  \n",
       "25%          0.000000     85.000000      0.000000  \n",
       "50%          0.000000    305.000000      0.000000  \n",
       "75%          0.000000    305.000000      0.000000  \n",
       "max      11030.000000  11030.000000      1.000000  "
      ]
     },
     "execution_count": 11,
     "metadata": {},
     "output_type": "execute_result"
    }
   ],
   "source": [
    "df = pd.read_csv('csv/train.csv', encoding='ISO-8859-1', low_memory=False)\n",
    "df = df[(df['city'].str.lower() == 'detroit') & (~df['compliance_detail'].str.contains('not responsible')) & (~df['compliance_detail'].str.contains('compliant by no fine'))].set_index('ticket_id')\n",
    "df.describe()"
   ]
  },
  {
   "cell_type": "code",
   "execution_count": 74,
   "metadata": {},
   "outputs": [
    {
     "data": {
      "text/html": [
       "<div>\n",
       "<style scoped>\n",
       "    .dataframe tbody tr th:only-of-type {\n",
       "        vertical-align: middle;\n",
       "    }\n",
       "\n",
       "    .dataframe tbody tr th {\n",
       "        vertical-align: top;\n",
       "    }\n",
       "\n",
       "    .dataframe thead th {\n",
       "        text-align: right;\n",
       "    }\n",
       "</style>\n",
       "<table border=\"1\" class=\"dataframe\">\n",
       "  <thead>\n",
       "    <tr style=\"text-align: right;\">\n",
       "      <th></th>\n",
       "      <th>discount_amount</th>\n",
       "      <th>judgment_amount</th>\n",
       "      <th>payment_amount</th>\n",
       "      <th>balance_due</th>\n",
       "    </tr>\n",
       "    <tr>\n",
       "      <th>ticket_id</th>\n",
       "      <th></th>\n",
       "      <th></th>\n",
       "      <th></th>\n",
       "      <th></th>\n",
       "    </tr>\n",
       "  </thead>\n",
       "  <tbody>\n",
       "    <tr>\n",
       "      <th>20851</th>\n",
       "      <td>30.0</td>\n",
       "      <td>330.0</td>\n",
       "      <td>260.0</td>\n",
       "      <td>40.0</td>\n",
       "    </tr>\n",
       "    <tr>\n",
       "      <th>22450</th>\n",
       "      <td>25.0</td>\n",
       "      <td>280.0</td>\n",
       "      <td>280.0</td>\n",
       "      <td>-25.0</td>\n",
       "    </tr>\n",
       "    <tr>\n",
       "      <th>22634</th>\n",
       "      <td>10.0</td>\n",
       "      <td>130.0</td>\n",
       "      <td>120.0</td>\n",
       "      <td>0.0</td>\n",
       "    </tr>\n",
       "    <tr>\n",
       "      <th>22757</th>\n",
       "      <td>25.0</td>\n",
       "      <td>280.0</td>\n",
       "      <td>255.0</td>\n",
       "      <td>0.0</td>\n",
       "    </tr>\n",
       "    <tr>\n",
       "      <th>24321</th>\n",
       "      <td>25.0</td>\n",
       "      <td>280.0</td>\n",
       "      <td>280.0</td>\n",
       "      <td>-25.0</td>\n",
       "    </tr>\n",
       "  </tbody>\n",
       "</table>\n",
       "</div>"
      ],
      "text/plain": [
       "           discount_amount  judgment_amount  payment_amount  balance_due\n",
       "ticket_id                                                               \n",
       "20851                 30.0            330.0           260.0         40.0\n",
       "22450                 25.0            280.0           280.0        -25.0\n",
       "22634                 10.0            130.0           120.0          0.0\n",
       "22757                 25.0            280.0           255.0          0.0\n",
       "24321                 25.0            280.0           280.0        -25.0"
      ]
     },
     "execution_count": 74,
     "metadata": {},
     "output_type": "execute_result"
    }
   ],
   "source": [
    "df[df['discount_amount'] != 0][['discount_amount', 'judgment_amount', 'payment_amount', 'balance_due']].head()"
   ]
  },
  {
   "cell_type": "markdown",
   "metadata": {},
   "source": [
    "Analysing the tables above and the variable descriptions given, I decided to use the total owed amount value to train the model.<br>\n",
    "Since there is no column with this value, I created the owed_amount column with the following formula:\n",
    "<p style='text-align:center;'><strong>owed_amount = judgment_amount - discount_amount</strong></p>"
   ]
  },
  {
   "cell_type": "code",
   "execution_count": 66,
   "metadata": {},
   "outputs": [
    {
     "data": {
      "text/html": [
       "<div>\n",
       "<style scoped>\n",
       "    .dataframe tbody tr th:only-of-type {\n",
       "        vertical-align: middle;\n",
       "    }\n",
       "\n",
       "    .dataframe tbody tr th {\n",
       "        vertical-align: top;\n",
       "    }\n",
       "\n",
       "    .dataframe thead th {\n",
       "        text-align: right;\n",
       "    }\n",
       "</style>\n",
       "<table border=\"1\" class=\"dataframe\">\n",
       "  <thead>\n",
       "    <tr style=\"text-align: right;\">\n",
       "      <th></th>\n",
       "      <th>discount_amount</th>\n",
       "      <th>judgment_amount</th>\n",
       "      <th>owed_amount</th>\n",
       "    </tr>\n",
       "    <tr>\n",
       "      <th>ticket_id</th>\n",
       "      <th></th>\n",
       "      <th></th>\n",
       "      <th></th>\n",
       "    </tr>\n",
       "  </thead>\n",
       "  <tbody>\n",
       "    <tr>\n",
       "      <th>20851</th>\n",
       "      <td>30.0</td>\n",
       "      <td>330.0</td>\n",
       "      <td>300.0</td>\n",
       "    </tr>\n",
       "    <tr>\n",
       "      <th>22450</th>\n",
       "      <td>25.0</td>\n",
       "      <td>280.0</td>\n",
       "      <td>255.0</td>\n",
       "    </tr>\n",
       "    <tr>\n",
       "      <th>22634</th>\n",
       "      <td>10.0</td>\n",
       "      <td>130.0</td>\n",
       "      <td>120.0</td>\n",
       "    </tr>\n",
       "    <tr>\n",
       "      <th>22757</th>\n",
       "      <td>25.0</td>\n",
       "      <td>280.0</td>\n",
       "      <td>255.0</td>\n",
       "    </tr>\n",
       "    <tr>\n",
       "      <th>24321</th>\n",
       "      <td>25.0</td>\n",
       "      <td>280.0</td>\n",
       "      <td>255.0</td>\n",
       "    </tr>\n",
       "  </tbody>\n",
       "</table>\n",
       "</div>"
      ],
      "text/plain": [
       "           discount_amount  judgment_amount  owed_amount\n",
       "ticket_id                                               \n",
       "20851                 30.0            330.0        300.0\n",
       "22450                 25.0            280.0        255.0\n",
       "22634                 10.0            130.0        120.0\n",
       "22757                 25.0            280.0        255.0\n",
       "24321                 25.0            280.0        255.0"
      ]
     },
     "execution_count": 66,
     "metadata": {},
     "output_type": "execute_result"
    }
   ],
   "source": [
    "df['owed_amount'] = df['judgment_amount'] - df['discount_amount']\n",
    "df[df['discount_amount'] != 0][['discount_amount', 'judgment_amount', 'payment_amount', 'balance_due']].head()"
   ]
  },
  {
   "cell_type": "code",
   "execution_count": 67,
   "metadata": {},
   "outputs": [
    {
     "data": {
      "text/html": [
       "<div>\n",
       "<style scoped>\n",
       "    .dataframe tbody tr th:only-of-type {\n",
       "        vertical-align: middle;\n",
       "    }\n",
       "\n",
       "    .dataframe tbody tr th {\n",
       "        vertical-align: top;\n",
       "    }\n",
       "\n",
       "    .dataframe thead th {\n",
       "        text-align: right;\n",
       "    }\n",
       "</style>\n",
       "<table border=\"1\" class=\"dataframe\">\n",
       "  <thead>\n",
       "    <tr style=\"text-align: right;\">\n",
       "      <th></th>\n",
       "      <th>violation_street_number</th>\n",
       "      <th>violation_zip_code</th>\n",
       "      <th>mailing_address_str_number</th>\n",
       "      <th>fine_amount</th>\n",
       "      <th>admin_fee</th>\n",
       "      <th>state_fee</th>\n",
       "      <th>late_fee</th>\n",
       "      <th>discount_amount</th>\n",
       "      <th>clean_up_cost</th>\n",
       "      <th>judgment_amount</th>\n",
       "      <th>payment_amount</th>\n",
       "      <th>balance_due</th>\n",
       "      <th>compliance</th>\n",
       "      <th>disposition_category</th>\n",
       "      <th>owed_amount</th>\n",
       "    </tr>\n",
       "  </thead>\n",
       "  <tbody>\n",
       "    <tr>\n",
       "      <th>count</th>\n",
       "      <td>9.586500e+04</td>\n",
       "      <td>0.0</td>\n",
       "      <td>9.516800e+04</td>\n",
       "      <td>95865.000000</td>\n",
       "      <td>95865.0</td>\n",
       "      <td>95865.0</td>\n",
       "      <td>95865.000000</td>\n",
       "      <td>95865.000000</td>\n",
       "      <td>95865.0</td>\n",
       "      <td>95865.000000</td>\n",
       "      <td>95865.000000</td>\n",
       "      <td>95865.000000</td>\n",
       "      <td>95865.000000</td>\n",
       "      <td>95865.000000</td>\n",
       "      <td>95865.000000</td>\n",
       "    </tr>\n",
       "    <tr>\n",
       "      <th>mean</th>\n",
       "      <td>1.029785e+04</td>\n",
       "      <td>NaN</td>\n",
       "      <td>7.873750e+03</td>\n",
       "      <td>324.560789</td>\n",
       "      <td>20.0</td>\n",
       "      <td>10.0</td>\n",
       "      <td>30.632728</td>\n",
       "      <td>0.158170</td>\n",
       "      <td>0.0</td>\n",
       "      <td>385.193517</td>\n",
       "      <td>57.551083</td>\n",
       "      <td>327.484348</td>\n",
       "      <td>0.069953</td>\n",
       "      <td>1.025932</td>\n",
       "      <td>385.035347</td>\n",
       "    </tr>\n",
       "    <tr>\n",
       "      <th>std</th>\n",
       "      <td>4.647504e+04</td>\n",
       "      <td>NaN</td>\n",
       "      <td>2.305454e+04</td>\n",
       "      <td>599.643509</td>\n",
       "      <td>0.0</td>\n",
       "      <td>0.0</td>\n",
       "      <td>60.198046</td>\n",
       "      <td>2.905758</td>\n",
       "      <td>0.0</td>\n",
       "      <td>659.207965</td>\n",
       "      <td>166.379413</td>\n",
       "      <td>664.317336</td>\n",
       "      <td>0.255068</td>\n",
       "      <td>0.365372</td>\n",
       "      <td>659.171134</td>\n",
       "    </tr>\n",
       "    <tr>\n",
       "      <th>min</th>\n",
       "      <td>0.000000e+00</td>\n",
       "      <td>NaN</td>\n",
       "      <td>1.000000e+00</td>\n",
       "      <td>25.000000</td>\n",
       "      <td>20.0</td>\n",
       "      <td>10.0</td>\n",
       "      <td>0.000000</td>\n",
       "      <td>0.000000</td>\n",
       "      <td>0.0</td>\n",
       "      <td>55.000000</td>\n",
       "      <td>0.000000</td>\n",
       "      <td>-3280.000000</td>\n",
       "      <td>0.000000</td>\n",
       "      <td>0.000000</td>\n",
       "      <td>52.000000</td>\n",
       "    </tr>\n",
       "    <tr>\n",
       "      <th>25%</th>\n",
       "      <td>4.309000e+03</td>\n",
       "      <td>NaN</td>\n",
       "      <td>8.310000e+02</td>\n",
       "      <td>200.000000</td>\n",
       "      <td>20.0</td>\n",
       "      <td>10.0</td>\n",
       "      <td>10.000000</td>\n",
       "      <td>0.000000</td>\n",
       "      <td>0.0</td>\n",
       "      <td>250.000000</td>\n",
       "      <td>0.000000</td>\n",
       "      <td>85.000000</td>\n",
       "      <td>0.000000</td>\n",
       "      <td>1.000000</td>\n",
       "      <td>250.000000</td>\n",
       "    </tr>\n",
       "    <tr>\n",
       "      <th>50%</th>\n",
       "      <td>9.501000e+03</td>\n",
       "      <td>NaN</td>\n",
       "      <td>2.661000e+03</td>\n",
       "      <td>250.000000</td>\n",
       "      <td>20.0</td>\n",
       "      <td>10.0</td>\n",
       "      <td>25.000000</td>\n",
       "      <td>0.000000</td>\n",
       "      <td>0.0</td>\n",
       "      <td>305.000000</td>\n",
       "      <td>0.000000</td>\n",
       "      <td>305.000000</td>\n",
       "      <td>0.000000</td>\n",
       "      <td>1.000000</td>\n",
       "      <td>305.000000</td>\n",
       "    </tr>\n",
       "    <tr>\n",
       "      <th>75%</th>\n",
       "      <td>1.539700e+04</td>\n",
       "      <td>NaN</td>\n",
       "      <td>1.354100e+04</td>\n",
       "      <td>250.000000</td>\n",
       "      <td>20.0</td>\n",
       "      <td>10.0</td>\n",
       "      <td>25.000000</td>\n",
       "      <td>0.000000</td>\n",
       "      <td>0.0</td>\n",
       "      <td>305.000000</td>\n",
       "      <td>0.000000</td>\n",
       "      <td>305.000000</td>\n",
       "      <td>0.000000</td>\n",
       "      <td>1.000000</td>\n",
       "      <td>305.000000</td>\n",
       "    </tr>\n",
       "    <tr>\n",
       "      <th>max</th>\n",
       "      <td>1.415411e+07</td>\n",
       "      <td>NaN</td>\n",
       "      <td>3.511219e+06</td>\n",
       "      <td>10000.000000</td>\n",
       "      <td>20.0</td>\n",
       "      <td>10.0</td>\n",
       "      <td>1000.000000</td>\n",
       "      <td>350.000000</td>\n",
       "      <td>0.0</td>\n",
       "      <td>11030.000000</td>\n",
       "      <td>11030.000000</td>\n",
       "      <td>11030.000000</td>\n",
       "      <td>1.000000</td>\n",
       "      <td>2.000000</td>\n",
       "      <td>11030.000000</td>\n",
       "    </tr>\n",
       "  </tbody>\n",
       "</table>\n",
       "</div>"
      ],
      "text/plain": [
       "       violation_street_number  violation_zip_code  \\\n",
       "count             9.586500e+04                 0.0   \n",
       "mean              1.029785e+04                 NaN   \n",
       "std               4.647504e+04                 NaN   \n",
       "min               0.000000e+00                 NaN   \n",
       "25%               4.309000e+03                 NaN   \n",
       "50%               9.501000e+03                 NaN   \n",
       "75%               1.539700e+04                 NaN   \n",
       "max               1.415411e+07                 NaN   \n",
       "\n",
       "       mailing_address_str_number   fine_amount  admin_fee  state_fee  \\\n",
       "count                9.516800e+04  95865.000000    95865.0    95865.0   \n",
       "mean                 7.873750e+03    324.560789       20.0       10.0   \n",
       "std                  2.305454e+04    599.643509        0.0        0.0   \n",
       "min                  1.000000e+00     25.000000       20.0       10.0   \n",
       "25%                  8.310000e+02    200.000000       20.0       10.0   \n",
       "50%                  2.661000e+03    250.000000       20.0       10.0   \n",
       "75%                  1.354100e+04    250.000000       20.0       10.0   \n",
       "max                  3.511219e+06  10000.000000       20.0       10.0   \n",
       "\n",
       "           late_fee  discount_amount  clean_up_cost  judgment_amount  \\\n",
       "count  95865.000000     95865.000000        95865.0     95865.000000   \n",
       "mean      30.632728         0.158170            0.0       385.193517   \n",
       "std       60.198046         2.905758            0.0       659.207965   \n",
       "min        0.000000         0.000000            0.0        55.000000   \n",
       "25%       10.000000         0.000000            0.0       250.000000   \n",
       "50%       25.000000         0.000000            0.0       305.000000   \n",
       "75%       25.000000         0.000000            0.0       305.000000   \n",
       "max     1000.000000       350.000000            0.0     11030.000000   \n",
       "\n",
       "       payment_amount   balance_due    compliance  disposition_category  \\\n",
       "count    95865.000000  95865.000000  95865.000000          95865.000000   \n",
       "mean        57.551083    327.484348      0.069953              1.025932   \n",
       "std        166.379413    664.317336      0.255068              0.365372   \n",
       "min          0.000000  -3280.000000      0.000000              0.000000   \n",
       "25%          0.000000     85.000000      0.000000              1.000000   \n",
       "50%          0.000000    305.000000      0.000000              1.000000   \n",
       "75%          0.000000    305.000000      0.000000              1.000000   \n",
       "max      11030.000000  11030.000000      1.000000              2.000000   \n",
       "\n",
       "        owed_amount  \n",
       "count  95865.000000  \n",
       "mean     385.035347  \n",
       "std      659.171134  \n",
       "min       52.000000  \n",
       "25%      250.000000  \n",
       "50%      305.000000  \n",
       "75%      305.000000  \n",
       "max    11030.000000  "
      ]
     },
     "execution_count": 67,
     "metadata": {},
     "output_type": "execute_result"
    }
   ],
   "source": [
    "df.describe()"
   ]
  },
  {
   "cell_type": "markdown",
   "metadata": {},
   "source": [
    "Since the mean value of the owed_amount column is 385.0, 75% of the values are lower than 305 and the standard deviation is 659.2, we can infer that there are a lot of outliers in this column.\n",
    "I plotted the charts below to have an overview of the distribution of the column values."
   ]
  },
  {
   "cell_type": "markdown",
   "metadata": {},
   "source": [
    "## owed_amount"
   ]
  },
  {
   "cell_type": "markdown",
   "metadata": {},
   "source": [
    "Bar plot with interval percentages"
   ]
  },
  {
   "cell_type": "code",
   "execution_count": 75,
   "metadata": {},
   "outputs": [
    {
     "data": {
      "image/png": "[encoded data removed]",
      "text/plain": [
       "<Figure size 864x432 with 1 Axes>"
      ]
     },
     "metadata": {
      "needs_background": "light"
     },
     "output_type": "display_data"
    }
   ],
   "source": [
    "compliance_sizes = define_percentage_compliance_folds(df, 'owed_amount')\n",
    "plot_percent_compliance_bar_folds_chart(compliance_sizes)"
   ]
  },
  {
   "cell_type": "markdown",
   "metadata": {},
   "source": [
    "Scatter plot with percentage value of each exact amount"
   ]
  },
  {
   "cell_type": "code",
   "execution_count": 76,
   "metadata": {},
   "outputs": [
    {
     "data": {
      "image/png": "[encoded data removed]",
      "text/plain": [
       "<Figure size 864x432 with 1 Axes>"
      ]
     },
     "metadata": {
      "needs_background": "light"
     },
     "output_type": "display_data"
    }
   ],
   "source": [
    "plot_percent_compliance_scatter_chart('owed_amount')"
   ]
  },
  {
   "cell_type": "markdown",
   "metadata": {},
   "source": [
    "Zoomed the scatter plot to owed amounts between 0 and 400 dolars."
   ]
  },
  {
   "cell_type": "code",
   "execution_count": 77,
   "metadata": {},
   "outputs": [
    {
     "data": {
      "image/png": "[encoded data removed]",
      "text/plain": [
       "<Figure size 864x432 with 1 Axes>"
      ]
     },
     "metadata": {
      "needs_background": "light"
     },
     "output_type": "display_data"
    }
   ],
   "source": [
    "plot_percent_compliance_scatter_chart('owed_amount', xlim=(0,400))"
   ]
  },
  {
   "cell_type": "code",
   "execution_count": 78,
   "metadata": {},
   "outputs": [
    {
     "data": {
      "image/png": "[encoded data removed]",
      "text/plain": [
       "<Figure size 864x432 with 1 Axes>"
      ]
     },
     "metadata": {
      "needs_background": "light"
     },
     "output_type": "display_data"
    }
   ],
   "source": [
    "plot_percent_compliance_bar_chart('owed_amount', xlim=(0,400))"
   ]
  },
  {
   "cell_type": "markdown",
   "metadata": {},
   "source": [
    "## disposition"
   ]
  },
  {
   "cell_type": "markdown",
   "metadata": {},
   "source": [
    "Plot the scatter chart to visualize the distribution of compliant and not compliant entries by disposition"
   ]
  },
  {
   "cell_type": "code",
   "execution_count": 23,
   "metadata": {},
   "outputs": [
    {
     "data": {
      "text/plain": [
       "array(['Responsible by Determination', 'Responsible by Default',\n",
       "       'Responsible by Admission'], dtype=object)"
      ]
     },
     "execution_count": 23,
     "metadata": {},
     "output_type": "execute_result"
    }
   ],
   "source": [
    "df['disposition'].unique()"
   ]
  },
  {
   "cell_type": "code",
   "execution_count": 24,
   "metadata": {},
   "outputs": [
    {
     "data": {
      "image/png": "[encoded data removed]",
      "text/plain": [
       "<Figure size 864x432 with 1 Axes>"
      ]
     },
     "metadata": {
      "needs_background": "light"
     },
     "output_type": "display_data"
    }
   ],
   "source": [
    "total_people = df['disposition'].count()\n",
    "compliance_sizes={}\n",
    "compliance_sizes[1] = df[df['compliance'] == 1]['disposition'].value_counts().apply(lambda x: x/total_people)\n",
    "compliance_sizes[0] = df[df['compliance'] == 0]['disposition'].value_counts().apply(lambda x: x/total_people)\n",
    "plot_percent_compliance_bar_folds_chart(compliance_sizes, folds=[50, 100, 150], folds_ticks=compliance_sizes[0].index)"
   ]
  },
  {
   "cell_type": "markdown",
   "metadata": {},
   "source": [
    "Distribution of compliant and not compliant entries using both features"
   ]
  },
  {
   "cell_type": "code",
   "execution_count": 25,
   "metadata": {},
   "outputs": [
    {
     "data": {
      "text/plain": [
       "array(['Responsible by Determination', 'Responsible by Default',\n",
       "       'Responsible by Admission'], dtype=object)"
      ]
     },
     "execution_count": 25,
     "metadata": {},
     "output_type": "execute_result"
    }
   ],
   "source": [
    "df['disposition'].unique()"
   ]
  },
  {
   "cell_type": "code",
   "execution_count": 91,
   "metadata": {},
   "outputs": [
    {
     "data": {
      "image/png": "[encoded data removed]",
      "text/plain": [
       "<Figure size 864x432 with 1 Axes>"
      ]
     },
     "metadata": {
      "needs_background": "light"
     },
     "output_type": "display_data"
    }
   ],
   "source": [
    "df['disposition_category'] = 2\n",
    "df.loc[df.disposition == 'Responsible by Determination', 'disposition_category'] = 0\n",
    "df.loc[df.disposition == 'Responsible by Default', 'disposition_category'] = 1\n",
    "\n",
    "plot_compliance_scatter_features_chart(df, 'owed_amount', 'disposition_category', yticks=df['disposition'].unique())"
   ]
  },
  {
   "cell_type": "code",
   "execution_count": 92,
   "metadata": {},
   "outputs": [
    {
     "data": {
      "image/png": "[encoded data removed]",
      "text/plain": [
       "<Figure size 864x432 with 1 Axes>"
      ]
     },
     "metadata": {
      "needs_background": "light"
     },
     "output_type": "display_data"
    }
   ],
   "source": [
    "plot_compliance_scatter_features_chart(df, 'owed_amount', 'disposition_category', yticks=df['disposition'].unique(), xlim=(0,400), ylim=(-0.3,2.5))"
   ]
  },
  {
   "cell_type": "markdown",
   "metadata": {},
   "source": [
    "## violations"
   ]
  },
  {
   "cell_type": "code",
   "execution_count": 107,
   "metadata": {},
   "outputs": [
    {
     "data": {
      "text/plain": [
       "9-1-36(a)               41211\n",
       "9-1-81(a)               13835\n",
       "22-2-88                  9846\n",
       "9-1-104                  8625\n",
       "22-2-45                  2888\n",
       "9-1-105                  2361\n",
       "9-1-110(a)               2226\n",
       "22-2-88(b)               2097\n",
       "22-2-22                  1852\n",
       "9-1-43(a) - (Dwellin     1681\n",
       "9-1-103(C)               1407\n",
       "22-2-43                  1370\n",
       "22-2-17                   948\n",
       "19450901                  838\n",
       "22-2-61                   485\n",
       "61-81.0100/32.0066        385\n",
       "22-2-83(a)(b)(c)          356\n",
       "9-1-43(a) - (Structu      277\n",
       "22-2-83                   261\n",
       "9-1-82(d) - (Dwellin      217\n",
       "Name: violation_code, dtype: int64"
      ]
     },
     "execution_count": 107,
     "metadata": {},
     "output_type": "execute_result"
    }
   ],
   "source": [
    "total_people_violations = df['violation_code'].value_counts().dropna()\n",
    "total_compliant_people_violations = df[df['compliance'] == 1]['violation_code'].value_counts().dropna()\n",
    "total_non_compliant_people_violations = df[df['compliance'] == 0]['violation_code'].value_counts().dropna()\n",
    "total_people_violations.head(20)"
   ]
  },
  {
   "cell_type": "code",
   "execution_count": 123,
   "metadata": {},
   "outputs": [
    {
     "data": {
      "text/plain": [
       "9-1-36(a)     3022\n",
       "9-1-104        659\n",
       "22-2-88        627\n",
       "9-1-81(a)      422\n",
       "22-2-45        351\n",
       "              ... \n",
       "61-90.0100       1\n",
       "9-1-81(b)        1\n",
       "9-1-476          1\n",
       "9-1-307          1\n",
       "9-1-443(a)       1\n",
       "Name: violation_code, Length: 76, dtype: int64"
      ]
     },
     "execution_count": 123,
     "metadata": {},
     "output_type": "execute_result"
    }
   ],
   "source": [
    "total_compliant_people_violations"
   ]
  },
  {
   "cell_type": "code",
   "execution_count": 101,
   "metadata": {},
   "outputs": [
    {
     "data": {
      "text/plain": [
       "9-1-36(a)             38189\n",
       "9-1-81(a)             13413\n",
       "22-2-88                9219\n",
       "9-1-104                7966\n",
       "22-2-45                2537\n",
       "                      ...  \n",
       "20160901                  1\n",
       "61-83.0100/32.0066        1\n",
       "9-1-406                   1\n",
       "61-83.0100/32.0031        1\n",
       "22-2-20                   1\n",
       "Name: violation_code, Length: 163, dtype: int64"
      ]
     },
     "execution_count": 101,
     "metadata": {},
     "output_type": "execute_result"
    }
   ],
   "source": [
    "total_non_compliant_people_violations"
   ]
  },
  {
   "cell_type": "code",
   "execution_count": 121,
   "metadata": {},
   "outputs": [
    {
     "data": {
      "text/html": [
       "<div>\n",
       "<style scoped>\n",
       "    .dataframe tbody tr th:only-of-type {\n",
       "        vertical-align: middle;\n",
       "    }\n",
       "\n",
       "    .dataframe tbody tr th {\n",
       "        vertical-align: top;\n",
       "    }\n",
       "\n",
       "    .dataframe thead th {\n",
       "        text-align: right;\n",
       "    }\n",
       "</style>\n",
       "<table border=\"1\" class=\"dataframe\">\n",
       "  <thead>\n",
       "    <tr style=\"text-align: right;\">\n",
       "      <th></th>\n",
       "      <th>violation_code</th>\n",
       "      <th>violation_description</th>\n",
       "    </tr>\n",
       "    <tr>\n",
       "      <th>ticket_id</th>\n",
       "      <th></th>\n",
       "      <th></th>\n",
       "    </tr>\n",
       "  </thead>\n",
       "  <tbody>\n",
       "    <tr>\n",
       "      <th>18657</th>\n",
       "      <td>9-1-36(a)</td>\n",
       "      <td>Failure of owner to obtain certificate of comp...</td>\n",
       "    </tr>\n",
       "    <tr>\n",
       "      <th>18954</th>\n",
       "      <td>22-2-88</td>\n",
       "      <td>Failure of owner to keep property, its sidewal...</td>\n",
       "    </tr>\n",
       "    <tr>\n",
       "      <th>19432</th>\n",
       "      <td>22-2-45</td>\n",
       "      <td>Violation of time limit for approved container...</td>\n",
       "    </tr>\n",
       "    <tr>\n",
       "      <th>20127</th>\n",
       "      <td>9-1-104</td>\n",
       "      <td>Excessive weeds or plant growth one- or two-fa...</td>\n",
       "    </tr>\n",
       "    <tr>\n",
       "      <th>24848</th>\n",
       "      <td>9-1-81(a)</td>\n",
       "      <td>Failure to obtain certificate of registration ...</td>\n",
       "    </tr>\n",
       "    <tr>\n",
       "      <th>239220</th>\n",
       "      <td>22-2-88</td>\n",
       "      <td>Failure of owner to keep property, its sidewal...</td>\n",
       "    </tr>\n",
       "  </tbody>\n",
       "</table>\n",
       "</div>"
      ],
      "text/plain": [
       "          violation_code                              violation_description\n",
       "ticket_id                                                                  \n",
       "18657          9-1-36(a)  Failure of owner to obtain certificate of comp...\n",
       "18954            22-2-88  Failure of owner to keep property, its sidewal...\n",
       "19432            22-2-45  Violation of time limit for approved container...\n",
       "20127            9-1-104  Excessive weeds or plant growth one- or two-fa...\n",
       "24848          9-1-81(a)  Failure to obtain certificate of registration ...\n",
       "239220           22-2-88  Failure of owner to keep property, its sidewal..."
      ]
     },
     "execution_count": 121,
     "metadata": {},
     "output_type": "execute_result"
    }
   ],
   "source": [
    "df.query('violation_code in @total_people_violations.head().index')[['violation_code', 'violation_description']].drop_duplicates()"
   ]
  },
  {
   "cell_type": "markdown",
   "metadata": {},
   "source": [
    "# Model Selection\n",
    "\n",
    "Analysing the charts and information displayed above, we can notice that no evident linear pattern that efficiently represents the data was found. So a model with higher complexity, like logistic regression or random forest, will be trained to do the predictions."
   ]
  },
  {
   "cell_type": "markdown",
   "metadata": {},
   "source": [
    "## Dummy Classifier\n",
    "\n",
    "I got the values from a dummy classifier, just to explicitly present the minimum expected values of accuracy and ROC AUC score"
   ]
  },
  {
   "cell_type": "code",
   "execution_count": 151,
   "metadata": {},
   "outputs": [],
   "source": [
    "def blight_dummy_model():\n",
    "    from sklearn.dummy import DummyClassifier\n",
    "\n",
    "    # Prepare the datasets\n",
    "    columns = ['owed_amount']\n",
    "    X, y = prepare_train_dataset('csv/train.csv', columns)\n",
    "\n",
    "    # Calculate the probability of test.csv rows\n",
    "    print('Cross-validation accuracy: ', np.mean(cross_val_score(DummyClassifier(strategy = 'most_frequent'), X, y, cv=10)))\n",
    "    print('Cross-validation AUC: ', np.mean(cross_val_score(DummyClassifier(strategy = 'most_frequent'), X, y, scoring='roc_auc', cv=10)))"
   ]
  },
  {
   "cell_type": "code",
   "execution_count": 152,
   "metadata": {},
   "outputs": [
    {
     "name": "stderr",
     "output_type": "stream",
     "text": [
      "<ipython-input-150-6b8e6707189f>:3: UserWarning: Boolean Series key will be reindexed to match DataFrame index.\n",
      "  df_train = df_train[(df['city'].str.lower() == 'detroit') & (~df_train['compliance_detail'].str.contains('not responsible')) & (~df['compliance_detail'].str.contains('compliant by no fine'))].set_index('ticket_id')\n"
     ]
    },
    {
     "name": "stdout",
     "output_type": "stream",
     "text": [
      "Cross-validation accuracy:  0.9302223038765389\n",
      "Cross-validation AUC:  0.5\n"
     ]
    }
   ],
   "source": [
    "blight_dummy_model()"
   ]
  },
  {
   "cell_type": "markdown",
   "metadata": {},
   "source": [
    "## Logistic Regression"
   ]
  },
  {
   "cell_type": "code",
   "execution_count": 153,
   "metadata": {},
   "outputs": [],
   "source": [
    "def blight_logistic_model():\n",
    "    from sklearn.linear_model import LogisticRegression\n",
    "\n",
    "    # Prepare the datasets\n",
    "    columns = ['owed_amount']\n",
    "    X, y = prepare_train_dataset('csv/train.csv', columns)\n",
    "\n",
    "    # Calculate the probability of test.csv rows\n",
    "    print('Cross-validation accuracy: ', np.mean(cross_val_score(LogisticRegression(), X, y, cv=10)))\n",
    "    print('Cross-validation AUC: ', np.mean(cross_val_score(LogisticRegression(), X, y, scoring='roc_auc', cv=10)))"
   ]
  },
  {
   "cell_type": "code",
   "execution_count": 154,
   "metadata": {},
   "outputs": [
    {
     "name": "stderr",
     "output_type": "stream",
     "text": [
      "<ipython-input-150-6b8e6707189f>:3: UserWarning: Boolean Series key will be reindexed to match DataFrame index.\n",
      "  df_train = df_train[(df['city'].str.lower() == 'detroit') & (~df_train['compliance_detail'].str.contains('not responsible')) & (~df['compliance_detail'].str.contains('compliant by no fine'))].set_index('ticket_id')\n"
     ]
    },
    {
     "name": "stdout",
     "output_type": "stream",
     "text": [
      "Cross-validation accuracy:  0.9302223038765389\n",
      "Cross-validation AUC:  0.6599306087871301\n"
     ]
    }
   ],
   "source": [
    "blight_logistic_model()"
   ]
  },
  {
   "cell_type": "markdown",
   "metadata": {},
   "source": [
    "## SVM"
   ]
  },
  {
   "cell_type": "code",
   "execution_count": 155,
   "metadata": {},
   "outputs": [],
   "source": [
    "def blight_svm_model():\n",
    "    from sklearn.svm import SVC\n",
    "\n",
    "    # Prepare the datasets\n",
    "    columns = ['owed_amount']\n",
    "    X, y = prepare_train_dataset('csv/train.csv', columns)\n",
    "\n",
    "    # Calculate the probability of test.csv rows\n",
    "    print('Cross-validation accuracy: ', np.mean(cross_val_score(SVC(), X, y, cv=10)))\n",
    "    print('Cross-validation AUC: ', np.mean(cross_val_score(SVC(), X, y, scoring='roc_auc', cv=10)))"
   ]
  },
  {
   "cell_type": "code",
   "execution_count": 156,
   "metadata": {},
   "outputs": [
    {
     "name": "stderr",
     "output_type": "stream",
     "text": [
      "<ipython-input-150-6b8e6707189f>:3: UserWarning: Boolean Series key will be reindexed to match DataFrame index.\n",
      "  df_train = df_train[(df['city'].str.lower() == 'detroit') & (~df_train['compliance_detail'].str.contains('not responsible')) & (~df['compliance_detail'].str.contains('compliant by no fine'))].set_index('ticket_id')\n"
     ]
    },
    {
     "name": "stdout",
     "output_type": "stream",
     "text": [
      "Cross-validation accuracy:  0.9302223038765389\n",
      "Cross-validation AUC:  0.3987465938111111\n"
     ]
    }
   ],
   "source": [
    "blight_svm_model()"
   ]
  },
  {
   "cell_type": "markdown",
   "metadata": {},
   "source": [
    "## Random Forest"
   ]
  },
  {
   "cell_type": "code",
   "execution_count": 157,
   "metadata": {},
   "outputs": [],
   "source": [
    "def blight_random_forest_model():\n",
    "    from sklearn.ensemble import RandomForestClassifier\n",
    "\n",
    "    # Prepare the datasets\n",
    "    columns = ['owed_amount']\n",
    "    X, y = prepare_train_dataset('csv/train.csv', columns)\n",
    "\n",
    "    # Calculate the probability of test.csv rows\n",
    "    print('Cross-validation accuracy: ', np.mean(cross_val_score(RandomForestClassifier(), X, y, cv=10)))\n",
    "    print('Cross-validation AUC: ', np.mean(cross_val_score(RandomForestClassifier(), X, y, scoring='roc_auc', cv=10)))"
   ]
  },
  {
   "cell_type": "code",
   "execution_count": 158,
   "metadata": {},
   "outputs": [
    {
     "name": "stderr",
     "output_type": "stream",
     "text": [
      "<ipython-input-150-6b8e6707189f>:3: UserWarning: Boolean Series key will be reindexed to match DataFrame index.\n",
      "  df_train = df_train[(df['city'].str.lower() == 'detroit') & (~df_train['compliance_detail'].str.contains('not responsible')) & (~df['compliance_detail'].str.contains('compliant by no fine'))].set_index('ticket_id')\n"
     ]
    },
    {
     "name": "stdout",
     "output_type": "stream",
     "text": [
      "Cross-validation accuracy:  0.9393716700349073\n",
      "Cross-validation AUC:  0.7519373980998003\n"
     ]
    }
   ],
   "source": [
    "blight_random_forest_model()"
   ]
  },
  {
   "cell_type": "markdown",
   "metadata": {},
   "source": [
    "The Random Forest Default Model presented the best scores, so I will use and tune it"
   ]
  },
  {
   "cell_type": "markdown",
   "metadata": {},
   "source": [
    "### Added the LabelEncoder to 'disposition' column"
   ]
  },
  {
   "cell_type": "code",
   "execution_count": 177,
   "metadata": {},
   "outputs": [],
   "source": [
    "def blight_random_forest_model():\n",
    "    from sklearn.ensemble import RandomForestClassifier\n",
    "\n",
    "    # Prepare the datasets\n",
    "    columns = ['disposition', 'owed_amount']\n",
    "    X, y = prepare_train_dataset('csv/train.csv', columns)\n",
    "    \n",
    "    # Prepare the disposition LabelEncoder\n",
    "    le_disposition = LabelEncoder().fit(list(X['disposition']) + ['Unknown'])\n",
    "    X['disposition'] = transform(le_disposition, X['disposition'])\n",
    "\n",
    "    # Calculate the probability of test.csv rows\n",
    "    print('Cross-validation accuracy: ', np.mean(cross_val_score(RandomForestClassifier(), X, y, cv=10)))\n",
    "    print('Cross-validation AUC: ', np.mean(cross_val_score(RandomForestClassifier(), X, y, scoring='roc_auc', cv=10)))"
   ]
  },
  {
   "cell_type": "code",
   "execution_count": 178,
   "metadata": {},
   "outputs": [
    {
     "name": "stderr",
     "output_type": "stream",
     "text": [
      "<ipython-input-150-6b8e6707189f>:3: UserWarning: Boolean Series key will be reindexed to match DataFrame index.\n",
      "  df_train = df_train[(df['city'].str.lower() == 'detroit') & (~df_train['compliance_detail'].str.contains('not responsible')) & (~df['compliance_detail'].str.contains('compliant by no fine'))].set_index('ticket_id')\n"
     ]
    },
    {
     "name": "stdout",
     "output_type": "stream",
     "text": [
      "Cross-validation accuracy:  0.9478780084512216\n",
      "Cross-validation AUC:  0.7886089683569004\n"
     ]
    }
   ],
   "source": [
    "blight_random_forest_model()"
   ]
  },
  {
   "cell_type": "markdown",
   "metadata": {},
   "source": [
    "### Added the LabelEncoder to 'violation_code' column"
   ]
  },
  {
   "cell_type": "code",
   "execution_count": 161,
   "metadata": {},
   "outputs": [],
   "source": [
    "def blight_random_forest_model():\n",
    "    from sklearn.ensemble import RandomForestClassifier\n",
    "\n",
    "    # Prepare the datasets\n",
    "    columns = ['violation_code', 'owed_amount']\n",
    "    X, y = prepare_train_dataset('csv/train.csv', columns)\n",
    "\n",
    "    # Prepare the violation LabelEncoder\n",
    "    le_violation = LabelEncoder().fit(list(X['violation_code']) + ['Unknown'])\n",
    "    X['violation_code'] = transform(le_violation, X['violation_code'])\n",
    "\n",
    "    # Calculate the probability of test.csv rows\n",
    "    print('Cross-validation accuracy: ', np.mean(cross_val_score(RandomForestClassifier(), X, y, cv=10)))\n",
    "    print('Cross-validation AUC: ', np.mean(cross_val_score(RandomForestClassifier(), X, y, scoring='roc_auc', cv=10)))"
   ]
  },
  {
   "cell_type": "code",
   "execution_count": 162,
   "metadata": {},
   "outputs": [
    {
     "name": "stderr",
     "output_type": "stream",
     "text": [
      "<ipython-input-150-6b8e6707189f>:3: UserWarning: Boolean Series key will be reindexed to match DataFrame index.\n",
      "  df_train = df_train[(df['city'].str.lower() == 'detroit') & (~df_train['compliance_detail'].str.contains('not responsible')) & (~df['compliance_detail'].str.contains('compliant by no fine'))].set_index('ticket_id')\n"
     ]
    },
    {
     "name": "stdout",
     "output_type": "stream",
     "text": [
      "Cross-validation accuracy:  0.9386367811868455\n",
      "Cross-validation AUC:  0.7619421576696538\n"
     ]
    }
   ],
   "source": [
    "blight_random_forest_model()"
   ]
  },
  {
   "cell_type": "markdown",
   "metadata": {},
   "source": [
    "### Added the LabelEncoder to 'disposition' and 'violation_code' columns"
   ]
  },
  {
   "cell_type": "code",
   "execution_count": 179,
   "metadata": {},
   "outputs": [],
   "source": [
    "def blight_random_forest_model():\n",
    "    from sklearn.ensemble import RandomForestClassifier\n",
    "\n",
    "    # Prepare the datasets\n",
    "    columns = ['disposition', 'violation_code', 'owed_amount']\n",
    "    X, y = prepare_train_dataset('csv/train.csv', columns)   \n",
    "    \n",
    "    # Prepare the disposition LabelEncodera\n",
    "    le_disposition = LabelEncoder().fit(list(X['disposition']) + ['Unknown'])\n",
    "    X['disposition'] = transform(le_disposition, X['disposition'])\n",
    "    \n",
    "    # Prepare the violation LabelEncoder\n",
    "    le_violation = LabelEncoder().fit(list(X['violation_code']) + ['Unknown'])\n",
    "    X['violation_code'] = transform(le_violation, X['violation_code'])\n",
    "\n",
    "    # Calculate the probability of test.csv rows\n",
    "    print('Cross-validation accuracy: ', np.mean(cross_val_score(RandomForestClassifier(), X, y, cv=10)))\n",
    "    print('Cross-validation AUC: ', np.mean(cross_val_score(RandomForestClassifier(), X, y, scoring='roc_auc', cv=10)))"
   ]
  },
  {
   "cell_type": "code",
   "execution_count": 180,
   "metadata": {},
   "outputs": [
    {
     "name": "stderr",
     "output_type": "stream",
     "text": [
      "<ipython-input-150-6b8e6707189f>:3: UserWarning: Boolean Series key will be reindexed to match DataFrame index.\n",
      "  df_train = df_train[(df['city'].str.lower() == 'detroit') & (~df_train['compliance_detail'].str.contains('not responsible')) & (~df['compliance_detail'].str.contains('compliant by no fine'))].set_index('ticket_id')\n"
     ]
    },
    {
     "name": "stdout",
     "output_type": "stream",
     "text": [
      "Cross-validation accuracy:  0.9463898585338967\n",
      "Cross-validation AUC:  0.7876541313720143\n"
     ]
    }
   ],
   "source": [
    "blight_random_forest_model()"
   ]
  },
  {
   "cell_type": "markdown",
   "metadata": {},
   "source": [
    "### Hyperparameter Tuning"
   ]
  },
  {
   "cell_type": "markdown",
   "metadata": {},
   "source": [
    "#### Randomized Search CV"
   ]
  },
  {
   "cell_type": "code",
   "execution_count": 165,
   "metadata": {},
   "outputs": [
    {
     "name": "stdout",
     "output_type": "stream",
     "text": [
      "{'bootstrap': [True, False],\n",
      " 'max_depth': [10, 20, 30, 40, 50, 60, 70, 80, 90, 100, 110, None],\n",
      " 'max_features': ['auto', 'sqrt'],\n",
      " 'min_samples_leaf': [1, 2, 4],\n",
      " 'min_samples_split': [2, 5, 10],\n",
      " 'n_estimators': [200, 400, 600, 800, 1000, 1200, 1400, 1600, 1800, 2000]}\n"
     ]
    },
    {
     "name": "stderr",
     "output_type": "stream",
     "text": [
      "<ipython-input-150-6b8e6707189f>:3: UserWarning: Boolean Series key will be reindexed to match DataFrame index.\n",
      "  df_train = df_train[(df['city'].str.lower() == 'detroit') & (~df_train['compliance_detail'].str.contains('not responsible')) & (~df['compliance_detail'].str.contains('compliant by no fine'))].set_index('ticket_id')\n",
      "<ipython-input-165-dddd88928b9e>:35: SettingWithCopyWarning: \n",
      "A value is trying to be set on a copy of a slice from a DataFrame.\n",
      "Try using .loc[row_indexer,col_indexer] = value instead\n",
      "\n",
      "See the caveats in the documentation: https://pandas.pydata.org/pandas-docs/stable/user_guide/indexing.html#returning-a-view-versus-a-copy\n",
      "  X_train['disposition'] = transform(le_disposition, X_train['disposition'])\n",
      "<ipython-input-165-dddd88928b9e>:39: SettingWithCopyWarning: \n",
      "A value is trying to be set on a copy of a slice from a DataFrame.\n",
      "Try using .loc[row_indexer,col_indexer] = value instead\n",
      "\n",
      "See the caveats in the documentation: https://pandas.pydata.org/pandas-docs/stable/user_guide/indexing.html#returning-a-view-versus-a-copy\n",
      "  X_train['violation_code'] = transform(le_violation, X_train['violation_code'])\n",
      "[Parallel(n_jobs=-1)]: Using backend LokyBackend with 8 concurrent workers.\n"
     ]
    },
    {
     "name": "stdout",
     "output_type": "stream",
     "text": [
      "Fitting 3 folds for each of 100 candidates, totalling 300 fits\n"
     ]
    },
    {
     "name": "stderr",
     "output_type": "stream",
     "text": [
      "[Parallel(n_jobs=-1)]: Done  25 tasks      | elapsed:  1.1min\n",
      "[Parallel(n_jobs=-1)]: Done 146 tasks      | elapsed:  5.5min\n",
      "[Parallel(n_jobs=-1)]: Done 300 out of 300 | elapsed: 91.7min finished\n"
     ]
    },
    {
     "data": {
      "text/plain": [
       "{'n_estimators': 1000,\n",
       " 'min_samples_split': 10,\n",
       " 'min_samples_leaf': 2,\n",
       " 'max_features': 'sqrt',\n",
       " 'max_depth': 10,\n",
       " 'bootstrap': True}"
      ]
     },
     "execution_count": 165,
     "metadata": {},
     "output_type": "execute_result"
    }
   ],
   "source": [
    "from sklearn.model_selection import RandomizedSearchCV\n",
    "from sklearn.ensemble import RandomForestClassifier\n",
    "from pprint import pprint\n",
    "\n",
    "# Number of trees in random forest\n",
    "n_estimators = [int(x) for x in np.linspace(start = 200, stop = 2000, num = 10)]\n",
    "# Number of features to consider at every split\n",
    "max_features = ['auto', 'sqrt']\n",
    "# Maximum number of levels in tree\n",
    "max_depth = [int(x) for x in np.linspace(10, 110, num = 11)]\n",
    "max_depth.append(None)\n",
    "# Minimum number of samples required to split a node\n",
    "min_samples_split = [2, 5, 10]\n",
    "# Minimum number of samples required at each leaf node\n",
    "min_samples_leaf = [1, 2, 4]\n",
    "# Method of selecting samples for training each tree\n",
    "bootstrap = [True, False]\n",
    "\n",
    "# Create the random grid\n",
    "random_grid = {'n_estimators': n_estimators,\n",
    "               'max_features': max_features,\n",
    "               'max_depth': max_depth,\n",
    "               'min_samples_split': min_samples_split,\n",
    "               'min_samples_leaf': min_samples_leaf,\n",
    "               'bootstrap': bootstrap}\n",
    "pprint(random_grid)\n",
    "\n",
    "# Prepare the datasets\n",
    "columns = ['disposition', 'violation_code', 'discount_amount', 'owed_amount']\n",
    "X, y = prepare_train_dataset('csv/train.csv', columns)\n",
    "X_train, X_test, y_train, y_test = train_test_split(X, y)\n",
    "\n",
    "# Prepare the disposition LabelEncoder\n",
    "le_disposition = LabelEncoder().fit(list(X_train['disposition']) + ['Unknown'])\n",
    "X_train['disposition'] = transform(le_disposition, X_train['disposition'])\n",
    "\n",
    "# Prepare the violation LabelEncoder\n",
    "le_violation = LabelEncoder().fit(list(X_train['violation_code']) + ['Unknown'])\n",
    "X_train['violation_code'] = transform(le_violation, X_train['violation_code'])\n",
    "    \n",
    "# Use the random grid to search for best hyperparameters\n",
    "# First create the base model to tune\n",
    "rf = RandomForestClassifier()\n",
    "# Random search of parameters, using 3 fold cross validation, \n",
    "# search across 100 different combinations, and use all available cores\n",
    "rf_random = RandomizedSearchCV(estimator = rf, param_distributions = random_grid, scoring='roc_auc', n_iter = 100, cv = 3, verbose=2, random_state=42, n_jobs = -1)\n",
    "rf_random.fit(X_train, y_train)\n",
    "\n",
    "rf_random.best_params_"
   ]
  },
  {
   "cell_type": "code",
   "execution_count": 166,
   "metadata": {},
   "outputs": [
    {
     "data": {
      "text/plain": [
       "0.8022249934589883"
      ]
     },
     "execution_count": 166,
     "metadata": {},
     "output_type": "execute_result"
    }
   ],
   "source": [
    "rf_random.best_score_"
   ]
  },
  {
   "cell_type": "markdown",
   "metadata": {},
   "source": [
    "#### Grid Search CV"
   ]
  },
  {
   "cell_type": "code",
   "execution_count": 167,
   "metadata": {},
   "outputs": [
    {
     "name": "stdout",
     "output_type": "stream",
     "text": [
      "Fitting 3 folds for each of 81 candidates, totalling 243 fits\n"
     ]
    },
    {
     "name": "stderr",
     "output_type": "stream",
     "text": [
      "[Parallel(n_jobs=-1)]: Using backend LokyBackend with 8 concurrent workers.\n",
      "C:\\Users\\Issamu Umeda\\Anaconda3\\lib\\site-packages\\joblib\\externals\\loky\\process_executor.py:688: UserWarning: A worker stopped while some jobs were given to the executor. This can be caused by a too short worker timeout or by a memory leak.\n",
      "  warnings.warn(\n",
      "[Parallel(n_jobs=-1)]: Done  25 tasks      | elapsed:   59.5s\n",
      "[Parallel(n_jobs=-1)]: Done 146 tasks      | elapsed:  5.7min\n",
      "[Parallel(n_jobs=-1)]: Done 243 out of 243 | elapsed: 10.3min finished\n"
     ]
    },
    {
     "data": {
      "text/plain": [
       "{'bootstrap': True,\n",
       " 'max_depth': 10,\n",
       " 'max_features': 'sqrt',\n",
       " 'min_samples_leaf': 3,\n",
       " 'min_samples_split': 5,\n",
       " 'n_estimators': 1000}"
      ]
     },
     "execution_count": 167,
     "metadata": {},
     "output_type": "execute_result"
    }
   ],
   "source": [
    "from sklearn.model_selection import GridSearchCV\n",
    "# Create the parameter grid based on the results of random search \n",
    "param_grid = {\n",
    "    'bootstrap': [True],\n",
    "    'max_depth': [5, 10, 15],\n",
    "    'max_features': ['sqrt'],\n",
    "    'min_samples_leaf': [1, 3, 5],\n",
    "    'min_samples_split': [3, 5, 10],\n",
    "    'n_estimators': [1000, 1500, 2000]\n",
    "}\n",
    "\n",
    "rf = RandomForestClassifier()\n",
    "grid_search = GridSearchCV(estimator = rf, param_grid = param_grid, scoring='roc_auc', \n",
    "                          cv = 3, n_jobs = -1, verbose = 2)\n",
    "\n",
    "grid_search.fit(X_train, y_train)\n",
    "grid_search.best_params_"
   ]
  },
  {
   "cell_type": "code",
   "execution_count": 168,
   "metadata": {},
   "outputs": [
    {
     "data": {
      "text/plain": [
       "0.8023437209004308"
      ]
     },
     "execution_count": 168,
     "metadata": {},
     "output_type": "execute_result"
    }
   ],
   "source": [
    "grid_search.best_score_"
   ]
  },
  {
   "cell_type": "code",
   "execution_count": 169,
   "metadata": {},
   "outputs": [
    {
     "data": {
      "text/plain": [
       "{'bootstrap': True,\n",
       " 'ccp_alpha': 0.0,\n",
       " 'class_weight': None,\n",
       " 'criterion': 'gini',\n",
       " 'max_depth': None,\n",
       " 'max_features': 'auto',\n",
       " 'max_leaf_nodes': None,\n",
       " 'max_samples': None,\n",
       " 'min_impurity_decrease': 0.0,\n",
       " 'min_impurity_split': None,\n",
       " 'min_samples_leaf': 1,\n",
       " 'min_samples_split': 2,\n",
       " 'min_weight_fraction_leaf': 0.0,\n",
       " 'n_estimators': 100,\n",
       " 'n_jobs': None,\n",
       " 'oob_score': False,\n",
       " 'random_state': None,\n",
       " 'verbose': 0,\n",
       " 'warm_start': False}"
      ]
     },
     "execution_count": 169,
     "metadata": {},
     "output_type": "execute_result"
    }
   ],
   "source": [
    "from sklearn.ensemble import RandomForestClassifier\n",
    "\n",
    "rf = RandomForestClassifier()\n",
    "rf.get_params()"
   ]
  },
  {
   "cell_type": "code",
   "execution_count": 182,
   "metadata": {},
   "outputs": [],
   "source": [
    "def blight_random_forest_model(bootstrap=True, max_depth=None, max_features='auto', min_samples_leaf=1, min_samples_split=2, n_estimators=100):\n",
    "    from sklearn.ensemble import RandomForestClassifier\n",
    "\n",
    "    # Prepare the datasets\n",
    "    columns = ['disposition', 'violation_code', 'owed_amount']\n",
    "    X, y = prepare_train_dataset('csv/train.csv', columns)   \n",
    "    \n",
    "    # Prepare the disposition LabelEncoder\n",
    "    le_disposition = LabelEncoder().fit(list(X['disposition']) + ['Unknown'])\n",
    "    X['disposition'] = transform(le_disposition, X['disposition'])\n",
    "    \n",
    "    # Prepare the violation LabelEncoder\n",
    "    le_violation = LabelEncoder().fit(list(X['violation_code']) + ['Unknown'])\n",
    "    X['violation_code'] = transform(le_violation, X['violation_code'])\n",
    "    \n",
    "    rf = RandomForestClassifier(bootstrap=bootstrap, max_depth=max_depth, max_features=max_features, \n",
    "                        min_samples_leaf=min_samples_leaf, min_samples_split=min_samples_split, n_estimators=n_estimators)\n",
    "\n",
    "    # Calculate the probability of test.csv rows\n",
    "    print('Cross-validation accuracy: ', np.mean(cross_val_score(rf, X, y, cv=10)))\n",
    "    print('Cross-validation AUC: ', np.mean(cross_val_score(rf, X, y, scoring='roc_auc', cv=10)))\n",
    "    \n",
    "    return rf"
   ]
  },
  {
   "cell_type": "code",
   "execution_count": 171,
   "metadata": {},
   "outputs": [
    {
     "name": "stderr",
     "output_type": "stream",
     "text": [
      "<ipython-input-150-6b8e6707189f>:3: UserWarning: Boolean Series key will be reindexed to match DataFrame index.\n",
      "  df_train = df_train[(df['city'].str.lower() == 'detroit') & (~df_train['compliance_detail'].str.contains('not responsible')) & (~df['compliance_detail'].str.contains('compliant by no fine'))].set_index('ticket_id')\n"
     ]
    },
    {
     "name": "stdout",
     "output_type": "stream",
     "text": [
      "Cross-validation accuracy:  0.9466103251883153\n",
      "Cross-validation AUC:  0.7995390066751902\n"
     ]
    }
   ],
   "source": [
    "blight_random_forest_model(bootstrap=True, max_depth=10, max_features='sqrt', min_samples_leaf=1, min_samples_split=5, n_estimators=1500)"
   ]
  },
  {
   "cell_type": "markdown",
   "metadata": {},
   "source": [
    "The auc score got better, but the time of execution increased a lot, so I reduced the n_estimators to 10."
   ]
  },
  {
   "cell_type": "code",
   "execution_count": 214,
   "metadata": {},
   "outputs": [
    {
     "name": "stdout",
     "output_type": "stream",
     "text": [
      "Cross-validation accuracy:  0.9437647162464489\n",
      "Cross-validation AUC:  0.8026499400062704\n"
     ]
    },
    {
     "name": "stderr",
     "output_type": "stream",
     "text": [
      "<ipython-input-3-74ef0c7f52c3>:9: FutureWarning: elementwise comparison failed; returning scalar instead, but in the future will perform elementwise comparison\n",
      "  if unique_item not in le.classes_:\n",
      "<ipython-input-214-e3a9163c55e0>:8: SettingWithCopyWarning: \n",
      "A value is trying to be set on a copy of a slice from a DataFrame.\n",
      "Try using .loc[row_indexer,col_indexer] = value instead\n",
      "\n",
      "See the caveats in the documentation: https://pandas.pydata.org/pandas-docs/stable/user_guide/indexing.html#returning-a-view-versus-a-copy\n",
      "  X_test['disposition'] = transform(le_disposition, X_test['disposition'])\n",
      "<ipython-input-214-e3a9163c55e0>:12: SettingWithCopyWarning: \n",
      "A value is trying to be set on a copy of a slice from a DataFrame.\n",
      "Try using .loc[row_indexer,col_indexer] = value instead\n",
      "\n",
      "See the caveats in the documentation: https://pandas.pydata.org/pandas-docs/stable/user_guide/indexing.html#returning-a-view-versus-a-copy\n",
      "  X_test['violation_code'] = transform(le_violation, X_test['violation_code'])\n"
     ]
    },
    {
     "data": {
      "text/plain": [
       "0.7580830706206281"
      ]
     },
     "execution_count": 214,
     "metadata": {},
     "output_type": "execute_result"
    }
   ],
   "source": [
    "from sklearn.metrics import roc_auc_score\n",
    "\n",
    "rf_model = blight_random_forest_model(bootstrap=True, max_depth=10, max_features='sqrt', min_samples_leaf=1, min_samples_split=5, n_estimators=10)\n",
    "rf_model.fit(X_train, y_train)\n",
    "\n",
    "# Prepare the disposition LabelEncoder\n",
    "le_disposition = LabelEncoder().fit(list(X['disposition']) + ['Unknown'])\n",
    "X_test['disposition'] = transform(le_disposition, X_test['disposition'])\n",
    "\n",
    "# Prepare the violation LabelEncoder\n",
    "le_violation = LabelEncoder().fit(list(X['violation_code']) + ['Unknown'])\n",
    "X_test['violation_code'] = transform(le_violation, X_test['violation_code'])\n",
    "\n",
    "y_pred = rf_model.predict_proba(X_test)[:,1]\n",
    "roc_auc_score(y_test, y_pred)"
   ]
  },
  {
   "cell_type": "code",
   "execution_count": 213,
   "metadata": {},
   "outputs": [
    {
     "data": {
      "text/plain": [
       "0.734384298138602"
      ]
     },
     "execution_count": 213,
     "metadata": {},
     "output_type": "execute_result"
    }
   ],
   "source": [
    "y_pred = rf_model.predict_proba(X_test)[:,1]\n",
    "roc_auc_score(y_test, y_pred)"
   ]
  }
 ],
 "metadata": {
  "coursera": {
   "course_slug": "python-machine-learning",
   "graded_item_id": "nNS8l",
   "launcher_item_id": "yWWk7",
   "part_id": "w8BSS"
  },
  "kernelspec": {
   "display_name": "Python 3",
   "language": "python",
   "name": "python3"
  },
  "language_info": {
   "codemirror_mode": {
    "name": "ipython",
    "version": 3
   },
   "file_extension": ".py",
   "mimetype": "text/x-python",
   "name": "python",
   "nbconvert_exporter": "python",
   "pygments_lexer": "ipython3",
   "version": "3.8.5"
  }
 },
 "nbformat": 4,
 "nbformat_minor": 2
}
