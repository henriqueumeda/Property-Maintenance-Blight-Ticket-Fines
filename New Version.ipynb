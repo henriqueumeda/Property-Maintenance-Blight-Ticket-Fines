{
 "cells": [
  {
   "cell_type": "markdown",
   "metadata": {},
   "source": [
    "# Understanding and Predicting Property Maintenance Fines\n",
    "\n",
    "This project is based on a data challenge from the Michigan Data Science Team ([MDST](http://midas.umich.edu/mdst/)). \n",
    "\n",
    "The Michigan Data Science Team ([MDST](http://midas.umich.edu/mdst/)) and the Michigan Student Symposium for Interdisciplinary Statistical Sciences ([MSSISS](https://sites.lsa.umich.edu/mssiss/)) have partnered with the City of Detroit to help solve one of the most pressing problems facing Detroit - blight. [Blight violations](http://www.detroitmi.gov/How-Do-I/Report/Blight-Complaint-FAQs) are issued by the city to individuals who allow their properties to remain in a deteriorated condition. Every year, the city of Detroit issues millions of dollars in fines to residents and every year, many of these fines remain unpaid. Enforcing unpaid blight fines is a costly and tedious process, so the city wants to know: how can we increase blight ticket compliance?\n",
    "\n",
    "The first step in answering this question is understanding when and why a resident might fail to comply with a blight ticket. This is where predictive modeling comes in. For this assignment, your task is to predict whether a given blight ticket will be paid on time.\n",
    "\n",
    "All data for this assignment has been provided to us through the [Detroit Open Data Portal](https://data.detroitmi.gov/). Nonetheless, we encourage you to look into data from other Detroit datasets to help inform feature creation and model selection. We recommend taking a look at the following related datasets:\n",
    "\n",
    "* [Building Permits](https://data.detroitmi.gov/Property-Parcels/Building-Permits/xw2a-a7tf)\n",
    "* [Trades Permits](https://data.detroitmi.gov/Property-Parcels/Trades-Permits/635b-dsgv)\n",
    "* [Improve Detroit: Submitted Issues](https://data.detroitmi.gov/Government/Improve-Detroit-Submitted-Issues/fwz3-w3yn)\n",
    "* [DPD: Citizen Complaints](https://data.detroitmi.gov/Public-Safety/DPD-Citizen-Complaints-2016/kahe-efs3)\n",
    "* [Parcel Map](https://data.detroitmi.gov/Property-Parcels/Parcel-Map/fxkw-udwf)\n",
    "\n",
    "___\n",
    "\n",
    "We provide you with two data files for use in training and validating your models: train.csv and test.csv. Each row in these two files corresponds to a single blight ticket, and includes information about when, why, and to whom each ticket was issued. The target variable is compliance, which is True if the ticket was paid early, on time, or within one month of the hearing data, False if the ticket was paid after the hearing date or not at all, and Null if the violator was found not responsible. Compliance, as well as a handful of other variables that will not be available at test-time, are only included in train.csv.\n",
    "\n",
    "Note: All tickets where the violators were found not responsible are not considered during evaluation. They are included in the training set as an additional source of data for visualization, and to enable unsupervised and semi-supervised approaches. However, they are not included in the test set.\n",
    "\n",
    "<br>\n",
    "\n",
    "**File descriptions** (Use only this data for training your model!)\n",
    "\n",
    "    readonly/train.csv - the training set (all tickets issued 2004-2011)\n",
    "    readonly/test.csv - the test set (all tickets issued 2012-2016)\n",
    "    readonly/addresses.csv & readonly/latlons.csv - mapping from ticket id to addresses, and from addresses to lat/lon coordinates. \n",
    "     Note: misspelled addresses may be incorrectly geolocated.\n",
    "\n",
    "<br>\n",
    "\n",
    "**Data fields**\n",
    "\n",
    "train.csv & test.csv\n",
    "\n",
    "    ticket_id - unique identifier for tickets\n",
    "    agency_name - Agency that issued the ticket\n",
    "    inspector_name - Name of inspector that issued the ticket\n",
    "    violator_name - Name of the person/organization that the ticket was issued to\n",
    "    violation_street_number, violation_street_name, violation_zip_code - Address where the violation occurred\n",
    "    mailing_address_str_number, mailing_address_str_name, city, state, zip_code, non_us_str_code, country - Mailing address of the violator\n",
    "    ticket_issued_date - Date and time the ticket was issued\n",
    "    hearing_date - Date and time the violator's hearing was scheduled\n",
    "    violation_code, violation_description - Type of violation\n",
    "    disposition - Judgment and judgement type\n",
    "    fine_amount - Violation fine amount, excluding fees\n",
    "    admin_fee - $20 fee assigned to responsible judgments\n",
    "state_fee - $10 fee assigned to responsible judgments\n",
    "    late_fee - 10% fee assigned to responsible judgments\n",
    "    discount_amount - discount applied, if any\n",
    "    clean_up_cost - DPW clean-up or graffiti removal cost\n",
    "    judgment_amount - Sum of all fines and fees\n",
    "    grafitti_status - Flag for graffiti violations\n",
    "    \n",
    "train.csv only\n",
    "\n",
    "    payment_amount - Amount paid, if any\n",
    "    payment_date - Date payment was made, if it was received\n",
    "    payment_status - Current payment status as of Feb 1 2017\n",
    "    balance_due - Fines and fees still owed\n",
    "    collection_status - Flag for payments in collections\n",
    "    compliance [target variable for prediction] \n",
    "     Null = Not responsible\n",
    "     0 = Responsible, non-compliant\n",
    "     1 = Responsible, compliant\n",
    "    compliance_detail - More information on why each ticket was marked compliant or non-compliant\n",
    "\n",
    "\n",
    "___\n",
    "\n",
    "## Evaluation\n",
    "\n",
    "Your predictions will be given as the probability that the corresponding blight ticket will be paid on time.\n",
    "\n",
    "The evaluation metric for this assignment is the Area Under the ROC Curve (AUC). \n",
    "___\n",
    "\n",
    "Create a function that trains a model to predict blight ticket compliance in Detroit using `train.csv`. Using this model, return a series of length 61001 with the data being the probability that each corresponding ticket from `test.csv` will be paid, and the index being the ticket_id.\n",
    "\n",
    "Example:\n",
    "\n",
    "    ticket_id\n",
    "       284932    0.531842\n",
    "       285362    0.401958\n",
    "       285361    0.105928\n",
    "       285338    0.018572\n",
    "                 ...\n",
    "       376499    0.208567\n",
    "       376500    0.818759\n",
    "       369851    0.018528\n",
    "       Name: compliance, dtype: float32"
   ]
  },
  {
   "cell_type": "markdown",
   "metadata": {},
   "source": [
    "# Blight ticket payment compliance prediction\n",
    "* [1. Data Information](#1.)\n",
    "    * [1.1 Missing values](#1.1)\n",
    "    * [1.2 Numeric features](#1.2)\n",
    "    * [1.3 Categorical features](#1.3)\n",
    "* [2. Data Visualization](#2.)\n",
    "    * [2.1 Numerical features](#2.1)\n",
    "    * [2.2 Categorical features](#2.2)\n",
    "* [3. Model](#3.)"
   ]
  },
  {
   "cell_type": "markdown",
   "metadata": {},
   "source": [
    "# Import the python libraries"
   ]
  },
  {
   "cell_type": "code",
   "execution_count": 653,
   "metadata": {},
   "outputs": [],
   "source": [
    "# data analysis\n",
    "import numpy as np\n",
    "import pandas as pd\n",
    "\n",
    "# data visualization\n",
    "import seaborn as sns\n",
    "import matplotlib.pyplot as plt\n",
    "import matplotlib.ticker as mtick\n",
    "import matplotlib.dates as mdates\n",
    "import matplotlib.patches as mpatches\n",
    "from matplotlib.colors import ListedColormap\n",
    "\n",
    "# machine learning\n",
    "from sklearn.model_selection import train_test_split, cross_val_score\n",
    "from sklearn.preprocessing import LabelEncoder"
   ]
  },
  {
   "cell_type": "markdown",
   "metadata": {},
   "source": [
    "# Helper Functions"
   ]
  },
  {
   "cell_type": "markdown",
   "metadata": {},
   "source": [
    "## Datasets"
   ]
  },
  {
   "cell_type": "code",
   "execution_count": 411,
   "metadata": {},
   "outputs": [],
   "source": [
    "def prepare_train_dataset(file, columns):\n",
    "    df_train = pd.read_csv(file, encoding='ISO-8859-1', low_memory=False)\n",
    "    df_train = df_train[(df_train['city'].str.lower() == 'detroit') & (~df_train['compliance_detail'].str.contains('not responsible')) & (~df_train['compliance_detail'].str.contains('compliant by no fine'))].set_index('ticket_id')\n",
    "    df_train['owed_amount'] = df_train['judgment_amount'] - df_train['discount_amount']\n",
    "    X = df_train[columns]\n",
    "    y = df_train['compliance']\n",
    "\n",
    "    return X,y"
   ]
  },
  {
   "cell_type": "code",
   "execution_count": 412,
   "metadata": {},
   "outputs": [],
   "source": [
    "def prepare_test_dataset(file, columns):\n",
    "    df_test = pd.read_csv(file, encoding='ISO-8859-1', low_memory=False)\n",
    "    df_test = df_test[(df_test['city'].str.lower() == 'detroit')].set_index('ticket_id')\n",
    "    df_test['owed_amount'] = df_test['judgment_amount'] - df_test['discount_amount']\n",
    "    X = df_test[columns]\n",
    "\n",
    "    return X"
   ]
  },
  {
   "cell_type": "code",
   "execution_count": 413,
   "metadata": {},
   "outputs": [],
   "source": [
    "def transform(le, data_list):\n",
    "    \"\"\"\n",
    "    This will transform the data_list to id list where the new values get assigned to Unknown class\n",
    "    :param data_list:\n",
    "    :return:\n",
    "    \"\"\"\n",
    "    new_data_list = list(data_list)\n",
    "    for unique_item in np.unique(data_list):\n",
    "        if unique_item not in le.classes_:\n",
    "            new_data_list = ['Unknown' if x==unique_item else x for x in new_data_list]\n",
    "\n",
    "    return le.transform(new_data_list)"
   ]
  },
  {
   "cell_type": "markdown",
   "metadata": {},
   "source": [
    "## Plots"
   ]
  },
  {
   "cell_type": "code",
   "execution_count": 414,
   "metadata": {},
   "outputs": [],
   "source": [
    "def define_percentage_compliance(df, field):\n",
    "    compliance={}\n",
    "    compliance_values = [0,1]\n",
    "    for value in compliance_values:\n",
    "        compliance[value] = []\n",
    "    total_people = df[field].count()\n",
    "\n",
    "    compliance[1] = df[df['compliance'] == 1][field].value_counts()\n",
    "    compliance[0] = df[df['compliance'] == 0][field].value_counts()\n",
    "    compliance['total'] = total_people\n",
    "    \n",
    "    return compliance"
   ]
  },
  {
   "cell_type": "code",
   "execution_count": 415,
   "metadata": {},
   "outputs": [],
   "source": [
    "def define_percentage_compliance_folds(df, field, compliance_field='compliance', compliance_values=[0,1], folds=[50, 100, 150, 200, 250, 300, 350, 'rest']):\n",
    "    compliance={}\n",
    "    for value in compliance_values:\n",
    "        compliance[value] = []\n",
    "        \n",
    "    total_people = df[field].count()\n",
    "    \n",
    "    for i in range(len(folds)):\n",
    "        if folds[i] == 'rest':\n",
    "            for value in compliance_values:\n",
    "                compliance[value].append(df[(df[field] > folds[i-1]) & (df[compliance_field] == value)][field].count())\n",
    "        elif i == 0:\n",
    "            for value in compliance_values:\n",
    "                compliance[value].append(df[(df[field] <= folds[i]) & (df[compliance_field] == value)][field].count())\n",
    "        else:\n",
    "            for value in compliance_values:\n",
    "                compliance[value].append(df[(df[field] > folds[i-1]) & (df[field] <= folds[i]) & (df[compliance_field] == value)][field].count())\n",
    "\n",
    "    for key, values in compliance.items():\n",
    "        compliance[key] = [element/total_people for element in values]\n",
    "    \n",
    "    return compliance"
   ]
  },
  {
   "cell_type": "code",
   "execution_count": 664,
   "metadata": {},
   "outputs": [],
   "source": [
    "def plot_percent_compliance_bar_folds_chart(y, w=10, xlim=(), ylim=(), folds=[50, 100, 150, 200, 250, 300, 350, 400], folds_ticks=['0~50', '50~100', '100~150', '150~200', '200~250', '250~300', '300~350', '>350'], legend=['Compliant', 'Not Compliant']):\n",
    "    plt.figure(figsize=(12,6))\n",
    "    ax = plt.subplot(111)\n",
    "    ax.bar([element - w/2 for element in folds], y[1], width=w) \n",
    "    ax.bar([element + w/2 for element in folds], y[0], width=w) \n",
    "    \n",
    "    if len(xlim) > 0:\n",
    "        plt.xlim(xlim[0], xlim[1])\n",
    "    \n",
    "    if len(ylim) > 0:\n",
    "        plt.ylim(ylim[0], ylim[1])\n",
    "           \n",
    "    ax.yaxis.set_major_formatter(mtick.PercentFormatter(1.0))\n",
    "    plt.xticks(folds, folds_ticks)        \n",
    "    plt.legend(legend, loc='best', framealpha=0.0)\n",
    "    plt.show()"
   ]
  },
  {
   "cell_type": "code",
   "execution_count": 430,
   "metadata": {},
   "outputs": [],
   "source": [
    "def plot_percent_compliance_bar_chart(df, field, xlim=(), ylim=(), legend=['Compliant', 'Not Compliant']):\n",
    "    compliance = define_percentage_compliance(df, field)\n",
    "    plt.figure(figsize=(12,6))\n",
    "    ax = plt.subplot()\n",
    "    w = 1\n",
    "    ax.bar([element - w/2 for element in list(compliance[1].index)], compliance[1].apply(lambda x: x/compliance['total']), width=w) \n",
    "    ax.bar([element + w/2 for element in list(compliance[0].index)], compliance[0].apply(lambda x: x/compliance['total']), width=w)\n",
    "\n",
    "    \n",
    "    if len(xlim) > 0:\n",
    "        plt.xlim(xlim[0], xlim[1])\n",
    "    \n",
    "    if len(ylim) > 0:\n",
    "        plt.ylim(ylim[0], ylim[1])\n",
    "    \n",
    "    ax.yaxis.set_major_formatter(mtick.PercentFormatter(1.0))\n",
    "    plt.legend(legend, loc='best', framealpha=0.0)\n",
    "    plt.show()"
   ]
  },
  {
   "cell_type": "code",
   "execution_count": 431,
   "metadata": {},
   "outputs": [],
   "source": [
    "def plot_percent_compliance_scatter_chart(df, field, xlim=(), ylim=(), legend=['Compliant', 'Not Compliant']):\n",
    "    compliance = define_percentage_compliance(df, field)\n",
    "    plt.figure(figsize=(12,6))\n",
    "    ax = plt.subplot(111)\n",
    "    ax.scatter(compliance[1].index, compliance[1].apply(lambda x: x/compliance['total']), marker='o') \n",
    "    ax.scatter(compliance[0].index, compliance[0].apply(lambda x: x/compliance['total']), marker='o')\n",
    "    \n",
    "    if len(xlim) > 0:\n",
    "        plt.xlim(xlim[0], xlim[1])\n",
    "    \n",
    "    if len(ylim) > 0:\n",
    "        plt.ylim(ylim[0], ylim[1])\n",
    "    \n",
    "    ax.yaxis.set_major_formatter(mtick.PercentFormatter(1.0))\n",
    "    plt.legend(legend, loc='best', framealpha=0.0)\n",
    "    plt.show()"
   ]
  },
  {
   "cell_type": "code",
   "execution_count": 623,
   "metadata": {},
   "outputs": [],
   "source": [
    "def plot_compliance_scatter_features_chart(df, x, y, colors = ['#FF7F0E', '#1F77B4'], xticks=[], yticks=[], xlim=(), ylim=(), legend=['Not Compliant', 'Compliant']):\n",
    "    plt.figure(figsize=(12,6))\n",
    "    ax = plt.subplot(111)\n",
    "    ax.scatter(df[x], df[y], c=df['compliance'], cmap=ListedColormap(colors), marker='o') \n",
    "    \n",
    "    if len(xticks) > 0:\n",
    "        x_interval=[]\n",
    "        for i in range(len(xticks)):\n",
    "            x_interval.append(i)\n",
    "        plt.xticks(x_interval, xticks)\n",
    "    \n",
    "    if len(yticks) > 0:\n",
    "        y_interval=[]\n",
    "        for i in range(len(yticks)):\n",
    "            y_interval.append(i)\n",
    "        plt.yticks(y_interval, yticks)\n",
    "        \n",
    "    if len(xlim) > 0:\n",
    "        plt.xlim(xlim[0], xlim[1])\n",
    "    \n",
    "    if len(ylim) > 0:\n",
    "        plt.ylim(ylim[0], ylim[1])\n",
    "    \n",
    "    legend_handles = []\n",
    "    for i in range(0, len(legend)):\n",
    "        patch = mpatches.Patch(color=colors[i], label=legend[i])\n",
    "        legend_handles.append(patch)\n",
    "    ax.legend(loc=0, handles=legend_handles, framealpha=0.0)\n",
    "    \n",
    "    plt.show()"
   ]
  },
  {
   "cell_type": "markdown",
   "metadata": {},
   "source": [
    "# 1. Data information <a class='anchor' id='1.'></a>"
   ]
  },
  {
   "cell_type": "code",
   "execution_count": 495,
   "metadata": {},
   "outputs": [
    {
     "name": "stdout",
     "output_type": "stream",
     "text": [
      "<class 'pandas.core.frame.DataFrame'>\n",
      "RangeIndex: 250306 entries, 0 to 250305\n",
      "Data columns (total 34 columns):\n",
      " #   Column                      Non-Null Count   Dtype  \n",
      "---  ------                      --------------   -----  \n",
      " 0   ticket_id                   250306 non-null  int64  \n",
      " 1   agency_name                 250306 non-null  object \n",
      " 2   inspector_name              250306 non-null  object \n",
      " 3   violator_name               250272 non-null  object \n",
      " 4   violation_street_number     250306 non-null  float64\n",
      " 5   violation_street_name       250306 non-null  object \n",
      " 6   violation_zip_code          0 non-null       float64\n",
      " 7   mailing_address_str_number  246704 non-null  float64\n",
      " 8   mailing_address_str_name    250302 non-null  object \n",
      " 9   city                        250306 non-null  object \n",
      " 10  state                       250213 non-null  object \n",
      " 11  zip_code                    250305 non-null  object \n",
      " 12  non_us_str_code             3 non-null       object \n",
      " 13  country                     250306 non-null  object \n",
      " 14  ticket_issued_date          250306 non-null  object \n",
      " 15  hearing_date                237815 non-null  object \n",
      " 16  violation_code              250306 non-null  object \n",
      " 17  violation_description       250306 non-null  object \n",
      " 18  disposition                 250306 non-null  object \n",
      " 19  fine_amount                 250305 non-null  float64\n",
      " 20  admin_fee                   250306 non-null  float64\n",
      " 21  state_fee                   250306 non-null  float64\n",
      " 22  late_fee                    250306 non-null  float64\n",
      " 23  discount_amount             250306 non-null  float64\n",
      " 24  clean_up_cost               250306 non-null  float64\n",
      " 25  judgment_amount             250306 non-null  float64\n",
      " 26  payment_amount              250306 non-null  float64\n",
      " 27  balance_due                 250306 non-null  float64\n",
      " 28  payment_date                41113 non-null   object \n",
      " 29  payment_status              250306 non-null  object \n",
      " 30  collection_status           36897 non-null   object \n",
      " 31  grafitti_status             1 non-null       object \n",
      " 32  compliance_detail           250306 non-null  object \n",
      " 33  compliance                  159880 non-null  float64\n",
      "dtypes: float64(13), int64(1), object(20)\n",
      "memory usage: 64.9+ MB\n"
     ]
    }
   ],
   "source": [
    "df_train = pd.read_csv('csv/train.csv', encoding='ISO-8859-1', low_memory=False)\n",
    "df_train.info()"
   ]
  },
  {
   "cell_type": "code",
   "execution_count": 496,
   "metadata": {},
   "outputs": [
    {
     "name": "stdout",
     "output_type": "stream",
     "text": [
      "<class 'pandas.core.frame.DataFrame'>\n",
      "RangeIndex: 61001 entries, 0 to 61000\n",
      "Data columns (total 27 columns):\n",
      " #   Column                      Non-Null Count  Dtype  \n",
      "---  ------                      --------------  -----  \n",
      " 0   ticket_id                   61001 non-null  int64  \n",
      " 1   agency_name                 61001 non-null  object \n",
      " 2   inspector_name              61001 non-null  object \n",
      " 3   violator_name               60973 non-null  object \n",
      " 4   violation_street_number     61001 non-null  float64\n",
      " 5   violation_street_name       61001 non-null  object \n",
      " 6   violation_zip_code          24024 non-null  object \n",
      " 7   mailing_address_str_number  59987 non-null  object \n",
      " 8   mailing_address_str_name    60998 non-null  object \n",
      " 9   city                        61000 non-null  object \n",
      " 10  state                       60670 non-null  object \n",
      " 11  zip_code                    60998 non-null  object \n",
      " 12  non_us_str_code             0 non-null      float64\n",
      " 13  country                     61001 non-null  object \n",
      " 14  ticket_issued_date          61001 non-null  object \n",
      " 15  hearing_date                58804 non-null  object \n",
      " 16  violation_code              61001 non-null  object \n",
      " 17  violation_description       61001 non-null  object \n",
      " 18  disposition                 61001 non-null  object \n",
      " 19  fine_amount                 61001 non-null  float64\n",
      " 20  admin_fee                   61001 non-null  float64\n",
      " 21  state_fee                   61001 non-null  float64\n",
      " 22  late_fee                    61001 non-null  float64\n",
      " 23  discount_amount             61001 non-null  float64\n",
      " 24  clean_up_cost               61001 non-null  float64\n",
      " 25  judgment_amount             61001 non-null  float64\n",
      " 26  grafitti_status             2221 non-null   object \n",
      "dtypes: float64(9), int64(1), object(17)\n",
      "memory usage: 12.6+ MB\n"
     ]
    }
   ],
   "source": [
    "df_test = pd.read_csv('csv/test.csv', encoding='ISO-8859-1', low_memory=False)\n",
    "df_test.info()"
   ]
  },
  {
   "cell_type": "code",
   "execution_count": 497,
   "metadata": {},
   "outputs": [
    {
     "data": {
      "text/plain": [
       "array(['Detroit', 'DETROIT', 'Det', 'DEt', 'detroit', 'det', 'Det.',\n",
       "       'DETRIT', 'DETOIT', 'detroitt', 'detriot', 'DETRIUT', 'DET',\n",
       "       'DETROIT`', 'DETROTI', 'DETROITdetroit', 'DETROIOT', 'DETRJOIT',\n",
       "       'DETROT', 'DETRPOT', 'DETRIOT', 'dETROIT', 'Detrofit', 'DETRROIT',\n",
       "       'DETROIRT', 'DETROIT,', 'DETROITM', 'DETEROIT', 'Detroi',\n",
       "       'Detroti', 'detrot', 'DETROITI', 'DETROIYT', 'Detroitf', 'det.',\n",
       "       'DETROOIT', 'DETROIIT', 'DETORIT', 'detrorit', 'DETROIT1',\n",
       "       'DETROITQ', 'Detrroit', 'DETEOIT', 'DETROIR', 'detrtoit',\n",
       "       'Detriot', 'detroit`', 'DET.', 'deT', 'DETREOIT', 'DETAROIT',\n",
       "       'DETTROIT', 'DETROIS', 'Detrot', 'DETROITT', 'Detro;it', 'DETRTOI',\n",
       "       'DETROI', 'DEtroit', 'DETR4OIT', 'det48234', 'DET,', 'DETRIOIT',\n",
       "       'Detorit', 'DETROPIT', 'DETROIT, MI. 48206', 'DETROUIT',\n",
       "       'DETROIT, MI.', 'DETROKT', 'DETROITF', 'Detroir', 'DETOUR VILLAGE',\n",
       "       'DETTROITM', 'DET ,', 'detoit', 'Detroit`', 'DET ROIT',\n",
       "       'DET., MI.', 'DET.,', 'DET,.', 'DETROIT  4', 'detroiot',\n",
       "       'Detrioit', 'Detroitli', 'detroiit', 'DET. MI.', 'DETROITY',\n",
       "       'detroir', 'Detriut', 'DETORIIT', 'DETROITL', 'deteroit',\n",
       "       'DETYROIT'], dtype=object)"
      ]
     },
     "execution_count": 497,
     "metadata": {},
     "output_type": "execute_result"
    }
   ],
   "source": [
    "df_train[(df_train['state'] == 'MI') & (df_train['city'].str.lower().str.startswith('det'))]['city'].unique()"
   ]
  },
  {
   "cell_type": "code",
   "execution_count": 498,
   "metadata": {},
   "outputs": [
    {
     "data": {
      "text/plain": [
       "array(['DETROIT', 'detroit', 'DETEOIT', 'DETROT', 'det', 'Detroit',\n",
       "       'DETYROIT', 'DETROTI', 'DETROIT, MI', 'DETROI', 'DET', 'detoit',\n",
       "       'detriot', 'DETROIT48214', 'DETOIT', 'DETRPOT', 'Detroi',\n",
       "       'DETORIT', 'Det', 'detroi', 'DETRIOT', 'Detrotit', 'DETROITY',\n",
       "       'DETROITG', 'DETROIT.', 'Detoit', 'DETROIT,', 'DETRO', 'DETR',\n",
       "       'DETROITQ', 'detroir', 'DETROOIT', 'detroiy', 'DETTORIT',\n",
       "       'DETRROIT', 'DETOIR', 'DETROIR', 'DETROPIT', 'dETROIT', 'DETRIT',\n",
       "       'DETR0IT', 'DETRTOIT', 'Deteroit', 'detROIT', 'DETRIOIT',\n",
       "       'DETroit'], dtype=object)"
      ]
     },
     "execution_count": 498,
     "metadata": {},
     "output_type": "execute_result"
    }
   ],
   "source": [
    "df_test[(df_test['state'] == 'MI') & (df_test['city'].str.lower().str.startswith('det'))]['city'].unique()"
   ]
  },
  {
   "cell_type": "markdown",
   "metadata": {},
   "source": [
    "Analysing the unique cities from Michigan state that starts with 'det', the distinct city 'DETOUR VILLAGE' was identified.\n",
    "<br>\n",
    "First I removed all entries that are not from Detroit and the person was not fined (judgment_amount = 0)"
   ]
  },
  {
   "cell_type": "code",
   "execution_count": 499,
   "metadata": {},
   "outputs": [
    {
     "name": "stdout",
     "output_type": "stream",
     "text": [
      "Number of Examples = 97584\n",
      "X Shape = (97584, 33)\n",
      "y Shape = 97584\n",
      "\n"
     ]
    }
   ],
   "source": [
    "df_train = df_train[(df_train['state'] == 'MI') & (df_train['city'].str.lower().str.startswith('det')) & (~df_train['city'].isin(['DETOUR VILLAGE'])) & (df_train['judgment_amount'] != 0)].set_index('ticket_id')\n",
    "df_train['city'] = 'Detroit'\n",
    "\n",
    "print(f'Number of Examples = {df_train.shape[0]}')\n",
    "print(f'X Shape = {df_train.shape}')\n",
    "print(f'y Shape = {df_train[\"compliance\"].shape[0]}\\n')"
   ]
  },
  {
   "cell_type": "code",
   "execution_count": 500,
   "metadata": {},
   "outputs": [
    {
     "name": "stdout",
     "output_type": "stream",
     "text": [
      "Number of Examples = 30764\n",
      "X Shape = (30764, 26)\n"
     ]
    }
   ],
   "source": [
    "df_test = df_test[(df_test['state'] == 'MI') & (df_test['city'].str.lower().str.startswith('det')) & (~df_test['city'].isin(['DETOUR VILLAGE'])) & (df_test['judgment_amount'] != 0)].set_index('ticket_id')\n",
    "df_test['city'] = 'Detroit'\n",
    "\n",
    "print(f'Number of Examples = {df_test.shape[0]}')\n",
    "print(f'X Shape = {df_test.shape}')"
   ]
  },
  {
   "cell_type": "markdown",
   "metadata": {},
   "source": [
    "## 1.1 Missing values <a class='anchor' id='1.1'></a>"
   ]
  },
  {
   "cell_type": "code",
   "execution_count": 501,
   "metadata": {},
   "outputs": [
    {
     "name": "stdout",
     "output_type": "stream",
     "text": [
      "Only features contained missing value in Training Dataset\n",
      "violator_name                    14\n",
      "violation_zip_code            97584\n",
      "mailing_address_str_number      715\n",
      "non_us_str_code               97584\n",
      "hearing_date                    116\n",
      "payment_date                  74564\n",
      "collection_status             77949\n",
      "grafitti_status               97584\n",
      "dtype: int64 \n",
      "\n"
     ]
    }
   ],
   "source": [
    "print(f'Only features contained missing value in Training Dataset')\n",
    "temp = df_train.isnull().sum()\n",
    "print(temp.loc[temp!=0], '\\n')"
   ]
  },
  {
   "cell_type": "code",
   "execution_count": 502,
   "metadata": {},
   "outputs": [
    {
     "name": "stdout",
     "output_type": "stream",
     "text": [
      "Only features contained missing value in Test Dataset\n",
      "violator_name                     2\n",
      "violation_zip_code            18530\n",
      "mailing_address_str_number      259\n",
      "mailing_address_str_name          1\n",
      "non_us_str_code               30764\n",
      "hearing_date                   1029\n",
      "grafitti_status               29678\n",
      "dtype: int64 \n",
      "\n"
     ]
    }
   ],
   "source": [
    "print(f'Only features contained missing value in Test Dataset')\n",
    "temp = df_test.isnull().sum()\n",
    "print(temp.loc[temp!=0], '\\n')"
   ]
  },
  {
   "cell_type": "markdown",
   "metadata": {},
   "source": [
    "Drop the columns that most of rows are missing values, except for the payment_date column that may contain some useful information about the problem"
   ]
  },
  {
   "cell_type": "code",
   "execution_count": 503,
   "metadata": {},
   "outputs": [],
   "source": [
    "null_features = df_train.isnull().sum()\n",
    "all_null = df_train.columns[list(null_features == df_train.shape[0])]\n",
    "df_train.drop(all_null, axis=1, inplace=True)\n",
    "df_test.drop(all_null, axis=1, inplace=True)\n",
    "df_train.drop('collection_status', axis=1, inplace=True)"
   ]
  },
  {
   "cell_type": "markdown",
   "metadata": {},
   "source": [
    "Drop the rows that has missing values for the remaining features, since they represent a really small portion of the dataset"
   ]
  },
  {
   "cell_type": "code",
   "execution_count": 504,
   "metadata": {},
   "outputs": [],
   "source": [
    "null_features = df_train.isnull().sum()\n",
    "null_2000 = df_train.columns[list((null_features < 2000) & (null_features != 0))]\n",
    "df_train.drop(df_train[df_train[null_2000].isnull().any(axis=1)].index, inplace=True)"
   ]
  },
  {
   "cell_type": "code",
   "execution_count": 505,
   "metadata": {},
   "outputs": [],
   "source": [
    "null_features = df_test.isnull().sum()\n",
    "null_2000 = df_test.columns[list((null_features < 2000) & (null_features != 0))]\n",
    "df_test.drop(df_test[df_test[null_2000].isnull().any(axis=1)].index, inplace=True)"
   ]
  },
  {
   "cell_type": "code",
   "execution_count": 506,
   "metadata": {},
   "outputs": [
    {
     "name": "stdout",
     "output_type": "stream",
     "text": [
      "Only features contained missing value in Training Dataset\n",
      "payment_date    73935\n",
      "dtype: int64 \n",
      "\n"
     ]
    }
   ],
   "source": [
    "print(f'Only features contained missing value in Training Dataset')\n",
    "temp = df_train.isnull().sum()\n",
    "print(temp.loc[temp!=0], '\\n')"
   ]
  },
  {
   "cell_type": "code",
   "execution_count": 507,
   "metadata": {},
   "outputs": [
    {
     "name": "stdout",
     "output_type": "stream",
     "text": [
      "Only features contained missing value in Test Dataset\n",
      "Series([], dtype: int64) \n",
      "\n"
     ]
    }
   ],
   "source": [
    "print(f'Only features contained missing value in Test Dataset')\n",
    "temp = df_test.isnull().sum()\n",
    "print(temp.loc[temp!=0], '\\n')"
   ]
  },
  {
   "cell_type": "code",
   "execution_count": 508,
   "metadata": {},
   "outputs": [
    {
     "name": "stdout",
     "output_type": "stream",
     "text": [
      "Number of Examples = 96745\n",
      "X Shape = (96745, 29)\n",
      "y Shape = 96745\n",
      "\n"
     ]
    }
   ],
   "source": [
    "print(f'Number of Examples = {df_train.shape[0]}')\n",
    "print(f'X Shape = {df_train.shape}')\n",
    "print(f'y Shape = {df_train[\"compliance\"].shape[0]}\\n')"
   ]
  },
  {
   "cell_type": "code",
   "execution_count": 509,
   "metadata": {},
   "outputs": [
    {
     "name": "stdout",
     "output_type": "stream",
     "text": [
      "Number of Examples = 29475\n",
      "X Shape = (29475, 23)\n"
     ]
    }
   ],
   "source": [
    "print(f'Number of Examples = {df_test.shape[0]}')\n",
    "print(f'X Shape = {df_test.shape}')"
   ]
  },
  {
   "cell_type": "markdown",
   "metadata": {},
   "source": [
    "839 entries were removed from the training dataset<br>\n",
    "1289 entries were removed from the test dataset"
   ]
  },
  {
   "cell_type": "markdown",
   "metadata": {},
   "source": [
    "## 1.2 Numeric Features <a class='anchor' id='1.2'></a>"
   ]
  },
  {
   "cell_type": "code",
   "execution_count": 510,
   "metadata": {},
   "outputs": [
    {
     "data": {
      "text/html": [
       "<div>\n",
       "<style scoped>\n",
       "    .dataframe tbody tr th:only-of-type {\n",
       "        vertical-align: middle;\n",
       "    }\n",
       "\n",
       "    .dataframe tbody tr th {\n",
       "        vertical-align: top;\n",
       "    }\n",
       "\n",
       "    .dataframe thead th {\n",
       "        text-align: right;\n",
       "    }\n",
       "</style>\n",
       "<table border=\"1\" class=\"dataframe\">\n",
       "  <thead>\n",
       "    <tr style=\"text-align: right;\">\n",
       "      <th></th>\n",
       "      <th>violation_street_number</th>\n",
       "      <th>mailing_address_str_number</th>\n",
       "      <th>fine_amount</th>\n",
       "      <th>admin_fee</th>\n",
       "      <th>state_fee</th>\n",
       "      <th>late_fee</th>\n",
       "      <th>discount_amount</th>\n",
       "      <th>clean_up_cost</th>\n",
       "      <th>judgment_amount</th>\n",
       "      <th>payment_amount</th>\n",
       "      <th>balance_due</th>\n",
       "      <th>compliance</th>\n",
       "    </tr>\n",
       "  </thead>\n",
       "  <tbody>\n",
       "    <tr>\n",
       "      <th>count</th>\n",
       "      <td>9.674500e+04</td>\n",
       "      <td>9.674500e+04</td>\n",
       "      <td>96745.000000</td>\n",
       "      <td>96745.0</td>\n",
       "      <td>96745.0</td>\n",
       "      <td>96745.000000</td>\n",
       "      <td>96745.000000</td>\n",
       "      <td>96745.0</td>\n",
       "      <td>96745.000000</td>\n",
       "      <td>96745.000000</td>\n",
       "      <td>96745.000000</td>\n",
       "      <td>96745.000000</td>\n",
       "    </tr>\n",
       "    <tr>\n",
       "      <th>mean</th>\n",
       "      <td>1.031852e+04</td>\n",
       "      <td>7.865159e+03</td>\n",
       "      <td>324.110962</td>\n",
       "      <td>20.0</td>\n",
       "      <td>10.0</td>\n",
       "      <td>30.609737</td>\n",
       "      <td>0.139418</td>\n",
       "      <td>0.0</td>\n",
       "      <td>384.720699</td>\n",
       "      <td>57.096167</td>\n",
       "      <td>327.485197</td>\n",
       "      <td>0.069668</td>\n",
       "    </tr>\n",
       "    <tr>\n",
       "      <th>std</th>\n",
       "      <td>4.626965e+04</td>\n",
       "      <td>2.284441e+04</td>\n",
       "      <td>601.721250</td>\n",
       "      <td>0.0</td>\n",
       "      <td>0.0</td>\n",
       "      <td>60.407631</td>\n",
       "      <td>2.659109</td>\n",
       "      <td>0.0</td>\n",
       "      <td>661.510687</td>\n",
       "      <td>163.511476</td>\n",
       "      <td>666.774246</td>\n",
       "      <td>0.254587</td>\n",
       "    </tr>\n",
       "    <tr>\n",
       "      <th>min</th>\n",
       "      <td>0.000000e+00</td>\n",
       "      <td>1.000000e+00</td>\n",
       "      <td>25.000000</td>\n",
       "      <td>20.0</td>\n",
       "      <td>10.0</td>\n",
       "      <td>0.000000</td>\n",
       "      <td>0.000000</td>\n",
       "      <td>0.0</td>\n",
       "      <td>55.000000</td>\n",
       "      <td>0.000000</td>\n",
       "      <td>-1575.000000</td>\n",
       "      <td>0.000000</td>\n",
       "    </tr>\n",
       "    <tr>\n",
       "      <th>25%</th>\n",
       "      <td>4.314000e+03</td>\n",
       "      <td>8.320000e+02</td>\n",
       "      <td>200.000000</td>\n",
       "      <td>20.0</td>\n",
       "      <td>10.0</td>\n",
       "      <td>10.000000</td>\n",
       "      <td>0.000000</td>\n",
       "      <td>0.0</td>\n",
       "      <td>230.000000</td>\n",
       "      <td>0.000000</td>\n",
       "      <td>85.000000</td>\n",
       "      <td>0.000000</td>\n",
       "    </tr>\n",
       "    <tr>\n",
       "      <th>50%</th>\n",
       "      <td>9.534000e+03</td>\n",
       "      <td>2.668000e+03</td>\n",
       "      <td>250.000000</td>\n",
       "      <td>20.0</td>\n",
       "      <td>10.0</td>\n",
       "      <td>25.000000</td>\n",
       "      <td>0.000000</td>\n",
       "      <td>0.0</td>\n",
       "      <td>305.000000</td>\n",
       "      <td>0.000000</td>\n",
       "      <td>305.000000</td>\n",
       "      <td>0.000000</td>\n",
       "    </tr>\n",
       "    <tr>\n",
       "      <th>75%</th>\n",
       "      <td>1.542500e+04</td>\n",
       "      <td>1.354800e+04</td>\n",
       "      <td>250.000000</td>\n",
       "      <td>20.0</td>\n",
       "      <td>10.0</td>\n",
       "      <td>25.000000</td>\n",
       "      <td>0.000000</td>\n",
       "      <td>0.0</td>\n",
       "      <td>305.000000</td>\n",
       "      <td>0.000000</td>\n",
       "      <td>305.000000</td>\n",
       "      <td>0.000000</td>\n",
       "    </tr>\n",
       "    <tr>\n",
       "      <th>max</th>\n",
       "      <td>1.415411e+07</td>\n",
       "      <td>3.511219e+06</td>\n",
       "      <td>10000.000000</td>\n",
       "      <td>20.0</td>\n",
       "      <td>10.0</td>\n",
       "      <td>1000.000000</td>\n",
       "      <td>350.000000</td>\n",
       "      <td>0.0</td>\n",
       "      <td>11030.000000</td>\n",
       "      <td>11030.000000</td>\n",
       "      <td>11030.000000</td>\n",
       "      <td>1.000000</td>\n",
       "    </tr>\n",
       "  </tbody>\n",
       "</table>\n",
       "</div>"
      ],
      "text/plain": [
       "       violation_street_number  mailing_address_str_number   fine_amount  \\\n",
       "count             9.674500e+04                9.674500e+04  96745.000000   \n",
       "mean              1.031852e+04                7.865159e+03    324.110962   \n",
       "std               4.626965e+04                2.284441e+04    601.721250   \n",
       "min               0.000000e+00                1.000000e+00     25.000000   \n",
       "25%               4.314000e+03                8.320000e+02    200.000000   \n",
       "50%               9.534000e+03                2.668000e+03    250.000000   \n",
       "75%               1.542500e+04                1.354800e+04    250.000000   \n",
       "max               1.415411e+07                3.511219e+06  10000.000000   \n",
       "\n",
       "       admin_fee  state_fee      late_fee  discount_amount  clean_up_cost  \\\n",
       "count    96745.0    96745.0  96745.000000     96745.000000        96745.0   \n",
       "mean        20.0       10.0     30.609737         0.139418            0.0   \n",
       "std          0.0        0.0     60.407631         2.659109            0.0   \n",
       "min         20.0       10.0      0.000000         0.000000            0.0   \n",
       "25%         20.0       10.0     10.000000         0.000000            0.0   \n",
       "50%         20.0       10.0     25.000000         0.000000            0.0   \n",
       "75%         20.0       10.0     25.000000         0.000000            0.0   \n",
       "max         20.0       10.0   1000.000000       350.000000            0.0   \n",
       "\n",
       "       judgment_amount  payment_amount   balance_due    compliance  \n",
       "count     96745.000000    96745.000000  96745.000000  96745.000000  \n",
       "mean        384.720699       57.096167    327.485197      0.069668  \n",
       "std         661.510687      163.511476    666.774246      0.254587  \n",
       "min          55.000000        0.000000  -1575.000000      0.000000  \n",
       "25%         230.000000        0.000000     85.000000      0.000000  \n",
       "50%         305.000000        0.000000    305.000000      0.000000  \n",
       "75%         305.000000        0.000000    305.000000      0.000000  \n",
       "max       11030.000000    11030.000000  11030.000000      1.000000  "
      ]
     },
     "execution_count": 510,
     "metadata": {},
     "output_type": "execute_result"
    }
   ],
   "source": [
    "df_train.describe()"
   ]
  },
  {
   "cell_type": "code",
   "execution_count": 511,
   "metadata": {},
   "outputs": [
    {
     "data": {
      "text/html": [
       "<div>\n",
       "<style scoped>\n",
       "    .dataframe tbody tr th:only-of-type {\n",
       "        vertical-align: middle;\n",
       "    }\n",
       "\n",
       "    .dataframe tbody tr th {\n",
       "        vertical-align: top;\n",
       "    }\n",
       "\n",
       "    .dataframe thead th {\n",
       "        text-align: right;\n",
       "    }\n",
       "</style>\n",
       "<table border=\"1\" class=\"dataframe\">\n",
       "  <thead>\n",
       "    <tr style=\"text-align: right;\">\n",
       "      <th></th>\n",
       "      <th>violation_street_number</th>\n",
       "      <th>fine_amount</th>\n",
       "      <th>admin_fee</th>\n",
       "      <th>state_fee</th>\n",
       "      <th>late_fee</th>\n",
       "      <th>discount_amount</th>\n",
       "      <th>clean_up_cost</th>\n",
       "      <th>judgment_amount</th>\n",
       "    </tr>\n",
       "  </thead>\n",
       "  <tbody>\n",
       "    <tr>\n",
       "      <th>count</th>\n",
       "      <td>29475.00000</td>\n",
       "      <td>29475.000000</td>\n",
       "      <td>29475.0</td>\n",
       "      <td>29475.0</td>\n",
       "      <td>29475.000000</td>\n",
       "      <td>29475.000000</td>\n",
       "      <td>29475.000000</td>\n",
       "      <td>29475.000000</td>\n",
       "    </tr>\n",
       "    <tr>\n",
       "      <th>mean</th>\n",
       "      <td>11329.04760</td>\n",
       "      <td>257.627311</td>\n",
       "      <td>20.0</td>\n",
       "      <td>10.0</td>\n",
       "      <td>23.844835</td>\n",
       "      <td>0.099440</td>\n",
       "      <td>17.665174</td>\n",
       "      <td>329.136960</td>\n",
       "    </tr>\n",
       "    <tr>\n",
       "      <th>std</th>\n",
       "      <td>8678.55464</td>\n",
       "      <td>340.934246</td>\n",
       "      <td>0.0</td>\n",
       "      <td>0.0</td>\n",
       "      <td>34.545149</td>\n",
       "      <td>1.633764</td>\n",
       "      <td>202.091277</td>\n",
       "      <td>423.024165</td>\n",
       "    </tr>\n",
       "    <tr>\n",
       "      <th>min</th>\n",
       "      <td>-15126.00000</td>\n",
       "      <td>20.000000</td>\n",
       "      <td>20.0</td>\n",
       "      <td>10.0</td>\n",
       "      <td>0.000000</td>\n",
       "      <td>0.000000</td>\n",
       "      <td>0.000000</td>\n",
       "      <td>50.000000</td>\n",
       "    </tr>\n",
       "    <tr>\n",
       "      <th>25%</th>\n",
       "      <td>5644.00000</td>\n",
       "      <td>50.000000</td>\n",
       "      <td>20.0</td>\n",
       "      <td>10.0</td>\n",
       "      <td>5.000000</td>\n",
       "      <td>0.000000</td>\n",
       "      <td>0.000000</td>\n",
       "      <td>85.000000</td>\n",
       "    </tr>\n",
       "    <tr>\n",
       "      <th>50%</th>\n",
       "      <td>11856.00000</td>\n",
       "      <td>200.000000</td>\n",
       "      <td>20.0</td>\n",
       "      <td>10.0</td>\n",
       "      <td>10.000000</td>\n",
       "      <td>0.000000</td>\n",
       "      <td>0.000000</td>\n",
       "      <td>250.000000</td>\n",
       "    </tr>\n",
       "    <tr>\n",
       "      <th>75%</th>\n",
       "      <td>16901.00000</td>\n",
       "      <td>250.000000</td>\n",
       "      <td>20.0</td>\n",
       "      <td>10.0</td>\n",
       "      <td>25.000000</td>\n",
       "      <td>0.000000</td>\n",
       "      <td>0.000000</td>\n",
       "      <td>305.000000</td>\n",
       "    </tr>\n",
       "    <tr>\n",
       "      <th>max</th>\n",
       "      <td>890109.00000</td>\n",
       "      <td>5000.000000</td>\n",
       "      <td>20.0</td>\n",
       "      <td>10.0</td>\n",
       "      <td>500.000000</td>\n",
       "      <td>100.000000</td>\n",
       "      <td>9214.000000</td>\n",
       "      <td>9353.800000</td>\n",
       "    </tr>\n",
       "  </tbody>\n",
       "</table>\n",
       "</div>"
      ],
      "text/plain": [
       "       violation_street_number   fine_amount  admin_fee  state_fee  \\\n",
       "count              29475.00000  29475.000000    29475.0    29475.0   \n",
       "mean               11329.04760    257.627311       20.0       10.0   \n",
       "std                 8678.55464    340.934246        0.0        0.0   \n",
       "min               -15126.00000     20.000000       20.0       10.0   \n",
       "25%                 5644.00000     50.000000       20.0       10.0   \n",
       "50%                11856.00000    200.000000       20.0       10.0   \n",
       "75%                16901.00000    250.000000       20.0       10.0   \n",
       "max               890109.00000   5000.000000       20.0       10.0   \n",
       "\n",
       "           late_fee  discount_amount  clean_up_cost  judgment_amount  \n",
       "count  29475.000000     29475.000000   29475.000000     29475.000000  \n",
       "mean      23.844835         0.099440      17.665174       329.136960  \n",
       "std       34.545149         1.633764     202.091277       423.024165  \n",
       "min        0.000000         0.000000       0.000000        50.000000  \n",
       "25%        5.000000         0.000000       0.000000        85.000000  \n",
       "50%       10.000000         0.000000       0.000000       250.000000  \n",
       "75%       25.000000         0.000000       0.000000       305.000000  \n",
       "max      500.000000       100.000000    9214.000000      9353.800000  "
      ]
     },
     "execution_count": 511,
     "metadata": {},
     "output_type": "execute_result"
    }
   ],
   "source": [
    "df_test.describe()"
   ]
  },
  {
   "cell_type": "markdown",
   "metadata": {},
   "source": [
    "The 'mailing_address_str_number' column in the test dataset should be numeric, but contains string rows.<br>\n",
    "I will remove this rows and convert it to a numeric column type."
   ]
  },
  {
   "cell_type": "code",
   "execution_count": 512,
   "metadata": {},
   "outputs": [],
   "source": [
    "df_test.drop(df_test[df_test['mailing_address_str_number'].apply(lambda x: x.isnumeric()) == False].index, inplace=True)\n",
    "df_test['mailing_address_str_number'] = df_test['mailing_address_str_number'].astype('float64')"
   ]
  },
  {
   "cell_type": "code",
   "execution_count": 513,
   "metadata": {},
   "outputs": [
    {
     "name": "stdout",
     "output_type": "stream",
     "text": [
      "There are 12 numeric features in the training dataset\n",
      "There are 9 numeric features in the test dataset\n"
     ]
    }
   ],
   "source": [
    "print('There are {} numeric features in the training dataset'.format(len(df_train.describe().columns)))\n",
    "print('There are {} numeric features in the test dataset'.format(len(df_test.describe().columns)))"
   ]
  },
  {
   "cell_type": "code",
   "execution_count": 514,
   "metadata": {},
   "outputs": [
    {
     "data": {
      "text/html": [
       "<div>\n",
       "<style scoped>\n",
       "    .dataframe tbody tr th:only-of-type {\n",
       "        vertical-align: middle;\n",
       "    }\n",
       "\n",
       "    .dataframe tbody tr th {\n",
       "        vertical-align: top;\n",
       "    }\n",
       "\n",
       "    .dataframe thead th {\n",
       "        text-align: right;\n",
       "    }\n",
       "</style>\n",
       "<table border=\"1\" class=\"dataframe\">\n",
       "  <thead>\n",
       "    <tr style=\"text-align: right;\">\n",
       "      <th></th>\n",
       "      <th>violation_street_number</th>\n",
       "      <th>mailing_address_str_number</th>\n",
       "      <th>fine_amount</th>\n",
       "      <th>admin_fee</th>\n",
       "      <th>state_fee</th>\n",
       "      <th>late_fee</th>\n",
       "      <th>discount_amount</th>\n",
       "      <th>clean_up_cost</th>\n",
       "      <th>judgment_amount</th>\n",
       "      <th>payment_amount</th>\n",
       "      <th>balance_due</th>\n",
       "      <th>compliance</th>\n",
       "    </tr>\n",
       "  </thead>\n",
       "  <tbody>\n",
       "    <tr>\n",
       "      <th>count</th>\n",
       "      <td>9.674500e+04</td>\n",
       "      <td>9.674500e+04</td>\n",
       "      <td>96745.000000</td>\n",
       "      <td>96745.0</td>\n",
       "      <td>96745.0</td>\n",
       "      <td>96745.000000</td>\n",
       "      <td>96745.000000</td>\n",
       "      <td>96745.0</td>\n",
       "      <td>96745.000000</td>\n",
       "      <td>96745.000000</td>\n",
       "      <td>96745.000000</td>\n",
       "      <td>96745.000000</td>\n",
       "    </tr>\n",
       "    <tr>\n",
       "      <th>mean</th>\n",
       "      <td>1.031852e+04</td>\n",
       "      <td>7.865159e+03</td>\n",
       "      <td>324.110962</td>\n",
       "      <td>20.0</td>\n",
       "      <td>10.0</td>\n",
       "      <td>30.609737</td>\n",
       "      <td>0.139418</td>\n",
       "      <td>0.0</td>\n",
       "      <td>384.720699</td>\n",
       "      <td>57.096167</td>\n",
       "      <td>327.485197</td>\n",
       "      <td>0.069668</td>\n",
       "    </tr>\n",
       "    <tr>\n",
       "      <th>std</th>\n",
       "      <td>4.626965e+04</td>\n",
       "      <td>2.284441e+04</td>\n",
       "      <td>601.721250</td>\n",
       "      <td>0.0</td>\n",
       "      <td>0.0</td>\n",
       "      <td>60.407631</td>\n",
       "      <td>2.659109</td>\n",
       "      <td>0.0</td>\n",
       "      <td>661.510687</td>\n",
       "      <td>163.511476</td>\n",
       "      <td>666.774246</td>\n",
       "      <td>0.254587</td>\n",
       "    </tr>\n",
       "    <tr>\n",
       "      <th>min</th>\n",
       "      <td>0.000000e+00</td>\n",
       "      <td>1.000000e+00</td>\n",
       "      <td>25.000000</td>\n",
       "      <td>20.0</td>\n",
       "      <td>10.0</td>\n",
       "      <td>0.000000</td>\n",
       "      <td>0.000000</td>\n",
       "      <td>0.0</td>\n",
       "      <td>55.000000</td>\n",
       "      <td>0.000000</td>\n",
       "      <td>-1575.000000</td>\n",
       "      <td>0.000000</td>\n",
       "    </tr>\n",
       "    <tr>\n",
       "      <th>25%</th>\n",
       "      <td>4.314000e+03</td>\n",
       "      <td>8.320000e+02</td>\n",
       "      <td>200.000000</td>\n",
       "      <td>20.0</td>\n",
       "      <td>10.0</td>\n",
       "      <td>10.000000</td>\n",
       "      <td>0.000000</td>\n",
       "      <td>0.0</td>\n",
       "      <td>230.000000</td>\n",
       "      <td>0.000000</td>\n",
       "      <td>85.000000</td>\n",
       "      <td>0.000000</td>\n",
       "    </tr>\n",
       "    <tr>\n",
       "      <th>50%</th>\n",
       "      <td>9.534000e+03</td>\n",
       "      <td>2.668000e+03</td>\n",
       "      <td>250.000000</td>\n",
       "      <td>20.0</td>\n",
       "      <td>10.0</td>\n",
       "      <td>25.000000</td>\n",
       "      <td>0.000000</td>\n",
       "      <td>0.0</td>\n",
       "      <td>305.000000</td>\n",
       "      <td>0.000000</td>\n",
       "      <td>305.000000</td>\n",
       "      <td>0.000000</td>\n",
       "    </tr>\n",
       "    <tr>\n",
       "      <th>75%</th>\n",
       "      <td>1.542500e+04</td>\n",
       "      <td>1.354800e+04</td>\n",
       "      <td>250.000000</td>\n",
       "      <td>20.0</td>\n",
       "      <td>10.0</td>\n",
       "      <td>25.000000</td>\n",
       "      <td>0.000000</td>\n",
       "      <td>0.0</td>\n",
       "      <td>305.000000</td>\n",
       "      <td>0.000000</td>\n",
       "      <td>305.000000</td>\n",
       "      <td>0.000000</td>\n",
       "    </tr>\n",
       "    <tr>\n",
       "      <th>max</th>\n",
       "      <td>1.415411e+07</td>\n",
       "      <td>3.511219e+06</td>\n",
       "      <td>10000.000000</td>\n",
       "      <td>20.0</td>\n",
       "      <td>10.0</td>\n",
       "      <td>1000.000000</td>\n",
       "      <td>350.000000</td>\n",
       "      <td>0.0</td>\n",
       "      <td>11030.000000</td>\n",
       "      <td>11030.000000</td>\n",
       "      <td>11030.000000</td>\n",
       "      <td>1.000000</td>\n",
       "    </tr>\n",
       "  </tbody>\n",
       "</table>\n",
       "</div>"
      ],
      "text/plain": [
       "       violation_street_number  mailing_address_str_number   fine_amount  \\\n",
       "count             9.674500e+04                9.674500e+04  96745.000000   \n",
       "mean              1.031852e+04                7.865159e+03    324.110962   \n",
       "std               4.626965e+04                2.284441e+04    601.721250   \n",
       "min               0.000000e+00                1.000000e+00     25.000000   \n",
       "25%               4.314000e+03                8.320000e+02    200.000000   \n",
       "50%               9.534000e+03                2.668000e+03    250.000000   \n",
       "75%               1.542500e+04                1.354800e+04    250.000000   \n",
       "max               1.415411e+07                3.511219e+06  10000.000000   \n",
       "\n",
       "       admin_fee  state_fee      late_fee  discount_amount  clean_up_cost  \\\n",
       "count    96745.0    96745.0  96745.000000     96745.000000        96745.0   \n",
       "mean        20.0       10.0     30.609737         0.139418            0.0   \n",
       "std          0.0        0.0     60.407631         2.659109            0.0   \n",
       "min         20.0       10.0      0.000000         0.000000            0.0   \n",
       "25%         20.0       10.0     10.000000         0.000000            0.0   \n",
       "50%         20.0       10.0     25.000000         0.000000            0.0   \n",
       "75%         20.0       10.0     25.000000         0.000000            0.0   \n",
       "max         20.0       10.0   1000.000000       350.000000            0.0   \n",
       "\n",
       "       judgment_amount  payment_amount   balance_due    compliance  \n",
       "count     96745.000000    96745.000000  96745.000000  96745.000000  \n",
       "mean        384.720699       57.096167    327.485197      0.069668  \n",
       "std         661.510687      163.511476    666.774246      0.254587  \n",
       "min          55.000000        0.000000  -1575.000000      0.000000  \n",
       "25%         230.000000        0.000000     85.000000      0.000000  \n",
       "50%         305.000000        0.000000    305.000000      0.000000  \n",
       "75%         305.000000        0.000000    305.000000      0.000000  \n",
       "max       11030.000000    11030.000000  11030.000000      1.000000  "
      ]
     },
     "execution_count": 514,
     "metadata": {},
     "output_type": "execute_result"
    }
   ],
   "source": [
    "df_train.describe()"
   ]
  },
  {
   "cell_type": "code",
   "execution_count": 515,
   "metadata": {},
   "outputs": [
    {
     "data": {
      "text/html": [
       "<div>\n",
       "<style scoped>\n",
       "    .dataframe tbody tr th:only-of-type {\n",
       "        vertical-align: middle;\n",
       "    }\n",
       "\n",
       "    .dataframe tbody tr th {\n",
       "        vertical-align: top;\n",
       "    }\n",
       "\n",
       "    .dataframe thead th {\n",
       "        text-align: right;\n",
       "    }\n",
       "</style>\n",
       "<table border=\"1\" class=\"dataframe\">\n",
       "  <thead>\n",
       "    <tr style=\"text-align: right;\">\n",
       "      <th></th>\n",
       "      <th>violation_street_number</th>\n",
       "      <th>mailing_address_str_number</th>\n",
       "      <th>fine_amount</th>\n",
       "      <th>admin_fee</th>\n",
       "      <th>state_fee</th>\n",
       "      <th>late_fee</th>\n",
       "      <th>discount_amount</th>\n",
       "      <th>clean_up_cost</th>\n",
       "      <th>judgment_amount</th>\n",
       "    </tr>\n",
       "  </thead>\n",
       "  <tbody>\n",
       "    <tr>\n",
       "      <th>count</th>\n",
       "      <td>29141.000000</td>\n",
       "      <td>29141.000000</td>\n",
       "      <td>29141.000000</td>\n",
       "      <td>29141.0</td>\n",
       "      <td>29141.0</td>\n",
       "      <td>29141.000000</td>\n",
       "      <td>29141.000000</td>\n",
       "      <td>29141.000000</td>\n",
       "      <td>29141.000000</td>\n",
       "    </tr>\n",
       "    <tr>\n",
       "      <th>mean</th>\n",
       "      <td>11328.804983</td>\n",
       "      <td>6770.263615</td>\n",
       "      <td>257.392162</td>\n",
       "      <td>20.0</td>\n",
       "      <td>10.0</td>\n",
       "      <td>23.821471</td>\n",
       "      <td>0.097663</td>\n",
       "      <td>17.360214</td>\n",
       "      <td>328.573446</td>\n",
       "    </tr>\n",
       "    <tr>\n",
       "      <th>std</th>\n",
       "      <td>8699.976214</td>\n",
       "      <td>11444.696040</td>\n",
       "      <td>341.885452</td>\n",
       "      <td>0.0</td>\n",
       "      <td>0.0</td>\n",
       "      <td>34.639680</td>\n",
       "      <td>1.609214</td>\n",
       "      <td>200.818667</td>\n",
       "      <td>423.534848</td>\n",
       "    </tr>\n",
       "    <tr>\n",
       "      <th>min</th>\n",
       "      <td>-15126.000000</td>\n",
       "      <td>1.000000</td>\n",
       "      <td>20.000000</td>\n",
       "      <td>20.0</td>\n",
       "      <td>10.0</td>\n",
       "      <td>0.000000</td>\n",
       "      <td>0.000000</td>\n",
       "      <td>0.000000</td>\n",
       "      <td>50.000000</td>\n",
       "    </tr>\n",
       "    <tr>\n",
       "      <th>25%</th>\n",
       "      <td>5644.000000</td>\n",
       "      <td>641.000000</td>\n",
       "      <td>50.000000</td>\n",
       "      <td>20.0</td>\n",
       "      <td>10.0</td>\n",
       "      <td>5.000000</td>\n",
       "      <td>0.000000</td>\n",
       "      <td>0.000000</td>\n",
       "      <td>85.000000</td>\n",
       "    </tr>\n",
       "    <tr>\n",
       "      <th>50%</th>\n",
       "      <td>11847.000000</td>\n",
       "      <td>2275.000000</td>\n",
       "      <td>200.000000</td>\n",
       "      <td>20.0</td>\n",
       "      <td>10.0</td>\n",
       "      <td>10.000000</td>\n",
       "      <td>0.000000</td>\n",
       "      <td>0.000000</td>\n",
       "      <td>250.000000</td>\n",
       "    </tr>\n",
       "    <tr>\n",
       "      <th>75%</th>\n",
       "      <td>16901.000000</td>\n",
       "      <td>13359.000000</td>\n",
       "      <td>250.000000</td>\n",
       "      <td>20.0</td>\n",
       "      <td>10.0</td>\n",
       "      <td>25.000000</td>\n",
       "      <td>0.000000</td>\n",
       "      <td>0.000000</td>\n",
       "      <td>305.000000</td>\n",
       "    </tr>\n",
       "    <tr>\n",
       "      <th>max</th>\n",
       "      <td>890109.000000</td>\n",
       "      <td>455887.000000</td>\n",
       "      <td>5000.000000</td>\n",
       "      <td>20.0</td>\n",
       "      <td>10.0</td>\n",
       "      <td>500.000000</td>\n",
       "      <td>100.000000</td>\n",
       "      <td>9214.000000</td>\n",
       "      <td>9353.800000</td>\n",
       "    </tr>\n",
       "  </tbody>\n",
       "</table>\n",
       "</div>"
      ],
      "text/plain": [
       "       violation_street_number  mailing_address_str_number   fine_amount  \\\n",
       "count             29141.000000                29141.000000  29141.000000   \n",
       "mean              11328.804983                 6770.263615    257.392162   \n",
       "std                8699.976214                11444.696040    341.885452   \n",
       "min              -15126.000000                    1.000000     20.000000   \n",
       "25%                5644.000000                  641.000000     50.000000   \n",
       "50%               11847.000000                 2275.000000    200.000000   \n",
       "75%               16901.000000                13359.000000    250.000000   \n",
       "max              890109.000000               455887.000000   5000.000000   \n",
       "\n",
       "       admin_fee  state_fee      late_fee  discount_amount  clean_up_cost  \\\n",
       "count    29141.0    29141.0  29141.000000     29141.000000   29141.000000   \n",
       "mean        20.0       10.0     23.821471         0.097663      17.360214   \n",
       "std          0.0        0.0     34.639680         1.609214     200.818667   \n",
       "min         20.0       10.0      0.000000         0.000000       0.000000   \n",
       "25%         20.0       10.0      5.000000         0.000000       0.000000   \n",
       "50%         20.0       10.0     10.000000         0.000000       0.000000   \n",
       "75%         20.0       10.0     25.000000         0.000000       0.000000   \n",
       "max         20.0       10.0    500.000000       100.000000    9214.000000   \n",
       "\n",
       "       judgment_amount  \n",
       "count     29141.000000  \n",
       "mean        328.573446  \n",
       "std         423.534848  \n",
       "min          50.000000  \n",
       "25%          85.000000  \n",
       "50%         250.000000  \n",
       "75%         305.000000  \n",
       "max        9353.800000  "
      ]
     },
     "execution_count": 515,
     "metadata": {},
     "output_type": "execute_result"
    }
   ],
   "source": [
    "df_test.describe()"
   ]
  },
  {
   "cell_type": "code",
   "execution_count": 516,
   "metadata": {},
   "outputs": [
    {
     "data": {
      "text/html": [
       "<div>\n",
       "<style scoped>\n",
       "    .dataframe tbody tr th:only-of-type {\n",
       "        vertical-align: middle;\n",
       "    }\n",
       "\n",
       "    .dataframe tbody tr th {\n",
       "        vertical-align: top;\n",
       "    }\n",
       "\n",
       "    .dataframe thead th {\n",
       "        text-align: right;\n",
       "    }\n",
       "</style>\n",
       "<table border=\"1\" class=\"dataframe\">\n",
       "  <thead>\n",
       "    <tr style=\"text-align: right;\">\n",
       "      <th></th>\n",
       "      <th>discount_amount</th>\n",
       "      <th>judgment_amount</th>\n",
       "      <th>payment_amount</th>\n",
       "      <th>balance_due</th>\n",
       "    </tr>\n",
       "    <tr>\n",
       "      <th>ticket_id</th>\n",
       "      <th></th>\n",
       "      <th></th>\n",
       "      <th></th>\n",
       "      <th></th>\n",
       "    </tr>\n",
       "  </thead>\n",
       "  <tbody>\n",
       "    <tr>\n",
       "      <th>18653</th>\n",
       "      <td>25.0</td>\n",
       "      <td>280.0</td>\n",
       "      <td>255.0</td>\n",
       "      <td>0.0</td>\n",
       "    </tr>\n",
       "    <tr>\n",
       "      <th>18915</th>\n",
       "      <td>25.0</td>\n",
       "      <td>280.0</td>\n",
       "      <td>250.0</td>\n",
       "      <td>5.0</td>\n",
       "    </tr>\n",
       "    <tr>\n",
       "      <th>20851</th>\n",
       "      <td>30.0</td>\n",
       "      <td>330.0</td>\n",
       "      <td>260.0</td>\n",
       "      <td>40.0</td>\n",
       "    </tr>\n",
       "    <tr>\n",
       "      <th>22450</th>\n",
       "      <td>25.0</td>\n",
       "      <td>280.0</td>\n",
       "      <td>280.0</td>\n",
       "      <td>-25.0</td>\n",
       "    </tr>\n",
       "    <tr>\n",
       "      <th>22634</th>\n",
       "      <td>10.0</td>\n",
       "      <td>130.0</td>\n",
       "      <td>120.0</td>\n",
       "      <td>0.0</td>\n",
       "    </tr>\n",
       "  </tbody>\n",
       "</table>\n",
       "</div>"
      ],
      "text/plain": [
       "           discount_amount  judgment_amount  payment_amount  balance_due\n",
       "ticket_id                                                               \n",
       "18653                 25.0            280.0           255.0          0.0\n",
       "18915                 25.0            280.0           250.0          5.0\n",
       "20851                 30.0            330.0           260.0         40.0\n",
       "22450                 25.0            280.0           280.0        -25.0\n",
       "22634                 10.0            130.0           120.0          0.0"
      ]
     },
     "execution_count": 516,
     "metadata": {},
     "output_type": "execute_result"
    }
   ],
   "source": [
    "df_train[df_train['discount_amount'] != 0][['discount_amount', 'judgment_amount', 'payment_amount', 'balance_due']].head()"
   ]
  },
  {
   "cell_type": "markdown",
   "metadata": {},
   "source": [
    "### Observations based on numeric features\n",
    "\n",
    "#### Adjusts\n",
    "* The 'judgment_amount' column does not include the value from the 'discount_amount' column\n",
    "* We may want to create a new column 'owed_amount' to get the result from the substraction of the 'judgment_amount' by the 'discount_amount'\n",
    "* The 'mailing_address_str_number' column is numeric, but must be transformed to a categorical feature if used\n",
    "* The 'violation_street_number' column is numeric, but must be transformed to a categorical feature if used\n",
    "\n",
    "#### Correlation hypothesis\n",
    "* The 'compliance' may be related to the 'owed_amount' by the person"
   ]
  },
  {
   "cell_type": "code",
   "execution_count": 517,
   "metadata": {},
   "outputs": [
    {
     "data": {
      "text/html": [
       "<div>\n",
       "<style scoped>\n",
       "    .dataframe tbody tr th:only-of-type {\n",
       "        vertical-align: middle;\n",
       "    }\n",
       "\n",
       "    .dataframe tbody tr th {\n",
       "        vertical-align: top;\n",
       "    }\n",
       "\n",
       "    .dataframe thead th {\n",
       "        text-align: right;\n",
       "    }\n",
       "</style>\n",
       "<table border=\"1\" class=\"dataframe\">\n",
       "  <thead>\n",
       "    <tr style=\"text-align: right;\">\n",
       "      <th></th>\n",
       "      <th>discount_amount</th>\n",
       "      <th>judgment_amount</th>\n",
       "      <th>owed_amount</th>\n",
       "      <th>payment_amount</th>\n",
       "      <th>balance_due</th>\n",
       "    </tr>\n",
       "    <tr>\n",
       "      <th>ticket_id</th>\n",
       "      <th></th>\n",
       "      <th></th>\n",
       "      <th></th>\n",
       "      <th></th>\n",
       "      <th></th>\n",
       "    </tr>\n",
       "  </thead>\n",
       "  <tbody>\n",
       "    <tr>\n",
       "      <th>18653</th>\n",
       "      <td>25.0</td>\n",
       "      <td>280.0</td>\n",
       "      <td>255.0</td>\n",
       "      <td>255.0</td>\n",
       "      <td>0.0</td>\n",
       "    </tr>\n",
       "    <tr>\n",
       "      <th>18915</th>\n",
       "      <td>25.0</td>\n",
       "      <td>280.0</td>\n",
       "      <td>255.0</td>\n",
       "      <td>250.0</td>\n",
       "      <td>5.0</td>\n",
       "    </tr>\n",
       "    <tr>\n",
       "      <th>20851</th>\n",
       "      <td>30.0</td>\n",
       "      <td>330.0</td>\n",
       "      <td>300.0</td>\n",
       "      <td>260.0</td>\n",
       "      <td>40.0</td>\n",
       "    </tr>\n",
       "    <tr>\n",
       "      <th>22450</th>\n",
       "      <td>25.0</td>\n",
       "      <td>280.0</td>\n",
       "      <td>255.0</td>\n",
       "      <td>280.0</td>\n",
       "      <td>-25.0</td>\n",
       "    </tr>\n",
       "    <tr>\n",
       "      <th>22634</th>\n",
       "      <td>10.0</td>\n",
       "      <td>130.0</td>\n",
       "      <td>120.0</td>\n",
       "      <td>120.0</td>\n",
       "      <td>0.0</td>\n",
       "    </tr>\n",
       "  </tbody>\n",
       "</table>\n",
       "</div>"
      ],
      "text/plain": [
       "           discount_amount  judgment_amount  owed_amount  payment_amount  \\\n",
       "ticket_id                                                                  \n",
       "18653                 25.0            280.0        255.0           255.0   \n",
       "18915                 25.0            280.0        255.0           250.0   \n",
       "20851                 30.0            330.0        300.0           260.0   \n",
       "22450                 25.0            280.0        255.0           280.0   \n",
       "22634                 10.0            130.0        120.0           120.0   \n",
       "\n",
       "           balance_due  \n",
       "ticket_id               \n",
       "18653              0.0  \n",
       "18915              5.0  \n",
       "20851             40.0  \n",
       "22450            -25.0  \n",
       "22634              0.0  "
      ]
     },
     "execution_count": 517,
     "metadata": {},
     "output_type": "execute_result"
    }
   ],
   "source": [
    "df_train['owed_amount'] = df_train['judgment_amount'] - df_train['discount_amount']\n",
    "df_train[df_train['discount_amount'] != 0][['discount_amount', 'judgment_amount', 'owed_amount', 'payment_amount', 'balance_due']].head()"
   ]
  },
  {
   "cell_type": "code",
   "execution_count": 545,
   "metadata": {},
   "outputs": [
    {
     "data": {
      "text/html": [
       "<div>\n",
       "<style scoped>\n",
       "    .dataframe tbody tr th:only-of-type {\n",
       "        vertical-align: middle;\n",
       "    }\n",
       "\n",
       "    .dataframe tbody tr th {\n",
       "        vertical-align: top;\n",
       "    }\n",
       "\n",
       "    .dataframe thead th {\n",
       "        text-align: right;\n",
       "    }\n",
       "</style>\n",
       "<table border=\"1\" class=\"dataframe\">\n",
       "  <thead>\n",
       "    <tr style=\"text-align: right;\">\n",
       "      <th></th>\n",
       "      <th>violation_street_number</th>\n",
       "      <th>mailing_address_str_number</th>\n",
       "      <th>fine_amount</th>\n",
       "      <th>admin_fee</th>\n",
       "      <th>state_fee</th>\n",
       "      <th>late_fee</th>\n",
       "      <th>discount_amount</th>\n",
       "      <th>clean_up_cost</th>\n",
       "      <th>judgment_amount</th>\n",
       "      <th>payment_amount</th>\n",
       "      <th>balance_due</th>\n",
       "      <th>compliance</th>\n",
       "      <th>owed_amount</th>\n",
       "    </tr>\n",
       "  </thead>\n",
       "  <tbody>\n",
       "    <tr>\n",
       "      <th>count</th>\n",
       "      <td>9.674500e+04</td>\n",
       "      <td>9.674500e+04</td>\n",
       "      <td>96745.000000</td>\n",
       "      <td>96745.0</td>\n",
       "      <td>96745.0</td>\n",
       "      <td>96745.000000</td>\n",
       "      <td>96745.000000</td>\n",
       "      <td>96745.0</td>\n",
       "      <td>96745.000000</td>\n",
       "      <td>96745.000000</td>\n",
       "      <td>96745.000000</td>\n",
       "      <td>96745.000000</td>\n",
       "      <td>96745.000000</td>\n",
       "    </tr>\n",
       "    <tr>\n",
       "      <th>mean</th>\n",
       "      <td>1.031852e+04</td>\n",
       "      <td>7.865159e+03</td>\n",
       "      <td>324.110962</td>\n",
       "      <td>20.0</td>\n",
       "      <td>10.0</td>\n",
       "      <td>30.609737</td>\n",
       "      <td>0.139418</td>\n",
       "      <td>0.0</td>\n",
       "      <td>384.720699</td>\n",
       "      <td>57.096167</td>\n",
       "      <td>327.485197</td>\n",
       "      <td>0.069668</td>\n",
       "      <td>384.581281</td>\n",
       "    </tr>\n",
       "    <tr>\n",
       "      <th>std</th>\n",
       "      <td>4.626965e+04</td>\n",
       "      <td>2.284441e+04</td>\n",
       "      <td>601.721250</td>\n",
       "      <td>0.0</td>\n",
       "      <td>0.0</td>\n",
       "      <td>60.407631</td>\n",
       "      <td>2.659109</td>\n",
       "      <td>0.0</td>\n",
       "      <td>661.510687</td>\n",
       "      <td>163.511476</td>\n",
       "      <td>666.774246</td>\n",
       "      <td>0.254587</td>\n",
       "      <td>661.483612</td>\n",
       "    </tr>\n",
       "    <tr>\n",
       "      <th>min</th>\n",
       "      <td>0.000000e+00</td>\n",
       "      <td>1.000000e+00</td>\n",
       "      <td>25.000000</td>\n",
       "      <td>20.0</td>\n",
       "      <td>10.0</td>\n",
       "      <td>0.000000</td>\n",
       "      <td>0.000000</td>\n",
       "      <td>0.0</td>\n",
       "      <td>55.000000</td>\n",
       "      <td>0.000000</td>\n",
       "      <td>-1575.000000</td>\n",
       "      <td>0.000000</td>\n",
       "      <td>52.000000</td>\n",
       "    </tr>\n",
       "    <tr>\n",
       "      <th>25%</th>\n",
       "      <td>4.314000e+03</td>\n",
       "      <td>8.320000e+02</td>\n",
       "      <td>200.000000</td>\n",
       "      <td>20.0</td>\n",
       "      <td>10.0</td>\n",
       "      <td>10.000000</td>\n",
       "      <td>0.000000</td>\n",
       "      <td>0.0</td>\n",
       "      <td>230.000000</td>\n",
       "      <td>0.000000</td>\n",
       "      <td>85.000000</td>\n",
       "      <td>0.000000</td>\n",
       "      <td>230.000000</td>\n",
       "    </tr>\n",
       "    <tr>\n",
       "      <th>50%</th>\n",
       "      <td>9.534000e+03</td>\n",
       "      <td>2.668000e+03</td>\n",
       "      <td>250.000000</td>\n",
       "      <td>20.0</td>\n",
       "      <td>10.0</td>\n",
       "      <td>25.000000</td>\n",
       "      <td>0.000000</td>\n",
       "      <td>0.0</td>\n",
       "      <td>305.000000</td>\n",
       "      <td>0.000000</td>\n",
       "      <td>305.000000</td>\n",
       "      <td>0.000000</td>\n",
       "      <td>305.000000</td>\n",
       "    </tr>\n",
       "    <tr>\n",
       "      <th>75%</th>\n",
       "      <td>1.542500e+04</td>\n",
       "      <td>1.354800e+04</td>\n",
       "      <td>250.000000</td>\n",
       "      <td>20.0</td>\n",
       "      <td>10.0</td>\n",
       "      <td>25.000000</td>\n",
       "      <td>0.000000</td>\n",
       "      <td>0.0</td>\n",
       "      <td>305.000000</td>\n",
       "      <td>0.000000</td>\n",
       "      <td>305.000000</td>\n",
       "      <td>0.000000</td>\n",
       "      <td>305.000000</td>\n",
       "    </tr>\n",
       "    <tr>\n",
       "      <th>max</th>\n",
       "      <td>1.415411e+07</td>\n",
       "      <td>3.511219e+06</td>\n",
       "      <td>10000.000000</td>\n",
       "      <td>20.0</td>\n",
       "      <td>10.0</td>\n",
       "      <td>1000.000000</td>\n",
       "      <td>350.000000</td>\n",
       "      <td>0.0</td>\n",
       "      <td>11030.000000</td>\n",
       "      <td>11030.000000</td>\n",
       "      <td>11030.000000</td>\n",
       "      <td>1.000000</td>\n",
       "      <td>11030.000000</td>\n",
       "    </tr>\n",
       "  </tbody>\n",
       "</table>\n",
       "</div>"
      ],
      "text/plain": [
       "       violation_street_number  mailing_address_str_number   fine_amount  \\\n",
       "count             9.674500e+04                9.674500e+04  96745.000000   \n",
       "mean              1.031852e+04                7.865159e+03    324.110962   \n",
       "std               4.626965e+04                2.284441e+04    601.721250   \n",
       "min               0.000000e+00                1.000000e+00     25.000000   \n",
       "25%               4.314000e+03                8.320000e+02    200.000000   \n",
       "50%               9.534000e+03                2.668000e+03    250.000000   \n",
       "75%               1.542500e+04                1.354800e+04    250.000000   \n",
       "max               1.415411e+07                3.511219e+06  10000.000000   \n",
       "\n",
       "       admin_fee  state_fee      late_fee  discount_amount  clean_up_cost  \\\n",
       "count    96745.0    96745.0  96745.000000     96745.000000        96745.0   \n",
       "mean        20.0       10.0     30.609737         0.139418            0.0   \n",
       "std          0.0        0.0     60.407631         2.659109            0.0   \n",
       "min         20.0       10.0      0.000000         0.000000            0.0   \n",
       "25%         20.0       10.0     10.000000         0.000000            0.0   \n",
       "50%         20.0       10.0     25.000000         0.000000            0.0   \n",
       "75%         20.0       10.0     25.000000         0.000000            0.0   \n",
       "max         20.0       10.0   1000.000000       350.000000            0.0   \n",
       "\n",
       "       judgment_amount  payment_amount   balance_due    compliance  \\\n",
       "count     96745.000000    96745.000000  96745.000000  96745.000000   \n",
       "mean        384.720699       57.096167    327.485197      0.069668   \n",
       "std         661.510687      163.511476    666.774246      0.254587   \n",
       "min          55.000000        0.000000  -1575.000000      0.000000   \n",
       "25%         230.000000        0.000000     85.000000      0.000000   \n",
       "50%         305.000000        0.000000    305.000000      0.000000   \n",
       "75%         305.000000        0.000000    305.000000      0.000000   \n",
       "max       11030.000000    11030.000000  11030.000000      1.000000   \n",
       "\n",
       "        owed_amount  \n",
       "count  96745.000000  \n",
       "mean     384.581281  \n",
       "std      661.483612  \n",
       "min       52.000000  \n",
       "25%      230.000000  \n",
       "50%      305.000000  \n",
       "75%      305.000000  \n",
       "max    11030.000000  "
      ]
     },
     "execution_count": 545,
     "metadata": {},
     "output_type": "execute_result"
    }
   ],
   "source": [
    "df_train.describe()"
   ]
  },
  {
   "cell_type": "markdown",
   "metadata": {},
   "source": [
    "Since the mean value of the owed_amount column is 384.6, 75% of the values are lower than 305 and the standard deviation is 661.5, we can infer that there are a lot of outliers in this column."
   ]
  },
  {
   "cell_type": "markdown",
   "metadata": {},
   "source": [
    "## 1.3 Categorical Features <a class='anchor' id='1.3'></a>"
   ]
  },
  {
   "cell_type": "code",
   "execution_count": 520,
   "metadata": {},
   "outputs": [
    {
     "data": {
      "text/html": [
       "<div>\n",
       "<style scoped>\n",
       "    .dataframe tbody tr th:only-of-type {\n",
       "        vertical-align: middle;\n",
       "    }\n",
       "\n",
       "    .dataframe tbody tr th {\n",
       "        vertical-align: top;\n",
       "    }\n",
       "\n",
       "    .dataframe thead th {\n",
       "        text-align: right;\n",
       "    }\n",
       "</style>\n",
       "<table border=\"1\" class=\"dataframe\">\n",
       "  <thead>\n",
       "    <tr style=\"text-align: right;\">\n",
       "      <th></th>\n",
       "      <th>agency_name</th>\n",
       "      <th>inspector_name</th>\n",
       "      <th>violator_name</th>\n",
       "      <th>violation_street_name</th>\n",
       "      <th>mailing_address_str_name</th>\n",
       "      <th>city</th>\n",
       "      <th>state</th>\n",
       "      <th>zip_code</th>\n",
       "      <th>country</th>\n",
       "      <th>ticket_issued_date</th>\n",
       "      <th>hearing_date</th>\n",
       "      <th>violation_code</th>\n",
       "      <th>violation_description</th>\n",
       "      <th>disposition</th>\n",
       "      <th>payment_date</th>\n",
       "      <th>payment_status</th>\n",
       "      <th>compliance_detail</th>\n",
       "    </tr>\n",
       "  </thead>\n",
       "  <tbody>\n",
       "    <tr>\n",
       "      <th>count</th>\n",
       "      <td>96745</td>\n",
       "      <td>96745</td>\n",
       "      <td>96745</td>\n",
       "      <td>96745</td>\n",
       "      <td>96745</td>\n",
       "      <td>96745</td>\n",
       "      <td>96745</td>\n",
       "      <td>96745</td>\n",
       "      <td>96745</td>\n",
       "      <td>96745</td>\n",
       "      <td>96745</td>\n",
       "      <td>96745</td>\n",
       "      <td>96745</td>\n",
       "      <td>96745</td>\n",
       "      <td>22810</td>\n",
       "      <td>96745</td>\n",
       "      <td>96745</td>\n",
       "    </tr>\n",
       "    <tr>\n",
       "      <th>unique</th>\n",
       "      <td>4</td>\n",
       "      <td>156</td>\n",
       "      <td>54958</td>\n",
       "      <td>1626</td>\n",
       "      <td>8258</td>\n",
       "      <td>1</td>\n",
       "      <td>1</td>\n",
       "      <td>493</td>\n",
       "      <td>1</td>\n",
       "      <td>49309</td>\n",
       "      <td>5667</td>\n",
       "      <td>166</td>\n",
       "      <td>182</td>\n",
       "      <td>3</td>\n",
       "      <td>2164</td>\n",
       "      <td>3</td>\n",
       "      <td>6</td>\n",
       "    </tr>\n",
       "    <tr>\n",
       "      <th>top</th>\n",
       "      <td>Buildings, Safety Engineering &amp; Env Department</td>\n",
       "      <td>Morris, John</td>\n",
       "      <td>APARTMENTS, CARLTON</td>\n",
       "      <td>SEVEN MILE</td>\n",
       "      <td>PO BOX</td>\n",
       "      <td>Detroit</td>\n",
       "      <td>MI</td>\n",
       "      <td>48227</td>\n",
       "      <td>USA</td>\n",
       "      <td>2008-01-22 09:00:00</td>\n",
       "      <td>2005-12-20 09:00:00</td>\n",
       "      <td>9-1-36(a)</td>\n",
       "      <td>Failure of owner to obtain certificate of comp...</td>\n",
       "      <td>Responsible by Default</td>\n",
       "      <td>2007-05-25 00:00:00</td>\n",
       "      <td>NO PAYMENT APPLIED</td>\n",
       "      <td>non-compliant by no payment</td>\n",
       "    </tr>\n",
       "    <tr>\n",
       "      <th>freq</th>\n",
       "      <td>59860</td>\n",
       "      <td>8023</td>\n",
       "      <td>102</td>\n",
       "      <td>1570</td>\n",
       "      <td>1939</td>\n",
       "      <td>96745</td>\n",
       "      <td>96745</td>\n",
       "      <td>7219</td>\n",
       "      <td>96745</td>\n",
       "      <td>49</td>\n",
       "      <td>395</td>\n",
       "      <td>41242</td>\n",
       "      <td>41242</td>\n",
       "      <td>83817</td>\n",
       "      <td>93</td>\n",
       "      <td>73935</td>\n",
       "      <td>79062</td>\n",
       "    </tr>\n",
       "  </tbody>\n",
       "</table>\n",
       "</div>"
      ],
      "text/plain": [
       "                                           agency_name inspector_name  \\\n",
       "count                                            96745          96745   \n",
       "unique                                               4            156   \n",
       "top     Buildings, Safety Engineering & Env Department   Morris, John   \n",
       "freq                                             59860           8023   \n",
       "\n",
       "              violator_name violation_street_name mailing_address_str_name  \\\n",
       "count                 96745                 96745                    96745   \n",
       "unique                54958                  1626                     8258   \n",
       "top     APARTMENTS, CARLTON            SEVEN MILE                   PO BOX   \n",
       "freq                    102                  1570                     1939   \n",
       "\n",
       "           city  state zip_code country   ticket_issued_date  \\\n",
       "count     96745  96745    96745   96745                96745   \n",
       "unique        1      1      493       1                49309   \n",
       "top     Detroit     MI    48227     USA  2008-01-22 09:00:00   \n",
       "freq      96745  96745     7219   96745                   49   \n",
       "\n",
       "               hearing_date violation_code  \\\n",
       "count                 96745          96745   \n",
       "unique                 5667            166   \n",
       "top     2005-12-20 09:00:00      9-1-36(a)   \n",
       "freq                    395          41242   \n",
       "\n",
       "                                    violation_description  \\\n",
       "count                                               96745   \n",
       "unique                                                182   \n",
       "top     Failure of owner to obtain certificate of comp...   \n",
       "freq                                                41242   \n",
       "\n",
       "                   disposition         payment_date      payment_status  \\\n",
       "count                    96745                22810               96745   \n",
       "unique                       3                 2164                   3   \n",
       "top     Responsible by Default  2007-05-25 00:00:00  NO PAYMENT APPLIED   \n",
       "freq                     83817                   93               73935   \n",
       "\n",
       "                  compliance_detail  \n",
       "count                         96745  \n",
       "unique                            6  \n",
       "top     non-compliant by no payment  \n",
       "freq                          79062  "
      ]
     },
     "execution_count": 520,
     "metadata": {},
     "output_type": "execute_result"
    }
   ],
   "source": [
    "df_train.describe(include=['O'])"
   ]
  },
  {
   "cell_type": "markdown",
   "metadata": {},
   "source": [
    "### Observations based on categorical features\n",
    "\n",
    "#### Adjusts\n",
    "* The year and month from the 'ticket_issued_date' column can be extracted to build 2 new columns 'ticket_issued_year' and 'ticket_issued_month'\n",
    "* The year and month from the 'hearing_date' can be extracted to build 2 new columns 'hearing_year' and 'hearing_month'\n",
    "* The year and month from the 'payment_date' column can be extracted to build 2 new columns 'payment_year' and 'payment_month'\n",
    "\n",
    "#### Correlation hypothesis\n",
    "* The 'compliance' may be related to the 'agency_name' that issued the ticket\n",
    "* The 'compliance' may be related to the violation location ('violation_street_number' and 'violation_street_name' column can be used)\n",
    "* The 'compliance' may be related to the violator's address ('mailing_address_str_number', 'mailing_address_str_name' and 'zip_code' columns can be used)\n",
    "* The 'compliance' may be related to the 'ticket_issued_month' column\n",
    "* The 'compliance' may be related to the 'hearing_month' column\n",
    "* The 'compliance' may be related to the 'violation_code' column\n",
    "* The 'compliance' may be related to the 'disposition' column"
   ]
  },
  {
   "cell_type": "code",
   "execution_count": 521,
   "metadata": {},
   "outputs": [],
   "source": [
    "df_train = pd.concat([df_train, df_train['ticket_issued_date'].str.extract(r'(?P<ticket_issued_year>\\d{4})-(?P<ticket_issued_month>\\d{2})')], axis=1)\n",
    "df_train = pd.concat([df_train, df_train['hearing_date'].str.extract(r'(?P<hearing_year>\\d{4})-(?P<hearing_month>\\d{2})')], axis=1)\n",
    "df_train = pd.concat([df_train, df_train['payment_date'].str.extract(r'(?P<payment_year>\\d{4})-(?P<payment_month>\\d{2})')], axis=1)"
   ]
  },
  {
   "cell_type": "code",
   "execution_count": 522,
   "metadata": {},
   "outputs": [
    {
     "data": {
      "text/html": [
       "<div>\n",
       "<style scoped>\n",
       "    .dataframe tbody tr th:only-of-type {\n",
       "        vertical-align: middle;\n",
       "    }\n",
       "\n",
       "    .dataframe tbody tr th {\n",
       "        vertical-align: top;\n",
       "    }\n",
       "\n",
       "    .dataframe thead th {\n",
       "        text-align: right;\n",
       "    }\n",
       "</style>\n",
       "<table border=\"1\" class=\"dataframe\">\n",
       "  <thead>\n",
       "    <tr style=\"text-align: right;\">\n",
       "      <th></th>\n",
       "      <th>ticket_issued_date</th>\n",
       "      <th>ticket_issued_year</th>\n",
       "      <th>ticket_issued_month</th>\n",
       "      <th>hearing_date</th>\n",
       "      <th>hearing_year</th>\n",
       "      <th>hearing_month</th>\n",
       "      <th>payment_date</th>\n",
       "      <th>payment_year</th>\n",
       "      <th>payment_month</th>\n",
       "    </tr>\n",
       "    <tr>\n",
       "      <th>ticket_id</th>\n",
       "      <th></th>\n",
       "      <th></th>\n",
       "      <th></th>\n",
       "      <th></th>\n",
       "      <th></th>\n",
       "      <th></th>\n",
       "      <th></th>\n",
       "      <th></th>\n",
       "      <th></th>\n",
       "    </tr>\n",
       "  </thead>\n",
       "  <tbody>\n",
       "    <tr>\n",
       "      <th>27586</th>\n",
       "      <td>2004-04-23 12:30:00</td>\n",
       "      <td>2004</td>\n",
       "      <td>04</td>\n",
       "      <td>2005-05-06 13:30:00</td>\n",
       "      <td>2005</td>\n",
       "      <td>05</td>\n",
       "      <td>2005-06-02 00:00:00</td>\n",
       "      <td>2005</td>\n",
       "      <td>06</td>\n",
       "    </tr>\n",
       "    <tr>\n",
       "      <th>18735</th>\n",
       "      <td>2004-06-16 12:30:00</td>\n",
       "      <td>2004</td>\n",
       "      <td>06</td>\n",
       "      <td>2005-02-22 15:00:00</td>\n",
       "      <td>2005</td>\n",
       "      <td>02</td>\n",
       "      <td>NaN</td>\n",
       "      <td>NaN</td>\n",
       "      <td>NaN</td>\n",
       "    </tr>\n",
       "    <tr>\n",
       "      <th>18733</th>\n",
       "      <td>2004-06-16 12:25:00</td>\n",
       "      <td>2004</td>\n",
       "      <td>06</td>\n",
       "      <td>2005-02-22 15:00:00</td>\n",
       "      <td>2005</td>\n",
       "      <td>02</td>\n",
       "      <td>NaN</td>\n",
       "      <td>NaN</td>\n",
       "      <td>NaN</td>\n",
       "    </tr>\n",
       "    <tr>\n",
       "      <th>28204</th>\n",
       "      <td>2004-07-12 13:30:00</td>\n",
       "      <td>2004</td>\n",
       "      <td>07</td>\n",
       "      <td>2005-05-31 13:30:00</td>\n",
       "      <td>2005</td>\n",
       "      <td>05</td>\n",
       "      <td>NaN</td>\n",
       "      <td>NaN</td>\n",
       "      <td>NaN</td>\n",
       "    </tr>\n",
       "    <tr>\n",
       "      <th>18743</th>\n",
       "      <td>2004-07-28 12:15:00</td>\n",
       "      <td>2004</td>\n",
       "      <td>07</td>\n",
       "      <td>2005-02-22 15:00:00</td>\n",
       "      <td>2005</td>\n",
       "      <td>02</td>\n",
       "      <td>NaN</td>\n",
       "      <td>NaN</td>\n",
       "      <td>NaN</td>\n",
       "    </tr>\n",
       "  </tbody>\n",
       "</table>\n",
       "</div>"
      ],
      "text/plain": [
       "            ticket_issued_date ticket_issued_year ticket_issued_month  \\\n",
       "ticket_id                                                               \n",
       "27586      2004-04-23 12:30:00               2004                  04   \n",
       "18735      2004-06-16 12:30:00               2004                  06   \n",
       "18733      2004-06-16 12:25:00               2004                  06   \n",
       "28204      2004-07-12 13:30:00               2004                  07   \n",
       "18743      2004-07-28 12:15:00               2004                  07   \n",
       "\n",
       "                  hearing_date hearing_year hearing_month  \\\n",
       "ticket_id                                                   \n",
       "27586      2005-05-06 13:30:00         2005            05   \n",
       "18735      2005-02-22 15:00:00         2005            02   \n",
       "18733      2005-02-22 15:00:00         2005            02   \n",
       "28204      2005-05-31 13:30:00         2005            05   \n",
       "18743      2005-02-22 15:00:00         2005            02   \n",
       "\n",
       "                  payment_date payment_year payment_month  \n",
       "ticket_id                                                  \n",
       "27586      2005-06-02 00:00:00         2005            06  \n",
       "18735                      NaN          NaN           NaN  \n",
       "18733                      NaN          NaN           NaN  \n",
       "28204                      NaN          NaN           NaN  \n",
       "18743                      NaN          NaN           NaN  "
      ]
     },
     "execution_count": 522,
     "metadata": {},
     "output_type": "execute_result"
    }
   ],
   "source": [
    "df_train[['ticket_issued_date', 'ticket_issued_year', 'ticket_issued_month', 'hearing_date', 'hearing_year', 'hearing_month', 'payment_date', 'payment_year', 'payment_month']].head()"
   ]
  },
  {
   "cell_type": "code",
   "execution_count": 523,
   "metadata": {},
   "outputs": [
    {
     "data": {
      "text/html": [
       "<div>\n",
       "<style scoped>\n",
       "    .dataframe tbody tr th:only-of-type {\n",
       "        vertical-align: middle;\n",
       "    }\n",
       "\n",
       "    .dataframe tbody tr th {\n",
       "        vertical-align: top;\n",
       "    }\n",
       "\n",
       "    .dataframe thead th {\n",
       "        text-align: right;\n",
       "    }\n",
       "</style>\n",
       "<table border=\"1\" class=\"dataframe\">\n",
       "  <thead>\n",
       "    <tr style=\"text-align: right;\">\n",
       "      <th></th>\n",
       "      <th>compliance</th>\n",
       "    </tr>\n",
       "    <tr>\n",
       "      <th>agency_name</th>\n",
       "      <th></th>\n",
       "    </tr>\n",
       "  </thead>\n",
       "  <tbody>\n",
       "    <tr>\n",
       "      <th>Detroit Police Department</th>\n",
       "      <td>12.05%</td>\n",
       "    </tr>\n",
       "    <tr>\n",
       "      <th>Department of Public Works</th>\n",
       "      <td>8.46%</td>\n",
       "    </tr>\n",
       "    <tr>\n",
       "      <th>Buildings, Safety Engineering &amp; Env Department</th>\n",
       "      <td>6.06%</td>\n",
       "    </tr>\n",
       "    <tr>\n",
       "      <th>Health Department</th>\n",
       "      <td>5.50%</td>\n",
       "    </tr>\n",
       "  </tbody>\n",
       "</table>\n",
       "</div>"
      ],
      "text/plain": [
       "                                               compliance\n",
       "agency_name                                              \n",
       "Detroit Police Department                          12.05%\n",
       "Department of Public Works                          8.46%\n",
       "Buildings, Safety Engineering & Env Department      6.06%\n",
       "Health Department                                   5.50%"
      ]
     },
     "execution_count": 523,
     "metadata": {},
     "output_type": "execute_result"
    }
   ],
   "source": [
    "df_train[['agency_name', 'compliance']].groupby(['agency_name'], as_index=False).mean().sort_values(by='compliance', ascending=False).set_index('agency_name').apply(lambda series: series.apply(lambda x: '{:.2f}%'.format(x*100)))"
   ]
  },
  {
   "cell_type": "markdown",
   "metadata": {},
   "source": [
    "Only consider violation_street_name that had 100 occurrences or more"
   ]
  },
  {
   "cell_type": "code",
   "execution_count": 559,
   "metadata": {},
   "outputs": [
    {
     "data": {
      "text/html": [
       "<div>\n",
       "<style scoped>\n",
       "    .dataframe tbody tr th:only-of-type {\n",
       "        vertical-align: middle;\n",
       "    }\n",
       "\n",
       "    .dataframe tbody tr th {\n",
       "        vertical-align: top;\n",
       "    }\n",
       "\n",
       "    .dataframe thead th {\n",
       "        text-align: right;\n",
       "    }\n",
       "</style>\n",
       "<table border=\"1\" class=\"dataframe\">\n",
       "  <thead>\n",
       "    <tr style=\"text-align: right;\">\n",
       "      <th></th>\n",
       "      <th>compliance</th>\n",
       "    </tr>\n",
       "    <tr>\n",
       "      <th>violation_street_name</th>\n",
       "      <th></th>\n",
       "    </tr>\n",
       "  </thead>\n",
       "  <tbody>\n",
       "    <tr>\n",
       "      <th>LAWTON</th>\n",
       "      <td>18.55%</td>\n",
       "    </tr>\n",
       "    <tr>\n",
       "      <th>MICHIGAN AVE</th>\n",
       "      <td>17.15%</td>\n",
       "    </tr>\n",
       "    <tr>\n",
       "      <th>SECOND</th>\n",
       "      <td>16.55%</td>\n",
       "    </tr>\n",
       "    <tr>\n",
       "      <th>GRATIOT</th>\n",
       "      <td>14.88%</td>\n",
       "    </tr>\n",
       "    <tr>\n",
       "      <th>MT ELLIOTT</th>\n",
       "      <td>14.50%</td>\n",
       "    </tr>\n",
       "    <tr>\n",
       "      <th>...</th>\n",
       "      <td>...</td>\n",
       "    </tr>\n",
       "    <tr>\n",
       "      <th>COLUMBUS</th>\n",
       "      <td>0.66%</td>\n",
       "    </tr>\n",
       "    <tr>\n",
       "      <th>LARNED</th>\n",
       "      <td>0.66%</td>\n",
       "    </tr>\n",
       "    <tr>\n",
       "      <th>LAKEVIEW</th>\n",
       "      <td>0.00%</td>\n",
       "    </tr>\n",
       "    <tr>\n",
       "      <th>COURVILLE</th>\n",
       "      <td>0.00%</td>\n",
       "    </tr>\n",
       "    <tr>\n",
       "      <th>ST ANTOINE</th>\n",
       "      <td>0.00%</td>\n",
       "    </tr>\n",
       "  </tbody>\n",
       "</table>\n",
       "<p>294 rows × 1 columns</p>\n",
       "</div>"
      ],
      "text/plain": [
       "                      compliance\n",
       "violation_street_name           \n",
       "LAWTON                    18.55%\n",
       "MICHIGAN AVE              17.15%\n",
       "SECOND                    16.55%\n",
       "GRATIOT                   14.88%\n",
       "MT ELLIOTT                14.50%\n",
       "...                          ...\n",
       "COLUMBUS                   0.66%\n",
       "LARNED                     0.66%\n",
       "LAKEVIEW                   0.00%\n",
       "COURVILLE                  0.00%\n",
       "ST ANTOINE                 0.00%\n",
       "\n",
       "[294 rows x 1 columns]"
      ]
     },
     "execution_count": 559,
     "metadata": {},
     "output_type": "execute_result"
    }
   ],
   "source": [
    "df_train.loc[df_train.violation_street_name.isin(df_train[df_train['violation_street_name'].map(df_train['violation_street_name'].value_counts() < 100)]['violation_street_name'].value_counts().index), 'violation_street_name'] = 'Rare'\n",
    "df_train[['violation_street_name', 'compliance']].groupby(['violation_street_name'], as_index=False).mean().sort_values(by='compliance', ascending=False).set_index('violation_street_name').apply(lambda series: series.apply(lambda x: '{:.2f}%'.format(x*100)))"
   ]
  },
  {
   "cell_type": "markdown",
   "metadata": {},
   "source": [
    "Only consider violation_code that had 100 occurrences or more"
   ]
  },
  {
   "cell_type": "code",
   "execution_count": 563,
   "metadata": {},
   "outputs": [
    {
     "data": {
      "text/html": [
       "<div>\n",
       "<style scoped>\n",
       "    .dataframe tbody tr th:only-of-type {\n",
       "        vertical-align: middle;\n",
       "    }\n",
       "\n",
       "    .dataframe tbody tr th {\n",
       "        vertical-align: top;\n",
       "    }\n",
       "\n",
       "    .dataframe thead th {\n",
       "        text-align: right;\n",
       "    }\n",
       "</style>\n",
       "<table border=\"1\" class=\"dataframe\">\n",
       "  <thead>\n",
       "    <tr style=\"text-align: right;\">\n",
       "      <th></th>\n",
       "      <th>compliance</th>\n",
       "    </tr>\n",
       "    <tr>\n",
       "      <th>violation_code</th>\n",
       "      <th></th>\n",
       "    </tr>\n",
       "  </thead>\n",
       "  <tbody>\n",
       "    <tr>\n",
       "      <th>22-2-61</th>\n",
       "      <td>24.22%</td>\n",
       "    </tr>\n",
       "    <tr>\n",
       "      <th>61-81.0100/32.0066</th>\n",
       "      <td>15.96%</td>\n",
       "    </tr>\n",
       "    <tr>\n",
       "      <th>9-1-103(C)</th>\n",
       "      <td>12.90%</td>\n",
       "    </tr>\n",
       "    <tr>\n",
       "      <th>22-2-43</th>\n",
       "      <td>12.44%</td>\n",
       "    </tr>\n",
       "    <tr>\n",
       "      <th>22-2-45</th>\n",
       "      <td>12.21%</td>\n",
       "    </tr>\n",
       "    <tr>\n",
       "      <th>9-1-110(a)</th>\n",
       "      <td>11.90%</td>\n",
       "    </tr>\n",
       "    <tr>\n",
       "      <th>22-2-21(b)</th>\n",
       "      <td>11.76%</td>\n",
       "    </tr>\n",
       "    <tr>\n",
       "      <th>9-1-209</th>\n",
       "      <td>11.68%</td>\n",
       "    </tr>\n",
       "    <tr>\n",
       "      <th>61-5-21</th>\n",
       "      <td>9.93%</td>\n",
       "    </tr>\n",
       "    <tr>\n",
       "      <th>22-2-22</th>\n",
       "      <td>8.90%</td>\n",
       "    </tr>\n",
       "    <tr>\n",
       "      <th>Rare</th>\n",
       "      <td>8.72%</td>\n",
       "    </tr>\n",
       "    <tr>\n",
       "      <th>9-1-105</th>\n",
       "      <td>8.31%</td>\n",
       "    </tr>\n",
       "    <tr>\n",
       "      <th>9-1-104</th>\n",
       "      <td>7.82%</td>\n",
       "    </tr>\n",
       "    <tr>\n",
       "      <th>9-1-36(a)</th>\n",
       "      <td>7.31%</td>\n",
       "    </tr>\n",
       "    <tr>\n",
       "      <th>22-2-88</th>\n",
       "      <td>6.15%</td>\n",
       "    </tr>\n",
       "    <tr>\n",
       "      <th>9-1-206</th>\n",
       "      <td>5.99%</td>\n",
       "    </tr>\n",
       "    <tr>\n",
       "      <th>22-2-17</th>\n",
       "      <td>5.79%</td>\n",
       "    </tr>\n",
       "    <tr>\n",
       "      <th>22-2-88(a)</th>\n",
       "      <td>3.88%</td>\n",
       "    </tr>\n",
       "    <tr>\n",
       "      <th>9-1-101</th>\n",
       "      <td>3.77%</td>\n",
       "    </tr>\n",
       "    <tr>\n",
       "      <th>22-2-88(b)</th>\n",
       "      <td>3.54%</td>\n",
       "    </tr>\n",
       "    <tr>\n",
       "      <th>9-1-43(a) - (Structu</th>\n",
       "      <td>3.24%</td>\n",
       "    </tr>\n",
       "    <tr>\n",
       "      <th>22-2-83</th>\n",
       "      <td>3.14%</td>\n",
       "    </tr>\n",
       "    <tr>\n",
       "      <th>9-1-81(a)</th>\n",
       "      <td>3.03%</td>\n",
       "    </tr>\n",
       "    <tr>\n",
       "      <th>9-1-82(d) - (Dwellin</th>\n",
       "      <td>2.26%</td>\n",
       "    </tr>\n",
       "    <tr>\n",
       "      <th>19450901</th>\n",
       "      <td>2.15%</td>\n",
       "    </tr>\n",
       "    <tr>\n",
       "      <th>22-2-83(a)(b)(c)</th>\n",
       "      <td>1.96%</td>\n",
       "    </tr>\n",
       "    <tr>\n",
       "      <th>9-1-43(a) - (Dwellin</th>\n",
       "      <td>1.55%</td>\n",
       "    </tr>\n",
       "  </tbody>\n",
       "</table>\n",
       "</div>"
      ],
      "text/plain": [
       "                     compliance\n",
       "violation_code                 \n",
       "22-2-61                  24.22%\n",
       "61-81.0100/32.0066       15.96%\n",
       "9-1-103(C)               12.90%\n",
       "22-2-43                  12.44%\n",
       "22-2-45                  12.21%\n",
       "9-1-110(a)               11.90%\n",
       "22-2-21(b)               11.76%\n",
       "9-1-209                  11.68%\n",
       "61-5-21                   9.93%\n",
       "22-2-22                   8.90%\n",
       "Rare                      8.72%\n",
       "9-1-105                   8.31%\n",
       "9-1-104                   7.82%\n",
       "9-1-36(a)                 7.31%\n",
       "22-2-88                   6.15%\n",
       "9-1-206                   5.99%\n",
       "22-2-17                   5.79%\n",
       "22-2-88(a)                3.88%\n",
       "9-1-101                   3.77%\n",
       "22-2-88(b)                3.54%\n",
       "9-1-43(a) - (Structu      3.24%\n",
       "22-2-83                   3.14%\n",
       "9-1-81(a)                 3.03%\n",
       "9-1-82(d) - (Dwellin      2.26%\n",
       "19450901                  2.15%\n",
       "22-2-83(a)(b)(c)          1.96%\n",
       "9-1-43(a) - (Dwellin      1.55%"
      ]
     },
     "execution_count": 563,
     "metadata": {},
     "output_type": "execute_result"
    }
   ],
   "source": [
    "df_train.loc[df_train.violation_code.isin(df_train[df_train['violation_code'].map(df_train['violation_code'].value_counts() < 100)]['violation_code'].value_counts().index), 'violation_code'] = 'Rare'\n",
    "df_train[['violation_code', 'compliance']].groupby(['violation_code'], as_index=False).mean().sort_values(by='compliance', ascending=False).set_index('violation_code').apply(lambda series: series.apply(lambda x: '{:.2f}%'.format(x*100)))"
   ]
  },
  {
   "cell_type": "markdown",
   "metadata": {},
   "source": [
    "Only consider zip_code that had 100 occurrences or more"
   ]
  },
  {
   "cell_type": "code",
   "execution_count": 565,
   "metadata": {},
   "outputs": [
    {
     "data": {
      "text/html": [
       "<div>\n",
       "<style scoped>\n",
       "    .dataframe tbody tr th:only-of-type {\n",
       "        vertical-align: middle;\n",
       "    }\n",
       "\n",
       "    .dataframe tbody tr th {\n",
       "        vertical-align: top;\n",
       "    }\n",
       "\n",
       "    .dataframe thead th {\n",
       "        text-align: right;\n",
       "    }\n",
       "</style>\n",
       "<table border=\"1\" class=\"dataframe\">\n",
       "  <thead>\n",
       "    <tr style=\"text-align: right;\">\n",
       "      <th></th>\n",
       "      <th>compliance</th>\n",
       "    </tr>\n",
       "    <tr>\n",
       "      <th>zip_code</th>\n",
       "      <th></th>\n",
       "    </tr>\n",
       "  </thead>\n",
       "  <tbody>\n",
       "    <tr>\n",
       "      <th>48216</th>\n",
       "      <td>14.51%</td>\n",
       "    </tr>\n",
       "    <tr>\n",
       "      <th>48209</th>\n",
       "      <td>11.84%</td>\n",
       "    </tr>\n",
       "    <tr>\n",
       "      <th>48237</th>\n",
       "      <td>10.91%</td>\n",
       "    </tr>\n",
       "    <tr>\n",
       "      <th>48201</th>\n",
       "      <td>10.23%</td>\n",
       "    </tr>\n",
       "    <tr>\n",
       "      <th>48226</th>\n",
       "      <td>9.41%</td>\n",
       "    </tr>\n",
       "    <tr>\n",
       "      <th>48207</th>\n",
       "      <td>9.28%</td>\n",
       "    </tr>\n",
       "    <tr>\n",
       "      <th>48236</th>\n",
       "      <td>8.92%</td>\n",
       "    </tr>\n",
       "    <tr>\n",
       "      <th>48239</th>\n",
       "      <td>8.79%</td>\n",
       "    </tr>\n",
       "    <tr>\n",
       "      <th>48212</th>\n",
       "      <td>8.53%</td>\n",
       "    </tr>\n",
       "    <tr>\n",
       "      <th>48234</th>\n",
       "      <td>8.49%</td>\n",
       "    </tr>\n",
       "    <tr>\n",
       "      <th>48217</th>\n",
       "      <td>8.45%</td>\n",
       "    </tr>\n",
       "    <tr>\n",
       "      <th>48210</th>\n",
       "      <td>8.08%</td>\n",
       "    </tr>\n",
       "    <tr>\n",
       "      <th>48204</th>\n",
       "      <td>7.23%</td>\n",
       "    </tr>\n",
       "    <tr>\n",
       "      <th>48232</th>\n",
       "      <td>7.21%</td>\n",
       "    </tr>\n",
       "    <tr>\n",
       "      <th>48211</th>\n",
       "      <td>7.20%</td>\n",
       "    </tr>\n",
       "    <tr>\n",
       "      <th>Rare</th>\n",
       "      <td>7.17%</td>\n",
       "    </tr>\n",
       "    <tr>\n",
       "      <th>48215</th>\n",
       "      <td>7.07%</td>\n",
       "    </tr>\n",
       "    <tr>\n",
       "      <th>48221</th>\n",
       "      <td>6.94%</td>\n",
       "    </tr>\n",
       "    <tr>\n",
       "      <th>48203</th>\n",
       "      <td>6.70%</td>\n",
       "    </tr>\n",
       "    <tr>\n",
       "      <th>48228</th>\n",
       "      <td>6.53%</td>\n",
       "    </tr>\n",
       "    <tr>\n",
       "      <th>48238</th>\n",
       "      <td>6.49%</td>\n",
       "    </tr>\n",
       "    <tr>\n",
       "      <th>48219</th>\n",
       "      <td>6.38%</td>\n",
       "    </tr>\n",
       "    <tr>\n",
       "      <th>48202</th>\n",
       "      <td>6.35%</td>\n",
       "    </tr>\n",
       "    <tr>\n",
       "      <th>48235</th>\n",
       "      <td>6.35%</td>\n",
       "    </tr>\n",
       "    <tr>\n",
       "      <th>48227</th>\n",
       "      <td>6.25%</td>\n",
       "    </tr>\n",
       "    <tr>\n",
       "      <th>48223</th>\n",
       "      <td>6.20%</td>\n",
       "    </tr>\n",
       "    <tr>\n",
       "      <th>48214</th>\n",
       "      <td>5.82%</td>\n",
       "    </tr>\n",
       "    <tr>\n",
       "      <th>48206</th>\n",
       "      <td>5.78%</td>\n",
       "    </tr>\n",
       "    <tr>\n",
       "      <th>48213</th>\n",
       "      <td>5.69%</td>\n",
       "    </tr>\n",
       "    <tr>\n",
       "      <th>48224</th>\n",
       "      <td>5.64%</td>\n",
       "    </tr>\n",
       "    <tr>\n",
       "      <th>48231</th>\n",
       "      <td>5.56%</td>\n",
       "    </tr>\n",
       "    <tr>\n",
       "      <th>48208</th>\n",
       "      <td>5.44%</td>\n",
       "    </tr>\n",
       "    <tr>\n",
       "      <th>48205</th>\n",
       "      <td>5.44%</td>\n",
       "    </tr>\n",
       "    <tr>\n",
       "      <th>48244</th>\n",
       "      <td>0.61%</td>\n",
       "    </tr>\n",
       "  </tbody>\n",
       "</table>\n",
       "</div>"
      ],
      "text/plain": [
       "         compliance\n",
       "zip_code           \n",
       "48216        14.51%\n",
       "48209        11.84%\n",
       "48237        10.91%\n",
       "48201        10.23%\n",
       "48226         9.41%\n",
       "48207         9.28%\n",
       "48236         8.92%\n",
       "48239         8.79%\n",
       "48212         8.53%\n",
       "48234         8.49%\n",
       "48217         8.45%\n",
       "48210         8.08%\n",
       "48204         7.23%\n",
       "48232         7.21%\n",
       "48211         7.20%\n",
       "Rare          7.17%\n",
       "48215         7.07%\n",
       "48221         6.94%\n",
       "48203         6.70%\n",
       "48228         6.53%\n",
       "48238         6.49%\n",
       "48219         6.38%\n",
       "48202         6.35%\n",
       "48235         6.35%\n",
       "48227         6.25%\n",
       "48223         6.20%\n",
       "48214         5.82%\n",
       "48206         5.78%\n",
       "48213         5.69%\n",
       "48224         5.64%\n",
       "48231         5.56%\n",
       "48208         5.44%\n",
       "48205         5.44%\n",
       "48244         0.61%"
      ]
     },
     "execution_count": 565,
     "metadata": {},
     "output_type": "execute_result"
    }
   ],
   "source": [
    "df_train.loc[df_train.zip_code.isin(df_train[df_train['zip_code'].map(df_train['zip_code'].value_counts() < 100)]['zip_code'].value_counts().index), 'zip_code'] = 'Rare'\n",
    "df_train[['zip_code', 'compliance']].groupby(['zip_code'], as_index=False).mean().sort_values(by='compliance', ascending=False).set_index('zip_code').apply(lambda series: series.apply(lambda x: '{:.2f}%'.format(x*100)))"
   ]
  },
  {
   "cell_type": "code",
   "execution_count": 300,
   "metadata": {},
   "outputs": [
    {
     "data": {
      "text/html": [
       "<div>\n",
       "<style scoped>\n",
       "    .dataframe tbody tr th:only-of-type {\n",
       "        vertical-align: middle;\n",
       "    }\n",
       "\n",
       "    .dataframe tbody tr th {\n",
       "        vertical-align: top;\n",
       "    }\n",
       "\n",
       "    .dataframe thead th {\n",
       "        text-align: right;\n",
       "    }\n",
       "</style>\n",
       "<table border=\"1\" class=\"dataframe\">\n",
       "  <thead>\n",
       "    <tr style=\"text-align: right;\">\n",
       "      <th></th>\n",
       "      <th>compliance</th>\n",
       "    </tr>\n",
       "    <tr>\n",
       "      <th>disposition</th>\n",
       "      <th></th>\n",
       "    </tr>\n",
       "  </thead>\n",
       "  <tbody>\n",
       "    <tr>\n",
       "      <th>Responsible by Determination</th>\n",
       "      <td>29.05%</td>\n",
       "    </tr>\n",
       "    <tr>\n",
       "      <th>Responsible by Admission</th>\n",
       "      <td>28.90%</td>\n",
       "    </tr>\n",
       "    <tr>\n",
       "      <th>Responsible by Default</th>\n",
       "      <td>3.57%</td>\n",
       "    </tr>\n",
       "  </tbody>\n",
       "</table>\n",
       "</div>"
      ],
      "text/plain": [
       "                             compliance\n",
       "disposition                            \n",
       "Responsible by Determination     29.05%\n",
       "Responsible by Admission         28.90%\n",
       "Responsible by Default            3.57%"
      ]
     },
     "execution_count": 300,
     "metadata": {},
     "output_type": "execute_result"
    }
   ],
   "source": [
    "df_train[['disposition', 'compliance']].groupby(['disposition'], as_index=False).mean().sort_values(by='compliance', ascending=False).set_index('disposition').apply(lambda series: series.apply(lambda x: '{:.2f}%'.format(x*100)))"
   ]
  },
  {
   "cell_type": "markdown",
   "metadata": {},
   "source": [
    "We can analyse the data in order to be aware of the amount of compliant and non-compliant people in Detroit and understand how this problem is actually affecting the city"
   ]
  },
  {
   "cell_type": "code",
   "execution_count": 301,
   "metadata": {},
   "outputs": [
    {
     "name": "stdout",
     "output_type": "stream",
     "text": [
      "Percentage of compliant people: 6.97%\n",
      "Percentage of non-compliant people: 93.03%\n"
     ]
    }
   ],
   "source": [
    "total_compliant_people = df_train[df_train['compliance'] == 1]['compliance'].value_counts().sum()\n",
    "total_non_compliant_people = df_train[df_train['compliance'] == 0]['compliance'].value_counts().sum()\n",
    "total_people = total_compliant_people + total_non_compliant_people\n",
    "print('Percentage of compliant people: {:.2f}%'.format(total_compliant_people/total_people*100))\n",
    "print('Percentage of non-compliant people: {:.2f}%'.format(total_non_compliant_people/total_people*100))"
   ]
  },
  {
   "cell_type": "code",
   "execution_count": 303,
   "metadata": {},
   "outputs": [
    {
     "name": "stdout",
     "output_type": "stream",
     "text": [
      "Total paid amount: $5,523,768.70\n"
     ]
    }
   ],
   "source": [
    "print('Total paid amount: ${0:,.2f}'.format(df_train['payment_amount'].sum()))"
   ]
  },
  {
   "cell_type": "code",
   "execution_count": 304,
   "metadata": {},
   "outputs": [
    {
     "data": {
      "text/html": [
       "<div>\n",
       "<style scoped>\n",
       "    .dataframe tbody tr th:only-of-type {\n",
       "        vertical-align: middle;\n",
       "    }\n",
       "\n",
       "    .dataframe tbody tr th {\n",
       "        vertical-align: top;\n",
       "    }\n",
       "\n",
       "    .dataframe thead th {\n",
       "        text-align: right;\n",
       "    }\n",
       "</style>\n",
       "<table border=\"1\" class=\"dataframe\">\n",
       "  <thead>\n",
       "    <tr style=\"text-align: right;\">\n",
       "      <th></th>\n",
       "      <th>payment_amount</th>\n",
       "    </tr>\n",
       "    <tr>\n",
       "      <th>payment_year</th>\n",
       "      <th></th>\n",
       "    </tr>\n",
       "  </thead>\n",
       "  <tbody>\n",
       "    <tr>\n",
       "      <th>2005</th>\n",
       "      <td>$ 593,583.00</td>\n",
       "    </tr>\n",
       "    <tr>\n",
       "      <th>2006</th>\n",
       "      <td>$ 820,345.50</td>\n",
       "    </tr>\n",
       "    <tr>\n",
       "      <th>2007</th>\n",
       "      <td>$ 903,144.40</td>\n",
       "    </tr>\n",
       "    <tr>\n",
       "      <th>2008</th>\n",
       "      <td>$ 864,181.30</td>\n",
       "    </tr>\n",
       "    <tr>\n",
       "      <th>2009</th>\n",
       "      <td>$ 667,084.30</td>\n",
       "    </tr>\n",
       "    <tr>\n",
       "      <th>2010</th>\n",
       "      <td>$ 697,493.00</td>\n",
       "    </tr>\n",
       "    <tr>\n",
       "      <th>2011</th>\n",
       "      <td>$ 384,442.00</td>\n",
       "    </tr>\n",
       "    <tr>\n",
       "      <th>2012</th>\n",
       "      <td>$ 133,921.10</td>\n",
       "    </tr>\n",
       "    <tr>\n",
       "      <th>2013</th>\n",
       "      <td>$ 107,637.20</td>\n",
       "    </tr>\n",
       "    <tr>\n",
       "      <th>2014</th>\n",
       "      <td>$ 45,199.40</td>\n",
       "    </tr>\n",
       "    <tr>\n",
       "      <th>2015</th>\n",
       "      <td>$ 94,273.90</td>\n",
       "    </tr>\n",
       "    <tr>\n",
       "      <th>2016</th>\n",
       "      <td>$ 191,506.10</td>\n",
       "    </tr>\n",
       "    <tr>\n",
       "      <th>2017</th>\n",
       "      <td>$ 20,957.50</td>\n",
       "    </tr>\n",
       "  </tbody>\n",
       "</table>\n",
       "</div>"
      ],
      "text/plain": [
       "             payment_amount\n",
       "payment_year               \n",
       "2005           $ 593,583.00\n",
       "2006           $ 820,345.50\n",
       "2007           $ 903,144.40\n",
       "2008           $ 864,181.30\n",
       "2009           $ 667,084.30\n",
       "2010           $ 697,493.00\n",
       "2011           $ 384,442.00\n",
       "2012           $ 133,921.10\n",
       "2013           $ 107,637.20\n",
       "2014            $ 45,199.40\n",
       "2015            $ 94,273.90\n",
       "2016           $ 191,506.10\n",
       "2017            $ 20,957.50"
      ]
     },
     "execution_count": 304,
     "metadata": {},
     "output_type": "execute_result"
    }
   ],
   "source": [
    "df_train.groupby('payment_year').agg({'payment_amount':np.sum}).apply(lambda series: series.apply(lambda x: '$ {0:,.2f}'.format(x)))"
   ]
  },
  {
   "cell_type": "markdown",
   "metadata": {},
   "source": [
    "We can see that the average payment amount per year decreased in the last years"
   ]
  },
  {
   "cell_type": "code",
   "execution_count": 351,
   "metadata": {},
   "outputs": [
    {
     "data": {
      "text/html": [
       "<div>\n",
       "<style scoped>\n",
       "    .dataframe tbody tr th:only-of-type {\n",
       "        vertical-align: middle;\n",
       "    }\n",
       "\n",
       "    .dataframe tbody tr th {\n",
       "        vertical-align: top;\n",
       "    }\n",
       "\n",
       "    .dataframe thead th {\n",
       "        text-align: right;\n",
       "    }\n",
       "</style>\n",
       "<table border=\"1\" class=\"dataframe\">\n",
       "  <thead>\n",
       "    <tr style=\"text-align: right;\">\n",
       "      <th></th>\n",
       "      <th>payment_amount</th>\n",
       "    </tr>\n",
       "    <tr>\n",
       "      <th>payment_month</th>\n",
       "      <th></th>\n",
       "    </tr>\n",
       "  </thead>\n",
       "  <tbody>\n",
       "    <tr>\n",
       "      <th>05</th>\n",
       "      <td>$ 683,612.50</td>\n",
       "    </tr>\n",
       "    <tr>\n",
       "      <th>06</th>\n",
       "      <td>$ 666,660.60</td>\n",
       "    </tr>\n",
       "    <tr>\n",
       "      <th>03</th>\n",
       "      <td>$ 589,411.30</td>\n",
       "    </tr>\n",
       "    <tr>\n",
       "      <th>04</th>\n",
       "      <td>$ 498,545.40</td>\n",
       "    </tr>\n",
       "    <tr>\n",
       "      <th>08</th>\n",
       "      <td>$ 454,372.00</td>\n",
       "    </tr>\n",
       "    <tr>\n",
       "      <th>10</th>\n",
       "      <td>$ 428,112.60</td>\n",
       "    </tr>\n",
       "    <tr>\n",
       "      <th>07</th>\n",
       "      <td>$ 406,477.30</td>\n",
       "    </tr>\n",
       "    <tr>\n",
       "      <th>09</th>\n",
       "      <td>$ 405,066.90</td>\n",
       "    </tr>\n",
       "    <tr>\n",
       "      <th>02</th>\n",
       "      <td>$ 395,735.80</td>\n",
       "    </tr>\n",
       "    <tr>\n",
       "      <th>01</th>\n",
       "      <td>$ 373,678.00</td>\n",
       "    </tr>\n",
       "    <tr>\n",
       "      <th>11</th>\n",
       "      <td>$ 368,528.10</td>\n",
       "    </tr>\n",
       "    <tr>\n",
       "      <th>12</th>\n",
       "      <td>$ 253,568.20</td>\n",
       "    </tr>\n",
       "  </tbody>\n",
       "</table>\n",
       "</div>"
      ],
      "text/plain": [
       "              payment_amount\n",
       "payment_month               \n",
       "05              $ 683,612.50\n",
       "06              $ 666,660.60\n",
       "03              $ 589,411.30\n",
       "04              $ 498,545.40\n",
       "08              $ 454,372.00\n",
       "10              $ 428,112.60\n",
       "07              $ 406,477.30\n",
       "09              $ 405,066.90\n",
       "02              $ 395,735.80\n",
       "01              $ 373,678.00\n",
       "11              $ 368,528.10\n",
       "12              $ 253,568.20"
      ]
     },
     "execution_count": 351,
     "metadata": {},
     "output_type": "execute_result"
    }
   ],
   "source": [
    "df_train.groupby('payment_month').agg({'payment_amount':np.sum}).apply(lambda series: series.apply(lambda x: '$ {0:,.2f}'.format(x))).sort_values(by='payment_amount', ascending=False)"
   ]
  },
  {
   "cell_type": "markdown",
   "metadata": {},
   "source": [
    "* Months that contains the highest accumulated amounts of payment: March to June\n",
    "* Months that contains the lowest accumulated amounts of payment: November to February\n",
    "* If any remainders or charges of late or possibly late tickets could be preferably be made from March to June"
   ]
  },
  {
   "cell_type": "code",
   "execution_count": 352,
   "metadata": {},
   "outputs": [
    {
     "name": "stdout",
     "output_type": "stream",
     "text": [
      "Total pending payment amount: $31,682,555.40\n"
     ]
    }
   ],
   "source": [
    "print('Total pending payment amount: ${0:,.2f}'.format(df_train['balance_due'].sum()))"
   ]
  },
  {
   "cell_type": "code",
   "execution_count": 344,
   "metadata": {},
   "outputs": [
    {
     "data": {
      "text/html": [
       "<div>\n",
       "<style scoped>\n",
       "    .dataframe tbody tr th:only-of-type {\n",
       "        vertical-align: middle;\n",
       "    }\n",
       "\n",
       "    .dataframe tbody tr th {\n",
       "        vertical-align: top;\n",
       "    }\n",
       "\n",
       "    .dataframe thead th {\n",
       "        text-align: right;\n",
       "    }\n",
       "</style>\n",
       "<table border=\"1\" class=\"dataframe\">\n",
       "  <thead>\n",
       "    <tr style=\"text-align: right;\">\n",
       "      <th></th>\n",
       "      <th>owed_amount</th>\n",
       "      <th>balance_due</th>\n",
       "      <th>compliance</th>\n",
       "      <th>paid_amount</th>\n",
       "      <th>paid_percent</th>\n",
       "    </tr>\n",
       "    <tr>\n",
       "      <th>ticket_issued_year</th>\n",
       "      <th></th>\n",
       "      <th></th>\n",
       "      <th></th>\n",
       "      <th></th>\n",
       "      <th></th>\n",
       "    </tr>\n",
       "  </thead>\n",
       "  <tbody>\n",
       "    <tr>\n",
       "      <th>1988</th>\n",
       "      <td>$ 85.00</td>\n",
       "      <td>$ 0.00</td>\n",
       "      <td>100.00%</td>\n",
       "      <td>$ 85.00</td>\n",
       "      <td>100.00%</td>\n",
       "    </tr>\n",
       "    <tr>\n",
       "      <th>2004</th>\n",
       "      <td>$ 7,400.00</td>\n",
       "      <td>$ 6,360.00</td>\n",
       "      <td>25.00%</td>\n",
       "      <td>$ 1,040.00</td>\n",
       "      <td>14.05%</td>\n",
       "    </tr>\n",
       "    <tr>\n",
       "      <th>2005</th>\n",
       "      <td>$ 5,191,939.00</td>\n",
       "      <td>$ 3,934,927.60</td>\n",
       "      <td>7.61%</td>\n",
       "      <td>$ 1,257,011.40</td>\n",
       "      <td>24.21%</td>\n",
       "    </tr>\n",
       "    <tr>\n",
       "      <th>2006</th>\n",
       "      <td>$ 7,626,712.00</td>\n",
       "      <td>$ 6,406,304.30</td>\n",
       "      <td>7.23%</td>\n",
       "      <td>$ 1,220,407.70</td>\n",
       "      <td>16.00%</td>\n",
       "    </tr>\n",
       "    <tr>\n",
       "      <th>2007</th>\n",
       "      <td>$ 7,424,822.50</td>\n",
       "      <td>$ 6,583,295.40</td>\n",
       "      <td>7.07%</td>\n",
       "      <td>$ 841,527.10</td>\n",
       "      <td>11.33%</td>\n",
       "    </tr>\n",
       "    <tr>\n",
       "      <th>2008</th>\n",
       "      <td>$ 7,084,717.50</td>\n",
       "      <td>$ 6,125,964.90</td>\n",
       "      <td>6.49%</td>\n",
       "      <td>$ 958,752.60</td>\n",
       "      <td>13.53%</td>\n",
       "    </tr>\n",
       "    <tr>\n",
       "      <th>2009</th>\n",
       "      <td>$ 5,178,177.50</td>\n",
       "      <td>$ 4,524,650.90</td>\n",
       "      <td>7.37%</td>\n",
       "      <td>$ 653,526.60</td>\n",
       "      <td>12.62%</td>\n",
       "    </tr>\n",
       "    <tr>\n",
       "      <th>2010</th>\n",
       "      <td>$ 2,693,192.50</td>\n",
       "      <td>$ 2,361,414.20</td>\n",
       "      <td>4.56%</td>\n",
       "      <td>$ 331,778.30</td>\n",
       "      <td>12.32%</td>\n",
       "    </tr>\n",
       "    <tr>\n",
       "      <th>2011</th>\n",
       "      <td>$ 1,999,270.00</td>\n",
       "      <td>$ 1,739,638.10</td>\n",
       "      <td>7.92%</td>\n",
       "      <td>$ 259,631.90</td>\n",
       "      <td>12.99%</td>\n",
       "    </tr>\n",
       "  </tbody>\n",
       "</table>\n",
       "</div>"
      ],
      "text/plain": [
       "                       owed_amount     balance_due compliance     paid_amount  \\\n",
       "ticket_issued_year                                                              \n",
       "1988                       $ 85.00          $ 0.00    100.00%         $ 85.00   \n",
       "2004                    $ 7,400.00      $ 6,360.00     25.00%      $ 1,040.00   \n",
       "2005                $ 5,191,939.00  $ 3,934,927.60      7.61%  $ 1,257,011.40   \n",
       "2006                $ 7,626,712.00  $ 6,406,304.30      7.23%  $ 1,220,407.70   \n",
       "2007                $ 7,424,822.50  $ 6,583,295.40      7.07%    $ 841,527.10   \n",
       "2008                $ 7,084,717.50  $ 6,125,964.90      6.49%    $ 958,752.60   \n",
       "2009                $ 5,178,177.50  $ 4,524,650.90      7.37%    $ 653,526.60   \n",
       "2010                $ 2,693,192.50  $ 2,361,414.20      4.56%    $ 331,778.30   \n",
       "2011                $ 1,999,270.00  $ 1,739,638.10      7.92%    $ 259,631.90   \n",
       "\n",
       "                   paid_percent  \n",
       "ticket_issued_year               \n",
       "1988                    100.00%  \n",
       "2004                     14.05%  \n",
       "2005                     24.21%  \n",
       "2006                     16.00%  \n",
       "2007                     11.33%  \n",
       "2008                     13.53%  \n",
       "2009                     12.62%  \n",
       "2010                     12.32%  \n",
       "2011                     12.99%  "
      ]
     },
     "execution_count": 344,
     "metadata": {},
     "output_type": "execute_result"
    }
   ],
   "source": [
    "ticket_issued_year_analysis = df_train.groupby('ticket_issued_year').agg({'owed_amount':np.sum, 'balance_due':np.sum, 'compliance':np.mean})\n",
    "ticket_issued_year_analysis['paid_amount'] = ticket_issued_year_analysis['owed_amount'] - ticket_issued_year_analysis['balance_due']\n",
    "ticket_issued_year_analysis['paid_percent'] = ticket_issued_year_analysis['paid_amount']/ticket_issued_year_analysis['owed_amount']\n",
    "currency_columns = ['owed_amount', 'balance_due', 'paid_amount']\n",
    "percent_columns = ['compliance', 'paid_percent']\n",
    "ticket_issued_year_analysis[currency_columns] = ticket_issued_year_analysis[currency_columns].apply(lambda series: series.apply(lambda x: '$ {0:,.2f}'.format(x)))\n",
    "ticket_issued_year_analysis[percent_columns] = ticket_issued_year_analysis[percent_columns].apply(lambda series: series.apply(lambda x: '{:.2f}%'.format(x*100)))\n",
    "ticket_issued_year_analysis"
   ]
  },
  {
   "cell_type": "code",
   "execution_count": 361,
   "metadata": {},
   "outputs": [
    {
     "data": {
      "text/html": [
       "<div>\n",
       "<style scoped>\n",
       "    .dataframe tbody tr th:only-of-type {\n",
       "        vertical-align: middle;\n",
       "    }\n",
       "\n",
       "    .dataframe tbody tr th {\n",
       "        vertical-align: top;\n",
       "    }\n",
       "\n",
       "    .dataframe thead th {\n",
       "        text-align: right;\n",
       "    }\n",
       "</style>\n",
       "<table border=\"1\" class=\"dataframe\">\n",
       "  <thead>\n",
       "    <tr style=\"text-align: right;\">\n",
       "      <th></th>\n",
       "      <th>owed_amount</th>\n",
       "      <th>balance_due</th>\n",
       "      <th>compliance</th>\n",
       "      <th>paid_amount</th>\n",
       "      <th>paid_percent</th>\n",
       "    </tr>\n",
       "    <tr>\n",
       "      <th>ticket_issued_month</th>\n",
       "      <th></th>\n",
       "      <th></th>\n",
       "      <th></th>\n",
       "      <th></th>\n",
       "      <th></th>\n",
       "    </tr>\n",
       "  </thead>\n",
       "  <tbody>\n",
       "    <tr>\n",
       "      <th>01</th>\n",
       "      <td>$ 3,190,885.00</td>\n",
       "      <td>$ 2,675,823.20</td>\n",
       "      <td>8.84%</td>\n",
       "      <td>$ 515,061.80</td>\n",
       "      <td>16.14%</td>\n",
       "    </tr>\n",
       "    <tr>\n",
       "      <th>02</th>\n",
       "      <td>$ 3,204,078.50</td>\n",
       "      <td>$ 2,617,590.60</td>\n",
       "      <td>8.91%</td>\n",
       "      <td>$ 586,487.90</td>\n",
       "      <td>18.30%</td>\n",
       "    </tr>\n",
       "    <tr>\n",
       "      <th>03</th>\n",
       "      <td>$ 3,454,890.00</td>\n",
       "      <td>$ 2,820,192.50</td>\n",
       "      <td>9.24%</td>\n",
       "      <td>$ 634,697.50</td>\n",
       "      <td>18.37%</td>\n",
       "    </tr>\n",
       "    <tr>\n",
       "      <th>04</th>\n",
       "      <td>$ 3,394,797.50</td>\n",
       "      <td>$ 2,902,730.60</td>\n",
       "      <td>7.77%</td>\n",
       "      <td>$ 492,066.90</td>\n",
       "      <td>14.49%</td>\n",
       "    </tr>\n",
       "    <tr>\n",
       "      <th>05</th>\n",
       "      <td>$ 3,225,140.50</td>\n",
       "      <td>$ 2,775,016.90</td>\n",
       "      <td>7.56%</td>\n",
       "      <td>$ 450,123.60</td>\n",
       "      <td>13.96%</td>\n",
       "    </tr>\n",
       "    <tr>\n",
       "      <th>06</th>\n",
       "      <td>$ 3,105,892.50</td>\n",
       "      <td>$ 2,631,060.20</td>\n",
       "      <td>5.93%</td>\n",
       "      <td>$ 474,832.30</td>\n",
       "      <td>15.29%</td>\n",
       "    </tr>\n",
       "    <tr>\n",
       "      <th>07</th>\n",
       "      <td>$ 2,724,712.50</td>\n",
       "      <td>$ 2,309,026.60</td>\n",
       "      <td>5.77%</td>\n",
       "      <td>$ 415,685.90</td>\n",
       "      <td>15.26%</td>\n",
       "    </tr>\n",
       "    <tr>\n",
       "      <th>08</th>\n",
       "      <td>$ 3,377,980.00</td>\n",
       "      <td>$ 2,947,101.10</td>\n",
       "      <td>5.23%</td>\n",
       "      <td>$ 430,878.90</td>\n",
       "      <td>12.76%</td>\n",
       "    </tr>\n",
       "    <tr>\n",
       "      <th>09</th>\n",
       "      <td>$ 3,275,652.50</td>\n",
       "      <td>$ 2,820,800.00</td>\n",
       "      <td>5.67%</td>\n",
       "      <td>$ 454,852.50</td>\n",
       "      <td>13.89%</td>\n",
       "    </tr>\n",
       "    <tr>\n",
       "      <th>10</th>\n",
       "      <td>$ 3,696,419.50</td>\n",
       "      <td>$ 3,269,038.10</td>\n",
       "      <td>5.15%</td>\n",
       "      <td>$ 427,381.40</td>\n",
       "      <td>11.56%</td>\n",
       "    </tr>\n",
       "    <tr>\n",
       "      <th>11</th>\n",
       "      <td>$ 2,541,905.00</td>\n",
       "      <td>$ 2,212,458.10</td>\n",
       "      <td>6.05%</td>\n",
       "      <td>$ 329,446.90</td>\n",
       "      <td>12.96%</td>\n",
       "    </tr>\n",
       "    <tr>\n",
       "      <th>12</th>\n",
       "      <td>$ 2,013,962.50</td>\n",
       "      <td>$ 1,701,717.50</td>\n",
       "      <td>7.83%</td>\n",
       "      <td>$ 312,245.00</td>\n",
       "      <td>15.50%</td>\n",
       "    </tr>\n",
       "  </tbody>\n",
       "</table>\n",
       "</div>"
      ],
      "text/plain": [
       "                        owed_amount     balance_due compliance   paid_amount  \\\n",
       "ticket_issued_month                                                            \n",
       "01                   $ 3,190,885.00  $ 2,675,823.20      8.84%  $ 515,061.80   \n",
       "02                   $ 3,204,078.50  $ 2,617,590.60      8.91%  $ 586,487.90   \n",
       "03                   $ 3,454,890.00  $ 2,820,192.50      9.24%  $ 634,697.50   \n",
       "04                   $ 3,394,797.50  $ 2,902,730.60      7.77%  $ 492,066.90   \n",
       "05                   $ 3,225,140.50  $ 2,775,016.90      7.56%  $ 450,123.60   \n",
       "06                   $ 3,105,892.50  $ 2,631,060.20      5.93%  $ 474,832.30   \n",
       "07                   $ 2,724,712.50  $ 2,309,026.60      5.77%  $ 415,685.90   \n",
       "08                   $ 3,377,980.00  $ 2,947,101.10      5.23%  $ 430,878.90   \n",
       "09                   $ 3,275,652.50  $ 2,820,800.00      5.67%  $ 454,852.50   \n",
       "10                   $ 3,696,419.50  $ 3,269,038.10      5.15%  $ 427,381.40   \n",
       "11                   $ 2,541,905.00  $ 2,212,458.10      6.05%  $ 329,446.90   \n",
       "12                   $ 2,013,962.50  $ 1,701,717.50      7.83%  $ 312,245.00   \n",
       "\n",
       "                    paid_percent  \n",
       "ticket_issued_month               \n",
       "01                        16.14%  \n",
       "02                        18.30%  \n",
       "03                        18.37%  \n",
       "04                        14.49%  \n",
       "05                        13.96%  \n",
       "06                        15.29%  \n",
       "07                        15.26%  \n",
       "08                        12.76%  \n",
       "09                        13.89%  \n",
       "10                        11.56%  \n",
       "11                        12.96%  \n",
       "12                        15.50%  "
      ]
     },
     "execution_count": 361,
     "metadata": {},
     "output_type": "execute_result"
    }
   ],
   "source": [
    "ticket_issued_month_analysis = df_train.groupby('ticket_issued_month').agg({'owed_amount':np.sum, 'balance_due':np.sum, 'compliance':np.mean})\n",
    "ticket_issued_month_analysis['paid_amount'] = ticket_issued_month_analysis['owed_amount'] - ticket_issued_month_analysis['balance_due']\n",
    "ticket_issued_month_analysis['paid_percent'] = ticket_issued_month_analysis['paid_amount']/ticket_issued_month_analysis['owed_amount']\n",
    "currency_columns = ['owed_amount', 'balance_due', 'paid_amount']\n",
    "percent_columns = ['compliance', 'paid_percent']\n",
    "ticket_issued_month_analysis[currency_columns] = ticket_issued_month_analysis[currency_columns].apply(lambda series: series.apply(lambda x: '$ {0:,.2f}'.format(x)))\n",
    "ticket_issued_month_analysis[percent_columns] = ticket_issued_month_analysis[percent_columns].apply(lambda series: series.apply(lambda x: '{:.2f}%'.format(x*100)))\n",
    "ticket_issued_month_analysis"
   ]
  },
  {
   "cell_type": "code",
   "execution_count": 371,
   "metadata": {},
   "outputs": [
    {
     "data": {
      "text/html": [
       "<div>\n",
       "<style scoped>\n",
       "    .dataframe tbody tr th:only-of-type {\n",
       "        vertical-align: middle;\n",
       "    }\n",
       "\n",
       "    .dataframe tbody tr th {\n",
       "        vertical-align: top;\n",
       "    }\n",
       "\n",
       "    .dataframe thead th {\n",
       "        text-align: right;\n",
       "    }\n",
       "</style>\n",
       "<table border=\"1\" class=\"dataframe\">\n",
       "  <thead>\n",
       "    <tr style=\"text-align: right;\">\n",
       "      <th></th>\n",
       "      <th>owed_amount</th>\n",
       "      <th>balance_due</th>\n",
       "      <th>compliance</th>\n",
       "      <th>paid_amount</th>\n",
       "      <th>paid_percent</th>\n",
       "    </tr>\n",
       "    <tr>\n",
       "      <th>ticket_issued_semester</th>\n",
       "      <th></th>\n",
       "      <th></th>\n",
       "      <th></th>\n",
       "      <th></th>\n",
       "      <th></th>\n",
       "    </tr>\n",
       "  </thead>\n",
       "  <tbody>\n",
       "    <tr>\n",
       "      <th>1</th>\n",
       "      <td>$ 19,575,684.00</td>\n",
       "      <td>$ 16,422,414.00</td>\n",
       "      <td>8.04%</td>\n",
       "      <td>$ 3,153,270.00</td>\n",
       "      <td>16.11%</td>\n",
       "    </tr>\n",
       "    <tr>\n",
       "      <th>2</th>\n",
       "      <td>$ 17,630,632.00</td>\n",
       "      <td>$ 15,260,141.40</td>\n",
       "      <td>5.95%</td>\n",
       "      <td>$ 2,370,490.60</td>\n",
       "      <td>13.45%</td>\n",
       "    </tr>\n",
       "  </tbody>\n",
       "</table>\n",
       "</div>"
      ],
      "text/plain": [
       "                            owed_amount      balance_due compliance  \\\n",
       "ticket_issued_semester                                                \n",
       "1                       $ 19,575,684.00  $ 16,422,414.00      8.04%   \n",
       "2                       $ 17,630,632.00  $ 15,260,141.40      5.95%   \n",
       "\n",
       "                           paid_amount paid_percent  \n",
       "ticket_issued_semester                               \n",
       "1                       $ 3,153,270.00       16.11%  \n",
       "2                       $ 2,370,490.60       13.45%  "
      ]
     },
     "execution_count": 371,
     "metadata": {},
     "output_type": "execute_result"
    }
   ],
   "source": [
    "ticket_issued_month_analysis = df_train.groupby('ticket_issued_month').agg({'owed_amount':np.sum, 'balance_due':np.sum, 'compliance':np.mean})\n",
    "ticket_issued_month_analysis['ticket_issued_semester'] = np.where(ticket_issued_month_analysis.index.astype('int') <= 6, 1, 2)\n",
    "ticket_issued_month_analysis = ticket_issued_month_analysis.groupby('ticket_issued_semester').agg({'owed_amount':np.sum, 'balance_due':np.sum, 'compliance':np.mean})\n",
    "ticket_issued_month_analysis['paid_amount'] = ticket_issued_month_analysis['owed_amount'] - ticket_issued_month_analysis['balance_due']\n",
    "ticket_issued_month_analysis['paid_percent'] = ticket_issued_month_analysis['paid_amount']/ticket_issued_month_analysis['owed_amount']\n",
    "currency_columns = ['owed_amount', 'balance_due', 'paid_amount']\n",
    "percent_columns = ['compliance', 'paid_percent']\n",
    "ticket_issued_month_analysis[currency_columns] = ticket_issued_month_analysis[currency_columns].apply(lambda series: series.apply(lambda x: '$ {0:,.2f}'.format(x)))\n",
    "ticket_issued_month_analysis[percent_columns] = ticket_issued_month_analysis[percent_columns].apply(lambda series: series.apply(lambda x: '{:.2f}%'.format(x*100)))\n",
    "ticket_issued_month_analysis"
   ]
  },
  {
   "cell_type": "markdown",
   "metadata": {},
   "source": [
    "* The payment_amount and compliance percentage is higher in tickets issued the first semester\n",
    "* The city hall can be aware of this tendency and build some strategies to first improve the compliance of these tickets"
   ]
  },
  {
   "cell_type": "code",
   "execution_count": 372,
   "metadata": {},
   "outputs": [
    {
     "data": {
      "text/plain": [
       "non-compliant by no payment                        79062\n",
       "non-compliant by late payment more than 1 month    10943\n",
       "compliant by late payment within 1 month            3691\n",
       "compliant by on-time payment                        2416\n",
       "compliant by early payment                           587\n",
       "compliant by payment on unknown date                  46\n",
       "Name: compliance_detail, dtype: int64"
      ]
     },
     "execution_count": 372,
     "metadata": {},
     "output_type": "execute_result"
    }
   ],
   "source": [
    "df_train['compliance_detail'].value_counts()"
   ]
  },
  {
   "cell_type": "code",
   "execution_count": 377,
   "metadata": {},
   "outputs": [
    {
     "data": {
      "text/plain": [
       "non-compliant by no payment                        81.72%\n",
       "non-compliant by late payment more than 1 month    11.31%\n",
       "compliant by late payment within 1 month            3.82%\n",
       "compliant by on-time payment                        2.50%\n",
       "compliant by early payment                          0.61%\n",
       "compliant by payment on unknown date                0.05%\n",
       "Name: compliance_detail, dtype: object"
      ]
     },
     "execution_count": 377,
     "metadata": {},
     "output_type": "execute_result"
    }
   ],
   "source": [
    "df_train['compliance_detail'].value_counts(normalize=True).apply(lambda x: '{:.2f}%'.format(x*100))"
   ]
  },
  {
   "cell_type": "code",
   "execution_count": 378,
   "metadata": {},
   "outputs": [
    {
     "data": {
      "text/plain": [
       "non-compliant by no payment                        87.84%\n",
       "non-compliant by late payment more than 1 month    12.16%\n",
       "Name: compliance_detail, dtype: object"
      ]
     },
     "execution_count": 378,
     "metadata": {},
     "output_type": "execute_result"
    }
   ],
   "source": [
    "df_train[df_train['compliance'] == 0]['compliance_detail'].value_counts(normalize=True).apply(lambda x: '{:.2f}%'.format(x*100))"
   ]
  },
  {
   "cell_type": "code",
   "execution_count": 374,
   "metadata": {},
   "outputs": [
    {
     "data": {
      "text/html": [
       "<div>\n",
       "<style scoped>\n",
       "    .dataframe tbody tr th:only-of-type {\n",
       "        vertical-align: middle;\n",
       "    }\n",
       "\n",
       "    .dataframe tbody tr th {\n",
       "        vertical-align: top;\n",
       "    }\n",
       "\n",
       "    .dataframe thead th {\n",
       "        text-align: right;\n",
       "    }\n",
       "</style>\n",
       "<table border=\"1\" class=\"dataframe\">\n",
       "  <thead>\n",
       "    <tr style=\"text-align: right;\">\n",
       "      <th></th>\n",
       "      <th>owed_amount</th>\n",
       "      <th>payment_amount</th>\n",
       "      <th>balance_due</th>\n",
       "      <th>paid_percent</th>\n",
       "    </tr>\n",
       "    <tr>\n",
       "      <th>compliance_detail</th>\n",
       "      <th></th>\n",
       "      <th></th>\n",
       "      <th></th>\n",
       "      <th></th>\n",
       "    </tr>\n",
       "  </thead>\n",
       "  <tbody>\n",
       "    <tr>\n",
       "      <th>compliant by early payment</th>\n",
       "      <td>$ 130,867.00</td>\n",
       "      <td>$ 122,559.00</td>\n",
       "      <td>$ 8,316.00</td>\n",
       "      <td>93.65%</td>\n",
       "    </tr>\n",
       "    <tr>\n",
       "      <th>compliant by late payment within 1 month</th>\n",
       "      <td>$ 1,003,852.00</td>\n",
       "      <td>$ 919,390.80</td>\n",
       "      <td>$ 84,461.20</td>\n",
       "      <td>91.59%</td>\n",
       "    </tr>\n",
       "    <tr>\n",
       "      <th>compliant by on-time payment</th>\n",
       "      <td>$ 581,925.00</td>\n",
       "      <td>$ 581,885.00</td>\n",
       "      <td>$ 40.00</td>\n",
       "      <td>99.99%</td>\n",
       "    </tr>\n",
       "    <tr>\n",
       "      <th>compliant by payment on unknown date</th>\n",
       "      <td>$ 15,577.50</td>\n",
       "      <td>$ 15,582.50</td>\n",
       "      <td>$ -5.00</td>\n",
       "      <td>100.03%</td>\n",
       "    </tr>\n",
       "    <tr>\n",
       "      <th>non-compliant by late payment more than 1 month</th>\n",
       "      <td>$ 3,275,719.50</td>\n",
       "      <td>$ 2,896,593.80</td>\n",
       "      <td>$ 379,125.70</td>\n",
       "      <td>88.43%</td>\n",
       "    </tr>\n",
       "    <tr>\n",
       "      <th>non-compliant by no payment</th>\n",
       "      <td>$ 32,198,375.00</td>\n",
       "      <td>$ 987,757.60</td>\n",
       "      <td>$ 31,210,617.50</td>\n",
       "      <td>3.07%</td>\n",
       "    </tr>\n",
       "  </tbody>\n",
       "</table>\n",
       "</div>"
      ],
      "text/plain": [
       "                                                     owed_amount  \\\n",
       "compliance_detail                                                  \n",
       "compliant by early payment                          $ 130,867.00   \n",
       "compliant by late payment within 1 month          $ 1,003,852.00   \n",
       "compliant by on-time payment                        $ 581,925.00   \n",
       "compliant by payment on unknown date                 $ 15,577.50   \n",
       "non-compliant by late payment more than 1 month   $ 3,275,719.50   \n",
       "non-compliant by no payment                      $ 32,198,375.00   \n",
       "\n",
       "                                                 payment_amount  \\\n",
       "compliance_detail                                                 \n",
       "compliant by early payment                         $ 122,559.00   \n",
       "compliant by late payment within 1 month           $ 919,390.80   \n",
       "compliant by on-time payment                       $ 581,885.00   \n",
       "compliant by payment on unknown date                $ 15,582.50   \n",
       "non-compliant by late payment more than 1 month  $ 2,896,593.80   \n",
       "non-compliant by no payment                        $ 987,757.60   \n",
       "\n",
       "                                                     balance_due paid_percent  \n",
       "compliance_detail                                                              \n",
       "compliant by early payment                            $ 8,316.00       93.65%  \n",
       "compliant by late payment within 1 month             $ 84,461.20       91.59%  \n",
       "compliant by on-time payment                             $ 40.00       99.99%  \n",
       "compliant by payment on unknown date                     $ -5.00      100.03%  \n",
       "non-compliant by late payment more than 1 month     $ 379,125.70       88.43%  \n",
       "non-compliant by no payment                      $ 31,210,617.50        3.07%  "
      ]
     },
     "execution_count": 374,
     "metadata": {},
     "output_type": "execute_result"
    }
   ],
   "source": [
    "compliance_detail_analysis = df_train.groupby('compliance_detail').agg({'owed_amount':np.sum, 'payment_amount':np.sum, 'balance_due':np.sum})\n",
    "compliance_detail_analysis['paid_percent'] = compliance_detail_analysis['payment_amount']/compliance_detail_analysis['owed_amount']\n",
    "currency_columns = ['owed_amount', 'balance_due', 'payment_amount']\n",
    "percent_columns = ['paid_percent']\n",
    "compliance_detail_analysis[currency_columns] = compliance_detail_analysis[currency_columns].apply(lambda series: series.apply(lambda x: '$ {0:,.2f}'.format(x)))\n",
    "compliance_detail_analysis[percent_columns] = compliance_detail_analysis[percent_columns].apply(lambda series: series.apply(lambda x: '{:.2f}%'.format(x*100)))\n",
    "compliance_detail_analysis"
   ]
  },
  {
   "cell_type": "code",
   "execution_count": 347,
   "metadata": {},
   "outputs": [
    {
     "data": {
      "text/html": [
       "<div>\n",
       "<style scoped>\n",
       "    .dataframe tbody tr th:only-of-type {\n",
       "        vertical-align: middle;\n",
       "    }\n",
       "\n",
       "    .dataframe tbody tr th {\n",
       "        vertical-align: top;\n",
       "    }\n",
       "\n",
       "    .dataframe thead th {\n",
       "        text-align: right;\n",
       "    }\n",
       "</style>\n",
       "<table border=\"1\" class=\"dataframe\">\n",
       "  <thead>\n",
       "    <tr style=\"text-align: right;\">\n",
       "      <th></th>\n",
       "      <th>owed_amount</th>\n",
       "      <th>payment_amount</th>\n",
       "      <th>balance_due</th>\n",
       "      <th>paid_percent</th>\n",
       "    </tr>\n",
       "    <tr>\n",
       "      <th>compliance</th>\n",
       "      <th></th>\n",
       "      <th></th>\n",
       "      <th></th>\n",
       "      <th></th>\n",
       "    </tr>\n",
       "  </thead>\n",
       "  <tbody>\n",
       "    <tr>\n",
       "      <th>0.0</th>\n",
       "      <td>$ 35,474,094.50</td>\n",
       "      <td>$ 3,884,351.40</td>\n",
       "      <td>$ 31,589,743.20</td>\n",
       "      <td>10.95%</td>\n",
       "    </tr>\n",
       "    <tr>\n",
       "      <th>1.0</th>\n",
       "      <td>$ 1,732,221.50</td>\n",
       "      <td>$ 1,639,417.30</td>\n",
       "      <td>$ 92,812.20</td>\n",
       "      <td>94.64%</td>\n",
       "    </tr>\n",
       "  </tbody>\n",
       "</table>\n",
       "</div>"
      ],
      "text/plain": [
       "                owed_amount  payment_amount      balance_due paid_percent\n",
       "compliance                                                               \n",
       "0.0         $ 35,474,094.50  $ 3,884,351.40  $ 31,589,743.20       10.95%\n",
       "1.0          $ 1,732,221.50  $ 1,639,417.30      $ 92,812.20       94.64%"
      ]
     },
     "execution_count": 347,
     "metadata": {},
     "output_type": "execute_result"
    }
   ],
   "source": [
    "compliance_analysis = df_train.groupby('compliance').agg({'owed_amount':np.sum, 'payment_amount':np.sum, 'balance_due':np.sum})\n",
    "compliance_analysis['paid_percent'] = compliance_analysis['payment_amount']/compliance_analysis['owed_amount']\n",
    "currency_columns = ['owed_amount', 'balance_due', 'payment_amount']\n",
    "percent_columns = ['paid_percent']\n",
    "compliance_analysis[currency_columns] = compliance_analysis[currency_columns].apply(lambda series: series.apply(lambda x: '$ {0:,.2f}'.format(x)))\n",
    "compliance_analysis[percent_columns] = compliance_analysis[percent_columns].apply(lambda series: series.apply(lambda x: '{:.2f}%'.format(x*100)))\n",
    "compliance_analysis"
   ]
  },
  {
   "cell_type": "markdown",
   "metadata": {},
   "source": [
    "* Almost 88% of the non-compliant cases are from people who didn't pay the blight ticket\n",
    "* There is more than 31 million US dollars that are pending from payment of non-compliant people"
   ]
  },
  {
   "cell_type": "markdown",
   "metadata": {},
   "source": [
    "# 2. Data Visualization <a class='anchor' id='second-bullet'></a>"
   ]
  },
  {
   "cell_type": "markdown",
   "metadata": {},
   "source": [
    "## owed_amount"
   ]
  },
  {
   "cell_type": "markdown",
   "metadata": {},
   "source": [
    "Bar plot with interval percentages"
   ]
  },
  {
   "cell_type": "code",
   "execution_count": 428,
   "metadata": {},
   "outputs": [
    {
     "data": {
      "image/png": "[encoded data removed]",
      "text/plain": [
       "<Figure size 864x432 with 1 Axes>"
      ]
     },
     "metadata": {
      "needs_background": "light"
     },
     "output_type": "display_data"
    }
   ],
   "source": [
    "compliance_sizes = define_percentage_compliance_folds(df_train, 'owed_amount')\n",
    "plot_percent_compliance_bar_folds_chart(compliance_sizes)"
   ]
  },
  {
   "cell_type": "markdown",
   "metadata": {},
   "source": [
    "Scatter plot with percentage value of each exact amount"
   ]
  },
  {
   "cell_type": "code",
   "execution_count": 433,
   "metadata": {},
   "outputs": [
    {
     "data": {
      "image/png": "[encoded data removed]",
      "text/plain": [
       "<Figure size 864x432 with 1 Axes>"
      ]
     },
     "metadata": {
      "needs_background": "light"
     },
     "output_type": "display_data"
    }
   ],
   "source": [
    "plot_percent_compliance_scatter_chart(df_train, 'owed_amount')"
   ]
  },
  {
   "cell_type": "markdown",
   "metadata": {},
   "source": [
    "Zoomed the scatter plot to owed amounts between 0 and 400 dolars."
   ]
  },
  {
   "cell_type": "code",
   "execution_count": 435,
   "metadata": {},
   "outputs": [
    {
     "data": {
      "image/png": "[encoded data removed]",
      "text/plain": [
       "<Figure size 864x432 with 1 Axes>"
      ]
     },
     "metadata": {
      "needs_background": "light"
     },
     "output_type": "display_data"
    }
   ],
   "source": [
    "plot_percent_compliance_scatter_chart(df_train, 'owed_amount', xlim=(0,400))"
   ]
  },
  {
   "cell_type": "code",
   "execution_count": 436,
   "metadata": {},
   "outputs": [
    {
     "data": {
      "image/png": "[encoded data removed]",
      "text/plain": [
       "<Figure size 864x432 with 1 Axes>"
      ]
     },
     "metadata": {
      "needs_background": "light"
     },
     "output_type": "display_data"
    }
   ],
   "source": [
    "plot_percent_compliance_bar_chart(df_train, 'owed_amount', xlim=(0,400))"
   ]
  },
  {
   "cell_type": "markdown",
   "metadata": {},
   "source": [
    "## agency_name"
   ]
  },
  {
   "cell_type": "code",
   "execution_count": 568,
   "metadata": {},
   "outputs": [
    {
     "data": {
      "text/plain": [
       "array(['Buildings, Safety Engineering & Env Department',\n",
       "       'Health Department', 'Department of Public Works',\n",
       "       'Detroit Police Department'], dtype=object)"
      ]
     },
     "execution_count": 568,
     "metadata": {},
     "output_type": "execute_result"
    }
   ],
   "source": [
    "df_train['agency_name'].unique()"
   ]
  },
  {
   "cell_type": "code",
   "execution_count": 604,
   "metadata": {},
   "outputs": [
    {
     "data": {
      "text/plain": [
       "Buildings, Safety Engineering & Env Department    0.037490\n",
       "Department of Public Works                        0.025107\n",
       "Detroit Police Department                         0.004455\n",
       "Health Department                                 0.002615\n",
       "Name: agency_name, dtype: float64"
      ]
     },
     "execution_count": 604,
     "metadata": {},
     "output_type": "execute_result"
    }
   ],
   "source": [
    "df_train[df_train['compliance'] == 1]['agency_name'].value_counts().apply(lambda x: x/total_people).sort_index()"
   ]
  },
  {
   "cell_type": "code",
   "execution_count": 603,
   "metadata": {},
   "outputs": [
    {
     "data": {
      "image/png": "[encoded data removed]",
      "text/plain": [
       "<Figure size 864x432 with 1 Axes>"
      ]
     },
     "metadata": {
      "needs_background": "light"
     },
     "output_type": "display_data"
    }
   ],
   "source": [
    "total_people = df_train['agency_name'].count()\n",
    "compliance_sizes={}\n",
    "compliance_sizes[1] = df_train[df_train['compliance'] == 1]['agency_name'].value_counts().apply(lambda x: x/total_people).sort_index()\n",
    "compliance_sizes[0] = df_train[df_train['compliance'] == 0]['agency_name'].value_counts().apply(lambda x: x/total_people).sort_index()\n",
    "plot_percent_compliance_bar_folds_chart(compliance_sizes, folds=[50, 100, 150, 200], folds_ticks=[name[:30] for name in compliance_sizes[0].index])"
   ]
  },
  {
   "cell_type": "code",
   "execution_count": 627,
   "metadata": {},
   "outputs": [
    {
     "data": {
      "image/png": "[encoded data removed]",
      "text/plain": [
       "<Figure size 864x432 with 1 Axes>"
      ]
     },
     "metadata": {
      "needs_background": "light"
     },
     "output_type": "display_data"
    }
   ],
   "source": [
    "df_train['agency_category'] = 3\n",
    "df_train.loc[df_train.agency_name == 'Buildings, Safety Engineering & Env Department', 'agency_category'] = 0\n",
    "df_train.loc[df_train.agency_name == 'Department of Public Works', 'agency_category'] = 1\n",
    "df_train.loc[df_train.agency_name == 'Detroit Police Department', 'agency_category'] = 2\n",
    "\n",
    "plot_compliance_scatter_features_chart(df_train, 'owed_amount', 'agency_category', yticks=df_train['agency_name'].unique())"
   ]
  },
  {
   "cell_type": "code",
   "execution_count": 628,
   "metadata": {},
   "outputs": [
    {
     "data": {
      "image/png": "[encoded data removed]",
      "text/plain": [
       "<Figure size 864x432 with 1 Axes>"
      ]
     },
     "metadata": {
      "needs_background": "light"
     },
     "output_type": "display_data"
    }
   ],
   "source": [
    "plot_compliance_scatter_features_chart(df_train, 'owed_amount', 'agency_category', yticks=df_train['agency_name'].unique(), xlim=(0,400), ylim=(-0.3,3.7))"
   ]
  },
  {
   "cell_type": "markdown",
   "metadata": {},
   "source": [
    "## disposition"
   ]
  },
  {
   "cell_type": "markdown",
   "metadata": {},
   "source": [
    "Plot the scatter chart to visualize the distribution of compliant and not compliant entries by disposition"
   ]
  },
  {
   "cell_type": "code",
   "execution_count": 617,
   "metadata": {},
   "outputs": [
    {
     "data": {
      "text/plain": [
       "array(['Responsible by Determination', 'Responsible by Default',\n",
       "       'Responsible by Admission'], dtype=object)"
      ]
     },
     "execution_count": 617,
     "metadata": {},
     "output_type": "execute_result"
    }
   ],
   "source": [
    "df_train['disposition'].unique()"
   ]
  },
  {
   "cell_type": "code",
   "execution_count": 618,
   "metadata": {},
   "outputs": [
    {
     "data": {
      "image/png": "[encoded data removed]",
      "text/plain": [
       "<Figure size 864x432 with 1 Axes>"
      ]
     },
     "metadata": {
      "needs_background": "light"
     },
     "output_type": "display_data"
    }
   ],
   "source": [
    "total_people = df_train['disposition'].count()\n",
    "compliance_sizes={}\n",
    "compliance_sizes[1] = df_train[df_train['compliance'] == 1]['disposition'].value_counts().apply(lambda x: x/total_people).sort_index()\n",
    "compliance_sizes[0] = df_train[df_train['compliance'] == 0]['disposition'].value_counts().apply(lambda x: x/total_people).sort_index()\n",
    "plot_percent_compliance_bar_folds_chart(compliance_sizes, folds=[50, 100, 150], folds_ticks=compliance_sizes[0].index)"
   ]
  },
  {
   "cell_type": "markdown",
   "metadata": {},
   "source": [
    "Distribution of compliant and not compliant entries using both features"
   ]
  },
  {
   "cell_type": "code",
   "execution_count": 619,
   "metadata": {},
   "outputs": [
    {
     "data": {
      "text/plain": [
       "array(['Responsible by Determination', 'Responsible by Default',\n",
       "       'Responsible by Admission'], dtype=object)"
      ]
     },
     "execution_count": 619,
     "metadata": {},
     "output_type": "execute_result"
    }
   ],
   "source": [
    "df_train['disposition'].unique()"
   ]
  },
  {
   "cell_type": "code",
   "execution_count": 625,
   "metadata": {},
   "outputs": [
    {
     "data": {
      "image/png": "[encoded data removed]",
      "text/plain": [
       "<Figure size 864x432 with 1 Axes>"
      ]
     },
     "metadata": {
      "needs_background": "light"
     },
     "output_type": "display_data"
    }
   ],
   "source": [
    "df_train['disposition_category'] = 2\n",
    "df_train.loc[df_train.disposition == 'Responsible by Determination', 'disposition_category'] = 0\n",
    "df_train.loc[df_train.disposition == 'Responsible by Default', 'disposition_category'] = 1\n",
    "\n",
    "plot_compliance_scatter_features_chart(df_train, 'owed_amount', 'disposition_category', yticks=df_train['disposition'].unique())"
   ]
  },
  {
   "cell_type": "code",
   "execution_count": 626,
   "metadata": {},
   "outputs": [
    {
     "data": {
      "image/png": "[encoded data removed]",
      "text/plain": [
       "<Figure size 864x432 with 1 Axes>"
      ]
     },
     "metadata": {
      "needs_background": "light"
     },
     "output_type": "display_data"
    }
   ],
   "source": [
    "plot_compliance_scatter_features_chart(df_train, 'owed_amount', 'disposition_category', yticks=df_train['disposition'].unique(), xlim=(0,400), ylim=(-0.3,2.5))"
   ]
  },
  {
   "cell_type": "markdown",
   "metadata": {},
   "source": [
    "## Ticket Issued Month"
   ]
  },
  {
   "cell_type": "code",
   "execution_count": 667,
   "metadata": {},
   "outputs": [
    {
     "data": {
      "image/png": "[encoded data removed]",
      "text/plain": [
       "<Figure size 864x432 with 1 Axes>"
      ]
     },
     "metadata": {
      "needs_background": "light"
     },
     "output_type": "display_data"
    }
   ],
   "source": [
    "total_people = df_train['ticket_issued_month'].count()\n",
    "compliance_sizes={}\n",
    "compliance_sizes[1] = df_train[df_train['compliance'] == 1]['ticket_issued_month'].value_counts().sort_index()/df_train['ticket_issued_month'].value_counts().sort_index()\n",
    "compliance_sizes[0] = df_train[df_train['compliance'] == 0]['ticket_issued_month'].value_counts().sort_index()/df_train['ticket_issued_month'].value_counts().sort_index()\n",
    "month_names = ['Jan', 'Feb', 'Mar', 'Apr', 'May', 'Jun', 'Jul', 'Aug', 'Sep', 'Oct', 'Nov', 'Dec']\n",
    "plot_percent_compliance_bar_folds_chart(compliance_sizes, ylim=(0,1.1), folds=np.linspace(0,400,12), folds_ticks=month_names)"
   ]
  },
  {
   "cell_type": "code",
   "execution_count": 668,
   "metadata": {},
   "outputs": [
    {
     "data": {
      "image/png": "[encoded data removed]",
      "text/plain": [
       "<Figure size 864x432 with 1 Axes>"
      ]
     },
     "metadata": {
      "needs_background": "light"
     },
     "output_type": "display_data"
    }
   ],
   "source": [
    "total_people = df_train['ticket_issued_month'].count()\n",
    "compliance_sizes={}\n",
    "compliance_sizes[1] = df_train[df_train['compliance'] == 1]['ticket_issued_month'].value_counts().apply(lambda x: x/total_people).sort_index()\n",
    "compliance_sizes[0] = df_train[df_train['compliance'] == 0]['ticket_issued_month'].value_counts().apply(lambda x: x/total_people).sort_index()\n",
    "plot_percent_compliance_bar_folds_chart(compliance_sizes, folds=np.linspace(0,400,12), folds_ticks=month_names)"
   ]
  },
  {
   "cell_type": "markdown",
   "metadata": {},
   "source": [
    "# 3. Model <a class='anchor' id='3.'></a>\n",
    "\n",
    "Analysing the charts and information displayed above, we can notice that no evident linear pattern that efficiently represents the data was found. So a model with higher complexity, like logistic regression or random forest, will be trained to do the predictions."
   ]
  },
  {
   "cell_type": "markdown",
   "metadata": {},
   "source": [
    "## Dummy Classifier\n",
    "\n",
    "I got the values from a dummy classifier, just to explicitly present the minimum expected values of accuracy and ROC AUC score"
   ]
  },
  {
   "cell_type": "code",
   "execution_count": 29,
   "metadata": {},
   "outputs": [],
   "source": [
    "def blight_dummy_model():\n",
    "    from sklearn.dummy import DummyClassifier\n",
    "\n",
    "    # Prepare the datasets\n",
    "    columns = ['owed_amount']\n",
    "    X, y = prepare_train_dataset('csv/train.csv', columns)\n",
    "\n",
    "    # Calculate the probability of test.csv rows\n",
    "    print('Cross-validation accuracy: ', np.mean(cross_val_score(DummyClassifier(strategy = 'most_frequent'), X, y, cv=10)))\n",
    "    print('Cross-validation AUC: ', np.mean(cross_val_score(DummyClassifier(strategy = 'most_frequent'), X, y, scoring='roc_auc', cv=10)))"
   ]
  },
  {
   "cell_type": "code",
   "execution_count": 30,
   "metadata": {},
   "outputs": [
    {
     "name": "stdout",
     "output_type": "stream",
     "text": [
      "Cross-validation accuracy:  0.9300474645635453\n",
      "Cross-validation AUC:  0.5\n"
     ]
    }
   ],
   "source": [
    "blight_dummy_model()"
   ]
  },
  {
   "cell_type": "markdown",
   "metadata": {},
   "source": [
    "## Logistic Regression"
   ]
  },
  {
   "cell_type": "code",
   "execution_count": 31,
   "metadata": {},
   "outputs": [],
   "source": [
    "def blight_logistic_model():\n",
    "    from sklearn.linear_model import LogisticRegression\n",
    "\n",
    "    # Prepare the datasets\n",
    "    columns = ['owed_amount']\n",
    "    X, y = prepare_train_dataset('csv/train.csv', columns)\n",
    "\n",
    "    # Calculate the probability of test.csv rows\n",
    "    print('Cross-validation accuracy: ', np.mean(cross_val_score(LogisticRegression(), X, y, cv=10)))\n",
    "    print('Cross-validation AUC: ', np.mean(cross_val_score(LogisticRegression(), X, y, scoring='roc_auc', cv=10)))"
   ]
  },
  {
   "cell_type": "code",
   "execution_count": 32,
   "metadata": {},
   "outputs": [
    {
     "name": "stdout",
     "output_type": "stream",
     "text": [
      "Cross-validation accuracy:  0.9300474645635453\n",
      "Cross-validation AUC:  0.653046020796134\n"
     ]
    }
   ],
   "source": [
    "blight_logistic_model()"
   ]
  },
  {
   "cell_type": "markdown",
   "metadata": {},
   "source": [
    "## SVM"
   ]
  },
  {
   "cell_type": "code",
   "execution_count": 33,
   "metadata": {},
   "outputs": [],
   "source": [
    "def blight_svm_model():\n",
    "    from sklearn.svm import SVC\n",
    "\n",
    "    # Prepare the datasets\n",
    "    columns = ['owed_amount']\n",
    "    X, y = prepare_train_dataset('csv/train.csv', columns)\n",
    "\n",
    "    # Calculate the probability of test.csv rows\n",
    "    print('Cross-validation accuracy: ', np.mean(cross_val_score(SVC(), X, y, cv=10)))\n",
    "    print('Cross-validation AUC: ', np.mean(cross_val_score(SVC(), X, y, scoring='roc_auc', cv=10)))"
   ]
  },
  {
   "cell_type": "code",
   "execution_count": 34,
   "metadata": {},
   "outputs": [
    {
     "name": "stdout",
     "output_type": "stream",
     "text": [
      "Cross-validation accuracy:  0.9300474645635453\n",
      "Cross-validation AUC:  0.5044899023318486\n"
     ]
    }
   ],
   "source": [
    "blight_svm_model()"
   ]
  },
  {
   "cell_type": "markdown",
   "metadata": {},
   "source": [
    "## Random Forest"
   ]
  },
  {
   "cell_type": "code",
   "execution_count": 35,
   "metadata": {},
   "outputs": [],
   "source": [
    "def blight_random_forest_model():\n",
    "    from sklearn.ensemble import RandomForestClassifier\n",
    "\n",
    "    # Prepare the datasets\n",
    "    columns = ['owed_amount']\n",
    "    X, y = prepare_train_dataset('csv/train.csv', columns)\n",
    "\n",
    "    # Calculate the probability of test.csv rows\n",
    "    print('Cross-validation accuracy: ', np.mean(cross_val_score(RandomForestClassifier(), X, y, cv=10)))\n",
    "    print('Cross-validation AUC: ', np.mean(cross_val_score(RandomForestClassifier(), X, y, scoring='roc_auc', cv=10)))"
   ]
  },
  {
   "cell_type": "code",
   "execution_count": 36,
   "metadata": {},
   "outputs": [
    {
     "name": "stdout",
     "output_type": "stream",
     "text": [
      "Cross-validation accuracy:  0.9363164672168572\n",
      "Cross-validation AUC:  0.7549081301721899\n"
     ]
    }
   ],
   "source": [
    "blight_random_forest_model()"
   ]
  },
  {
   "cell_type": "markdown",
   "metadata": {},
   "source": [
    "The Random Forest Default Model presented the best scores, so I will use and tune it"
   ]
  },
  {
   "cell_type": "markdown",
   "metadata": {},
   "source": [
    "### Added the LabelEncoder to 'disposition' column"
   ]
  },
  {
   "cell_type": "code",
   "execution_count": 37,
   "metadata": {},
   "outputs": [],
   "source": [
    "def blight_random_forest_model():\n",
    "    from sklearn.ensemble import RandomForestClassifier\n",
    "\n",
    "    # Prepare the datasets\n",
    "    columns = ['disposition', 'owed_amount']\n",
    "    X, y = prepare_train_dataset('csv/train.csv', columns)\n",
    "    \n",
    "    # Prepare the disposition LabelEncoder\n",
    "    le_disposition = LabelEncoder().fit(list(X['disposition']) + ['Unknown'])\n",
    "    X['disposition'] = transform(le_disposition, X['disposition'])\n",
    "\n",
    "    # Calculate the probability of test.csv rows\n",
    "    print('Cross-validation accuracy: ', np.mean(cross_val_score(RandomForestClassifier(), X, y, cv=10)))\n",
    "    print('Cross-validation AUC: ', np.mean(cross_val_score(RandomForestClassifier(), X, y, scoring='roc_auc', cv=10)))"
   ]
  },
  {
   "cell_type": "code",
   "execution_count": 38,
   "metadata": {},
   "outputs": [
    {
     "name": "stdout",
     "output_type": "stream",
     "text": [
      "Cross-validation accuracy:  0.9451103765137134\n",
      "Cross-validation AUC:  0.7937548360617461\n"
     ]
    }
   ],
   "source": [
    "blight_random_forest_model()"
   ]
  },
  {
   "cell_type": "markdown",
   "metadata": {},
   "source": [
    "### Added the LabelEncoder to 'violation_code' column"
   ]
  },
  {
   "cell_type": "code",
   "execution_count": 39,
   "metadata": {},
   "outputs": [],
   "source": [
    "def blight_random_forest_model():\n",
    "    from sklearn.ensemble import RandomForestClassifier\n",
    "\n",
    "    # Prepare the datasets\n",
    "    columns = ['violation_code', 'owed_amount']\n",
    "    X, y = prepare_train_dataset('csv/train.csv', columns)\n",
    "\n",
    "    # Prepare the violation LabelEncoder\n",
    "    le_violation = LabelEncoder().fit(list(X['violation_code']) + ['Unknown'])\n",
    "    X['violation_code'] = transform(le_violation, X['violation_code'])\n",
    "\n",
    "    # Calculate the probability of test.csv rows\n",
    "    print('Cross-validation accuracy: ', np.mean(cross_val_score(RandomForestClassifier(), X, y, cv=10)))\n",
    "    print('Cross-validation AUC: ', np.mean(cross_val_score(RandomForestClassifier(), X, y, scoring='roc_auc', cv=10)))"
   ]
  },
  {
   "cell_type": "code",
   "execution_count": 40,
   "metadata": {},
   "outputs": [
    {
     "name": "stdout",
     "output_type": "stream",
     "text": [
      "Cross-validation accuracy:  0.935242052146951\n",
      "Cross-validation AUC:  0.7655328301617047\n"
     ]
    }
   ],
   "source": [
    "blight_random_forest_model()"
   ]
  },
  {
   "cell_type": "markdown",
   "metadata": {},
   "source": [
    "### Added the LabelEncoder to 'disposition' and 'violation_code' columns"
   ]
  },
  {
   "cell_type": "code",
   "execution_count": 41,
   "metadata": {},
   "outputs": [],
   "source": [
    "def blight_random_forest_model():\n",
    "    from sklearn.ensemble import RandomForestClassifier\n",
    "\n",
    "    # Prepare the datasets\n",
    "    columns = ['disposition', 'violation_code', 'owed_amount']\n",
    "    X, y = prepare_train_dataset('csv/train.csv', columns)   \n",
    "    \n",
    "    # Prepare the disposition LabelEncodera\n",
    "    le_disposition = LabelEncoder().fit(list(X['disposition']) + ['Unknown'])\n",
    "    X['disposition'] = transform(le_disposition, X['disposition'])\n",
    "    \n",
    "    # Prepare the violation LabelEncoder\n",
    "    le_violation = LabelEncoder().fit(list(X['violation_code']) + ['Unknown'])\n",
    "    X['violation_code'] = transform(le_violation, X['violation_code'])\n",
    "\n",
    "    # Calculate the probability of test.csv rows\n",
    "    print('Cross-validation accuracy: ', np.mean(cross_val_score(RandomForestClassifier(), X, y, cv=10)))\n",
    "    print('Cross-validation AUC: ', np.mean(cross_val_score(RandomForestClassifier(), X, y, scoring='roc_auc', cv=10)))"
   ]
  },
  {
   "cell_type": "code",
   "execution_count": 42,
   "metadata": {},
   "outputs": [
    {
     "name": "stdout",
     "output_type": "stream",
     "text": [
      "Cross-validation accuracy:  0.9440672636120471\n",
      "Cross-validation AUC:  0.7984906624888672\n"
     ]
    }
   ],
   "source": [
    "blight_random_forest_model()"
   ]
  },
  {
   "cell_type": "markdown",
   "metadata": {},
   "source": [
    "### Hyperparameter Tuning"
   ]
  },
  {
   "cell_type": "markdown",
   "metadata": {},
   "source": [
    "#### Randomized Search CV"
   ]
  },
  {
   "cell_type": "code",
   "execution_count": 165,
   "metadata": {},
   "outputs": [
    {
     "name": "stdout",
     "output_type": "stream",
     "text": [
      "{'bootstrap': [True, False],\n",
      " 'max_depth': [10, 20, 30, 40, 50, 60, 70, 80, 90, 100, 110, None],\n",
      " 'max_features': ['auto', 'sqrt'],\n",
      " 'min_samples_leaf': [1, 2, 4],\n",
      " 'min_samples_split': [2, 5, 10],\n",
      " 'n_estimators': [200, 400, 600, 800, 1000, 1200, 1400, 1600, 1800, 2000]}\n"
     ]
    },
    {
     "name": "stderr",
     "output_type": "stream",
     "text": [
      "<ipython-input-150-6b8e6707189f>:3: UserWarning: Boolean Series key will be reindexed to match DataFrame index.\n",
      "  df_train = df_train[(df['city'].str.lower() == 'detroit') & (~df_train['compliance_detail'].str.contains('not responsible')) & (~df['compliance_detail'].str.contains('compliant by no fine'))].set_index('ticket_id')\n",
      "<ipython-input-165-dddd88928b9e>:35: SettingWithCopyWarning: \n",
      "A value is trying to be set on a copy of a slice from a DataFrame.\n",
      "Try using .loc[row_indexer,col_indexer] = value instead\n",
      "\n",
      "See the caveats in the documentation: https://pandas.pydata.org/pandas-docs/stable/user_guide/indexing.html#returning-a-view-versus-a-copy\n",
      "  X_train['disposition'] = transform(le_disposition, X_train['disposition'])\n",
      "<ipython-input-165-dddd88928b9e>:39: SettingWithCopyWarning: \n",
      "A value is trying to be set on a copy of a slice from a DataFrame.\n",
      "Try using .loc[row_indexer,col_indexer] = value instead\n",
      "\n",
      "See the caveats in the documentation: https://pandas.pydata.org/pandas-docs/stable/user_guide/indexing.html#returning-a-view-versus-a-copy\n",
      "  X_train['violation_code'] = transform(le_violation, X_train['violation_code'])\n",
      "[Parallel(n_jobs=-1)]: Using backend LokyBackend with 8 concurrent workers.\n"
     ]
    },
    {
     "name": "stdout",
     "output_type": "stream",
     "text": [
      "Fitting 3 folds for each of 100 candidates, totalling 300 fits\n"
     ]
    },
    {
     "name": "stderr",
     "output_type": "stream",
     "text": [
      "[Parallel(n_jobs=-1)]: Done  25 tasks      | elapsed:  1.1min\n",
      "[Parallel(n_jobs=-1)]: Done 146 tasks      | elapsed:  5.5min\n",
      "[Parallel(n_jobs=-1)]: Done 300 out of 300 | elapsed: 91.7min finished\n"
     ]
    },
    {
     "data": {
      "text/plain": [
       "{'n_estimators': 1000,\n",
       " 'min_samples_split': 10,\n",
       " 'min_samples_leaf': 2,\n",
       " 'max_features': 'sqrt',\n",
       " 'max_depth': 10,\n",
       " 'bootstrap': True}"
      ]
     },
     "execution_count": 165,
     "metadata": {},
     "output_type": "execute_result"
    }
   ],
   "source": [
    "from sklearn.model_selection import RandomizedSearchCV\n",
    "from sklearn.ensemble import RandomForestClassifier\n",
    "from pprint import pprint\n",
    "\n",
    "# Number of trees in random forest\n",
    "n_estimators = [int(x) for x in np.linspace(start = 200, stop = 2000, num = 10)]\n",
    "# Number of features to consider at every split\n",
    "max_features = ['auto', 'sqrt']\n",
    "# Maximum number of levels in tree\n",
    "max_depth = [int(x) for x in np.linspace(10, 110, num = 11)]\n",
    "max_depth.append(None)\n",
    "# Minimum number of samples required to split a node\n",
    "min_samples_split = [2, 5, 10]\n",
    "# Minimum number of samples required at each leaf node\n",
    "min_samples_leaf = [1, 2, 4]\n",
    "# Method of selecting samples for training each tree\n",
    "bootstrap = [True, False]\n",
    "\n",
    "# Create the random grid\n",
    "random_grid = {'n_estimators': n_estimators,\n",
    "               'max_features': max_features,\n",
    "               'max_depth': max_depth,\n",
    "               'min_samples_split': min_samples_split,\n",
    "               'min_samples_leaf': min_samples_leaf,\n",
    "               'bootstrap': bootstrap}\n",
    "pprint(random_grid)\n",
    "\n",
    "# Prepare the datasets\n",
    "columns = ['disposition', 'violation_code', 'discount_amount', 'owed_amount']\n",
    "X, y = prepare_train_dataset('csv/train.csv', columns)\n",
    "X_train, X_test, y_train, y_test = train_test_split(X, y)\n",
    "\n",
    "# Prepare the disposition LabelEncoder\n",
    "le_disposition = LabelEncoder().fit(list(X_train['disposition']) + ['Unknown'])\n",
    "X_train['disposition'] = transform(le_disposition, X_train['disposition'])\n",
    "\n",
    "# Prepare the violation LabelEncoder\n",
    "le_violation = LabelEncoder().fit(list(X_train['violation_code']) + ['Unknown'])\n",
    "X_train['violation_code'] = transform(le_violation, X_train['violation_code'])\n",
    "    \n",
    "# Use the random grid to search for best hyperparameters\n",
    "# First create the base model to tune\n",
    "rf = RandomForestClassifier()\n",
    "# Random search of parameters, using 3 fold cross validation, \n",
    "# search across 100 different combinations, and use all available cores\n",
    "rf_random = RandomizedSearchCV(estimator = rf, param_distributions = random_grid, scoring='roc_auc', n_iter = 100, cv = 3, verbose=2, random_state=42, n_jobs = -1)\n",
    "rf_random.fit(X_train, y_train)\n",
    "\n",
    "rf_random.best_params_"
   ]
  },
  {
   "cell_type": "code",
   "execution_count": 166,
   "metadata": {},
   "outputs": [
    {
     "data": {
      "text/plain": [
       "0.8022249934589883"
      ]
     },
     "execution_count": 166,
     "metadata": {},
     "output_type": "execute_result"
    }
   ],
   "source": [
    "rf_random.best_score_"
   ]
  },
  {
   "cell_type": "markdown",
   "metadata": {},
   "source": [
    "#### Grid Search CV"
   ]
  },
  {
   "cell_type": "code",
   "execution_count": 167,
   "metadata": {},
   "outputs": [
    {
     "name": "stdout",
     "output_type": "stream",
     "text": [
      "Fitting 3 folds for each of 81 candidates, totalling 243 fits\n"
     ]
    },
    {
     "name": "stderr",
     "output_type": "stream",
     "text": [
      "[Parallel(n_jobs=-1)]: Using backend LokyBackend with 8 concurrent workers.\n",
      "C:\\Users\\Issamu Umeda\\Anaconda3\\lib\\site-packages\\joblib\\externals\\loky\\process_executor.py:688: UserWarning: A worker stopped while some jobs were given to the executor. This can be caused by a too short worker timeout or by a memory leak.\n",
      "  warnings.warn(\n",
      "[Parallel(n_jobs=-1)]: Done  25 tasks      | elapsed:   59.5s\n",
      "[Parallel(n_jobs=-1)]: Done 146 tasks      | elapsed:  5.7min\n",
      "[Parallel(n_jobs=-1)]: Done 243 out of 243 | elapsed: 10.3min finished\n"
     ]
    },
    {
     "data": {
      "text/plain": [
       "{'bootstrap': True,\n",
       " 'max_depth': 10,\n",
       " 'max_features': 'sqrt',\n",
       " 'min_samples_leaf': 3,\n",
       " 'min_samples_split': 5,\n",
       " 'n_estimators': 1000}"
      ]
     },
     "execution_count": 167,
     "metadata": {},
     "output_type": "execute_result"
    }
   ],
   "source": [
    "from sklearn.model_selection import GridSearchCV\n",
    "# Create the parameter grid based on the results of random search \n",
    "param_grid = {\n",
    "    'bootstrap': [True],\n",
    "    'max_depth': [5, 10, 15],\n",
    "    'max_features': ['sqrt'],\n",
    "    'min_samples_leaf': [1, 3, 5],\n",
    "    'min_samples_split': [3, 5, 10],\n",
    "    'n_estimators': [1000, 1500, 2000]\n",
    "}\n",
    "\n",
    "rf = RandomForestClassifier()\n",
    "grid_search = GridSearchCV(estimator = rf, param_grid = param_grid, scoring='roc_auc', \n",
    "                          cv = 3, n_jobs = -1, verbose = 2)\n",
    "\n",
    "grid_search.fit(X_train, y_train)\n",
    "grid_search.best_params_"
   ]
  },
  {
   "cell_type": "code",
   "execution_count": 168,
   "metadata": {},
   "outputs": [
    {
     "data": {
      "text/plain": [
       "0.8023437209004308"
      ]
     },
     "execution_count": 168,
     "metadata": {},
     "output_type": "execute_result"
    }
   ],
   "source": [
    "grid_search.best_score_"
   ]
  },
  {
   "cell_type": "code",
   "execution_count": 169,
   "metadata": {},
   "outputs": [
    {
     "data": {
      "text/plain": [
       "{'bootstrap': True,\n",
       " 'ccp_alpha': 0.0,\n",
       " 'class_weight': None,\n",
       " 'criterion': 'gini',\n",
       " 'max_depth': None,\n",
       " 'max_features': 'auto',\n",
       " 'max_leaf_nodes': None,\n",
       " 'max_samples': None,\n",
       " 'min_impurity_decrease': 0.0,\n",
       " 'min_impurity_split': None,\n",
       " 'min_samples_leaf': 1,\n",
       " 'min_samples_split': 2,\n",
       " 'min_weight_fraction_leaf': 0.0,\n",
       " 'n_estimators': 100,\n",
       " 'n_jobs': None,\n",
       " 'oob_score': False,\n",
       " 'random_state': None,\n",
       " 'verbose': 0,\n",
       " 'warm_start': False}"
      ]
     },
     "execution_count": 169,
     "metadata": {},
     "output_type": "execute_result"
    }
   ],
   "source": [
    "from sklearn.ensemble import RandomForestClassifier\n",
    "\n",
    "rf = RandomForestClassifier()\n",
    "rf.get_params()"
   ]
  },
  {
   "cell_type": "code",
   "execution_count": 216,
   "metadata": {},
   "outputs": [],
   "source": [
    "def blight_random_forest_model(bootstrap=True, max_depth=None, max_features='auto', min_samples_leaf=1, min_samples_split=2, n_estimators=100):\n",
    "    from sklearn.ensemble import RandomForestClassifier\n",
    "\n",
    "    # Prepare the datasets\n",
    "    columns = ['disposition', 'violation_code', 'owed_amount']\n",
    "    X, y = prepare_train_dataset('csv/train.csv', columns)   \n",
    "    \n",
    "    # Prepare the disposition LabelEncoder\n",
    "    le_disposition = LabelEncoder().fit(list(X['disposition']) + ['Unknown'])\n",
    "    X['disposition'] = transform(le_disposition, X['disposition'])\n",
    "    \n",
    "    # Prepare the violation LabelEncoder\n",
    "    le_violation = LabelEncoder().fit(list(X['violation_code']) + ['Unknown'])\n",
    "    X['violation_code'] = transform(le_violation, X['violation_code'])\n",
    "    \n",
    "    rf = RandomForestClassifier(bootstrap=bootstrap, max_depth=max_depth, max_features=max_features, \n",
    "                        min_samples_leaf=min_samples_leaf, min_samples_split=min_samples_split, n_estimators=n_estimators)\n",
    "\n",
    "    # Calculate the probability of test.csv rows\n",
    "    print('Cross-validation accuracy: ', np.mean(cross_val_score(rf, X, y, cv=10)))\n",
    "    print('Cross-validation AUC: ', np.mean(cross_val_score(rf, X, y, scoring='roc_auc', cv=10)))"
   ]
  },
  {
   "cell_type": "code",
   "execution_count": 171,
   "metadata": {},
   "outputs": [
    {
     "name": "stderr",
     "output_type": "stream",
     "text": [
      "<ipython-input-150-6b8e6707189f>:3: UserWarning: Boolean Series key will be reindexed to match DataFrame index.\n",
      "  df_train = df_train[(df['city'].str.lower() == 'detroit') & (~df_train['compliance_detail'].str.contains('not responsible')) & (~df['compliance_detail'].str.contains('compliant by no fine'))].set_index('ticket_id')\n"
     ]
    },
    {
     "name": "stdout",
     "output_type": "stream",
     "text": [
      "Cross-validation accuracy:  0.9466103251883153\n",
      "Cross-validation AUC:  0.7995390066751902\n"
     ]
    }
   ],
   "source": [
    "blight_random_forest_model(bootstrap=True, max_depth=10, max_features='sqrt', min_samples_leaf=1, min_samples_split=5, n_estimators=1500)"
   ]
  },
  {
   "cell_type": "markdown",
   "metadata": {},
   "source": [
    "The auc score got better, but the time of execution increased a lot, so I reduced the n_estimators to 10."
   ]
  },
  {
   "cell_type": "code",
   "execution_count": 217,
   "metadata": {},
   "outputs": [
    {
     "name": "stdout",
     "output_type": "stream",
     "text": [
      "Cross-validation accuracy:  0.9441089563112612\n",
      "Cross-validation AUC:  0.8028877701280177\n"
     ]
    }
   ],
   "source": [
    "blight_random_forest_model(bootstrap=True, max_depth=10, max_features='sqrt', min_samples_leaf=1, min_samples_split=5, n_estimators=10)"
   ]
  },
  {
   "cell_type": "markdown",
   "metadata": {},
   "source": [
    "## Save Model"
   ]
  },
  {
   "cell_type": "code",
   "execution_count": 44,
   "metadata": {},
   "outputs": [
    {
     "data": {
      "text/plain": [
       "['model/le_violation_blight_ticket.pk;.z']"
      ]
     },
     "execution_count": 44,
     "metadata": {},
     "output_type": "execute_result"
    }
   ],
   "source": [
    "import joblib as jb\n",
    "from sklearn.ensemble import RandomForestClassifier\n",
    "\n",
    "# Prepare the datasets\n",
    "columns = ['disposition', 'violation_code', 'owed_amount']\n",
    "X, y = prepare_train_dataset('csv/train.csv', columns)   \n",
    "\n",
    "# Prepare the disposition LabelEncoder\n",
    "le_disposition = LabelEncoder().fit(list(X['disposition']) + ['Unknown'])\n",
    "X['disposition'] = transform(le_disposition, X['disposition'])\n",
    "\n",
    "# Prepare the violation LabelEncoder\n",
    "le_violation = LabelEncoder().fit(list(X['violation_code']) + ['Unknown'])\n",
    "X['violation_code'] = transform(le_violation, X['violation_code'])\n",
    "\n",
    "rf = RandomForestClassifier(bootstrap=True, max_depth=10, max_features='sqrt', min_samples_leaf=1, min_samples_split=5, \n",
    "                            n_estimators=10)\n",
    "rf.fit(X,y)\n",
    "\n",
    "jb.dump(rf,\"model/rf_blight_ticket.pk;.z\")\n",
    "jb.dump(le_disposition,\"model/le_disposition_blight_ticket.pk;.z\")\n",
    "jb.dump(le_violation,\"model/le_violation_blight_ticket.pk;.z\")"
   ]
  }
 ],
 "metadata": {
  "coursera": {
   "course_slug": "python-machine-learning",
   "graded_item_id": "nNS8l",
   "launcher_item_id": "yWWk7",
   "part_id": "w8BSS"
  },
  "kernelspec": {
   "display_name": "Python 3",
   "language": "python",
   "name": "python3"
  },
  "language_info": {
   "codemirror_mode": {
    "name": "ipython",
    "version": 3
   },
   "file_extension": ".py",
   "mimetype": "text/x-python",
   "name": "python",
   "nbconvert_exporter": "python",
   "pygments_lexer": "ipython3",
   "version": "3.8.5"
  }
 },
 "nbformat": 4,
 "nbformat_minor": 2
}
